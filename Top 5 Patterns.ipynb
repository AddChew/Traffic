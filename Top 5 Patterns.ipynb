{
 "cells": [
  {
   "cell_type": "markdown",
   "id": "f8d270c4",
   "metadata": {},
   "source": [
    "### Import the necessary libraries"
   ]
  },
  {
   "cell_type": "code",
   "execution_count": 1,
   "id": "731116cf",
   "metadata": {},
   "outputs": [],
   "source": [
    "import numpy as np\n",
    "import pandas as pd\n",
    "import plotly.express as px\n",
    "import plotly.graph_objects as go\n",
    "from helpers.utils import load_data"
   ]
  },
  {
   "cell_type": "markdown",
   "id": "1d54c0e5",
   "metadata": {},
   "source": [
    "### Load the datasets"
   ]
  },
  {
   "cell_type": "code",
   "execution_count": 2,
   "id": "e7ed0bce",
   "metadata": {},
   "outputs": [],
   "source": [
    "traffic, stations, mappings = load_data()"
   ]
  },
  {
   "cell_type": "markdown",
   "id": "2c1110fd",
   "metadata": {},
   "source": [
    "### Data Cleaning"
   ]
  },
  {
   "cell_type": "markdown",
   "id": "cab168c8",
   "metadata": {},
   "source": [
    "#### Let's check for duplicate rows in the traffic dataset"
   ]
  },
  {
   "cell_type": "code",
   "execution_count": 3,
   "id": "28c17b94",
   "metadata": {},
   "outputs": [
    {
     "name": "stdout",
     "output_type": "stream",
     "text": [
      "Traffic dataset contains 750678 duplicate rows\n"
     ]
    },
    {
     "data": {
      "text/html": [
       "<div>\n",
       "<style scoped>\n",
       "    .dataframe tbody tr th:only-of-type {\n",
       "        vertical-align: middle;\n",
       "    }\n",
       "\n",
       "    .dataframe tbody tr th {\n",
       "        vertical-align: top;\n",
       "    }\n",
       "\n",
       "    .dataframe thead th {\n",
       "        text-align: right;\n",
       "    }\n",
       "</style>\n",
       "<table border=\"1\" class=\"dataframe\">\n",
       "  <thead>\n",
       "    <tr style=\"text-align: right;\">\n",
       "      <th></th>\n",
       "      <th>date</th>\n",
       "      <th>day_of_data</th>\n",
       "      <th>day_of_week</th>\n",
       "      <th>direction_of_travel</th>\n",
       "      <th>fips_state_code</th>\n",
       "      <th>functional_classification</th>\n",
       "      <th>month_of_data</th>\n",
       "      <th>station_id</th>\n",
       "      <th>traffic_volume_counted_after_0000_to_0100</th>\n",
       "      <th>traffic_volume_counted_after_0100_to_0200</th>\n",
       "      <th>...</th>\n",
       "      <th>traffic_volume_counted_after_1400_to_1500</th>\n",
       "      <th>traffic_volume_counted_after_1500_to_1600</th>\n",
       "      <th>traffic_volume_counted_after_1600_to_1700</th>\n",
       "      <th>traffic_volume_counted_after_1700_to_1800</th>\n",
       "      <th>traffic_volume_counted_after_1800_to_1900</th>\n",
       "      <th>traffic_volume_counted_after_1900_to_2000</th>\n",
       "      <th>traffic_volume_counted_after_2000_to_2100</th>\n",
       "      <th>traffic_volume_counted_after_2100_to_2200</th>\n",
       "      <th>traffic_volume_counted_after_2200_to_2300</th>\n",
       "      <th>traffic_volume_counted_after_2300_to_2400</th>\n",
       "    </tr>\n",
       "  </thead>\n",
       "  <tbody>\n",
       "    <tr>\n",
       "      <th>9440</th>\n",
       "      <td>2015-11-02</td>\n",
       "      <td>2</td>\n",
       "      <td>2</td>\n",
       "      <td>1</td>\n",
       "      <td>54</td>\n",
       "      <td>3R</td>\n",
       "      <td>11</td>\n",
       "      <td>000016</td>\n",
       "      <td>25</td>\n",
       "      <td>23</td>\n",
       "      <td>...</td>\n",
       "      <td>136</td>\n",
       "      <td>157</td>\n",
       "      <td>176</td>\n",
       "      <td>238</td>\n",
       "      <td>210</td>\n",
       "      <td>130</td>\n",
       "      <td>77</td>\n",
       "      <td>53</td>\n",
       "      <td>45</td>\n",
       "      <td>28</td>\n",
       "    </tr>\n",
       "    <tr>\n",
       "      <th>12434</th>\n",
       "      <td>2015-01-21</td>\n",
       "      <td>21</td>\n",
       "      <td>4</td>\n",
       "      <td>5</td>\n",
       "      <td>29</td>\n",
       "      <td>2U</td>\n",
       "      <td>1</td>\n",
       "      <td>004913</td>\n",
       "      <td>49</td>\n",
       "      <td>26</td>\n",
       "      <td>...</td>\n",
       "      <td>351</td>\n",
       "      <td>432</td>\n",
       "      <td>887</td>\n",
       "      <td>1407</td>\n",
       "      <td>1546</td>\n",
       "      <td>1015</td>\n",
       "      <td>377</td>\n",
       "      <td>243</td>\n",
       "      <td>193</td>\n",
       "      <td>115</td>\n",
       "    </tr>\n",
       "    <tr>\n",
       "      <th>14835</th>\n",
       "      <td>2015-08-09</td>\n",
       "      <td>9</td>\n",
       "      <td>1</td>\n",
       "      <td>7</td>\n",
       "      <td>54</td>\n",
       "      <td>4U</td>\n",
       "      <td>8</td>\n",
       "      <td>000045</td>\n",
       "      <td>23</td>\n",
       "      <td>20</td>\n",
       "      <td>...</td>\n",
       "      <td>260</td>\n",
       "      <td>300</td>\n",
       "      <td>200</td>\n",
       "      <td>187</td>\n",
       "      <td>219</td>\n",
       "      <td>159</td>\n",
       "      <td>136</td>\n",
       "      <td>108</td>\n",
       "      <td>45</td>\n",
       "      <td>34</td>\n",
       "    </tr>\n",
       "    <tr>\n",
       "      <th>14888</th>\n",
       "      <td>2015-04-25</td>\n",
       "      <td>25</td>\n",
       "      <td>7</td>\n",
       "      <td>1</td>\n",
       "      <td>13</td>\n",
       "      <td>3U</td>\n",
       "      <td>4</td>\n",
       "      <td>000222</td>\n",
       "      <td>27</td>\n",
       "      <td>20</td>\n",
       "      <td>...</td>\n",
       "      <td>252</td>\n",
       "      <td>258</td>\n",
       "      <td>265</td>\n",
       "      <td>258</td>\n",
       "      <td>213</td>\n",
       "      <td>172</td>\n",
       "      <td>122</td>\n",
       "      <td>93</td>\n",
       "      <td>75</td>\n",
       "      <td>50</td>\n",
       "    </tr>\n",
       "    <tr>\n",
       "      <th>16694</th>\n",
       "      <td>2015-04-06</td>\n",
       "      <td>6</td>\n",
       "      <td>2</td>\n",
       "      <td>3</td>\n",
       "      <td>39</td>\n",
       "      <td>1R</td>\n",
       "      <td>4</td>\n",
       "      <td>000155</td>\n",
       "      <td>184</td>\n",
       "      <td>121</td>\n",
       "      <td>...</td>\n",
       "      <td>893</td>\n",
       "      <td>923</td>\n",
       "      <td>932</td>\n",
       "      <td>898</td>\n",
       "      <td>731</td>\n",
       "      <td>573</td>\n",
       "      <td>476</td>\n",
       "      <td>373</td>\n",
       "      <td>323</td>\n",
       "      <td>230</td>\n",
       "    </tr>\n",
       "  </tbody>\n",
       "</table>\n",
       "<p>5 rows × 32 columns</p>\n",
       "</div>"
      ],
      "text/plain": [
       "             date  day_of_data  day_of_week  direction_of_travel  \\\n",
       "9440   2015-11-02            2            2                    1   \n",
       "12434  2015-01-21           21            4                    5   \n",
       "14835  2015-08-09            9            1                    7   \n",
       "14888  2015-04-25           25            7                    1   \n",
       "16694  2015-04-06            6            2                    3   \n",
       "\n",
       "      fips_state_code functional_classification  month_of_data station_id  \\\n",
       "9440               54                        3R             11     000016   \n",
       "12434              29                        2U              1     004913   \n",
       "14835              54                        4U              8     000045   \n",
       "14888              13                        3U              4     000222   \n",
       "16694              39                        1R              4     000155   \n",
       "\n",
       "       traffic_volume_counted_after_0000_to_0100  \\\n",
       "9440                                          25   \n",
       "12434                                         49   \n",
       "14835                                         23   \n",
       "14888                                         27   \n",
       "16694                                        184   \n",
       "\n",
       "       traffic_volume_counted_after_0100_to_0200  ...  \\\n",
       "9440                                          23  ...   \n",
       "12434                                         26  ...   \n",
       "14835                                         20  ...   \n",
       "14888                                         20  ...   \n",
       "16694                                        121  ...   \n",
       "\n",
       "       traffic_volume_counted_after_1400_to_1500  \\\n",
       "9440                                         136   \n",
       "12434                                        351   \n",
       "14835                                        260   \n",
       "14888                                        252   \n",
       "16694                                        893   \n",
       "\n",
       "       traffic_volume_counted_after_1500_to_1600  \\\n",
       "9440                                         157   \n",
       "12434                                        432   \n",
       "14835                                        300   \n",
       "14888                                        258   \n",
       "16694                                        923   \n",
       "\n",
       "       traffic_volume_counted_after_1600_to_1700  \\\n",
       "9440                                         176   \n",
       "12434                                        887   \n",
       "14835                                        200   \n",
       "14888                                        265   \n",
       "16694                                        932   \n",
       "\n",
       "       traffic_volume_counted_after_1700_to_1800  \\\n",
       "9440                                         238   \n",
       "12434                                       1407   \n",
       "14835                                        187   \n",
       "14888                                        258   \n",
       "16694                                        898   \n",
       "\n",
       "       traffic_volume_counted_after_1800_to_1900  \\\n",
       "9440                                         210   \n",
       "12434                                       1546   \n",
       "14835                                        219   \n",
       "14888                                        213   \n",
       "16694                                        731   \n",
       "\n",
       "       traffic_volume_counted_after_1900_to_2000  \\\n",
       "9440                                         130   \n",
       "12434                                       1015   \n",
       "14835                                        159   \n",
       "14888                                        172   \n",
       "16694                                        573   \n",
       "\n",
       "       traffic_volume_counted_after_2000_to_2100  \\\n",
       "9440                                          77   \n",
       "12434                                        377   \n",
       "14835                                        136   \n",
       "14888                                        122   \n",
       "16694                                        476   \n",
       "\n",
       "       traffic_volume_counted_after_2100_to_2200  \\\n",
       "9440                                          53   \n",
       "12434                                        243   \n",
       "14835                                        108   \n",
       "14888                                         93   \n",
       "16694                                        373   \n",
       "\n",
       "       traffic_volume_counted_after_2200_to_2300  \\\n",
       "9440                                          45   \n",
       "12434                                        193   \n",
       "14835                                         45   \n",
       "14888                                         75   \n",
       "16694                                        323   \n",
       "\n",
       "       traffic_volume_counted_after_2300_to_2400  \n",
       "9440                                          28  \n",
       "12434                                        115  \n",
       "14835                                         34  \n",
       "14888                                         50  \n",
       "16694                                        230  \n",
       "\n",
       "[5 rows x 32 columns]"
      ]
     },
     "execution_count": 3,
     "metadata": {},
     "output_type": "execute_result"
    }
   ],
   "source": [
    "duplicates = traffic[traffic.duplicated()]\n",
    "print(f\"Traffic dataset contains {len(duplicates)} duplicate rows\")\n",
    "duplicates.head()"
   ]
  },
  {
   "cell_type": "markdown",
   "id": "4743147b",
   "metadata": {},
   "source": [
    "Given that it is very unlikely for a data row to be exactly identical to another for all of its 32 columns (including the traffic volume for all the time intervals). It is highly likely that these data rows are genuine cases of duplicate entries, arising from errors made from the data collection/collation process. As such, let's drop these duplicate rows from our subsequent analysis."
   ]
  },
  {
   "cell_type": "code",
   "execution_count": 4,
   "id": "269a9d5a",
   "metadata": {},
   "outputs": [
    {
     "name": "stdout",
     "output_type": "stream",
     "text": [
      "Number of rows left in unduplicated traffic dataset: 6389713\n"
     ]
    }
   ],
   "source": [
    "traffic = traffic.drop_duplicates(ignore_index = True)\n",
    "print(f\"Number of rows left in unduplicated traffic dataset: {len(traffic)}\")"
   ]
  },
  {
   "cell_type": "markdown",
   "id": "bf33f2fd",
   "metadata": {},
   "source": [
    "#### Let's also check for invalid values in the traffic volume columns (i.e. negative values)"
   ]
  },
  {
   "cell_type": "code",
   "execution_count": 5,
   "id": "86b66435",
   "metadata": {},
   "outputs": [
    {
     "name": "stdout",
     "output_type": "stream",
     "text": [
      "There are 851 rows containing negative values for traffic volume\n"
     ]
    },
    {
     "data": {
      "text/html": [
       "<div>\n",
       "<style scoped>\n",
       "    .dataframe tbody tr th:only-of-type {\n",
       "        vertical-align: middle;\n",
       "    }\n",
       "\n",
       "    .dataframe tbody tr th {\n",
       "        vertical-align: top;\n",
       "    }\n",
       "\n",
       "    .dataframe thead th {\n",
       "        text-align: right;\n",
       "    }\n",
       "</style>\n",
       "<table border=\"1\" class=\"dataframe\">\n",
       "  <thead>\n",
       "    <tr style=\"text-align: right;\">\n",
       "      <th></th>\n",
       "      <th>date</th>\n",
       "      <th>day_of_data</th>\n",
       "      <th>day_of_week</th>\n",
       "      <th>direction_of_travel</th>\n",
       "      <th>fips_state_code</th>\n",
       "      <th>functional_classification</th>\n",
       "      <th>month_of_data</th>\n",
       "      <th>station_id</th>\n",
       "      <th>traffic_volume_counted_after_0000_to_0100</th>\n",
       "      <th>traffic_volume_counted_after_0100_to_0200</th>\n",
       "      <th>...</th>\n",
       "      <th>traffic_volume_counted_after_1400_to_1500</th>\n",
       "      <th>traffic_volume_counted_after_1500_to_1600</th>\n",
       "      <th>traffic_volume_counted_after_1600_to_1700</th>\n",
       "      <th>traffic_volume_counted_after_1700_to_1800</th>\n",
       "      <th>traffic_volume_counted_after_1800_to_1900</th>\n",
       "      <th>traffic_volume_counted_after_1900_to_2000</th>\n",
       "      <th>traffic_volume_counted_after_2000_to_2100</th>\n",
       "      <th>traffic_volume_counted_after_2100_to_2200</th>\n",
       "      <th>traffic_volume_counted_after_2200_to_2300</th>\n",
       "      <th>traffic_volume_counted_after_2300_to_2400</th>\n",
       "    </tr>\n",
       "  </thead>\n",
       "  <tbody>\n",
       "    <tr>\n",
       "      <th>22298</th>\n",
       "      <td>2015-03-08</td>\n",
       "      <td>8</td>\n",
       "      <td>1</td>\n",
       "      <td>3</td>\n",
       "      <td>51</td>\n",
       "      <td>5R</td>\n",
       "      <td>3</td>\n",
       "      <td>130018</td>\n",
       "      <td>10</td>\n",
       "      <td>7</td>\n",
       "      <td>...</td>\n",
       "      <td>247</td>\n",
       "      <td>270</td>\n",
       "      <td>270</td>\n",
       "      <td>238</td>\n",
       "      <td>162</td>\n",
       "      <td>113</td>\n",
       "      <td>49</td>\n",
       "      <td>43</td>\n",
       "      <td>19</td>\n",
       "      <td>2</td>\n",
       "    </tr>\n",
       "    <tr>\n",
       "      <th>32468</th>\n",
       "      <td>2015-03-08</td>\n",
       "      <td>8</td>\n",
       "      <td>1</td>\n",
       "      <td>3</td>\n",
       "      <td>51</td>\n",
       "      <td>4R</td>\n",
       "      <td>3</td>\n",
       "      <td>150326</td>\n",
       "      <td>14</td>\n",
       "      <td>5</td>\n",
       "      <td>...</td>\n",
       "      <td>96</td>\n",
       "      <td>78</td>\n",
       "      <td>58</td>\n",
       "      <td>71</td>\n",
       "      <td>75</td>\n",
       "      <td>63</td>\n",
       "      <td>60</td>\n",
       "      <td>21</td>\n",
       "      <td>25</td>\n",
       "      <td>16</td>\n",
       "    </tr>\n",
       "    <tr>\n",
       "      <th>43542</th>\n",
       "      <td>2015-03-08</td>\n",
       "      <td>8</td>\n",
       "      <td>1</td>\n",
       "      <td>5</td>\n",
       "      <td>51</td>\n",
       "      <td>1R</td>\n",
       "      <td>3</td>\n",
       "      <td>781229</td>\n",
       "      <td>8</td>\n",
       "      <td>-1</td>\n",
       "      <td>...</td>\n",
       "      <td>40</td>\n",
       "      <td>50</td>\n",
       "      <td>44</td>\n",
       "      <td>36</td>\n",
       "      <td>22</td>\n",
       "      <td>26</td>\n",
       "      <td>28</td>\n",
       "      <td>18</td>\n",
       "      <td>16</td>\n",
       "      <td>3</td>\n",
       "    </tr>\n",
       "    <tr>\n",
       "      <th>45564</th>\n",
       "      <td>2015-03-08</td>\n",
       "      <td>8</td>\n",
       "      <td>1</td>\n",
       "      <td>3</td>\n",
       "      <td>51</td>\n",
       "      <td>1U</td>\n",
       "      <td>3</td>\n",
       "      <td>040766</td>\n",
       "      <td>667</td>\n",
       "      <td>-1</td>\n",
       "      <td>...</td>\n",
       "      <td>2733</td>\n",
       "      <td>2899</td>\n",
       "      <td>2886</td>\n",
       "      <td>2759</td>\n",
       "      <td>2709</td>\n",
       "      <td>2161</td>\n",
       "      <td>1698</td>\n",
       "      <td>1295</td>\n",
       "      <td>877</td>\n",
       "      <td>602</td>\n",
       "    </tr>\n",
       "    <tr>\n",
       "      <th>55491</th>\n",
       "      <td>2015-03-08</td>\n",
       "      <td>8</td>\n",
       "      <td>1</td>\n",
       "      <td>3</td>\n",
       "      <td>51</td>\n",
       "      <td>1U</td>\n",
       "      <td>3</td>\n",
       "      <td>090122</td>\n",
       "      <td>427</td>\n",
       "      <td>-1</td>\n",
       "      <td>...</td>\n",
       "      <td>689</td>\n",
       "      <td>682</td>\n",
       "      <td>704</td>\n",
       "      <td>678</td>\n",
       "      <td>586</td>\n",
       "      <td>530</td>\n",
       "      <td>451</td>\n",
       "      <td>294</td>\n",
       "      <td>210</td>\n",
       "      <td>135</td>\n",
       "    </tr>\n",
       "  </tbody>\n",
       "</table>\n",
       "<p>5 rows × 32 columns</p>\n",
       "</div>"
      ],
      "text/plain": [
       "             date  day_of_data  day_of_week  direction_of_travel  \\\n",
       "22298  2015-03-08            8            1                    3   \n",
       "32468  2015-03-08            8            1                    3   \n",
       "43542  2015-03-08            8            1                    5   \n",
       "45564  2015-03-08            8            1                    3   \n",
       "55491  2015-03-08            8            1                    3   \n",
       "\n",
       "      fips_state_code functional_classification  month_of_data station_id  \\\n",
       "22298              51                        5R              3     130018   \n",
       "32468              51                        4R              3     150326   \n",
       "43542              51                        1R              3     781229   \n",
       "45564              51                        1U              3     040766   \n",
       "55491              51                        1U              3     090122   \n",
       "\n",
       "       traffic_volume_counted_after_0000_to_0100  \\\n",
       "22298                                         10   \n",
       "32468                                         14   \n",
       "43542                                          8   \n",
       "45564                                        667   \n",
       "55491                                        427   \n",
       "\n",
       "       traffic_volume_counted_after_0100_to_0200  ...  \\\n",
       "22298                                          7  ...   \n",
       "32468                                          5  ...   \n",
       "43542                                         -1  ...   \n",
       "45564                                         -1  ...   \n",
       "55491                                         -1  ...   \n",
       "\n",
       "       traffic_volume_counted_after_1400_to_1500  \\\n",
       "22298                                        247   \n",
       "32468                                         96   \n",
       "43542                                         40   \n",
       "45564                                       2733   \n",
       "55491                                        689   \n",
       "\n",
       "       traffic_volume_counted_after_1500_to_1600  \\\n",
       "22298                                        270   \n",
       "32468                                         78   \n",
       "43542                                         50   \n",
       "45564                                       2899   \n",
       "55491                                        682   \n",
       "\n",
       "       traffic_volume_counted_after_1600_to_1700  \\\n",
       "22298                                        270   \n",
       "32468                                         58   \n",
       "43542                                         44   \n",
       "45564                                       2886   \n",
       "55491                                        704   \n",
       "\n",
       "       traffic_volume_counted_after_1700_to_1800  \\\n",
       "22298                                        238   \n",
       "32468                                         71   \n",
       "43542                                         36   \n",
       "45564                                       2759   \n",
       "55491                                        678   \n",
       "\n",
       "       traffic_volume_counted_after_1800_to_1900  \\\n",
       "22298                                        162   \n",
       "32468                                         75   \n",
       "43542                                         22   \n",
       "45564                                       2709   \n",
       "55491                                        586   \n",
       "\n",
       "       traffic_volume_counted_after_1900_to_2000  \\\n",
       "22298                                        113   \n",
       "32468                                         63   \n",
       "43542                                         26   \n",
       "45564                                       2161   \n",
       "55491                                        530   \n",
       "\n",
       "       traffic_volume_counted_after_2000_to_2100  \\\n",
       "22298                                         49   \n",
       "32468                                         60   \n",
       "43542                                         28   \n",
       "45564                                       1698   \n",
       "55491                                        451   \n",
       "\n",
       "       traffic_volume_counted_after_2100_to_2200  \\\n",
       "22298                                         43   \n",
       "32468                                         21   \n",
       "43542                                         18   \n",
       "45564                                       1295   \n",
       "55491                                        294   \n",
       "\n",
       "       traffic_volume_counted_after_2200_to_2300  \\\n",
       "22298                                         19   \n",
       "32468                                         25   \n",
       "43542                                         16   \n",
       "45564                                        877   \n",
       "55491                                        210   \n",
       "\n",
       "       traffic_volume_counted_after_2300_to_2400  \n",
       "22298                                          2  \n",
       "32468                                         16  \n",
       "43542                                          3  \n",
       "45564                                        602  \n",
       "55491                                        135  \n",
       "\n",
       "[5 rows x 32 columns]"
      ]
     },
     "execution_count": 5,
     "metadata": {},
     "output_type": "execute_result"
    }
   ],
   "source": [
    "start_column = \"traffic_volume_counted_after_0000_to_0100\"\n",
    "end_column = \"traffic_volume_counted_after_2300_to_2400\"\n",
    "\n",
    "invalid = traffic[(traffic.loc[:, start_column: end_column] < 0).any(axis=1)]\n",
    "print(f\"There are {len(invalid)} rows containing negative values for traffic volume\")\n",
    "invalid.head()"
   ]
  },
  {
   "cell_type": "markdown",
   "id": "b13653e5",
   "metadata": {},
   "source": [
    "#### Let's inspect what the negative values are and their respective counts"
   ]
  },
  {
   "cell_type": "code",
   "execution_count": 9,
   "id": "36644520",
   "metadata": {},
   "outputs": [
    {
     "name": "stdout",
     "output_type": "stream",
     "text": [
      "Value: Count\n",
      "-3061: 1\n",
      "   -1: 1448\n"
     ]
    }
   ],
   "source": [
    "invalid_traffic_volume = invalid.loc[:, start_column: end_column].values\n",
    "\n",
    "negative_values, counts = np.unique(\n",
    "    invalid_traffic_volume[invalid_traffic_volume < 0],\n",
    "    return_counts = True\n",
    ")\n",
    "\n",
    "print(\"Value: Count\")\n",
    "for value, count in zip(negative_values, counts):\n",
    "    print(f\"{str(value).rjust(5, ' ')}: {count}\")"
   ]
  },
  {
   "cell_type": "markdown",
   "id": "5bed4a3d",
   "metadata": {},
   "source": [
    "In most cases (1448 out of 1449), -1 was the negative value. These negative values could be because the sensors were down for that particular time interval. Let's assume that the negative values were indeed due to the down sensors. In such a scenario, no values would be recorded for traffic volume (i.e. traffic volume = 0). As such, let's replace the negative values with 0."
   ]
  },
  {
   "cell_type": "code",
   "execution_count": 10,
   "id": "5598a502",
   "metadata": {},
   "outputs": [],
   "source": [
    "replacements = {col: {value: 0 for value in negative_values} for col in traffic.columns[-24:]}\n",
    "traffic = traffic.replace(replacements)"
   ]
  },
  {
   "cell_type": "markdown",
   "id": "98777a6b",
   "metadata": {},
   "source": [
    "#### Let's add new columns to house the full name representation of the categorical variables (i.e. fips_state_code)"
   ]
  },
  {
   "cell_type": "code",
   "execution_count": 39,
   "id": "84a1d62b",
   "metadata": {},
   "outputs": [],
   "source": [
    "def add_new_map_column(key: str, source: str) -> None:\n",
    "    \"\"\"\n",
    "        Creates a new column in traffic dataframe to house the full name representations (obtained from mappings)\n",
    "        of a categorical variable.\n",
    "        \n",
    "        Args\n",
    "        ----------\n",
    "        key: str\n",
    "            key of the mapping in mappings\n",
    "            \n",
    "        source: str\n",
    "            source column to map from\n",
    "            \n",
    "        Returns\n",
    "        ----------\n",
    "        None\n",
    "    \"\"\"\n",
    "    mapping = mappings.get(key)\n",
    "    \n",
    "    newcol = key if key not in traffic.columns else f\"{key}_map\"\n",
    "    assert newcol not in traffic.columns, f\"The column {newcol} already exists.\"\n",
    "    \n",
    "    traffic[newcol] = traffic[source].apply(lambda x: mapping[x])\n",
    "    print(f\"The column {newcol} was successsfully added to the traffic dataframe.\")"
   ]
  },
  {
   "cell_type": "code",
   "execution_count": 40,
   "id": "0cfc8593",
   "metadata": {},
   "outputs": [
    {
     "name": "stdout",
     "output_type": "stream",
     "text": [
      "The column fips_state_abb was successsfully added to the traffic dataframe.\n",
      "The column fips_state_full was successsfully added to the traffic dataframe.\n",
      "The column direction_of_travel_map was successsfully added to the traffic dataframe.\n",
      "The column functional_classification_map was successsfully added to the traffic dataframe.\n"
     ]
    }
   ],
   "source": [
    "source_columns = [\"fips_state_code\", \"fips_state_code\", \n",
    "                  \"direction_of_travel\", \"functional_classification\"]\n",
    "\n",
    "# Add the new mapping columns\n",
    "for key, source in zip(mappings.keys(), source_columns):\n",
    "    add_new_map_column(key, source)"
   ]
  },
  {
   "cell_type": "markdown",
   "id": "8b51f78d",
   "metadata": {},
   "source": [
    "### Metric to measure traffic volume"
   ]
  },
  {
   "cell_type": "markdown",
   "id": "caf291b5",
   "metadata": {},
   "source": [
    "#### Let's find out the number of days of data that each state has with a box plot"
   ]
  },
  {
   "cell_type": "code",
   "execution_count": 42,
   "id": "67468751",
   "metadata": {},
   "outputs": [
    {
     "data": {
      "application/vnd.plotly.v1+json": {
       "config": {
        "plotlyServerURL": "https://plot.ly"
       },
       "data": [
        {
         "alignmentgroup": "True",
         "boxpoints": "all",
         "customdata": [
          [
           "Alabama"
          ],
          [
           "Alaska"
          ],
          [
           "Arizona"
          ],
          [
           "Arkansas"
          ],
          [
           "California"
          ],
          [
           "Colorado"
          ],
          [
           "Connecticut"
          ],
          [
           "Delaware"
          ],
          [
           "District of Columbia"
          ],
          [
           "Florida"
          ],
          [
           "Georgia"
          ],
          [
           "Hawaii"
          ],
          [
           "Idaho"
          ],
          [
           "Illinois"
          ],
          [
           "Indiana"
          ],
          [
           "Iowa"
          ],
          [
           "Kansas"
          ],
          [
           "Kentucky"
          ],
          [
           "Louisiana"
          ],
          [
           "Maine"
          ],
          [
           "Maryland"
          ],
          [
           "Massachusetts"
          ],
          [
           "Michigan"
          ],
          [
           "Minnesota"
          ],
          [
           "Mississippi"
          ],
          [
           "Missouri"
          ],
          [
           "Montana"
          ],
          [
           "Nebraska"
          ],
          [
           "Nevada"
          ],
          [
           "New Hampshire"
          ],
          [
           "New Jersey"
          ],
          [
           "New Mexico"
          ],
          [
           "New York"
          ],
          [
           "North Carolina"
          ],
          [
           "North Dakota"
          ],
          [
           "Ohio"
          ],
          [
           "Oklahoma"
          ],
          [
           "Oregon"
          ],
          [
           "Pennsylvania"
          ],
          [
           "Rhode Island"
          ],
          [
           "South Carolina"
          ],
          [
           "South Dakota"
          ],
          [
           "Tennessee"
          ],
          [
           "Texas"
          ],
          [
           "Utah"
          ],
          [
           "Vermont"
          ],
          [
           "Virginia"
          ],
          [
           "Washington"
          ],
          [
           "West Virginia"
          ],
          [
           "Wisconsin"
          ],
          [
           "Wyoming"
          ]
         ],
         "hovertemplate": "Number of days of data=%{y}<br>fips_state_full=%{customdata[0]}<extra></extra>",
         "legendgroup": "",
         "marker": {
          "color": "#636efa"
         },
         "name": "",
         "notched": false,
         "offsetgroup": "",
         "orientation": "v",
         "showlegend": false,
         "type": "box",
         "x0": " ",
         "xaxis": "x",
         "y": [
          183342,
          86736,
          133421,
          54882,
          190997,
          80094,
          21962,
          92952,
          2795,
          551220,
          314970,
          151391,
          242068,
          43993,
          48193,
          120723,
          98255,
          85557,
          42180,
          44840,
          47580,
          33661,
          155800,
          74026,
          120085,
          113528,
          122901,
          35740,
          158308,
          66904,
          47799,
          109266,
          220610,
          44224,
          30381,
          259844,
          148124,
          115959,
          81031,
          102344,
          42928,
          58377,
          47747,
          160638,
          168085,
          28028,
          471659,
          262925,
          34277,
          288994,
          147369
         ],
         "y0": " ",
         "yaxis": "y"
        }
       ],
       "layout": {
        "boxmode": "group",
        "legend": {
         "tracegroupgap": 0
        },
        "margin": {
         "t": 60
        },
        "template": {
         "data": {
          "bar": [
           {
            "error_x": {
             "color": "#2a3f5f"
            },
            "error_y": {
             "color": "#2a3f5f"
            },
            "marker": {
             "line": {
              "color": "#E5ECF6",
              "width": 0.5
             },
             "pattern": {
              "fillmode": "overlay",
              "size": 10,
              "solidity": 0.2
             }
            },
            "type": "bar"
           }
          ],
          "barpolar": [
           {
            "marker": {
             "line": {
              "color": "#E5ECF6",
              "width": 0.5
             },
             "pattern": {
              "fillmode": "overlay",
              "size": 10,
              "solidity": 0.2
             }
            },
            "type": "barpolar"
           }
          ],
          "carpet": [
           {
            "aaxis": {
             "endlinecolor": "#2a3f5f",
             "gridcolor": "white",
             "linecolor": "white",
             "minorgridcolor": "white",
             "startlinecolor": "#2a3f5f"
            },
            "baxis": {
             "endlinecolor": "#2a3f5f",
             "gridcolor": "white",
             "linecolor": "white",
             "minorgridcolor": "white",
             "startlinecolor": "#2a3f5f"
            },
            "type": "carpet"
           }
          ],
          "choropleth": [
           {
            "colorbar": {
             "outlinewidth": 0,
             "ticks": ""
            },
            "type": "choropleth"
           }
          ],
          "contour": [
           {
            "colorbar": {
             "outlinewidth": 0,
             "ticks": ""
            },
            "colorscale": [
             [
              0,
              "#0d0887"
             ],
             [
              0.1111111111111111,
              "#46039f"
             ],
             [
              0.2222222222222222,
              "#7201a8"
             ],
             [
              0.3333333333333333,
              "#9c179e"
             ],
             [
              0.4444444444444444,
              "#bd3786"
             ],
             [
              0.5555555555555556,
              "#d8576b"
             ],
             [
              0.6666666666666666,
              "#ed7953"
             ],
             [
              0.7777777777777778,
              "#fb9f3a"
             ],
             [
              0.8888888888888888,
              "#fdca26"
             ],
             [
              1,
              "#f0f921"
             ]
            ],
            "type": "contour"
           }
          ],
          "contourcarpet": [
           {
            "colorbar": {
             "outlinewidth": 0,
             "ticks": ""
            },
            "type": "contourcarpet"
           }
          ],
          "heatmap": [
           {
            "colorbar": {
             "outlinewidth": 0,
             "ticks": ""
            },
            "colorscale": [
             [
              0,
              "#0d0887"
             ],
             [
              0.1111111111111111,
              "#46039f"
             ],
             [
              0.2222222222222222,
              "#7201a8"
             ],
             [
              0.3333333333333333,
              "#9c179e"
             ],
             [
              0.4444444444444444,
              "#bd3786"
             ],
             [
              0.5555555555555556,
              "#d8576b"
             ],
             [
              0.6666666666666666,
              "#ed7953"
             ],
             [
              0.7777777777777778,
              "#fb9f3a"
             ],
             [
              0.8888888888888888,
              "#fdca26"
             ],
             [
              1,
              "#f0f921"
             ]
            ],
            "type": "heatmap"
           }
          ],
          "heatmapgl": [
           {
            "colorbar": {
             "outlinewidth": 0,
             "ticks": ""
            },
            "colorscale": [
             [
              0,
              "#0d0887"
             ],
             [
              0.1111111111111111,
              "#46039f"
             ],
             [
              0.2222222222222222,
              "#7201a8"
             ],
             [
              0.3333333333333333,
              "#9c179e"
             ],
             [
              0.4444444444444444,
              "#bd3786"
             ],
             [
              0.5555555555555556,
              "#d8576b"
             ],
             [
              0.6666666666666666,
              "#ed7953"
             ],
             [
              0.7777777777777778,
              "#fb9f3a"
             ],
             [
              0.8888888888888888,
              "#fdca26"
             ],
             [
              1,
              "#f0f921"
             ]
            ],
            "type": "heatmapgl"
           }
          ],
          "histogram": [
           {
            "marker": {
             "pattern": {
              "fillmode": "overlay",
              "size": 10,
              "solidity": 0.2
             }
            },
            "type": "histogram"
           }
          ],
          "histogram2d": [
           {
            "colorbar": {
             "outlinewidth": 0,
             "ticks": ""
            },
            "colorscale": [
             [
              0,
              "#0d0887"
             ],
             [
              0.1111111111111111,
              "#46039f"
             ],
             [
              0.2222222222222222,
              "#7201a8"
             ],
             [
              0.3333333333333333,
              "#9c179e"
             ],
             [
              0.4444444444444444,
              "#bd3786"
             ],
             [
              0.5555555555555556,
              "#d8576b"
             ],
             [
              0.6666666666666666,
              "#ed7953"
             ],
             [
              0.7777777777777778,
              "#fb9f3a"
             ],
             [
              0.8888888888888888,
              "#fdca26"
             ],
             [
              1,
              "#f0f921"
             ]
            ],
            "type": "histogram2d"
           }
          ],
          "histogram2dcontour": [
           {
            "colorbar": {
             "outlinewidth": 0,
             "ticks": ""
            },
            "colorscale": [
             [
              0,
              "#0d0887"
             ],
             [
              0.1111111111111111,
              "#46039f"
             ],
             [
              0.2222222222222222,
              "#7201a8"
             ],
             [
              0.3333333333333333,
              "#9c179e"
             ],
             [
              0.4444444444444444,
              "#bd3786"
             ],
             [
              0.5555555555555556,
              "#d8576b"
             ],
             [
              0.6666666666666666,
              "#ed7953"
             ],
             [
              0.7777777777777778,
              "#fb9f3a"
             ],
             [
              0.8888888888888888,
              "#fdca26"
             ],
             [
              1,
              "#f0f921"
             ]
            ],
            "type": "histogram2dcontour"
           }
          ],
          "mesh3d": [
           {
            "colorbar": {
             "outlinewidth": 0,
             "ticks": ""
            },
            "type": "mesh3d"
           }
          ],
          "parcoords": [
           {
            "line": {
             "colorbar": {
              "outlinewidth": 0,
              "ticks": ""
             }
            },
            "type": "parcoords"
           }
          ],
          "pie": [
           {
            "automargin": true,
            "type": "pie"
           }
          ],
          "scatter": [
           {
            "marker": {
             "colorbar": {
              "outlinewidth": 0,
              "ticks": ""
             }
            },
            "type": "scatter"
           }
          ],
          "scatter3d": [
           {
            "line": {
             "colorbar": {
              "outlinewidth": 0,
              "ticks": ""
             }
            },
            "marker": {
             "colorbar": {
              "outlinewidth": 0,
              "ticks": ""
             }
            },
            "type": "scatter3d"
           }
          ],
          "scattercarpet": [
           {
            "marker": {
             "colorbar": {
              "outlinewidth": 0,
              "ticks": ""
             }
            },
            "type": "scattercarpet"
           }
          ],
          "scattergeo": [
           {
            "marker": {
             "colorbar": {
              "outlinewidth": 0,
              "ticks": ""
             }
            },
            "type": "scattergeo"
           }
          ],
          "scattergl": [
           {
            "marker": {
             "colorbar": {
              "outlinewidth": 0,
              "ticks": ""
             }
            },
            "type": "scattergl"
           }
          ],
          "scattermapbox": [
           {
            "marker": {
             "colorbar": {
              "outlinewidth": 0,
              "ticks": ""
             }
            },
            "type": "scattermapbox"
           }
          ],
          "scatterpolar": [
           {
            "marker": {
             "colorbar": {
              "outlinewidth": 0,
              "ticks": ""
             }
            },
            "type": "scatterpolar"
           }
          ],
          "scatterpolargl": [
           {
            "marker": {
             "colorbar": {
              "outlinewidth": 0,
              "ticks": ""
             }
            },
            "type": "scatterpolargl"
           }
          ],
          "scatterternary": [
           {
            "marker": {
             "colorbar": {
              "outlinewidth": 0,
              "ticks": ""
             }
            },
            "type": "scatterternary"
           }
          ],
          "surface": [
           {
            "colorbar": {
             "outlinewidth": 0,
             "ticks": ""
            },
            "colorscale": [
             [
              0,
              "#0d0887"
             ],
             [
              0.1111111111111111,
              "#46039f"
             ],
             [
              0.2222222222222222,
              "#7201a8"
             ],
             [
              0.3333333333333333,
              "#9c179e"
             ],
             [
              0.4444444444444444,
              "#bd3786"
             ],
             [
              0.5555555555555556,
              "#d8576b"
             ],
             [
              0.6666666666666666,
              "#ed7953"
             ],
             [
              0.7777777777777778,
              "#fb9f3a"
             ],
             [
              0.8888888888888888,
              "#fdca26"
             ],
             [
              1,
              "#f0f921"
             ]
            ],
            "type": "surface"
           }
          ],
          "table": [
           {
            "cells": {
             "fill": {
              "color": "#EBF0F8"
             },
             "line": {
              "color": "white"
             }
            },
            "header": {
             "fill": {
              "color": "#C8D4E3"
             },
             "line": {
              "color": "white"
             }
            },
            "type": "table"
           }
          ]
         },
         "layout": {
          "annotationdefaults": {
           "arrowcolor": "#2a3f5f",
           "arrowhead": 0,
           "arrowwidth": 1
          },
          "autotypenumbers": "strict",
          "coloraxis": {
           "colorbar": {
            "outlinewidth": 0,
            "ticks": ""
           }
          },
          "colorscale": {
           "diverging": [
            [
             0,
             "#8e0152"
            ],
            [
             0.1,
             "#c51b7d"
            ],
            [
             0.2,
             "#de77ae"
            ],
            [
             0.3,
             "#f1b6da"
            ],
            [
             0.4,
             "#fde0ef"
            ],
            [
             0.5,
             "#f7f7f7"
            ],
            [
             0.6,
             "#e6f5d0"
            ],
            [
             0.7,
             "#b8e186"
            ],
            [
             0.8,
             "#7fbc41"
            ],
            [
             0.9,
             "#4d9221"
            ],
            [
             1,
             "#276419"
            ]
           ],
           "sequential": [
            [
             0,
             "#0d0887"
            ],
            [
             0.1111111111111111,
             "#46039f"
            ],
            [
             0.2222222222222222,
             "#7201a8"
            ],
            [
             0.3333333333333333,
             "#9c179e"
            ],
            [
             0.4444444444444444,
             "#bd3786"
            ],
            [
             0.5555555555555556,
             "#d8576b"
            ],
            [
             0.6666666666666666,
             "#ed7953"
            ],
            [
             0.7777777777777778,
             "#fb9f3a"
            ],
            [
             0.8888888888888888,
             "#fdca26"
            ],
            [
             1,
             "#f0f921"
            ]
           ],
           "sequentialminus": [
            [
             0,
             "#0d0887"
            ],
            [
             0.1111111111111111,
             "#46039f"
            ],
            [
             0.2222222222222222,
             "#7201a8"
            ],
            [
             0.3333333333333333,
             "#9c179e"
            ],
            [
             0.4444444444444444,
             "#bd3786"
            ],
            [
             0.5555555555555556,
             "#d8576b"
            ],
            [
             0.6666666666666666,
             "#ed7953"
            ],
            [
             0.7777777777777778,
             "#fb9f3a"
            ],
            [
             0.8888888888888888,
             "#fdca26"
            ],
            [
             1,
             "#f0f921"
            ]
           ]
          },
          "colorway": [
           "#636efa",
           "#EF553B",
           "#00cc96",
           "#ab63fa",
           "#FFA15A",
           "#19d3f3",
           "#FF6692",
           "#B6E880",
           "#FF97FF",
           "#FECB52"
          ],
          "font": {
           "color": "#2a3f5f"
          },
          "geo": {
           "bgcolor": "white",
           "lakecolor": "white",
           "landcolor": "#E5ECF6",
           "showlakes": true,
           "showland": true,
           "subunitcolor": "white"
          },
          "hoverlabel": {
           "align": "left"
          },
          "hovermode": "closest",
          "mapbox": {
           "style": "light"
          },
          "paper_bgcolor": "white",
          "plot_bgcolor": "#E5ECF6",
          "polar": {
           "angularaxis": {
            "gridcolor": "white",
            "linecolor": "white",
            "ticks": ""
           },
           "bgcolor": "#E5ECF6",
           "radialaxis": {
            "gridcolor": "white",
            "linecolor": "white",
            "ticks": ""
           }
          },
          "scene": {
           "xaxis": {
            "backgroundcolor": "#E5ECF6",
            "gridcolor": "white",
            "gridwidth": 2,
            "linecolor": "white",
            "showbackground": true,
            "ticks": "",
            "zerolinecolor": "white"
           },
           "yaxis": {
            "backgroundcolor": "#E5ECF6",
            "gridcolor": "white",
            "gridwidth": 2,
            "linecolor": "white",
            "showbackground": true,
            "ticks": "",
            "zerolinecolor": "white"
           },
           "zaxis": {
            "backgroundcolor": "#E5ECF6",
            "gridcolor": "white",
            "gridwidth": 2,
            "linecolor": "white",
            "showbackground": true,
            "ticks": "",
            "zerolinecolor": "white"
           }
          },
          "shapedefaults": {
           "line": {
            "color": "#2a3f5f"
           }
          },
          "ternary": {
           "aaxis": {
            "gridcolor": "white",
            "linecolor": "white",
            "ticks": ""
           },
           "baxis": {
            "gridcolor": "white",
            "linecolor": "white",
            "ticks": ""
           },
           "bgcolor": "#E5ECF6",
           "caxis": {
            "gridcolor": "white",
            "linecolor": "white",
            "ticks": ""
           }
          },
          "title": {
           "x": 0.05
          },
          "xaxis": {
           "automargin": true,
           "gridcolor": "white",
           "linecolor": "white",
           "ticks": "",
           "title": {
            "standoff": 15
           },
           "zerolinecolor": "white",
           "zerolinewidth": 2
          },
          "yaxis": {
           "automargin": true,
           "gridcolor": "white",
           "linecolor": "white",
           "ticks": "",
           "title": {
            "standoff": 15
           },
           "zerolinecolor": "white",
           "zerolinewidth": 2
          }
         }
        },
        "xaxis": {
         "anchor": "y",
         "domain": [
          0,
          1
         ]
        },
        "yaxis": {
         "anchor": "x",
         "domain": [
          0,
          1
         ],
         "title": {
          "text": "Number of days of data"
         }
        }
       }
      },
      "text/html": [
       "<div>                            <div id=\"ecd5d6cf-b2a7-43bc-a04c-b099762b0e7e\" class=\"plotly-graph-div\" style=\"height:525px; width:100%;\"></div>            <script type=\"text/javascript\">                require([\"plotly\"], function(Plotly) {                    window.PLOTLYENV=window.PLOTLYENV || {};                                    if (document.getElementById(\"ecd5d6cf-b2a7-43bc-a04c-b099762b0e7e\")) {                    Plotly.newPlot(                        \"ecd5d6cf-b2a7-43bc-a04c-b099762b0e7e\",                        [{\"alignmentgroup\":\"True\",\"boxpoints\":\"all\",\"customdata\":[[\"Alabama\"],[\"Alaska\"],[\"Arizona\"],[\"Arkansas\"],[\"California\"],[\"Colorado\"],[\"Connecticut\"],[\"Delaware\"],[\"District of Columbia\"],[\"Florida\"],[\"Georgia\"],[\"Hawaii\"],[\"Idaho\"],[\"Illinois\"],[\"Indiana\"],[\"Iowa\"],[\"Kansas\"],[\"Kentucky\"],[\"Louisiana\"],[\"Maine\"],[\"Maryland\"],[\"Massachusetts\"],[\"Michigan\"],[\"Minnesota\"],[\"Mississippi\"],[\"Missouri\"],[\"Montana\"],[\"Nebraska\"],[\"Nevada\"],[\"New Hampshire\"],[\"New Jersey\"],[\"New Mexico\"],[\"New York\"],[\"North Carolina\"],[\"North Dakota\"],[\"Ohio\"],[\"Oklahoma\"],[\"Oregon\"],[\"Pennsylvania\"],[\"Rhode Island\"],[\"South Carolina\"],[\"South Dakota\"],[\"Tennessee\"],[\"Texas\"],[\"Utah\"],[\"Vermont\"],[\"Virginia\"],[\"Washington\"],[\"West Virginia\"],[\"Wisconsin\"],[\"Wyoming\"]],\"hovertemplate\":\"Number of days of data=%{y}<br>fips_state_full=%{customdata[0]}<extra></extra>\",\"legendgroup\":\"\",\"marker\":{\"color\":\"#636efa\"},\"name\":\"\",\"notched\":false,\"offsetgroup\":\"\",\"orientation\":\"v\",\"showlegend\":false,\"type\":\"box\",\"x0\":\" \",\"xaxis\":\"x\",\"y\":[183342,86736,133421,54882,190997,80094,21962,92952,2795,551220,314970,151391,242068,43993,48193,120723,98255,85557,42180,44840,47580,33661,155800,74026,120085,113528,122901,35740,158308,66904,47799,109266,220610,44224,30381,259844,148124,115959,81031,102344,42928,58377,47747,160638,168085,28028,471659,262925,34277,288994,147369],\"y0\":\" \",\"yaxis\":\"y\"}],                        {\"boxmode\":\"group\",\"legend\":{\"tracegroupgap\":0},\"margin\":{\"t\":60},\"template\":{\"data\":{\"bar\":[{\"error_x\":{\"color\":\"#2a3f5f\"},\"error_y\":{\"color\":\"#2a3f5f\"},\"marker\":{\"line\":{\"color\":\"#E5ECF6\",\"width\":0.5},\"pattern\":{\"fillmode\":\"overlay\",\"size\":10,\"solidity\":0.2}},\"type\":\"bar\"}],\"barpolar\":[{\"marker\":{\"line\":{\"color\":\"#E5ECF6\",\"width\":0.5},\"pattern\":{\"fillmode\":\"overlay\",\"size\":10,\"solidity\":0.2}},\"type\":\"barpolar\"}],\"carpet\":[{\"aaxis\":{\"endlinecolor\":\"#2a3f5f\",\"gridcolor\":\"white\",\"linecolor\":\"white\",\"minorgridcolor\":\"white\",\"startlinecolor\":\"#2a3f5f\"},\"baxis\":{\"endlinecolor\":\"#2a3f5f\",\"gridcolor\":\"white\",\"linecolor\":\"white\",\"minorgridcolor\":\"white\",\"startlinecolor\":\"#2a3f5f\"},\"type\":\"carpet\"}],\"choropleth\":[{\"colorbar\":{\"outlinewidth\":0,\"ticks\":\"\"},\"type\":\"choropleth\"}],\"contour\":[{\"colorbar\":{\"outlinewidth\":0,\"ticks\":\"\"},\"colorscale\":[[0.0,\"#0d0887\"],[0.1111111111111111,\"#46039f\"],[0.2222222222222222,\"#7201a8\"],[0.3333333333333333,\"#9c179e\"],[0.4444444444444444,\"#bd3786\"],[0.5555555555555556,\"#d8576b\"],[0.6666666666666666,\"#ed7953\"],[0.7777777777777778,\"#fb9f3a\"],[0.8888888888888888,\"#fdca26\"],[1.0,\"#f0f921\"]],\"type\":\"contour\"}],\"contourcarpet\":[{\"colorbar\":{\"outlinewidth\":0,\"ticks\":\"\"},\"type\":\"contourcarpet\"}],\"heatmap\":[{\"colorbar\":{\"outlinewidth\":0,\"ticks\":\"\"},\"colorscale\":[[0.0,\"#0d0887\"],[0.1111111111111111,\"#46039f\"],[0.2222222222222222,\"#7201a8\"],[0.3333333333333333,\"#9c179e\"],[0.4444444444444444,\"#bd3786\"],[0.5555555555555556,\"#d8576b\"],[0.6666666666666666,\"#ed7953\"],[0.7777777777777778,\"#fb9f3a\"],[0.8888888888888888,\"#fdca26\"],[1.0,\"#f0f921\"]],\"type\":\"heatmap\"}],\"heatmapgl\":[{\"colorbar\":{\"outlinewidth\":0,\"ticks\":\"\"},\"colorscale\":[[0.0,\"#0d0887\"],[0.1111111111111111,\"#46039f\"],[0.2222222222222222,\"#7201a8\"],[0.3333333333333333,\"#9c179e\"],[0.4444444444444444,\"#bd3786\"],[0.5555555555555556,\"#d8576b\"],[0.6666666666666666,\"#ed7953\"],[0.7777777777777778,\"#fb9f3a\"],[0.8888888888888888,\"#fdca26\"],[1.0,\"#f0f921\"]],\"type\":\"heatmapgl\"}],\"histogram\":[{\"marker\":{\"pattern\":{\"fillmode\":\"overlay\",\"size\":10,\"solidity\":0.2}},\"type\":\"histogram\"}],\"histogram2d\":[{\"colorbar\":{\"outlinewidth\":0,\"ticks\":\"\"},\"colorscale\":[[0.0,\"#0d0887\"],[0.1111111111111111,\"#46039f\"],[0.2222222222222222,\"#7201a8\"],[0.3333333333333333,\"#9c179e\"],[0.4444444444444444,\"#bd3786\"],[0.5555555555555556,\"#d8576b\"],[0.6666666666666666,\"#ed7953\"],[0.7777777777777778,\"#fb9f3a\"],[0.8888888888888888,\"#fdca26\"],[1.0,\"#f0f921\"]],\"type\":\"histogram2d\"}],\"histogram2dcontour\":[{\"colorbar\":{\"outlinewidth\":0,\"ticks\":\"\"},\"colorscale\":[[0.0,\"#0d0887\"],[0.1111111111111111,\"#46039f\"],[0.2222222222222222,\"#7201a8\"],[0.3333333333333333,\"#9c179e\"],[0.4444444444444444,\"#bd3786\"],[0.5555555555555556,\"#d8576b\"],[0.6666666666666666,\"#ed7953\"],[0.7777777777777778,\"#fb9f3a\"],[0.8888888888888888,\"#fdca26\"],[1.0,\"#f0f921\"]],\"type\":\"histogram2dcontour\"}],\"mesh3d\":[{\"colorbar\":{\"outlinewidth\":0,\"ticks\":\"\"},\"type\":\"mesh3d\"}],\"parcoords\":[{\"line\":{\"colorbar\":{\"outlinewidth\":0,\"ticks\":\"\"}},\"type\":\"parcoords\"}],\"pie\":[{\"automargin\":true,\"type\":\"pie\"}],\"scatter\":[{\"marker\":{\"colorbar\":{\"outlinewidth\":0,\"ticks\":\"\"}},\"type\":\"scatter\"}],\"scatter3d\":[{\"line\":{\"colorbar\":{\"outlinewidth\":0,\"ticks\":\"\"}},\"marker\":{\"colorbar\":{\"outlinewidth\":0,\"ticks\":\"\"}},\"type\":\"scatter3d\"}],\"scattercarpet\":[{\"marker\":{\"colorbar\":{\"outlinewidth\":0,\"ticks\":\"\"}},\"type\":\"scattercarpet\"}],\"scattergeo\":[{\"marker\":{\"colorbar\":{\"outlinewidth\":0,\"ticks\":\"\"}},\"type\":\"scattergeo\"}],\"scattergl\":[{\"marker\":{\"colorbar\":{\"outlinewidth\":0,\"ticks\":\"\"}},\"type\":\"scattergl\"}],\"scattermapbox\":[{\"marker\":{\"colorbar\":{\"outlinewidth\":0,\"ticks\":\"\"}},\"type\":\"scattermapbox\"}],\"scatterpolar\":[{\"marker\":{\"colorbar\":{\"outlinewidth\":0,\"ticks\":\"\"}},\"type\":\"scatterpolar\"}],\"scatterpolargl\":[{\"marker\":{\"colorbar\":{\"outlinewidth\":0,\"ticks\":\"\"}},\"type\":\"scatterpolargl\"}],\"scatterternary\":[{\"marker\":{\"colorbar\":{\"outlinewidth\":0,\"ticks\":\"\"}},\"type\":\"scatterternary\"}],\"surface\":[{\"colorbar\":{\"outlinewidth\":0,\"ticks\":\"\"},\"colorscale\":[[0.0,\"#0d0887\"],[0.1111111111111111,\"#46039f\"],[0.2222222222222222,\"#7201a8\"],[0.3333333333333333,\"#9c179e\"],[0.4444444444444444,\"#bd3786\"],[0.5555555555555556,\"#d8576b\"],[0.6666666666666666,\"#ed7953\"],[0.7777777777777778,\"#fb9f3a\"],[0.8888888888888888,\"#fdca26\"],[1.0,\"#f0f921\"]],\"type\":\"surface\"}],\"table\":[{\"cells\":{\"fill\":{\"color\":\"#EBF0F8\"},\"line\":{\"color\":\"white\"}},\"header\":{\"fill\":{\"color\":\"#C8D4E3\"},\"line\":{\"color\":\"white\"}},\"type\":\"table\"}]},\"layout\":{\"annotationdefaults\":{\"arrowcolor\":\"#2a3f5f\",\"arrowhead\":0,\"arrowwidth\":1},\"autotypenumbers\":\"strict\",\"coloraxis\":{\"colorbar\":{\"outlinewidth\":0,\"ticks\":\"\"}},\"colorscale\":{\"diverging\":[[0,\"#8e0152\"],[0.1,\"#c51b7d\"],[0.2,\"#de77ae\"],[0.3,\"#f1b6da\"],[0.4,\"#fde0ef\"],[0.5,\"#f7f7f7\"],[0.6,\"#e6f5d0\"],[0.7,\"#b8e186\"],[0.8,\"#7fbc41\"],[0.9,\"#4d9221\"],[1,\"#276419\"]],\"sequential\":[[0.0,\"#0d0887\"],[0.1111111111111111,\"#46039f\"],[0.2222222222222222,\"#7201a8\"],[0.3333333333333333,\"#9c179e\"],[0.4444444444444444,\"#bd3786\"],[0.5555555555555556,\"#d8576b\"],[0.6666666666666666,\"#ed7953\"],[0.7777777777777778,\"#fb9f3a\"],[0.8888888888888888,\"#fdca26\"],[1.0,\"#f0f921\"]],\"sequentialminus\":[[0.0,\"#0d0887\"],[0.1111111111111111,\"#46039f\"],[0.2222222222222222,\"#7201a8\"],[0.3333333333333333,\"#9c179e\"],[0.4444444444444444,\"#bd3786\"],[0.5555555555555556,\"#d8576b\"],[0.6666666666666666,\"#ed7953\"],[0.7777777777777778,\"#fb9f3a\"],[0.8888888888888888,\"#fdca26\"],[1.0,\"#f0f921\"]]},\"colorway\":[\"#636efa\",\"#EF553B\",\"#00cc96\",\"#ab63fa\",\"#FFA15A\",\"#19d3f3\",\"#FF6692\",\"#B6E880\",\"#FF97FF\",\"#FECB52\"],\"font\":{\"color\":\"#2a3f5f\"},\"geo\":{\"bgcolor\":\"white\",\"lakecolor\":\"white\",\"landcolor\":\"#E5ECF6\",\"showlakes\":true,\"showland\":true,\"subunitcolor\":\"white\"},\"hoverlabel\":{\"align\":\"left\"},\"hovermode\":\"closest\",\"mapbox\":{\"style\":\"light\"},\"paper_bgcolor\":\"white\",\"plot_bgcolor\":\"#E5ECF6\",\"polar\":{\"angularaxis\":{\"gridcolor\":\"white\",\"linecolor\":\"white\",\"ticks\":\"\"},\"bgcolor\":\"#E5ECF6\",\"radialaxis\":{\"gridcolor\":\"white\",\"linecolor\":\"white\",\"ticks\":\"\"}},\"scene\":{\"xaxis\":{\"backgroundcolor\":\"#E5ECF6\",\"gridcolor\":\"white\",\"gridwidth\":2,\"linecolor\":\"white\",\"showbackground\":true,\"ticks\":\"\",\"zerolinecolor\":\"white\"},\"yaxis\":{\"backgroundcolor\":\"#E5ECF6\",\"gridcolor\":\"white\",\"gridwidth\":2,\"linecolor\":\"white\",\"showbackground\":true,\"ticks\":\"\",\"zerolinecolor\":\"white\"},\"zaxis\":{\"backgroundcolor\":\"#E5ECF6\",\"gridcolor\":\"white\",\"gridwidth\":2,\"linecolor\":\"white\",\"showbackground\":true,\"ticks\":\"\",\"zerolinecolor\":\"white\"}},\"shapedefaults\":{\"line\":{\"color\":\"#2a3f5f\"}},\"ternary\":{\"aaxis\":{\"gridcolor\":\"white\",\"linecolor\":\"white\",\"ticks\":\"\"},\"baxis\":{\"gridcolor\":\"white\",\"linecolor\":\"white\",\"ticks\":\"\"},\"bgcolor\":\"#E5ECF6\",\"caxis\":{\"gridcolor\":\"white\",\"linecolor\":\"white\",\"ticks\":\"\"}},\"title\":{\"x\":0.05},\"xaxis\":{\"automargin\":true,\"gridcolor\":\"white\",\"linecolor\":\"white\",\"ticks\":\"\",\"title\":{\"standoff\":15},\"zerolinecolor\":\"white\",\"zerolinewidth\":2},\"yaxis\":{\"automargin\":true,\"gridcolor\":\"white\",\"linecolor\":\"white\",\"ticks\":\"\",\"title\":{\"standoff\":15},\"zerolinecolor\":\"white\",\"zerolinewidth\":2}}},\"xaxis\":{\"anchor\":\"y\",\"domain\":[0.0,1.0]},\"yaxis\":{\"anchor\":\"x\",\"domain\":[0.0,1.0],\"title\":{\"text\":\"Number of days of data\"}}},                        {\"responsive\": true}                    ).then(function(){\n",
       "                            \n",
       "var gd = document.getElementById('ecd5d6cf-b2a7-43bc-a04c-b099762b0e7e');\n",
       "var x = new MutationObserver(function (mutations, observer) {{\n",
       "        var display = window.getComputedStyle(gd).display;\n",
       "        if (!display || display === 'none') {{\n",
       "            console.log([gd, 'removed!']);\n",
       "            Plotly.purge(gd);\n",
       "            observer.disconnect();\n",
       "        }}\n",
       "}});\n",
       "\n",
       "// Listen for the removal of the full notebook cells\n",
       "var notebookContainer = gd.closest('#notebook-container');\n",
       "if (notebookContainer) {{\n",
       "    x.observe(notebookContainer, {childList: true});\n",
       "}}\n",
       "\n",
       "// Listen for the clearing of the current output cell\n",
       "var outputEl = gd.closest('.output');\n",
       "if (outputEl) {{\n",
       "    x.observe(outputEl, {childList: true});\n",
       "}}\n",
       "\n",
       "                        })                };                });            </script>        </div>"
      ]
     },
     "metadata": {},
     "output_type": "display_data"
    }
   ],
   "source": [
    "columns = [\"date\", \"fips_state_full\"]\n",
    "\n",
    "num_days = traffic[columns].groupby(\"fips_state_full\") \\\n",
    "                           .count() \\\n",
    "                           .reset_index() \\\n",
    "                           .rename(columns = {\"date\": \"num_days\"})\n",
    "\n",
    "# Create box plot of the number of days\n",
    "px.box(num_days, y=\"num_days\", \n",
    "       points=\"all\",\n",
    "       labels={\"num_days\": \"Number of days of data\"},\n",
    "       hover_data=[\"fips_state_full\"])"
   ]
  },
  {
   "cell_type": "markdown",
   "id": "84276209",
   "metadata": {},
   "source": [
    "Based on the box plot above, it could be observed that the number of days of data that each state has varies greatly. On the low end, we have District of Columbia with only 2,795 days of data while on the high end, we have Florida with 551,220 days of data (fips_state_code = 12). Magnitude wise, the highest number of days of data is approximately 197 times of the lowest. <br>\n",
    "\n",
    "As such, total traffic volume would not be a fair metric to use for comparing the traffic volume across each state. This is because states with more days of data are more likely to also have higher total traffic volume, just by virtue of having more days of data. <br>\n",
    "\n",
    "#### With that in mind, let's use average daily traffic volume instead to measure traffic volume, since it is normalized by the number of days of data and hence resolves the aforementioned issue."
   ]
  },
  {
   "cell_type": "markdown",
   "id": "b78374d2",
   "metadata": {},
   "source": [
    "### Top 5 Patterns"
   ]
  },
  {
   "cell_type": "markdown",
   "id": "b3fdb723",
   "metadata": {},
   "source": [
    "#### Let's see if there is any pattern between the average traffic volume and the geographical location of the state"
   ]
  },
  {
   "cell_type": "code",
   "execution_count": 49,
   "id": "8efb00f2",
   "metadata": {},
   "outputs": [],
   "source": [
    "# Find total daily traffic volume in each row\n",
    "traffic[\"total_daily_traffic_volume\"] = traffic \\\n",
    "                                        .loc[:, start_column: end_column] \\\n",
    "                                        .sum(axis=1)\n",
    "\n",
    "columns = [\"fips_state_abb\", \"fips_state_full\", \"total_daily_traffic_volume\"]\n",
    "group_columns = [\"fips_state_abb\", \"fips_state_full\"]\n",
    "\n",
    "# Average by state\n",
    "traffic_state = traffic[columns].groupby(group_columns) \\\n",
    "                                .mean() \\\n",
    "                                .reset_index() \\\n",
    "                                .rename(columns = {\"total_daily_traffic_volume\": \"average_daily_traffic_volume\"})\n",
    "\n",
    "traffic_state.average_daily_traffic_volume = traffic_state.average_daily_traffic_volume.astype(int)"
   ]
  },
  {
   "cell_type": "markdown",
   "id": "42d1f011",
   "metadata": {},
   "source": [
    "#### Visualize the average daily traffic volume by state with a choropleth map"
   ]
  },
  {
   "cell_type": "code",
   "execution_count": 55,
   "id": "fa45f3bd",
   "metadata": {},
   "outputs": [
    {
     "data": {
      "application/vnd.plotly.v1+json": {
       "config": {
        "plotlyServerURL": "https://plot.ly"
       },
       "data": [
        {
         "autocolorscale": false,
         "colorbar": {
          "title": {
           "text": "Traffic Vol"
          }
         },
         "colorscale": [
          [
           0,
           "rgb(255,245,240)"
          ],
          [
           0.125,
           "rgb(254,224,210)"
          ],
          [
           0.25,
           "rgb(252,187,161)"
          ],
          [
           0.375,
           "rgb(252,146,114)"
          ],
          [
           0.5,
           "rgb(251,106,74)"
          ],
          [
           0.625,
           "rgb(239,59,44)"
          ],
          [
           0.75,
           "rgb(203,24,29)"
          ],
          [
           0.875,
           "rgb(165,15,21)"
          ],
          [
           1,
           "rgb(103,0,13)"
          ]
         ],
         "locationmode": "USA-states",
         "locations": [
          "AK",
          "AL",
          "AR",
          "AZ",
          "CA",
          "CO",
          "CT",
          "DC",
          "DE",
          "FL",
          "GA",
          "HI",
          "IA",
          "ID",
          "IL",
          "IN",
          "KS",
          "KY",
          "LA",
          "MA",
          "MD",
          "ME",
          "MI",
          "MN",
          "MO",
          "MS",
          "MT",
          "NC",
          "ND",
          "NE",
          "NH",
          "NJ",
          "NM",
          "NV",
          "NY",
          "OH",
          "OK",
          "OR",
          "PA",
          "RI",
          "SC",
          "SD",
          "TN",
          "TX",
          "UT",
          "VA",
          "VT",
          "WA",
          "WI",
          "WV",
          "WY"
         ],
         "marker": {
          "line": {
           "color": "white"
          }
         },
         "text": [
          "Alaska",
          "Alabama",
          "Arkansas",
          "Arizona",
          "California",
          "Colorado",
          "Connecticut",
          "District of Columbia",
          "Delaware",
          "Florida",
          "Georgia",
          "Hawaii",
          "Iowa",
          "Idaho",
          "Illinois",
          "Indiana",
          "Kansas",
          "Kentucky",
          "Louisiana",
          "Massachusetts",
          "Maryland",
          "Maine",
          "Michigan",
          "Minnesota",
          "Missouri",
          "Mississippi",
          "Montana",
          "North Carolina",
          "North Dakota",
          "Nebraska",
          "New Hampshire",
          "New Jersey",
          "New Mexico",
          "Nevada",
          "New York",
          "Ohio",
          "Oklahoma",
          "Oregon",
          "Pennsylvania",
          "Rhode Island",
          "South Carolina",
          "South Dakota",
          "Tennessee",
          "Texas",
          "Utah",
          "Virginia",
          "Vermont",
          "Washington",
          "Wisconsin",
          "West Virginia",
          "Wyoming"
         ],
         "type": "choropleth",
         "z": [
          3667,
          7971,
          5073,
          41975,
          34922,
          12037,
          22791,
          21182,
          5746,
          8005,
          9825,
          10601,
          4229,
          4688,
          13744,
          6893,
          3468,
          6986,
          6240,
          23645,
          29420,
          4369,
          14817,
          11197,
          7480,
          5161,
          2079,
          10538,
          2643,
          9229,
          16564,
          11495,
          3523,
          6550,
          7072,
          10128,
          7359,
          12444,
          6590,
          23856,
          35202,
          2533,
          5795,
          17378,
          7086,
          19200,
          7043,
          10279,
          6480,
          4427,
          1894
         ]
        }
       ],
       "layout": {
        "geo": {
         "lakecolor": "rgb(255, 255, 255)",
         "projection": {
          "type": "albers usa"
         },
         "scope": "usa",
         "showlakes": true
        },
        "template": {
         "data": {
          "bar": [
           {
            "error_x": {
             "color": "#2a3f5f"
            },
            "error_y": {
             "color": "#2a3f5f"
            },
            "marker": {
             "line": {
              "color": "#E5ECF6",
              "width": 0.5
             },
             "pattern": {
              "fillmode": "overlay",
              "size": 10,
              "solidity": 0.2
             }
            },
            "type": "bar"
           }
          ],
          "barpolar": [
           {
            "marker": {
             "line": {
              "color": "#E5ECF6",
              "width": 0.5
             },
             "pattern": {
              "fillmode": "overlay",
              "size": 10,
              "solidity": 0.2
             }
            },
            "type": "barpolar"
           }
          ],
          "carpet": [
           {
            "aaxis": {
             "endlinecolor": "#2a3f5f",
             "gridcolor": "white",
             "linecolor": "white",
             "minorgridcolor": "white",
             "startlinecolor": "#2a3f5f"
            },
            "baxis": {
             "endlinecolor": "#2a3f5f",
             "gridcolor": "white",
             "linecolor": "white",
             "minorgridcolor": "white",
             "startlinecolor": "#2a3f5f"
            },
            "type": "carpet"
           }
          ],
          "choropleth": [
           {
            "colorbar": {
             "outlinewidth": 0,
             "ticks": ""
            },
            "type": "choropleth"
           }
          ],
          "contour": [
           {
            "colorbar": {
             "outlinewidth": 0,
             "ticks": ""
            },
            "colorscale": [
             [
              0,
              "#0d0887"
             ],
             [
              0.1111111111111111,
              "#46039f"
             ],
             [
              0.2222222222222222,
              "#7201a8"
             ],
             [
              0.3333333333333333,
              "#9c179e"
             ],
             [
              0.4444444444444444,
              "#bd3786"
             ],
             [
              0.5555555555555556,
              "#d8576b"
             ],
             [
              0.6666666666666666,
              "#ed7953"
             ],
             [
              0.7777777777777778,
              "#fb9f3a"
             ],
             [
              0.8888888888888888,
              "#fdca26"
             ],
             [
              1,
              "#f0f921"
             ]
            ],
            "type": "contour"
           }
          ],
          "contourcarpet": [
           {
            "colorbar": {
             "outlinewidth": 0,
             "ticks": ""
            },
            "type": "contourcarpet"
           }
          ],
          "heatmap": [
           {
            "colorbar": {
             "outlinewidth": 0,
             "ticks": ""
            },
            "colorscale": [
             [
              0,
              "#0d0887"
             ],
             [
              0.1111111111111111,
              "#46039f"
             ],
             [
              0.2222222222222222,
              "#7201a8"
             ],
             [
              0.3333333333333333,
              "#9c179e"
             ],
             [
              0.4444444444444444,
              "#bd3786"
             ],
             [
              0.5555555555555556,
              "#d8576b"
             ],
             [
              0.6666666666666666,
              "#ed7953"
             ],
             [
              0.7777777777777778,
              "#fb9f3a"
             ],
             [
              0.8888888888888888,
              "#fdca26"
             ],
             [
              1,
              "#f0f921"
             ]
            ],
            "type": "heatmap"
           }
          ],
          "heatmapgl": [
           {
            "colorbar": {
             "outlinewidth": 0,
             "ticks": ""
            },
            "colorscale": [
             [
              0,
              "#0d0887"
             ],
             [
              0.1111111111111111,
              "#46039f"
             ],
             [
              0.2222222222222222,
              "#7201a8"
             ],
             [
              0.3333333333333333,
              "#9c179e"
             ],
             [
              0.4444444444444444,
              "#bd3786"
             ],
             [
              0.5555555555555556,
              "#d8576b"
             ],
             [
              0.6666666666666666,
              "#ed7953"
             ],
             [
              0.7777777777777778,
              "#fb9f3a"
             ],
             [
              0.8888888888888888,
              "#fdca26"
             ],
             [
              1,
              "#f0f921"
             ]
            ],
            "type": "heatmapgl"
           }
          ],
          "histogram": [
           {
            "marker": {
             "pattern": {
              "fillmode": "overlay",
              "size": 10,
              "solidity": 0.2
             }
            },
            "type": "histogram"
           }
          ],
          "histogram2d": [
           {
            "colorbar": {
             "outlinewidth": 0,
             "ticks": ""
            },
            "colorscale": [
             [
              0,
              "#0d0887"
             ],
             [
              0.1111111111111111,
              "#46039f"
             ],
             [
              0.2222222222222222,
              "#7201a8"
             ],
             [
              0.3333333333333333,
              "#9c179e"
             ],
             [
              0.4444444444444444,
              "#bd3786"
             ],
             [
              0.5555555555555556,
              "#d8576b"
             ],
             [
              0.6666666666666666,
              "#ed7953"
             ],
             [
              0.7777777777777778,
              "#fb9f3a"
             ],
             [
              0.8888888888888888,
              "#fdca26"
             ],
             [
              1,
              "#f0f921"
             ]
            ],
            "type": "histogram2d"
           }
          ],
          "histogram2dcontour": [
           {
            "colorbar": {
             "outlinewidth": 0,
             "ticks": ""
            },
            "colorscale": [
             [
              0,
              "#0d0887"
             ],
             [
              0.1111111111111111,
              "#46039f"
             ],
             [
              0.2222222222222222,
              "#7201a8"
             ],
             [
              0.3333333333333333,
              "#9c179e"
             ],
             [
              0.4444444444444444,
              "#bd3786"
             ],
             [
              0.5555555555555556,
              "#d8576b"
             ],
             [
              0.6666666666666666,
              "#ed7953"
             ],
             [
              0.7777777777777778,
              "#fb9f3a"
             ],
             [
              0.8888888888888888,
              "#fdca26"
             ],
             [
              1,
              "#f0f921"
             ]
            ],
            "type": "histogram2dcontour"
           }
          ],
          "mesh3d": [
           {
            "colorbar": {
             "outlinewidth": 0,
             "ticks": ""
            },
            "type": "mesh3d"
           }
          ],
          "parcoords": [
           {
            "line": {
             "colorbar": {
              "outlinewidth": 0,
              "ticks": ""
             }
            },
            "type": "parcoords"
           }
          ],
          "pie": [
           {
            "automargin": true,
            "type": "pie"
           }
          ],
          "scatter": [
           {
            "marker": {
             "colorbar": {
              "outlinewidth": 0,
              "ticks": ""
             }
            },
            "type": "scatter"
           }
          ],
          "scatter3d": [
           {
            "line": {
             "colorbar": {
              "outlinewidth": 0,
              "ticks": ""
             }
            },
            "marker": {
             "colorbar": {
              "outlinewidth": 0,
              "ticks": ""
             }
            },
            "type": "scatter3d"
           }
          ],
          "scattercarpet": [
           {
            "marker": {
             "colorbar": {
              "outlinewidth": 0,
              "ticks": ""
             }
            },
            "type": "scattercarpet"
           }
          ],
          "scattergeo": [
           {
            "marker": {
             "colorbar": {
              "outlinewidth": 0,
              "ticks": ""
             }
            },
            "type": "scattergeo"
           }
          ],
          "scattergl": [
           {
            "marker": {
             "colorbar": {
              "outlinewidth": 0,
              "ticks": ""
             }
            },
            "type": "scattergl"
           }
          ],
          "scattermapbox": [
           {
            "marker": {
             "colorbar": {
              "outlinewidth": 0,
              "ticks": ""
             }
            },
            "type": "scattermapbox"
           }
          ],
          "scatterpolar": [
           {
            "marker": {
             "colorbar": {
              "outlinewidth": 0,
              "ticks": ""
             }
            },
            "type": "scatterpolar"
           }
          ],
          "scatterpolargl": [
           {
            "marker": {
             "colorbar": {
              "outlinewidth": 0,
              "ticks": ""
             }
            },
            "type": "scatterpolargl"
           }
          ],
          "scatterternary": [
           {
            "marker": {
             "colorbar": {
              "outlinewidth": 0,
              "ticks": ""
             }
            },
            "type": "scatterternary"
           }
          ],
          "surface": [
           {
            "colorbar": {
             "outlinewidth": 0,
             "ticks": ""
            },
            "colorscale": [
             [
              0,
              "#0d0887"
             ],
             [
              0.1111111111111111,
              "#46039f"
             ],
             [
              0.2222222222222222,
              "#7201a8"
             ],
             [
              0.3333333333333333,
              "#9c179e"
             ],
             [
              0.4444444444444444,
              "#bd3786"
             ],
             [
              0.5555555555555556,
              "#d8576b"
             ],
             [
              0.6666666666666666,
              "#ed7953"
             ],
             [
              0.7777777777777778,
              "#fb9f3a"
             ],
             [
              0.8888888888888888,
              "#fdca26"
             ],
             [
              1,
              "#f0f921"
             ]
            ],
            "type": "surface"
           }
          ],
          "table": [
           {
            "cells": {
             "fill": {
              "color": "#EBF0F8"
             },
             "line": {
              "color": "white"
             }
            },
            "header": {
             "fill": {
              "color": "#C8D4E3"
             },
             "line": {
              "color": "white"
             }
            },
            "type": "table"
           }
          ]
         },
         "layout": {
          "annotationdefaults": {
           "arrowcolor": "#2a3f5f",
           "arrowhead": 0,
           "arrowwidth": 1
          },
          "autotypenumbers": "strict",
          "coloraxis": {
           "colorbar": {
            "outlinewidth": 0,
            "ticks": ""
           }
          },
          "colorscale": {
           "diverging": [
            [
             0,
             "#8e0152"
            ],
            [
             0.1,
             "#c51b7d"
            ],
            [
             0.2,
             "#de77ae"
            ],
            [
             0.3,
             "#f1b6da"
            ],
            [
             0.4,
             "#fde0ef"
            ],
            [
             0.5,
             "#f7f7f7"
            ],
            [
             0.6,
             "#e6f5d0"
            ],
            [
             0.7,
             "#b8e186"
            ],
            [
             0.8,
             "#7fbc41"
            ],
            [
             0.9,
             "#4d9221"
            ],
            [
             1,
             "#276419"
            ]
           ],
           "sequential": [
            [
             0,
             "#0d0887"
            ],
            [
             0.1111111111111111,
             "#46039f"
            ],
            [
             0.2222222222222222,
             "#7201a8"
            ],
            [
             0.3333333333333333,
             "#9c179e"
            ],
            [
             0.4444444444444444,
             "#bd3786"
            ],
            [
             0.5555555555555556,
             "#d8576b"
            ],
            [
             0.6666666666666666,
             "#ed7953"
            ],
            [
             0.7777777777777778,
             "#fb9f3a"
            ],
            [
             0.8888888888888888,
             "#fdca26"
            ],
            [
             1,
             "#f0f921"
            ]
           ],
           "sequentialminus": [
            [
             0,
             "#0d0887"
            ],
            [
             0.1111111111111111,
             "#46039f"
            ],
            [
             0.2222222222222222,
             "#7201a8"
            ],
            [
             0.3333333333333333,
             "#9c179e"
            ],
            [
             0.4444444444444444,
             "#bd3786"
            ],
            [
             0.5555555555555556,
             "#d8576b"
            ],
            [
             0.6666666666666666,
             "#ed7953"
            ],
            [
             0.7777777777777778,
             "#fb9f3a"
            ],
            [
             0.8888888888888888,
             "#fdca26"
            ],
            [
             1,
             "#f0f921"
            ]
           ]
          },
          "colorway": [
           "#636efa",
           "#EF553B",
           "#00cc96",
           "#ab63fa",
           "#FFA15A",
           "#19d3f3",
           "#FF6692",
           "#B6E880",
           "#FF97FF",
           "#FECB52"
          ],
          "font": {
           "color": "#2a3f5f"
          },
          "geo": {
           "bgcolor": "white",
           "lakecolor": "white",
           "landcolor": "#E5ECF6",
           "showlakes": true,
           "showland": true,
           "subunitcolor": "white"
          },
          "hoverlabel": {
           "align": "left"
          },
          "hovermode": "closest",
          "mapbox": {
           "style": "light"
          },
          "paper_bgcolor": "white",
          "plot_bgcolor": "#E5ECF6",
          "polar": {
           "angularaxis": {
            "gridcolor": "white",
            "linecolor": "white",
            "ticks": ""
           },
           "bgcolor": "#E5ECF6",
           "radialaxis": {
            "gridcolor": "white",
            "linecolor": "white",
            "ticks": ""
           }
          },
          "scene": {
           "xaxis": {
            "backgroundcolor": "#E5ECF6",
            "gridcolor": "white",
            "gridwidth": 2,
            "linecolor": "white",
            "showbackground": true,
            "ticks": "",
            "zerolinecolor": "white"
           },
           "yaxis": {
            "backgroundcolor": "#E5ECF6",
            "gridcolor": "white",
            "gridwidth": 2,
            "linecolor": "white",
            "showbackground": true,
            "ticks": "",
            "zerolinecolor": "white"
           },
           "zaxis": {
            "backgroundcolor": "#E5ECF6",
            "gridcolor": "white",
            "gridwidth": 2,
            "linecolor": "white",
            "showbackground": true,
            "ticks": "",
            "zerolinecolor": "white"
           }
          },
          "shapedefaults": {
           "line": {
            "color": "#2a3f5f"
           }
          },
          "ternary": {
           "aaxis": {
            "gridcolor": "white",
            "linecolor": "white",
            "ticks": ""
           },
           "baxis": {
            "gridcolor": "white",
            "linecolor": "white",
            "ticks": ""
           },
           "bgcolor": "#E5ECF6",
           "caxis": {
            "gridcolor": "white",
            "linecolor": "white",
            "ticks": ""
           }
          },
          "title": {
           "x": 0.05
          },
          "xaxis": {
           "automargin": true,
           "gridcolor": "white",
           "linecolor": "white",
           "ticks": "",
           "title": {
            "standoff": 15
           },
           "zerolinecolor": "white",
           "zerolinewidth": 2
          },
          "yaxis": {
           "automargin": true,
           "gridcolor": "white",
           "linecolor": "white",
           "ticks": "",
           "title": {
            "standoff": 15
           },
           "zerolinecolor": "white",
           "zerolinewidth": 2
          }
         }
        },
        "title": {
         "text": "2015 US Average Daily Traffic Volume by State"
        }
       }
      },
      "text/html": [
       "<div>                            <div id=\"663bd50b-d6d9-42da-865f-fd0d5c0d6c78\" class=\"plotly-graph-div\" style=\"height:525px; width:100%;\"></div>            <script type=\"text/javascript\">                require([\"plotly\"], function(Plotly) {                    window.PLOTLYENV=window.PLOTLYENV || {};                                    if (document.getElementById(\"663bd50b-d6d9-42da-865f-fd0d5c0d6c78\")) {                    Plotly.newPlot(                        \"663bd50b-d6d9-42da-865f-fd0d5c0d6c78\",                        [{\"autocolorscale\":false,\"colorbar\":{\"title\":{\"text\":\"Traffic Vol\"}},\"colorscale\":[[0.0,\"rgb(255,245,240)\"],[0.125,\"rgb(254,224,210)\"],[0.25,\"rgb(252,187,161)\"],[0.375,\"rgb(252,146,114)\"],[0.5,\"rgb(251,106,74)\"],[0.625,\"rgb(239,59,44)\"],[0.75,\"rgb(203,24,29)\"],[0.875,\"rgb(165,15,21)\"],[1.0,\"rgb(103,0,13)\"]],\"locationmode\":\"USA-states\",\"locations\":[\"AK\",\"AL\",\"AR\",\"AZ\",\"CA\",\"CO\",\"CT\",\"DC\",\"DE\",\"FL\",\"GA\",\"HI\",\"IA\",\"ID\",\"IL\",\"IN\",\"KS\",\"KY\",\"LA\",\"MA\",\"MD\",\"ME\",\"MI\",\"MN\",\"MO\",\"MS\",\"MT\",\"NC\",\"ND\",\"NE\",\"NH\",\"NJ\",\"NM\",\"NV\",\"NY\",\"OH\",\"OK\",\"OR\",\"PA\",\"RI\",\"SC\",\"SD\",\"TN\",\"TX\",\"UT\",\"VA\",\"VT\",\"WA\",\"WI\",\"WV\",\"WY\"],\"marker\":{\"line\":{\"color\":\"white\"}},\"text\":[\"Alaska\",\"Alabama\",\"Arkansas\",\"Arizona\",\"California\",\"Colorado\",\"Connecticut\",\"District of Columbia\",\"Delaware\",\"Florida\",\"Georgia\",\"Hawaii\",\"Iowa\",\"Idaho\",\"Illinois\",\"Indiana\",\"Kansas\",\"Kentucky\",\"Louisiana\",\"Massachusetts\",\"Maryland\",\"Maine\",\"Michigan\",\"Minnesota\",\"Missouri\",\"Mississippi\",\"Montana\",\"North Carolina\",\"North Dakota\",\"Nebraska\",\"New Hampshire\",\"New Jersey\",\"New Mexico\",\"Nevada\",\"New York\",\"Ohio\",\"Oklahoma\",\"Oregon\",\"Pennsylvania\",\"Rhode Island\",\"South Carolina\",\"South Dakota\",\"Tennessee\",\"Texas\",\"Utah\",\"Virginia\",\"Vermont\",\"Washington\",\"Wisconsin\",\"West Virginia\",\"Wyoming\"],\"type\":\"choropleth\",\"z\":[3667,7971,5073,41975,34922,12037,22791,21182,5746,8005,9825,10601,4229,4688,13744,6893,3468,6986,6240,23645,29420,4369,14817,11197,7480,5161,2079,10538,2643,9229,16564,11495,3523,6550,7072,10128,7359,12444,6590,23856,35202,2533,5795,17378,7086,19200,7043,10279,6480,4427,1894]}],                        {\"geo\":{\"lakecolor\":\"rgb(255, 255, 255)\",\"projection\":{\"type\":\"albers usa\"},\"scope\":\"usa\",\"showlakes\":true},\"template\":{\"data\":{\"bar\":[{\"error_x\":{\"color\":\"#2a3f5f\"},\"error_y\":{\"color\":\"#2a3f5f\"},\"marker\":{\"line\":{\"color\":\"#E5ECF6\",\"width\":0.5},\"pattern\":{\"fillmode\":\"overlay\",\"size\":10,\"solidity\":0.2}},\"type\":\"bar\"}],\"barpolar\":[{\"marker\":{\"line\":{\"color\":\"#E5ECF6\",\"width\":0.5},\"pattern\":{\"fillmode\":\"overlay\",\"size\":10,\"solidity\":0.2}},\"type\":\"barpolar\"}],\"carpet\":[{\"aaxis\":{\"endlinecolor\":\"#2a3f5f\",\"gridcolor\":\"white\",\"linecolor\":\"white\",\"minorgridcolor\":\"white\",\"startlinecolor\":\"#2a3f5f\"},\"baxis\":{\"endlinecolor\":\"#2a3f5f\",\"gridcolor\":\"white\",\"linecolor\":\"white\",\"minorgridcolor\":\"white\",\"startlinecolor\":\"#2a3f5f\"},\"type\":\"carpet\"}],\"choropleth\":[{\"colorbar\":{\"outlinewidth\":0,\"ticks\":\"\"},\"type\":\"choropleth\"}],\"contour\":[{\"colorbar\":{\"outlinewidth\":0,\"ticks\":\"\"},\"colorscale\":[[0.0,\"#0d0887\"],[0.1111111111111111,\"#46039f\"],[0.2222222222222222,\"#7201a8\"],[0.3333333333333333,\"#9c179e\"],[0.4444444444444444,\"#bd3786\"],[0.5555555555555556,\"#d8576b\"],[0.6666666666666666,\"#ed7953\"],[0.7777777777777778,\"#fb9f3a\"],[0.8888888888888888,\"#fdca26\"],[1.0,\"#f0f921\"]],\"type\":\"contour\"}],\"contourcarpet\":[{\"colorbar\":{\"outlinewidth\":0,\"ticks\":\"\"},\"type\":\"contourcarpet\"}],\"heatmap\":[{\"colorbar\":{\"outlinewidth\":0,\"ticks\":\"\"},\"colorscale\":[[0.0,\"#0d0887\"],[0.1111111111111111,\"#46039f\"],[0.2222222222222222,\"#7201a8\"],[0.3333333333333333,\"#9c179e\"],[0.4444444444444444,\"#bd3786\"],[0.5555555555555556,\"#d8576b\"],[0.6666666666666666,\"#ed7953\"],[0.7777777777777778,\"#fb9f3a\"],[0.8888888888888888,\"#fdca26\"],[1.0,\"#f0f921\"]],\"type\":\"heatmap\"}],\"heatmapgl\":[{\"colorbar\":{\"outlinewidth\":0,\"ticks\":\"\"},\"colorscale\":[[0.0,\"#0d0887\"],[0.1111111111111111,\"#46039f\"],[0.2222222222222222,\"#7201a8\"],[0.3333333333333333,\"#9c179e\"],[0.4444444444444444,\"#bd3786\"],[0.5555555555555556,\"#d8576b\"],[0.6666666666666666,\"#ed7953\"],[0.7777777777777778,\"#fb9f3a\"],[0.8888888888888888,\"#fdca26\"],[1.0,\"#f0f921\"]],\"type\":\"heatmapgl\"}],\"histogram\":[{\"marker\":{\"pattern\":{\"fillmode\":\"overlay\",\"size\":10,\"solidity\":0.2}},\"type\":\"histogram\"}],\"histogram2d\":[{\"colorbar\":{\"outlinewidth\":0,\"ticks\":\"\"},\"colorscale\":[[0.0,\"#0d0887\"],[0.1111111111111111,\"#46039f\"],[0.2222222222222222,\"#7201a8\"],[0.3333333333333333,\"#9c179e\"],[0.4444444444444444,\"#bd3786\"],[0.5555555555555556,\"#d8576b\"],[0.6666666666666666,\"#ed7953\"],[0.7777777777777778,\"#fb9f3a\"],[0.8888888888888888,\"#fdca26\"],[1.0,\"#f0f921\"]],\"type\":\"histogram2d\"}],\"histogram2dcontour\":[{\"colorbar\":{\"outlinewidth\":0,\"ticks\":\"\"},\"colorscale\":[[0.0,\"#0d0887\"],[0.1111111111111111,\"#46039f\"],[0.2222222222222222,\"#7201a8\"],[0.3333333333333333,\"#9c179e\"],[0.4444444444444444,\"#bd3786\"],[0.5555555555555556,\"#d8576b\"],[0.6666666666666666,\"#ed7953\"],[0.7777777777777778,\"#fb9f3a\"],[0.8888888888888888,\"#fdca26\"],[1.0,\"#f0f921\"]],\"type\":\"histogram2dcontour\"}],\"mesh3d\":[{\"colorbar\":{\"outlinewidth\":0,\"ticks\":\"\"},\"type\":\"mesh3d\"}],\"parcoords\":[{\"line\":{\"colorbar\":{\"outlinewidth\":0,\"ticks\":\"\"}},\"type\":\"parcoords\"}],\"pie\":[{\"automargin\":true,\"type\":\"pie\"}],\"scatter\":[{\"marker\":{\"colorbar\":{\"outlinewidth\":0,\"ticks\":\"\"}},\"type\":\"scatter\"}],\"scatter3d\":[{\"line\":{\"colorbar\":{\"outlinewidth\":0,\"ticks\":\"\"}},\"marker\":{\"colorbar\":{\"outlinewidth\":0,\"ticks\":\"\"}},\"type\":\"scatter3d\"}],\"scattercarpet\":[{\"marker\":{\"colorbar\":{\"outlinewidth\":0,\"ticks\":\"\"}},\"type\":\"scattercarpet\"}],\"scattergeo\":[{\"marker\":{\"colorbar\":{\"outlinewidth\":0,\"ticks\":\"\"}},\"type\":\"scattergeo\"}],\"scattergl\":[{\"marker\":{\"colorbar\":{\"outlinewidth\":0,\"ticks\":\"\"}},\"type\":\"scattergl\"}],\"scattermapbox\":[{\"marker\":{\"colorbar\":{\"outlinewidth\":0,\"ticks\":\"\"}},\"type\":\"scattermapbox\"}],\"scatterpolar\":[{\"marker\":{\"colorbar\":{\"outlinewidth\":0,\"ticks\":\"\"}},\"type\":\"scatterpolar\"}],\"scatterpolargl\":[{\"marker\":{\"colorbar\":{\"outlinewidth\":0,\"ticks\":\"\"}},\"type\":\"scatterpolargl\"}],\"scatterternary\":[{\"marker\":{\"colorbar\":{\"outlinewidth\":0,\"ticks\":\"\"}},\"type\":\"scatterternary\"}],\"surface\":[{\"colorbar\":{\"outlinewidth\":0,\"ticks\":\"\"},\"colorscale\":[[0.0,\"#0d0887\"],[0.1111111111111111,\"#46039f\"],[0.2222222222222222,\"#7201a8\"],[0.3333333333333333,\"#9c179e\"],[0.4444444444444444,\"#bd3786\"],[0.5555555555555556,\"#d8576b\"],[0.6666666666666666,\"#ed7953\"],[0.7777777777777778,\"#fb9f3a\"],[0.8888888888888888,\"#fdca26\"],[1.0,\"#f0f921\"]],\"type\":\"surface\"}],\"table\":[{\"cells\":{\"fill\":{\"color\":\"#EBF0F8\"},\"line\":{\"color\":\"white\"}},\"header\":{\"fill\":{\"color\":\"#C8D4E3\"},\"line\":{\"color\":\"white\"}},\"type\":\"table\"}]},\"layout\":{\"annotationdefaults\":{\"arrowcolor\":\"#2a3f5f\",\"arrowhead\":0,\"arrowwidth\":1},\"autotypenumbers\":\"strict\",\"coloraxis\":{\"colorbar\":{\"outlinewidth\":0,\"ticks\":\"\"}},\"colorscale\":{\"diverging\":[[0,\"#8e0152\"],[0.1,\"#c51b7d\"],[0.2,\"#de77ae\"],[0.3,\"#f1b6da\"],[0.4,\"#fde0ef\"],[0.5,\"#f7f7f7\"],[0.6,\"#e6f5d0\"],[0.7,\"#b8e186\"],[0.8,\"#7fbc41\"],[0.9,\"#4d9221\"],[1,\"#276419\"]],\"sequential\":[[0.0,\"#0d0887\"],[0.1111111111111111,\"#46039f\"],[0.2222222222222222,\"#7201a8\"],[0.3333333333333333,\"#9c179e\"],[0.4444444444444444,\"#bd3786\"],[0.5555555555555556,\"#d8576b\"],[0.6666666666666666,\"#ed7953\"],[0.7777777777777778,\"#fb9f3a\"],[0.8888888888888888,\"#fdca26\"],[1.0,\"#f0f921\"]],\"sequentialminus\":[[0.0,\"#0d0887\"],[0.1111111111111111,\"#46039f\"],[0.2222222222222222,\"#7201a8\"],[0.3333333333333333,\"#9c179e\"],[0.4444444444444444,\"#bd3786\"],[0.5555555555555556,\"#d8576b\"],[0.6666666666666666,\"#ed7953\"],[0.7777777777777778,\"#fb9f3a\"],[0.8888888888888888,\"#fdca26\"],[1.0,\"#f0f921\"]]},\"colorway\":[\"#636efa\",\"#EF553B\",\"#00cc96\",\"#ab63fa\",\"#FFA15A\",\"#19d3f3\",\"#FF6692\",\"#B6E880\",\"#FF97FF\",\"#FECB52\"],\"font\":{\"color\":\"#2a3f5f\"},\"geo\":{\"bgcolor\":\"white\",\"lakecolor\":\"white\",\"landcolor\":\"#E5ECF6\",\"showlakes\":true,\"showland\":true,\"subunitcolor\":\"white\"},\"hoverlabel\":{\"align\":\"left\"},\"hovermode\":\"closest\",\"mapbox\":{\"style\":\"light\"},\"paper_bgcolor\":\"white\",\"plot_bgcolor\":\"#E5ECF6\",\"polar\":{\"angularaxis\":{\"gridcolor\":\"white\",\"linecolor\":\"white\",\"ticks\":\"\"},\"bgcolor\":\"#E5ECF6\",\"radialaxis\":{\"gridcolor\":\"white\",\"linecolor\":\"white\",\"ticks\":\"\"}},\"scene\":{\"xaxis\":{\"backgroundcolor\":\"#E5ECF6\",\"gridcolor\":\"white\",\"gridwidth\":2,\"linecolor\":\"white\",\"showbackground\":true,\"ticks\":\"\",\"zerolinecolor\":\"white\"},\"yaxis\":{\"backgroundcolor\":\"#E5ECF6\",\"gridcolor\":\"white\",\"gridwidth\":2,\"linecolor\":\"white\",\"showbackground\":true,\"ticks\":\"\",\"zerolinecolor\":\"white\"},\"zaxis\":{\"backgroundcolor\":\"#E5ECF6\",\"gridcolor\":\"white\",\"gridwidth\":2,\"linecolor\":\"white\",\"showbackground\":true,\"ticks\":\"\",\"zerolinecolor\":\"white\"}},\"shapedefaults\":{\"line\":{\"color\":\"#2a3f5f\"}},\"ternary\":{\"aaxis\":{\"gridcolor\":\"white\",\"linecolor\":\"white\",\"ticks\":\"\"},\"baxis\":{\"gridcolor\":\"white\",\"linecolor\":\"white\",\"ticks\":\"\"},\"bgcolor\":\"#E5ECF6\",\"caxis\":{\"gridcolor\":\"white\",\"linecolor\":\"white\",\"ticks\":\"\"}},\"title\":{\"x\":0.05},\"xaxis\":{\"automargin\":true,\"gridcolor\":\"white\",\"linecolor\":\"white\",\"ticks\":\"\",\"title\":{\"standoff\":15},\"zerolinecolor\":\"white\",\"zerolinewidth\":2},\"yaxis\":{\"automargin\":true,\"gridcolor\":\"white\",\"linecolor\":\"white\",\"ticks\":\"\",\"title\":{\"standoff\":15},\"zerolinecolor\":\"white\",\"zerolinewidth\":2}}},\"title\":{\"text\":\"2015 US Average Daily Traffic Volume by State\"}},                        {\"responsive\": true}                    ).then(function(){\n",
       "                            \n",
       "var gd = document.getElementById('663bd50b-d6d9-42da-865f-fd0d5c0d6c78');\n",
       "var x = new MutationObserver(function (mutations, observer) {{\n",
       "        var display = window.getComputedStyle(gd).display;\n",
       "        if (!display || display === 'none') {{\n",
       "            console.log([gd, 'removed!']);\n",
       "            Plotly.purge(gd);\n",
       "            observer.disconnect();\n",
       "        }}\n",
       "}});\n",
       "\n",
       "// Listen for the removal of the full notebook cells\n",
       "var notebookContainer = gd.closest('#notebook-container');\n",
       "if (notebookContainer) {{\n",
       "    x.observe(notebookContainer, {childList: true});\n",
       "}}\n",
       "\n",
       "// Listen for the clearing of the current output cell\n",
       "var outputEl = gd.closest('.output');\n",
       "if (outputEl) {{\n",
       "    x.observe(outputEl, {childList: true});\n",
       "}}\n",
       "\n",
       "                        })                };                });            </script>        </div>"
      ]
     },
     "metadata": {},
     "output_type": "display_data"
    }
   ],
   "source": [
    "# Create choropleth map of the US states and their average daily traffic volumes\n",
    "fig = go.Figure()\n",
    "\n",
    "fig.add_trace(go.Choropleth(\n",
    "    locations=traffic_state.fips_state_abb,\n",
    "    z=traffic_state.average_daily_traffic_volume,\n",
    "    locationmode=\"USA-states\",\n",
    "    colorscale=\"Reds\",\n",
    "    autocolorscale=False,\n",
    "    colorbar_title=\"Traffic Vol\",\n",
    "    text=traffic_state.fips_state_full,\n",
    "    marker_line_color=\"white\",\n",
    "))\n",
    "\n",
    "fig.update_layout(\n",
    "    title=\"2015 US Average Daily Traffic Volume by State\",\n",
    "    geo = dict(\n",
    "        scope=\"usa\", # Limit map scope to USA\n",
    "        projection=go.layout.geo.Projection(type = 'albers usa'),\n",
    "        showlakes=True, # lakes\n",
    "        lakecolor=\"rgb(255, 255, 255)\"),\n",
    "    )"
   ]
  },
  {
   "cell_type": "markdown",
   "id": "b434e538",
   "metadata": {},
   "source": [
    "### Pattern 1:\n",
    "From the choropleth map above, it could be observed that in general, the coastal/border states of conterminous US have higher average daily traffic volume as compared to the inland states."
   ]
  },
  {
   "cell_type": "markdown",
   "id": "d16cf50e",
   "metadata": {},
   "source": [
    "#### Let's see if there is any pattern between the average daily traffic volume and the time of the day"
   ]
  },
  {
   "cell_type": "code",
   "execution_count": 78,
   "id": "4ca5c312",
   "metadata": {},
   "outputs": [],
   "source": [
    "columns = list(traffic.loc[:, start_column: end_column].columns)\n",
    "columns.append(\"fips_state_full\")\n",
    "\n",
    "# Average traffic volume by state\n",
    "traffic_time = traffic[columns].groupby(\"fips_state_full\") \\\n",
    "                               .mean() \\\n",
    "                               .astype(int)\n",
    "\n",
    "# Transpose the dataframe\n",
    "traffic_time = traffic_time.T \\\n",
    "                           .reset_index() \\\n",
    "                           .rename(columns = {\"index\": \"time_of_day\"})\n",
    "\n",
    "# Map traffic_volume_counted_after_0000_to_0100 to 0, traffic_volume_counted_after_0100_to_0200 to 1 and so on and so forth\n",
    "traffic_time = traffic_time.reset_index() \\\n",
    "                           .rename(columns = {\"time_of_day\": \"time_of_day_name\",\n",
    "                                              \"index\": \"time_of_day\"})\n",
    "traffic_time.columns.name = None"
   ]
  },
  {
   "cell_type": "markdown",
   "id": "ec80db89",
   "metadata": {},
   "source": [
    "#### Visualize the average daily traffic volume by state and time of the day with a line plot"
   ]
  },
  {
   "cell_type": "code",
   "execution_count": 88,
   "id": "fb37b777",
   "metadata": {},
   "outputs": [
    {
     "data": {
      "application/vnd.plotly.v1+json": {
       "config": {
        "plotlyServerURL": "https://plot.ly"
       },
       "data": [
        {
         "mode": "lines",
         "name": "Alabama",
         "type": "scatter",
         "x": [
          0,
          1,
          2,
          3,
          4,
          5,
          6,
          7,
          8,
          9,
          10,
          11,
          12,
          13,
          14,
          15,
          16,
          17,
          18,
          19,
          20,
          21,
          22,
          23
         ],
         "y": [
          90,
          66,
          57,
          60,
          90,
          183,
          338,
          471,
          426,
          408,
          428,
          458,
          489,
          503,
          528,
          573,
          602,
          574,
          443,
          343,
          278,
          235,
          183,
          133
         ]
        },
        {
         "mode": "lines",
         "name": "Alaska",
         "type": "scatter",
         "x": [
          0,
          1,
          2,
          3,
          4,
          5,
          6,
          7,
          8,
          9,
          10,
          11,
          12,
          13,
          14,
          15,
          16,
          17,
          18,
          19,
          20,
          21,
          22,
          23
         ],
         "y": [
          37,
          24,
          17,
          15,
          22,
          52,
          110,
          192,
          182,
          172,
          185,
          217,
          245,
          247,
          253,
          274,
          303,
          302,
          235,
          176,
          142,
          116,
          83,
          55
         ]
        },
        {
         "mode": "lines",
         "name": "Arizona",
         "type": "scatter",
         "x": [
          0,
          1,
          2,
          3,
          4,
          5,
          6,
          7,
          8,
          9,
          10,
          11,
          12,
          13,
          14,
          15,
          16,
          17,
          18,
          19,
          20,
          21,
          22,
          23
         ],
         "y": [
          463,
          324,
          297,
          343,
          721,
          1377,
          1972,
          2294,
          2287,
          2260,
          2232,
          2374,
          2496,
          2584,
          2762,
          2815,
          2804,
          2721,
          2374,
          1844,
          1527,
          1335,
          1050,
          707
         ]
        },
        {
         "mode": "lines",
         "name": "Arkansas",
         "type": "scatter",
         "x": [
          0,
          1,
          2,
          3,
          4,
          5,
          6,
          7,
          8,
          9,
          10,
          11,
          12,
          13,
          14,
          15,
          16,
          17,
          18,
          19,
          20,
          21,
          22,
          23
         ],
         "y": [
          51,
          38,
          34,
          37,
          51,
          96,
          179,
          252,
          242,
          254,
          278,
          296,
          316,
          326,
          343,
          366,
          373,
          367,
          290,
          243,
          214,
          174,
          140,
          101
         ]
        },
        {
         "mode": "lines",
         "name": "California",
         "type": "scatter",
         "x": [
          0,
          1,
          2,
          3,
          4,
          5,
          6,
          7,
          8,
          9,
          10,
          11,
          12,
          13,
          14,
          15,
          16,
          17,
          18,
          19,
          20,
          21,
          22,
          23
         ],
         "y": [
          446,
          316,
          270,
          302,
          534,
          1015,
          1490,
          1831,
          1862,
          1860,
          1919,
          2006,
          2083,
          2135,
          2234,
          2303,
          2308,
          2231,
          1949,
          1614,
          1368,
          1202,
          962,
          672
         ]
        },
        {
         "mode": "lines",
         "name": "Colorado",
         "type": "scatter",
         "x": [
          0,
          1,
          2,
          3,
          4,
          5,
          6,
          7,
          8,
          9,
          10,
          11,
          12,
          13,
          14,
          15,
          16,
          17,
          18,
          19,
          20,
          21,
          22,
          23
         ],
         "y": [
          96,
          66,
          55,
          59,
          108,
          288,
          544,
          685,
          680,
          677,
          708,
          743,
          768,
          779,
          816,
          874,
          901,
          860,
          692,
          510,
          404,
          324,
          234,
          153
         ]
        },
        {
         "mode": "lines",
         "name": "Connecticut",
         "type": "scatter",
         "x": [
          0,
          1,
          2,
          3,
          4,
          5,
          6,
          7,
          8,
          9,
          10,
          11,
          12,
          13,
          14,
          15,
          16,
          17,
          18,
          19,
          20,
          21,
          22,
          23
         ],
         "y": [
          243,
          160,
          127,
          127,
          193,
          438,
          883,
          1235,
          1310,
          1241,
          1271,
          1358,
          1428,
          1450,
          1548,
          1662,
          1686,
          1621,
          1345,
          1046,
          833,
          675,
          523,
          378
         ]
        },
        {
         "mode": "lines",
         "name": "Delaware",
         "type": "scatter",
         "x": [
          0,
          1,
          2,
          3,
          4,
          5,
          6,
          7,
          8,
          9,
          10,
          11,
          12,
          13,
          14,
          15,
          16,
          17,
          18,
          19,
          20,
          21,
          22,
          23
         ],
         "y": [
          49,
          33,
          27,
          29,
          50,
          111,
          217,
          305,
          309,
          311,
          334,
          361,
          376,
          378,
          394,
          424,
          441,
          414,
          332,
          262,
          213,
          167,
          118,
          79
         ]
        },
        {
         "mode": "lines",
         "name": "District of Columbia",
         "type": "scatter",
         "x": [
          0,
          1,
          2,
          3,
          4,
          5,
          6,
          7,
          8,
          9,
          10,
          11,
          12,
          13,
          14,
          15,
          16,
          17,
          18,
          19,
          20,
          21,
          22,
          23
         ],
         "y": [
          492,
          335,
          238,
          205,
          217,
          380,
          647,
          992,
          1109,
          1096,
          1082,
          1073,
          1091,
          1139,
          1240,
          1315,
          1371,
          1354,
          1297,
          1177,
          1041,
          868,
          755,
          657
         ]
        },
        {
         "mode": "lines",
         "name": "Florida",
         "type": "scatter",
         "x": [
          0,
          1,
          2,
          3,
          4,
          5,
          6,
          7,
          8,
          9,
          10,
          11,
          12,
          13,
          14,
          15,
          16,
          17,
          18,
          19,
          20,
          21,
          22,
          23
         ],
         "y": [
          91,
          60,
          47,
          46,
          67,
          139,
          302,
          442,
          454,
          441,
          461,
          485,
          503,
          506,
          524,
          556,
          580,
          580,
          480,
          369,
          293,
          240,
          189,
          137
         ]
        },
        {
         "mode": "lines",
         "name": "Georgia",
         "type": "scatter",
         "x": [
          0,
          1,
          2,
          3,
          4,
          5,
          6,
          7,
          8,
          9,
          10,
          11,
          12,
          13,
          14,
          15,
          16,
          17,
          18,
          19,
          20,
          21,
          22,
          23
         ],
         "y": [
          125,
          85,
          71,
          76,
          114,
          246,
          415,
          515,
          503,
          506,
          533,
          564,
          597,
          614,
          641,
          671,
          684,
          669,
          572,
          469,
          383,
          320,
          254,
          187
         ]
        },
        {
         "mode": "lines",
         "name": "Hawaii",
         "type": "scatter",
         "x": [
          0,
          1,
          2,
          3,
          4,
          5,
          6,
          7,
          8,
          9,
          10,
          11,
          12,
          13,
          14,
          15,
          16,
          17,
          18,
          19,
          20,
          21,
          22,
          23
         ],
         "y": [
          84,
          52,
          44,
          59,
          141,
          345,
          560,
          630,
          609,
          601,
          623,
          636,
          648,
          663,
          704,
          732,
          716,
          661,
          566,
          443,
          362,
          323,
          241,
          148
         ]
        },
        {
         "mode": "lines",
         "name": "Idaho",
         "type": "scatter",
         "x": [
          0,
          1,
          2,
          3,
          4,
          5,
          6,
          7,
          8,
          9,
          10,
          11,
          12,
          13,
          14,
          15,
          16,
          17,
          18,
          19,
          20,
          21,
          22,
          23
         ],
         "y": [
          38,
          25,
          20,
          21,
          36,
          86,
          168,
          249,
          249,
          248,
          267,
          293,
          312,
          316,
          327,
          351,
          368,
          365,
          283,
          204,
          165,
          133,
          92,
          61
         ]
        },
        {
         "mode": "lines",
         "name": "Illinois",
         "type": "scatter",
         "x": [
          0,
          1,
          2,
          3,
          4,
          5,
          6,
          7,
          8,
          9,
          10,
          11,
          12,
          13,
          14,
          15,
          16,
          17,
          18,
          19,
          20,
          21,
          22,
          23
         ],
         "y": [
          153,
          111,
          98,
          113,
          187,
          376,
          602,
          760,
          739,
          718,
          750,
          799,
          835,
          859,
          910,
          980,
          1017,
          946,
          752,
          592,
          485,
          404,
          318,
          227
         ]
        },
        {
         "mode": "lines",
         "name": "Indiana",
         "type": "scatter",
         "x": [
          0,
          1,
          2,
          3,
          4,
          5,
          6,
          7,
          8,
          9,
          10,
          11,
          12,
          13,
          14,
          15,
          16,
          17,
          18,
          19,
          20,
          21,
          22,
          23
         ],
         "y": [
          88,
          65,
          56,
          64,
          97,
          166,
          268,
          358,
          359,
          348,
          356,
          375,
          395,
          412,
          444,
          492,
          528,
          513,
          417,
          322,
          256,
          211,
          166,
          125
         ]
        },
        {
         "mode": "lines",
         "name": "Iowa",
         "type": "scatter",
         "x": [
          0,
          1,
          2,
          3,
          4,
          5,
          6,
          7,
          8,
          9,
          10,
          11,
          12,
          13,
          14,
          15,
          16,
          17,
          18,
          19,
          20,
          21,
          22,
          23
         ],
         "y": [
          37,
          26,
          23,
          24,
          36,
          77,
          160,
          245,
          224,
          225,
          242,
          259,
          270,
          273,
          290,
          323,
          348,
          325,
          236,
          176,
          143,
          115,
          84,
          57
         ]
        },
        {
         "mode": "lines",
         "name": "Kansas",
         "type": "scatter",
         "x": [
          0,
          1,
          2,
          3,
          4,
          5,
          6,
          7,
          8,
          9,
          10,
          11,
          12,
          13,
          14,
          15,
          16,
          17,
          18,
          19,
          20,
          21,
          22,
          23
         ],
         "y": [
          30,
          20,
          16,
          15,
          25,
          59,
          123,
          207,
          185,
          176,
          187,
          206,
          222,
          222,
          232,
          262,
          286,
          285,
          208,
          152,
          123,
          99,
          70,
          47
         ]
        },
        {
         "mode": "lines",
         "name": "Kentucky",
         "type": "scatter",
         "x": [
          0,
          1,
          2,
          3,
          4,
          5,
          6,
          7,
          8,
          9,
          10,
          11,
          12,
          13,
          14,
          15,
          16,
          17,
          18,
          19,
          20,
          21,
          22,
          23
         ],
         "y": [
          83,
          58,
          49,
          51,
          77,
          151,
          270,
          377,
          363,
          352,
          373,
          402,
          427,
          436,
          463,
          504,
          532,
          513,
          412,
          318,
          259,
          215,
          167,
          123
         ]
        },
        {
         "mode": "lines",
         "name": "Louisiana",
         "type": "scatter",
         "x": [
          0,
          1,
          2,
          3,
          4,
          5,
          6,
          7,
          8,
          9,
          10,
          11,
          12,
          13,
          14,
          15,
          16,
          17,
          18,
          19,
          20,
          21,
          22,
          23
         ],
         "y": [
          66,
          50,
          46,
          54,
          93,
          182,
          279,
          339,
          320,
          328,
          349,
          370,
          383,
          389,
          406,
          435,
          458,
          445,
          354,
          271,
          215,
          173,
          131,
          94
         ]
        },
        {
         "mode": "lines",
         "name": "Maine",
         "type": "scatter",
         "x": [
          0,
          1,
          2,
          3,
          4,
          5,
          6,
          7,
          8,
          9,
          10,
          11,
          12,
          13,
          14,
          15,
          16,
          17,
          18,
          19,
          20,
          21,
          22,
          23
         ],
         "y": [
          23,
          16,
          13,
          17,
          35,
          81,
          159,
          247,
          246,
          259,
          282,
          300,
          308,
          307,
          322,
          347,
          360,
          323,
          230,
          166,
          127,
          92,
          60,
          38
         ]
        },
        {
         "mode": "lines",
         "name": "Maryland",
         "type": "scatter",
         "x": [
          0,
          1,
          2,
          3,
          4,
          5,
          6,
          7,
          8,
          9,
          10,
          11,
          12,
          13,
          14,
          15,
          16,
          17,
          18,
          19,
          20,
          21,
          22,
          23
         ],
         "y": [
          323,
          212,
          173,
          189,
          347,
          826,
          1337,
          1673,
          1686,
          1601,
          1563,
          1616,
          1694,
          1737,
          1899,
          2011,
          2050,
          2010,
          1755,
          1401,
          1125,
          937,
          730,
          515
         ]
        },
        {
         "mode": "lines",
         "name": "Massachusetts",
         "type": "scatter",
         "x": [
          0,
          1,
          2,
          3,
          4,
          5,
          6,
          7,
          8,
          9,
          10,
          11,
          12,
          13,
          14,
          15,
          16,
          17,
          18,
          19,
          20,
          21,
          22,
          23
         ],
         "y": [
          232,
          156,
          124,
          131,
          231,
          575,
          1040,
          1362,
          1372,
          1296,
          1322,
          1391,
          1443,
          1468,
          1590,
          1695,
          1721,
          1671,
          1378,
          1057,
          828,
          667,
          516,
          369
         ]
        },
        {
         "mode": "lines",
         "name": "Michigan",
         "type": "scatter",
         "x": [
          0,
          1,
          2,
          3,
          4,
          5,
          6,
          7,
          8,
          9,
          10,
          11,
          12,
          13,
          14,
          15,
          16,
          17,
          18,
          19,
          20,
          21,
          22,
          23
         ],
         "y": [
          169,
          112,
          94,
          91,
          148,
          326,
          598,
          826,
          788,
          733,
          759,
          823,
          875,
          906,
          987,
          1092,
          1141,
          1120,
          889,
          678,
          556,
          464,
          366,
          264
         ]
        },
        {
         "mode": "lines",
         "name": "Minnesota",
         "type": "scatter",
         "x": [
          0,
          1,
          2,
          3,
          4,
          5,
          6,
          7,
          8,
          9,
          10,
          11,
          12,
          13,
          14,
          15,
          16,
          17,
          18,
          19,
          20,
          21,
          22,
          23
         ],
         "y": [
          97,
          63,
          51,
          51,
          95,
          261,
          498,
          634,
          604,
          594,
          612,
          662,
          694,
          705,
          760,
          826,
          857,
          808,
          654,
          493,
          408,
          345,
          253,
          162
         ]
        },
        {
         "mode": "lines",
         "name": "Mississippi",
         "type": "scatter",
         "x": [
          0,
          1,
          2,
          3,
          4,
          5,
          6,
          7,
          8,
          9,
          10,
          11,
          12,
          13,
          14,
          15,
          16,
          17,
          18,
          19,
          20,
          21,
          22,
          23
         ],
         "y": [
          61,
          44,
          37,
          39,
          56,
          102,
          196,
          282,
          260,
          264,
          287,
          309,
          327,
          334,
          349,
          375,
          391,
          380,
          290,
          226,
          182,
          151,
          119,
          88
         ]
        },
        {
         "mode": "lines",
         "name": "Missouri",
         "type": "scatter",
         "x": [
          0,
          1,
          2,
          3,
          4,
          5,
          6,
          7,
          8,
          9,
          10,
          11,
          12,
          13,
          14,
          15,
          16,
          17,
          18,
          19,
          20,
          21,
          22,
          23
         ],
         "y": [
          89,
          58,
          43,
          42,
          60,
          125,
          263,
          401,
          433,
          406,
          404,
          425,
          448,
          461,
          483,
          533,
          575,
          566,
          478,
          358,
          276,
          227,
          183,
          132
         ]
        },
        {
         "mode": "lines",
         "name": "Montana",
         "type": "scatter",
         "x": [
          0,
          1,
          2,
          3,
          4,
          5,
          6,
          7,
          8,
          9,
          10,
          11,
          12,
          13,
          14,
          15,
          16,
          17,
          18,
          19,
          20,
          21,
          22,
          23
         ],
         "y": [
          15,
          10,
          8,
          8,
          14,
          26,
          55,
          98,
          108,
          118,
          132,
          141,
          148,
          149,
          153,
          160,
          166,
          162,
          122,
          90,
          70,
          53,
          36,
          23
         ]
        },
        {
         "mode": "lines",
         "name": "Nebraska",
         "type": "scatter",
         "x": [
          0,
          1,
          2,
          3,
          4,
          5,
          6,
          7,
          8,
          9,
          10,
          11,
          12,
          13,
          14,
          15,
          16,
          17,
          18,
          19,
          20,
          21,
          22,
          23
         ],
         "y": [
          95,
          65,
          53,
          50,
          74,
          160,
          347,
          557,
          498,
          465,
          489,
          535,
          567,
          571,
          602,
          679,
          752,
          739,
          548,
          407,
          335,
          278,
          207,
          144
         ]
        },
        {
         "mode": "lines",
         "name": "Nevada",
         "type": "scatter",
         "x": [
          0,
          1,
          2,
          3,
          4,
          5,
          6,
          7,
          8,
          9,
          10,
          11,
          12,
          13,
          14,
          15,
          16,
          17,
          18,
          19,
          20,
          21,
          22,
          23
         ],
         "y": [
          77,
          54,
          44,
          48,
          75,
          145,
          255,
          355,
          350,
          355,
          372,
          400,
          418,
          426,
          450,
          473,
          484,
          463,
          357,
          271,
          223,
          188,
          148,
          109
         ]
        },
        {
         "mode": "lines",
         "name": "New Hampshire",
         "type": "scatter",
         "x": [
          0,
          1,
          2,
          3,
          4,
          5,
          6,
          7,
          8,
          9,
          10,
          11,
          12,
          13,
          14,
          15,
          16,
          17,
          18,
          19,
          20,
          21,
          22,
          23
         ],
         "y": [
          100,
          62,
          48,
          57,
          126,
          339,
          664,
          1003,
          964,
          896,
          964,
          1044,
          1078,
          1076,
          1162,
          1291,
          1364,
          1309,
          956,
          691,
          530,
          396,
          263,
          171
         ]
        },
        {
         "mode": "lines",
         "name": "New Jersey",
         "type": "scatter",
         "x": [
          0,
          1,
          2,
          3,
          4,
          5,
          6,
          7,
          8,
          9,
          10,
          11,
          12,
          13,
          14,
          15,
          16,
          17,
          18,
          19,
          20,
          21,
          22,
          23
         ],
         "y": [
          126,
          80,
          62,
          65,
          106,
          256,
          503,
          665,
          689,
          618,
          600,
          637,
          674,
          687,
          727,
          790,
          812,
          793,
          699,
          569,
          456,
          377,
          290,
          203
         ]
        },
        {
         "mode": "lines",
         "name": "New Mexico",
         "type": "scatter",
         "x": [
          0,
          1,
          2,
          3,
          4,
          5,
          6,
          7,
          8,
          9,
          10,
          11,
          12,
          13,
          14,
          15,
          16,
          17,
          18,
          19,
          20,
          21,
          22,
          23
         ],
         "y": [
          36,
          26,
          20,
          19,
          25,
          51,
          100,
          172,
          184,
          192,
          211,
          226,
          238,
          239,
          245,
          261,
          272,
          266,
          206,
          160,
          132,
          104,
          74,
          51
         ]
        },
        {
         "mode": "lines",
         "name": "New York",
         "type": "scatter",
         "x": [
          0,
          1,
          2,
          3,
          4,
          5,
          6,
          7,
          8,
          9,
          10,
          11,
          12,
          13,
          14,
          15,
          16,
          17,
          18,
          19,
          20,
          21,
          22,
          23
         ],
         "y": [
          99,
          71,
          58,
          60,
          84,
          157,
          282,
          377,
          377,
          361,
          371,
          396,
          417,
          424,
          449,
          487,
          508,
          491,
          410,
          333,
          279,
          236,
          190,
          145
         ]
        },
        {
         "mode": "lines",
         "name": "North Carolina",
         "type": "scatter",
         "x": [
          0,
          1,
          2,
          3,
          4,
          5,
          6,
          7,
          8,
          9,
          10,
          11,
          12,
          13,
          14,
          15,
          16,
          17,
          18,
          19,
          20,
          21,
          22,
          23
         ],
         "y": [
          101,
          67,
          55,
          52,
          76,
          167,
          378,
          606,
          602,
          571,
          590,
          631,
          670,
          681,
          711,
          764,
          806,
          812,
          644,
          479,
          374,
          303,
          226,
          159
         ]
        },
        {
         "mode": "lines",
         "name": "North Dakota",
         "type": "scatter",
         "x": [
          0,
          1,
          2,
          3,
          4,
          5,
          6,
          7,
          8,
          9,
          10,
          11,
          12,
          13,
          14,
          15,
          16,
          17,
          18,
          19,
          20,
          21,
          22,
          23
         ],
         "y": [
          23,
          16,
          12,
          11,
          17,
          39,
          85,
          152,
          143,
          133,
          144,
          162,
          174,
          173,
          178,
          194,
          214,
          215,
          164,
          123,
          96,
          75,
          53,
          35
         ]
        },
        {
         "mode": "lines",
         "name": "Ohio",
         "type": "scatter",
         "x": [
          0,
          1,
          2,
          3,
          4,
          5,
          6,
          7,
          8,
          9,
          10,
          11,
          12,
          13,
          14,
          15,
          16,
          17,
          18,
          19,
          20,
          21,
          22,
          23
         ],
         "y": [
          97,
          64,
          54,
          56,
          85,
          189,
          391,
          540,
          503,
          468,
          488,
          526,
          569,
          590,
          646,
          727,
          780,
          769,
          627,
          498,
          429,
          392,
          336,
          290
         ]
        },
        {
         "mode": "lines",
         "name": "Oklahoma",
         "type": "scatter",
         "x": [
          0,
          1,
          2,
          3,
          4,
          5,
          6,
          7,
          8,
          9,
          10,
          11,
          12,
          13,
          14,
          15,
          16,
          17,
          18,
          19,
          20,
          21,
          22,
          23
         ],
         "y": [
          79,
          56,
          47,
          46,
          74,
          153,
          308,
          428,
          400,
          377,
          392,
          423,
          449,
          457,
          485,
          534,
          562,
          541,
          430,
          327,
          267,
          224,
          169,
          118
         ]
        },
        {
         "mode": "lines",
         "name": "Oregon",
         "type": "scatter",
         "x": [
          0,
          1,
          2,
          3,
          4,
          5,
          6,
          7,
          8,
          9,
          10,
          11,
          12,
          13,
          14,
          15,
          16,
          17,
          18,
          19,
          20,
          21,
          22,
          23
         ],
         "y": [
          108,
          73,
          65,
          73,
          128,
          287,
          501,
          650,
          654,
          690,
          742,
          801,
          837,
          849,
          872,
          891,
          891,
          846,
          698,
          542,
          440,
          363,
          262,
          172
         ]
        },
        {
         "mode": "lines",
         "name": "Pennsylvania",
         "type": "scatter",
         "x": [
          0,
          1,
          2,
          3,
          4,
          5,
          6,
          7,
          8,
          9,
          10,
          11,
          12,
          13,
          14,
          15,
          16,
          17,
          18,
          19,
          20,
          21,
          22,
          23
         ],
         "y": [
          72,
          51,
          45,
          48,
          71,
          142,
          263,
          359,
          350,
          339,
          359,
          386,
          407,
          414,
          441,
          483,
          503,
          478,
          378,
          294,
          241,
          196,
          150,
          110
         ]
        },
        {
         "mode": "lines",
         "name": "Rhode Island",
         "type": "scatter",
         "x": [
          0,
          1,
          2,
          3,
          4,
          5,
          6,
          7,
          8,
          9,
          10,
          11,
          12,
          13,
          14,
          15,
          16,
          17,
          18,
          19,
          20,
          21,
          22,
          23
         ],
         "y": [
          286,
          183,
          134,
          125,
          205,
          481,
          1017,
          1439,
          1433,
          1278,
          1274,
          1356,
          1424,
          1439,
          1567,
          1708,
          1738,
          1689,
          1370,
          1049,
          864,
          743,
          600,
          442
         ]
        },
        {
         "mode": "lines",
         "name": "South Carolina",
         "type": "scatter",
         "x": [
          0,
          1,
          2,
          3,
          4,
          5,
          6,
          7,
          8,
          9,
          10,
          11,
          12,
          13,
          14,
          15,
          16,
          17,
          18,
          19,
          20,
          21,
          22,
          23
         ],
         "y": [
          360,
          252,
          214,
          216,
          304,
          588,
          1233,
          1932,
          1948,
          1883,
          2016,
          2167,
          2278,
          2330,
          2422,
          2550,
          2653,
          2644,
          2096,
          1578,
          1232,
          993,
          759,
          541
         ]
        },
        {
         "mode": "lines",
         "name": "South Dakota",
         "type": "scatter",
         "x": [
          0,
          1,
          2,
          3,
          4,
          5,
          6,
          7,
          8,
          9,
          10,
          11,
          12,
          13,
          14,
          15,
          16,
          17,
          18,
          19,
          20,
          21,
          22,
          23
         ],
         "y": [
          20,
          12,
          10,
          9,
          14,
          34,
          73,
          138,
          140,
          138,
          151,
          165,
          177,
          174,
          178,
          191,
          202,
          198,
          151,
          113,
          90,
          70,
          47,
          29
         ]
        },
        {
         "mode": "lines",
         "name": "Tennessee",
         "type": "scatter",
         "x": [
          0,
          1,
          2,
          3,
          4,
          5,
          6,
          7,
          8,
          9,
          10,
          11,
          12,
          13,
          14,
          15,
          16,
          17,
          18,
          19,
          20,
          21,
          22,
          23
         ],
         "y": [
          61,
          45,
          41,
          47,
          81,
          166,
          259,
          308,
          303,
          305,
          319,
          338,
          356,
          371,
          397,
          422,
          424,
          391,
          319,
          248,
          202,
          166,
          127,
          89
         ]
        },
        {
         "mode": "lines",
         "name": "Texas",
         "type": "scatter",
         "x": [
          0,
          1,
          2,
          3,
          4,
          5,
          6,
          7,
          8,
          9,
          10,
          11,
          12,
          13,
          14,
          15,
          16,
          17,
          18,
          19,
          20,
          21,
          22,
          23
         ],
         "y": [
          213,
          148,
          131,
          124,
          185,
          425,
          759,
          951,
          905,
          871,
          906,
          970,
          1029,
          1056,
          1096,
          1172,
          1237,
          1262,
          1077,
          850,
          678,
          568,
          443,
          312
         ]
        },
        {
         "mode": "lines",
         "name": "Utah",
         "type": "scatter",
         "x": [
          0,
          1,
          2,
          3,
          4,
          5,
          6,
          7,
          8,
          9,
          10,
          11,
          12,
          13,
          14,
          15,
          16,
          17,
          18,
          19,
          20,
          21,
          22,
          23
         ],
         "y": [
          67,
          42,
          31,
          31,
          56,
          139,
          273,
          392,
          405,
          362,
          365,
          394,
          421,
          432,
          461,
          515,
          556,
          556,
          447,
          333,
          278,
          237,
          173,
          109
         ]
        },
        {
         "mode": "lines",
         "name": "Vermont",
         "type": "scatter",
         "x": [
          0,
          1,
          2,
          3,
          4,
          5,
          6,
          7,
          8,
          9,
          10,
          11,
          12,
          13,
          14,
          15,
          16,
          17,
          18,
          19,
          20,
          21,
          22,
          23
         ],
         "y": [
          33,
          21,
          19,
          23,
          44,
          113,
          262,
          425,
          412,
          403,
          436,
          473,
          492,
          489,
          521,
          574,
          604,
          534,
          372,
          267,
          204,
          150,
          100,
          62
         ]
        },
        {
         "mode": "lines",
         "name": "Virginia",
         "type": "scatter",
         "x": [
          0,
          1,
          2,
          3,
          4,
          5,
          6,
          7,
          8,
          9,
          10,
          11,
          12,
          13,
          14,
          15,
          16,
          17,
          18,
          19,
          20,
          21,
          22,
          23
         ],
         "y": [
          213,
          149,
          128,
          133,
          207,
          417,
          743,
          1055,
          1085,
          1030,
          1059,
          1116,
          1176,
          1195,
          1258,
          1350,
          1415,
          1406,
          1129,
          872,
          707,
          583,
          445,
          316
         ]
        },
        {
         "mode": "lines",
         "name": "Washington",
         "type": "scatter",
         "x": [
          0,
          1,
          2,
          3,
          4,
          5,
          6,
          7,
          8,
          9,
          10,
          11,
          12,
          13,
          14,
          15,
          16,
          17,
          18,
          19,
          20,
          21,
          22,
          23
         ],
         "y": [
          97,
          67,
          60,
          71,
          141,
          283,
          415,
          522,
          523,
          546,
          588,
          631,
          661,
          676,
          704,
          734,
          746,
          710,
          578,
          454,
          373,
          309,
          227,
          154
         ]
        },
        {
         "mode": "lines",
         "name": "West Virginia",
         "type": "scatter",
         "x": [
          0,
          1,
          2,
          3,
          4,
          5,
          6,
          7,
          8,
          9,
          10,
          11,
          12,
          13,
          14,
          15,
          16,
          17,
          18,
          19,
          20,
          21,
          22,
          23
         ],
         "y": [
          45,
          33,
          27,
          28,
          42,
          82,
          154,
          218,
          222,
          221,
          237,
          256,
          273,
          282,
          305,
          332,
          351,
          337,
          274,
          212,
          169,
          136,
          104,
          77
         ]
        },
        {
         "mode": "lines",
         "name": "Wisconsin",
         "type": "scatter",
         "x": [
          0,
          1,
          2,
          3,
          4,
          5,
          6,
          7,
          8,
          9,
          10,
          11,
          12,
          13,
          14,
          15,
          16,
          17,
          18,
          19,
          20,
          21,
          22,
          23
         ],
         "y": [
          53,
          36,
          31,
          35,
          63,
          143,
          272,
          385,
          346,
          340,
          368,
          397,
          414,
          420,
          447,
          492,
          528,
          486,
          358,
          266,
          210,
          169,
          125,
          84
         ]
        },
        {
         "mode": "lines",
         "name": "Wyoming",
         "type": "scatter",
         "x": [
          0,
          1,
          2,
          3,
          4,
          5,
          6,
          7,
          8,
          9,
          10,
          11,
          12,
          13,
          14,
          15,
          16,
          17,
          18,
          19,
          20,
          21,
          22,
          23
         ],
         "y": [
          14,
          10,
          9,
          9,
          15,
          33,
          61,
          94,
          98,
          107,
          119,
          131,
          138,
          135,
          135,
          144,
          148,
          139,
          106,
          80,
          62,
          46,
          31,
          21
         ]
        }
       ],
       "layout": {
        "legend": {
         "title": {
          "text": "States"
         }
        },
        "template": {
         "data": {
          "bar": [
           {
            "error_x": {
             "color": "#2a3f5f"
            },
            "error_y": {
             "color": "#2a3f5f"
            },
            "marker": {
             "line": {
              "color": "#E5ECF6",
              "width": 0.5
             },
             "pattern": {
              "fillmode": "overlay",
              "size": 10,
              "solidity": 0.2
             }
            },
            "type": "bar"
           }
          ],
          "barpolar": [
           {
            "marker": {
             "line": {
              "color": "#E5ECF6",
              "width": 0.5
             },
             "pattern": {
              "fillmode": "overlay",
              "size": 10,
              "solidity": 0.2
             }
            },
            "type": "barpolar"
           }
          ],
          "carpet": [
           {
            "aaxis": {
             "endlinecolor": "#2a3f5f",
             "gridcolor": "white",
             "linecolor": "white",
             "minorgridcolor": "white",
             "startlinecolor": "#2a3f5f"
            },
            "baxis": {
             "endlinecolor": "#2a3f5f",
             "gridcolor": "white",
             "linecolor": "white",
             "minorgridcolor": "white",
             "startlinecolor": "#2a3f5f"
            },
            "type": "carpet"
           }
          ],
          "choropleth": [
           {
            "colorbar": {
             "outlinewidth": 0,
             "ticks": ""
            },
            "type": "choropleth"
           }
          ],
          "contour": [
           {
            "colorbar": {
             "outlinewidth": 0,
             "ticks": ""
            },
            "colorscale": [
             [
              0,
              "#0d0887"
             ],
             [
              0.1111111111111111,
              "#46039f"
             ],
             [
              0.2222222222222222,
              "#7201a8"
             ],
             [
              0.3333333333333333,
              "#9c179e"
             ],
             [
              0.4444444444444444,
              "#bd3786"
             ],
             [
              0.5555555555555556,
              "#d8576b"
             ],
             [
              0.6666666666666666,
              "#ed7953"
             ],
             [
              0.7777777777777778,
              "#fb9f3a"
             ],
             [
              0.8888888888888888,
              "#fdca26"
             ],
             [
              1,
              "#f0f921"
             ]
            ],
            "type": "contour"
           }
          ],
          "contourcarpet": [
           {
            "colorbar": {
             "outlinewidth": 0,
             "ticks": ""
            },
            "type": "contourcarpet"
           }
          ],
          "heatmap": [
           {
            "colorbar": {
             "outlinewidth": 0,
             "ticks": ""
            },
            "colorscale": [
             [
              0,
              "#0d0887"
             ],
             [
              0.1111111111111111,
              "#46039f"
             ],
             [
              0.2222222222222222,
              "#7201a8"
             ],
             [
              0.3333333333333333,
              "#9c179e"
             ],
             [
              0.4444444444444444,
              "#bd3786"
             ],
             [
              0.5555555555555556,
              "#d8576b"
             ],
             [
              0.6666666666666666,
              "#ed7953"
             ],
             [
              0.7777777777777778,
              "#fb9f3a"
             ],
             [
              0.8888888888888888,
              "#fdca26"
             ],
             [
              1,
              "#f0f921"
             ]
            ],
            "type": "heatmap"
           }
          ],
          "heatmapgl": [
           {
            "colorbar": {
             "outlinewidth": 0,
             "ticks": ""
            },
            "colorscale": [
             [
              0,
              "#0d0887"
             ],
             [
              0.1111111111111111,
              "#46039f"
             ],
             [
              0.2222222222222222,
              "#7201a8"
             ],
             [
              0.3333333333333333,
              "#9c179e"
             ],
             [
              0.4444444444444444,
              "#bd3786"
             ],
             [
              0.5555555555555556,
              "#d8576b"
             ],
             [
              0.6666666666666666,
              "#ed7953"
             ],
             [
              0.7777777777777778,
              "#fb9f3a"
             ],
             [
              0.8888888888888888,
              "#fdca26"
             ],
             [
              1,
              "#f0f921"
             ]
            ],
            "type": "heatmapgl"
           }
          ],
          "histogram": [
           {
            "marker": {
             "pattern": {
              "fillmode": "overlay",
              "size": 10,
              "solidity": 0.2
             }
            },
            "type": "histogram"
           }
          ],
          "histogram2d": [
           {
            "colorbar": {
             "outlinewidth": 0,
             "ticks": ""
            },
            "colorscale": [
             [
              0,
              "#0d0887"
             ],
             [
              0.1111111111111111,
              "#46039f"
             ],
             [
              0.2222222222222222,
              "#7201a8"
             ],
             [
              0.3333333333333333,
              "#9c179e"
             ],
             [
              0.4444444444444444,
              "#bd3786"
             ],
             [
              0.5555555555555556,
              "#d8576b"
             ],
             [
              0.6666666666666666,
              "#ed7953"
             ],
             [
              0.7777777777777778,
              "#fb9f3a"
             ],
             [
              0.8888888888888888,
              "#fdca26"
             ],
             [
              1,
              "#f0f921"
             ]
            ],
            "type": "histogram2d"
           }
          ],
          "histogram2dcontour": [
           {
            "colorbar": {
             "outlinewidth": 0,
             "ticks": ""
            },
            "colorscale": [
             [
              0,
              "#0d0887"
             ],
             [
              0.1111111111111111,
              "#46039f"
             ],
             [
              0.2222222222222222,
              "#7201a8"
             ],
             [
              0.3333333333333333,
              "#9c179e"
             ],
             [
              0.4444444444444444,
              "#bd3786"
             ],
             [
              0.5555555555555556,
              "#d8576b"
             ],
             [
              0.6666666666666666,
              "#ed7953"
             ],
             [
              0.7777777777777778,
              "#fb9f3a"
             ],
             [
              0.8888888888888888,
              "#fdca26"
             ],
             [
              1,
              "#f0f921"
             ]
            ],
            "type": "histogram2dcontour"
           }
          ],
          "mesh3d": [
           {
            "colorbar": {
             "outlinewidth": 0,
             "ticks": ""
            },
            "type": "mesh3d"
           }
          ],
          "parcoords": [
           {
            "line": {
             "colorbar": {
              "outlinewidth": 0,
              "ticks": ""
             }
            },
            "type": "parcoords"
           }
          ],
          "pie": [
           {
            "automargin": true,
            "type": "pie"
           }
          ],
          "scatter": [
           {
            "marker": {
             "colorbar": {
              "outlinewidth": 0,
              "ticks": ""
             }
            },
            "type": "scatter"
           }
          ],
          "scatter3d": [
           {
            "line": {
             "colorbar": {
              "outlinewidth": 0,
              "ticks": ""
             }
            },
            "marker": {
             "colorbar": {
              "outlinewidth": 0,
              "ticks": ""
             }
            },
            "type": "scatter3d"
           }
          ],
          "scattercarpet": [
           {
            "marker": {
             "colorbar": {
              "outlinewidth": 0,
              "ticks": ""
             }
            },
            "type": "scattercarpet"
           }
          ],
          "scattergeo": [
           {
            "marker": {
             "colorbar": {
              "outlinewidth": 0,
              "ticks": ""
             }
            },
            "type": "scattergeo"
           }
          ],
          "scattergl": [
           {
            "marker": {
             "colorbar": {
              "outlinewidth": 0,
              "ticks": ""
             }
            },
            "type": "scattergl"
           }
          ],
          "scattermapbox": [
           {
            "marker": {
             "colorbar": {
              "outlinewidth": 0,
              "ticks": ""
             }
            },
            "type": "scattermapbox"
           }
          ],
          "scatterpolar": [
           {
            "marker": {
             "colorbar": {
              "outlinewidth": 0,
              "ticks": ""
             }
            },
            "type": "scatterpolar"
           }
          ],
          "scatterpolargl": [
           {
            "marker": {
             "colorbar": {
              "outlinewidth": 0,
              "ticks": ""
             }
            },
            "type": "scatterpolargl"
           }
          ],
          "scatterternary": [
           {
            "marker": {
             "colorbar": {
              "outlinewidth": 0,
              "ticks": ""
             }
            },
            "type": "scatterternary"
           }
          ],
          "surface": [
           {
            "colorbar": {
             "outlinewidth": 0,
             "ticks": ""
            },
            "colorscale": [
             [
              0,
              "#0d0887"
             ],
             [
              0.1111111111111111,
              "#46039f"
             ],
             [
              0.2222222222222222,
              "#7201a8"
             ],
             [
              0.3333333333333333,
              "#9c179e"
             ],
             [
              0.4444444444444444,
              "#bd3786"
             ],
             [
              0.5555555555555556,
              "#d8576b"
             ],
             [
              0.6666666666666666,
              "#ed7953"
             ],
             [
              0.7777777777777778,
              "#fb9f3a"
             ],
             [
              0.8888888888888888,
              "#fdca26"
             ],
             [
              1,
              "#f0f921"
             ]
            ],
            "type": "surface"
           }
          ],
          "table": [
           {
            "cells": {
             "fill": {
              "color": "#EBF0F8"
             },
             "line": {
              "color": "white"
             }
            },
            "header": {
             "fill": {
              "color": "#C8D4E3"
             },
             "line": {
              "color": "white"
             }
            },
            "type": "table"
           }
          ]
         },
         "layout": {
          "annotationdefaults": {
           "arrowcolor": "#2a3f5f",
           "arrowhead": 0,
           "arrowwidth": 1
          },
          "autotypenumbers": "strict",
          "coloraxis": {
           "colorbar": {
            "outlinewidth": 0,
            "ticks": ""
           }
          },
          "colorscale": {
           "diverging": [
            [
             0,
             "#8e0152"
            ],
            [
             0.1,
             "#c51b7d"
            ],
            [
             0.2,
             "#de77ae"
            ],
            [
             0.3,
             "#f1b6da"
            ],
            [
             0.4,
             "#fde0ef"
            ],
            [
             0.5,
             "#f7f7f7"
            ],
            [
             0.6,
             "#e6f5d0"
            ],
            [
             0.7,
             "#b8e186"
            ],
            [
             0.8,
             "#7fbc41"
            ],
            [
             0.9,
             "#4d9221"
            ],
            [
             1,
             "#276419"
            ]
           ],
           "sequential": [
            [
             0,
             "#0d0887"
            ],
            [
             0.1111111111111111,
             "#46039f"
            ],
            [
             0.2222222222222222,
             "#7201a8"
            ],
            [
             0.3333333333333333,
             "#9c179e"
            ],
            [
             0.4444444444444444,
             "#bd3786"
            ],
            [
             0.5555555555555556,
             "#d8576b"
            ],
            [
             0.6666666666666666,
             "#ed7953"
            ],
            [
             0.7777777777777778,
             "#fb9f3a"
            ],
            [
             0.8888888888888888,
             "#fdca26"
            ],
            [
             1,
             "#f0f921"
            ]
           ],
           "sequentialminus": [
            [
             0,
             "#0d0887"
            ],
            [
             0.1111111111111111,
             "#46039f"
            ],
            [
             0.2222222222222222,
             "#7201a8"
            ],
            [
             0.3333333333333333,
             "#9c179e"
            ],
            [
             0.4444444444444444,
             "#bd3786"
            ],
            [
             0.5555555555555556,
             "#d8576b"
            ],
            [
             0.6666666666666666,
             "#ed7953"
            ],
            [
             0.7777777777777778,
             "#fb9f3a"
            ],
            [
             0.8888888888888888,
             "#fdca26"
            ],
            [
             1,
             "#f0f921"
            ]
           ]
          },
          "colorway": [
           "#636efa",
           "#EF553B",
           "#00cc96",
           "#ab63fa",
           "#FFA15A",
           "#19d3f3",
           "#FF6692",
           "#B6E880",
           "#FF97FF",
           "#FECB52"
          ],
          "font": {
           "color": "#2a3f5f"
          },
          "geo": {
           "bgcolor": "white",
           "lakecolor": "white",
           "landcolor": "#E5ECF6",
           "showlakes": true,
           "showland": true,
           "subunitcolor": "white"
          },
          "hoverlabel": {
           "align": "left"
          },
          "hovermode": "closest",
          "mapbox": {
           "style": "light"
          },
          "paper_bgcolor": "white",
          "plot_bgcolor": "#E5ECF6",
          "polar": {
           "angularaxis": {
            "gridcolor": "white",
            "linecolor": "white",
            "ticks": ""
           },
           "bgcolor": "#E5ECF6",
           "radialaxis": {
            "gridcolor": "white",
            "linecolor": "white",
            "ticks": ""
           }
          },
          "scene": {
           "xaxis": {
            "backgroundcolor": "#E5ECF6",
            "gridcolor": "white",
            "gridwidth": 2,
            "linecolor": "white",
            "showbackground": true,
            "ticks": "",
            "zerolinecolor": "white"
           },
           "yaxis": {
            "backgroundcolor": "#E5ECF6",
            "gridcolor": "white",
            "gridwidth": 2,
            "linecolor": "white",
            "showbackground": true,
            "ticks": "",
            "zerolinecolor": "white"
           },
           "zaxis": {
            "backgroundcolor": "#E5ECF6",
            "gridcolor": "white",
            "gridwidth": 2,
            "linecolor": "white",
            "showbackground": true,
            "ticks": "",
            "zerolinecolor": "white"
           }
          },
          "shapedefaults": {
           "line": {
            "color": "#2a3f5f"
           }
          },
          "ternary": {
           "aaxis": {
            "gridcolor": "white",
            "linecolor": "white",
            "ticks": ""
           },
           "baxis": {
            "gridcolor": "white",
            "linecolor": "white",
            "ticks": ""
           },
           "bgcolor": "#E5ECF6",
           "caxis": {
            "gridcolor": "white",
            "linecolor": "white",
            "ticks": ""
           }
          },
          "title": {
           "x": 0.05
          },
          "xaxis": {
           "automargin": true,
           "gridcolor": "white",
           "linecolor": "white",
           "ticks": "",
           "title": {
            "standoff": 15
           },
           "zerolinecolor": "white",
           "zerolinewidth": 2
          },
          "yaxis": {
           "automargin": true,
           "gridcolor": "white",
           "linecolor": "white",
           "ticks": "",
           "title": {
            "standoff": 15
           },
           "zerolinecolor": "white",
           "zerolinewidth": 2
          }
         }
        },
        "title": {
         "text": "2015 US Average Daily Traffic Volume by State and Time of the day"
        },
        "xaxis": {
         "nticks": 24,
         "title": {
          "text": "Time of the day"
         }
        },
        "yaxis": {
         "title": {
          "text": "Average Daily Traffic Volume"
         }
        }
       }
      },
      "text/html": [
       "<div>                            <div id=\"1a4e6d80-a4e6-4741-ba10-622e79c52773\" class=\"plotly-graph-div\" style=\"height:525px; width:100%;\"></div>            <script type=\"text/javascript\">                require([\"plotly\"], function(Plotly) {                    window.PLOTLYENV=window.PLOTLYENV || {};                                    if (document.getElementById(\"1a4e6d80-a4e6-4741-ba10-622e79c52773\")) {                    Plotly.newPlot(                        \"1a4e6d80-a4e6-4741-ba10-622e79c52773\",                        [{\"mode\":\"lines\",\"name\":\"Alabama\",\"type\":\"scatter\",\"x\":[0,1,2,3,4,5,6,7,8,9,10,11,12,13,14,15,16,17,18,19,20,21,22,23],\"y\":[90,66,57,60,90,183,338,471,426,408,428,458,489,503,528,573,602,574,443,343,278,235,183,133]},{\"mode\":\"lines\",\"name\":\"Alaska\",\"type\":\"scatter\",\"x\":[0,1,2,3,4,5,6,7,8,9,10,11,12,13,14,15,16,17,18,19,20,21,22,23],\"y\":[37,24,17,15,22,52,110,192,182,172,185,217,245,247,253,274,303,302,235,176,142,116,83,55]},{\"mode\":\"lines\",\"name\":\"Arizona\",\"type\":\"scatter\",\"x\":[0,1,2,3,4,5,6,7,8,9,10,11,12,13,14,15,16,17,18,19,20,21,22,23],\"y\":[463,324,297,343,721,1377,1972,2294,2287,2260,2232,2374,2496,2584,2762,2815,2804,2721,2374,1844,1527,1335,1050,707]},{\"mode\":\"lines\",\"name\":\"Arkansas\",\"type\":\"scatter\",\"x\":[0,1,2,3,4,5,6,7,8,9,10,11,12,13,14,15,16,17,18,19,20,21,22,23],\"y\":[51,38,34,37,51,96,179,252,242,254,278,296,316,326,343,366,373,367,290,243,214,174,140,101]},{\"mode\":\"lines\",\"name\":\"California\",\"type\":\"scatter\",\"x\":[0,1,2,3,4,5,6,7,8,9,10,11,12,13,14,15,16,17,18,19,20,21,22,23],\"y\":[446,316,270,302,534,1015,1490,1831,1862,1860,1919,2006,2083,2135,2234,2303,2308,2231,1949,1614,1368,1202,962,672]},{\"mode\":\"lines\",\"name\":\"Colorado\",\"type\":\"scatter\",\"x\":[0,1,2,3,4,5,6,7,8,9,10,11,12,13,14,15,16,17,18,19,20,21,22,23],\"y\":[96,66,55,59,108,288,544,685,680,677,708,743,768,779,816,874,901,860,692,510,404,324,234,153]},{\"mode\":\"lines\",\"name\":\"Connecticut\",\"type\":\"scatter\",\"x\":[0,1,2,3,4,5,6,7,8,9,10,11,12,13,14,15,16,17,18,19,20,21,22,23],\"y\":[243,160,127,127,193,438,883,1235,1310,1241,1271,1358,1428,1450,1548,1662,1686,1621,1345,1046,833,675,523,378]},{\"mode\":\"lines\",\"name\":\"Delaware\",\"type\":\"scatter\",\"x\":[0,1,2,3,4,5,6,7,8,9,10,11,12,13,14,15,16,17,18,19,20,21,22,23],\"y\":[49,33,27,29,50,111,217,305,309,311,334,361,376,378,394,424,441,414,332,262,213,167,118,79]},{\"mode\":\"lines\",\"name\":\"District of Columbia\",\"type\":\"scatter\",\"x\":[0,1,2,3,4,5,6,7,8,9,10,11,12,13,14,15,16,17,18,19,20,21,22,23],\"y\":[492,335,238,205,217,380,647,992,1109,1096,1082,1073,1091,1139,1240,1315,1371,1354,1297,1177,1041,868,755,657]},{\"mode\":\"lines\",\"name\":\"Florida\",\"type\":\"scatter\",\"x\":[0,1,2,3,4,5,6,7,8,9,10,11,12,13,14,15,16,17,18,19,20,21,22,23],\"y\":[91,60,47,46,67,139,302,442,454,441,461,485,503,506,524,556,580,580,480,369,293,240,189,137]},{\"mode\":\"lines\",\"name\":\"Georgia\",\"type\":\"scatter\",\"x\":[0,1,2,3,4,5,6,7,8,9,10,11,12,13,14,15,16,17,18,19,20,21,22,23],\"y\":[125,85,71,76,114,246,415,515,503,506,533,564,597,614,641,671,684,669,572,469,383,320,254,187]},{\"mode\":\"lines\",\"name\":\"Hawaii\",\"type\":\"scatter\",\"x\":[0,1,2,3,4,5,6,7,8,9,10,11,12,13,14,15,16,17,18,19,20,21,22,23],\"y\":[84,52,44,59,141,345,560,630,609,601,623,636,648,663,704,732,716,661,566,443,362,323,241,148]},{\"mode\":\"lines\",\"name\":\"Idaho\",\"type\":\"scatter\",\"x\":[0,1,2,3,4,5,6,7,8,9,10,11,12,13,14,15,16,17,18,19,20,21,22,23],\"y\":[38,25,20,21,36,86,168,249,249,248,267,293,312,316,327,351,368,365,283,204,165,133,92,61]},{\"mode\":\"lines\",\"name\":\"Illinois\",\"type\":\"scatter\",\"x\":[0,1,2,3,4,5,6,7,8,9,10,11,12,13,14,15,16,17,18,19,20,21,22,23],\"y\":[153,111,98,113,187,376,602,760,739,718,750,799,835,859,910,980,1017,946,752,592,485,404,318,227]},{\"mode\":\"lines\",\"name\":\"Indiana\",\"type\":\"scatter\",\"x\":[0,1,2,3,4,5,6,7,8,9,10,11,12,13,14,15,16,17,18,19,20,21,22,23],\"y\":[88,65,56,64,97,166,268,358,359,348,356,375,395,412,444,492,528,513,417,322,256,211,166,125]},{\"mode\":\"lines\",\"name\":\"Iowa\",\"type\":\"scatter\",\"x\":[0,1,2,3,4,5,6,7,8,9,10,11,12,13,14,15,16,17,18,19,20,21,22,23],\"y\":[37,26,23,24,36,77,160,245,224,225,242,259,270,273,290,323,348,325,236,176,143,115,84,57]},{\"mode\":\"lines\",\"name\":\"Kansas\",\"type\":\"scatter\",\"x\":[0,1,2,3,4,5,6,7,8,9,10,11,12,13,14,15,16,17,18,19,20,21,22,23],\"y\":[30,20,16,15,25,59,123,207,185,176,187,206,222,222,232,262,286,285,208,152,123,99,70,47]},{\"mode\":\"lines\",\"name\":\"Kentucky\",\"type\":\"scatter\",\"x\":[0,1,2,3,4,5,6,7,8,9,10,11,12,13,14,15,16,17,18,19,20,21,22,23],\"y\":[83,58,49,51,77,151,270,377,363,352,373,402,427,436,463,504,532,513,412,318,259,215,167,123]},{\"mode\":\"lines\",\"name\":\"Louisiana\",\"type\":\"scatter\",\"x\":[0,1,2,3,4,5,6,7,8,9,10,11,12,13,14,15,16,17,18,19,20,21,22,23],\"y\":[66,50,46,54,93,182,279,339,320,328,349,370,383,389,406,435,458,445,354,271,215,173,131,94]},{\"mode\":\"lines\",\"name\":\"Maine\",\"type\":\"scatter\",\"x\":[0,1,2,3,4,5,6,7,8,9,10,11,12,13,14,15,16,17,18,19,20,21,22,23],\"y\":[23,16,13,17,35,81,159,247,246,259,282,300,308,307,322,347,360,323,230,166,127,92,60,38]},{\"mode\":\"lines\",\"name\":\"Maryland\",\"type\":\"scatter\",\"x\":[0,1,2,3,4,5,6,7,8,9,10,11,12,13,14,15,16,17,18,19,20,21,22,23],\"y\":[323,212,173,189,347,826,1337,1673,1686,1601,1563,1616,1694,1737,1899,2011,2050,2010,1755,1401,1125,937,730,515]},{\"mode\":\"lines\",\"name\":\"Massachusetts\",\"type\":\"scatter\",\"x\":[0,1,2,3,4,5,6,7,8,9,10,11,12,13,14,15,16,17,18,19,20,21,22,23],\"y\":[232,156,124,131,231,575,1040,1362,1372,1296,1322,1391,1443,1468,1590,1695,1721,1671,1378,1057,828,667,516,369]},{\"mode\":\"lines\",\"name\":\"Michigan\",\"type\":\"scatter\",\"x\":[0,1,2,3,4,5,6,7,8,9,10,11,12,13,14,15,16,17,18,19,20,21,22,23],\"y\":[169,112,94,91,148,326,598,826,788,733,759,823,875,906,987,1092,1141,1120,889,678,556,464,366,264]},{\"mode\":\"lines\",\"name\":\"Minnesota\",\"type\":\"scatter\",\"x\":[0,1,2,3,4,5,6,7,8,9,10,11,12,13,14,15,16,17,18,19,20,21,22,23],\"y\":[97,63,51,51,95,261,498,634,604,594,612,662,694,705,760,826,857,808,654,493,408,345,253,162]},{\"mode\":\"lines\",\"name\":\"Mississippi\",\"type\":\"scatter\",\"x\":[0,1,2,3,4,5,6,7,8,9,10,11,12,13,14,15,16,17,18,19,20,21,22,23],\"y\":[61,44,37,39,56,102,196,282,260,264,287,309,327,334,349,375,391,380,290,226,182,151,119,88]},{\"mode\":\"lines\",\"name\":\"Missouri\",\"type\":\"scatter\",\"x\":[0,1,2,3,4,5,6,7,8,9,10,11,12,13,14,15,16,17,18,19,20,21,22,23],\"y\":[89,58,43,42,60,125,263,401,433,406,404,425,448,461,483,533,575,566,478,358,276,227,183,132]},{\"mode\":\"lines\",\"name\":\"Montana\",\"type\":\"scatter\",\"x\":[0,1,2,3,4,5,6,7,8,9,10,11,12,13,14,15,16,17,18,19,20,21,22,23],\"y\":[15,10,8,8,14,26,55,98,108,118,132,141,148,149,153,160,166,162,122,90,70,53,36,23]},{\"mode\":\"lines\",\"name\":\"Nebraska\",\"type\":\"scatter\",\"x\":[0,1,2,3,4,5,6,7,8,9,10,11,12,13,14,15,16,17,18,19,20,21,22,23],\"y\":[95,65,53,50,74,160,347,557,498,465,489,535,567,571,602,679,752,739,548,407,335,278,207,144]},{\"mode\":\"lines\",\"name\":\"Nevada\",\"type\":\"scatter\",\"x\":[0,1,2,3,4,5,6,7,8,9,10,11,12,13,14,15,16,17,18,19,20,21,22,23],\"y\":[77,54,44,48,75,145,255,355,350,355,372,400,418,426,450,473,484,463,357,271,223,188,148,109]},{\"mode\":\"lines\",\"name\":\"New Hampshire\",\"type\":\"scatter\",\"x\":[0,1,2,3,4,5,6,7,8,9,10,11,12,13,14,15,16,17,18,19,20,21,22,23],\"y\":[100,62,48,57,126,339,664,1003,964,896,964,1044,1078,1076,1162,1291,1364,1309,956,691,530,396,263,171]},{\"mode\":\"lines\",\"name\":\"New Jersey\",\"type\":\"scatter\",\"x\":[0,1,2,3,4,5,6,7,8,9,10,11,12,13,14,15,16,17,18,19,20,21,22,23],\"y\":[126,80,62,65,106,256,503,665,689,618,600,637,674,687,727,790,812,793,699,569,456,377,290,203]},{\"mode\":\"lines\",\"name\":\"New Mexico\",\"type\":\"scatter\",\"x\":[0,1,2,3,4,5,6,7,8,9,10,11,12,13,14,15,16,17,18,19,20,21,22,23],\"y\":[36,26,20,19,25,51,100,172,184,192,211,226,238,239,245,261,272,266,206,160,132,104,74,51]},{\"mode\":\"lines\",\"name\":\"New York\",\"type\":\"scatter\",\"x\":[0,1,2,3,4,5,6,7,8,9,10,11,12,13,14,15,16,17,18,19,20,21,22,23],\"y\":[99,71,58,60,84,157,282,377,377,361,371,396,417,424,449,487,508,491,410,333,279,236,190,145]},{\"mode\":\"lines\",\"name\":\"North Carolina\",\"type\":\"scatter\",\"x\":[0,1,2,3,4,5,6,7,8,9,10,11,12,13,14,15,16,17,18,19,20,21,22,23],\"y\":[101,67,55,52,76,167,378,606,602,571,590,631,670,681,711,764,806,812,644,479,374,303,226,159]},{\"mode\":\"lines\",\"name\":\"North Dakota\",\"type\":\"scatter\",\"x\":[0,1,2,3,4,5,6,7,8,9,10,11,12,13,14,15,16,17,18,19,20,21,22,23],\"y\":[23,16,12,11,17,39,85,152,143,133,144,162,174,173,178,194,214,215,164,123,96,75,53,35]},{\"mode\":\"lines\",\"name\":\"Ohio\",\"type\":\"scatter\",\"x\":[0,1,2,3,4,5,6,7,8,9,10,11,12,13,14,15,16,17,18,19,20,21,22,23],\"y\":[97,64,54,56,85,189,391,540,503,468,488,526,569,590,646,727,780,769,627,498,429,392,336,290]},{\"mode\":\"lines\",\"name\":\"Oklahoma\",\"type\":\"scatter\",\"x\":[0,1,2,3,4,5,6,7,8,9,10,11,12,13,14,15,16,17,18,19,20,21,22,23],\"y\":[79,56,47,46,74,153,308,428,400,377,392,423,449,457,485,534,562,541,430,327,267,224,169,118]},{\"mode\":\"lines\",\"name\":\"Oregon\",\"type\":\"scatter\",\"x\":[0,1,2,3,4,5,6,7,8,9,10,11,12,13,14,15,16,17,18,19,20,21,22,23],\"y\":[108,73,65,73,128,287,501,650,654,690,742,801,837,849,872,891,891,846,698,542,440,363,262,172]},{\"mode\":\"lines\",\"name\":\"Pennsylvania\",\"type\":\"scatter\",\"x\":[0,1,2,3,4,5,6,7,8,9,10,11,12,13,14,15,16,17,18,19,20,21,22,23],\"y\":[72,51,45,48,71,142,263,359,350,339,359,386,407,414,441,483,503,478,378,294,241,196,150,110]},{\"mode\":\"lines\",\"name\":\"Rhode Island\",\"type\":\"scatter\",\"x\":[0,1,2,3,4,5,6,7,8,9,10,11,12,13,14,15,16,17,18,19,20,21,22,23],\"y\":[286,183,134,125,205,481,1017,1439,1433,1278,1274,1356,1424,1439,1567,1708,1738,1689,1370,1049,864,743,600,442]},{\"mode\":\"lines\",\"name\":\"South Carolina\",\"type\":\"scatter\",\"x\":[0,1,2,3,4,5,6,7,8,9,10,11,12,13,14,15,16,17,18,19,20,21,22,23],\"y\":[360,252,214,216,304,588,1233,1932,1948,1883,2016,2167,2278,2330,2422,2550,2653,2644,2096,1578,1232,993,759,541]},{\"mode\":\"lines\",\"name\":\"South Dakota\",\"type\":\"scatter\",\"x\":[0,1,2,3,4,5,6,7,8,9,10,11,12,13,14,15,16,17,18,19,20,21,22,23],\"y\":[20,12,10,9,14,34,73,138,140,138,151,165,177,174,178,191,202,198,151,113,90,70,47,29]},{\"mode\":\"lines\",\"name\":\"Tennessee\",\"type\":\"scatter\",\"x\":[0,1,2,3,4,5,6,7,8,9,10,11,12,13,14,15,16,17,18,19,20,21,22,23],\"y\":[61,45,41,47,81,166,259,308,303,305,319,338,356,371,397,422,424,391,319,248,202,166,127,89]},{\"mode\":\"lines\",\"name\":\"Texas\",\"type\":\"scatter\",\"x\":[0,1,2,3,4,5,6,7,8,9,10,11,12,13,14,15,16,17,18,19,20,21,22,23],\"y\":[213,148,131,124,185,425,759,951,905,871,906,970,1029,1056,1096,1172,1237,1262,1077,850,678,568,443,312]},{\"mode\":\"lines\",\"name\":\"Utah\",\"type\":\"scatter\",\"x\":[0,1,2,3,4,5,6,7,8,9,10,11,12,13,14,15,16,17,18,19,20,21,22,23],\"y\":[67,42,31,31,56,139,273,392,405,362,365,394,421,432,461,515,556,556,447,333,278,237,173,109]},{\"mode\":\"lines\",\"name\":\"Vermont\",\"type\":\"scatter\",\"x\":[0,1,2,3,4,5,6,7,8,9,10,11,12,13,14,15,16,17,18,19,20,21,22,23],\"y\":[33,21,19,23,44,113,262,425,412,403,436,473,492,489,521,574,604,534,372,267,204,150,100,62]},{\"mode\":\"lines\",\"name\":\"Virginia\",\"type\":\"scatter\",\"x\":[0,1,2,3,4,5,6,7,8,9,10,11,12,13,14,15,16,17,18,19,20,21,22,23],\"y\":[213,149,128,133,207,417,743,1055,1085,1030,1059,1116,1176,1195,1258,1350,1415,1406,1129,872,707,583,445,316]},{\"mode\":\"lines\",\"name\":\"Washington\",\"type\":\"scatter\",\"x\":[0,1,2,3,4,5,6,7,8,9,10,11,12,13,14,15,16,17,18,19,20,21,22,23],\"y\":[97,67,60,71,141,283,415,522,523,546,588,631,661,676,704,734,746,710,578,454,373,309,227,154]},{\"mode\":\"lines\",\"name\":\"West Virginia\",\"type\":\"scatter\",\"x\":[0,1,2,3,4,5,6,7,8,9,10,11,12,13,14,15,16,17,18,19,20,21,22,23],\"y\":[45,33,27,28,42,82,154,218,222,221,237,256,273,282,305,332,351,337,274,212,169,136,104,77]},{\"mode\":\"lines\",\"name\":\"Wisconsin\",\"type\":\"scatter\",\"x\":[0,1,2,3,4,5,6,7,8,9,10,11,12,13,14,15,16,17,18,19,20,21,22,23],\"y\":[53,36,31,35,63,143,272,385,346,340,368,397,414,420,447,492,528,486,358,266,210,169,125,84]},{\"mode\":\"lines\",\"name\":\"Wyoming\",\"type\":\"scatter\",\"x\":[0,1,2,3,4,5,6,7,8,9,10,11,12,13,14,15,16,17,18,19,20,21,22,23],\"y\":[14,10,9,9,15,33,61,94,98,107,119,131,138,135,135,144,148,139,106,80,62,46,31,21]}],                        {\"legend\":{\"title\":{\"text\":\"States\"}},\"template\":{\"data\":{\"bar\":[{\"error_x\":{\"color\":\"#2a3f5f\"},\"error_y\":{\"color\":\"#2a3f5f\"},\"marker\":{\"line\":{\"color\":\"#E5ECF6\",\"width\":0.5},\"pattern\":{\"fillmode\":\"overlay\",\"size\":10,\"solidity\":0.2}},\"type\":\"bar\"}],\"barpolar\":[{\"marker\":{\"line\":{\"color\":\"#E5ECF6\",\"width\":0.5},\"pattern\":{\"fillmode\":\"overlay\",\"size\":10,\"solidity\":0.2}},\"type\":\"barpolar\"}],\"carpet\":[{\"aaxis\":{\"endlinecolor\":\"#2a3f5f\",\"gridcolor\":\"white\",\"linecolor\":\"white\",\"minorgridcolor\":\"white\",\"startlinecolor\":\"#2a3f5f\"},\"baxis\":{\"endlinecolor\":\"#2a3f5f\",\"gridcolor\":\"white\",\"linecolor\":\"white\",\"minorgridcolor\":\"white\",\"startlinecolor\":\"#2a3f5f\"},\"type\":\"carpet\"}],\"choropleth\":[{\"colorbar\":{\"outlinewidth\":0,\"ticks\":\"\"},\"type\":\"choropleth\"}],\"contour\":[{\"colorbar\":{\"outlinewidth\":0,\"ticks\":\"\"},\"colorscale\":[[0.0,\"#0d0887\"],[0.1111111111111111,\"#46039f\"],[0.2222222222222222,\"#7201a8\"],[0.3333333333333333,\"#9c179e\"],[0.4444444444444444,\"#bd3786\"],[0.5555555555555556,\"#d8576b\"],[0.6666666666666666,\"#ed7953\"],[0.7777777777777778,\"#fb9f3a\"],[0.8888888888888888,\"#fdca26\"],[1.0,\"#f0f921\"]],\"type\":\"contour\"}],\"contourcarpet\":[{\"colorbar\":{\"outlinewidth\":0,\"ticks\":\"\"},\"type\":\"contourcarpet\"}],\"heatmap\":[{\"colorbar\":{\"outlinewidth\":0,\"ticks\":\"\"},\"colorscale\":[[0.0,\"#0d0887\"],[0.1111111111111111,\"#46039f\"],[0.2222222222222222,\"#7201a8\"],[0.3333333333333333,\"#9c179e\"],[0.4444444444444444,\"#bd3786\"],[0.5555555555555556,\"#d8576b\"],[0.6666666666666666,\"#ed7953\"],[0.7777777777777778,\"#fb9f3a\"],[0.8888888888888888,\"#fdca26\"],[1.0,\"#f0f921\"]],\"type\":\"heatmap\"}],\"heatmapgl\":[{\"colorbar\":{\"outlinewidth\":0,\"ticks\":\"\"},\"colorscale\":[[0.0,\"#0d0887\"],[0.1111111111111111,\"#46039f\"],[0.2222222222222222,\"#7201a8\"],[0.3333333333333333,\"#9c179e\"],[0.4444444444444444,\"#bd3786\"],[0.5555555555555556,\"#d8576b\"],[0.6666666666666666,\"#ed7953\"],[0.7777777777777778,\"#fb9f3a\"],[0.8888888888888888,\"#fdca26\"],[1.0,\"#f0f921\"]],\"type\":\"heatmapgl\"}],\"histogram\":[{\"marker\":{\"pattern\":{\"fillmode\":\"overlay\",\"size\":10,\"solidity\":0.2}},\"type\":\"histogram\"}],\"histogram2d\":[{\"colorbar\":{\"outlinewidth\":0,\"ticks\":\"\"},\"colorscale\":[[0.0,\"#0d0887\"],[0.1111111111111111,\"#46039f\"],[0.2222222222222222,\"#7201a8\"],[0.3333333333333333,\"#9c179e\"],[0.4444444444444444,\"#bd3786\"],[0.5555555555555556,\"#d8576b\"],[0.6666666666666666,\"#ed7953\"],[0.7777777777777778,\"#fb9f3a\"],[0.8888888888888888,\"#fdca26\"],[1.0,\"#f0f921\"]],\"type\":\"histogram2d\"}],\"histogram2dcontour\":[{\"colorbar\":{\"outlinewidth\":0,\"ticks\":\"\"},\"colorscale\":[[0.0,\"#0d0887\"],[0.1111111111111111,\"#46039f\"],[0.2222222222222222,\"#7201a8\"],[0.3333333333333333,\"#9c179e\"],[0.4444444444444444,\"#bd3786\"],[0.5555555555555556,\"#d8576b\"],[0.6666666666666666,\"#ed7953\"],[0.7777777777777778,\"#fb9f3a\"],[0.8888888888888888,\"#fdca26\"],[1.0,\"#f0f921\"]],\"type\":\"histogram2dcontour\"}],\"mesh3d\":[{\"colorbar\":{\"outlinewidth\":0,\"ticks\":\"\"},\"type\":\"mesh3d\"}],\"parcoords\":[{\"line\":{\"colorbar\":{\"outlinewidth\":0,\"ticks\":\"\"}},\"type\":\"parcoords\"}],\"pie\":[{\"automargin\":true,\"type\":\"pie\"}],\"scatter\":[{\"marker\":{\"colorbar\":{\"outlinewidth\":0,\"ticks\":\"\"}},\"type\":\"scatter\"}],\"scatter3d\":[{\"line\":{\"colorbar\":{\"outlinewidth\":0,\"ticks\":\"\"}},\"marker\":{\"colorbar\":{\"outlinewidth\":0,\"ticks\":\"\"}},\"type\":\"scatter3d\"}],\"scattercarpet\":[{\"marker\":{\"colorbar\":{\"outlinewidth\":0,\"ticks\":\"\"}},\"type\":\"scattercarpet\"}],\"scattergeo\":[{\"marker\":{\"colorbar\":{\"outlinewidth\":0,\"ticks\":\"\"}},\"type\":\"scattergeo\"}],\"scattergl\":[{\"marker\":{\"colorbar\":{\"outlinewidth\":0,\"ticks\":\"\"}},\"type\":\"scattergl\"}],\"scattermapbox\":[{\"marker\":{\"colorbar\":{\"outlinewidth\":0,\"ticks\":\"\"}},\"type\":\"scattermapbox\"}],\"scatterpolar\":[{\"marker\":{\"colorbar\":{\"outlinewidth\":0,\"ticks\":\"\"}},\"type\":\"scatterpolar\"}],\"scatterpolargl\":[{\"marker\":{\"colorbar\":{\"outlinewidth\":0,\"ticks\":\"\"}},\"type\":\"scatterpolargl\"}],\"scatterternary\":[{\"marker\":{\"colorbar\":{\"outlinewidth\":0,\"ticks\":\"\"}},\"type\":\"scatterternary\"}],\"surface\":[{\"colorbar\":{\"outlinewidth\":0,\"ticks\":\"\"},\"colorscale\":[[0.0,\"#0d0887\"],[0.1111111111111111,\"#46039f\"],[0.2222222222222222,\"#7201a8\"],[0.3333333333333333,\"#9c179e\"],[0.4444444444444444,\"#bd3786\"],[0.5555555555555556,\"#d8576b\"],[0.6666666666666666,\"#ed7953\"],[0.7777777777777778,\"#fb9f3a\"],[0.8888888888888888,\"#fdca26\"],[1.0,\"#f0f921\"]],\"type\":\"surface\"}],\"table\":[{\"cells\":{\"fill\":{\"color\":\"#EBF0F8\"},\"line\":{\"color\":\"white\"}},\"header\":{\"fill\":{\"color\":\"#C8D4E3\"},\"line\":{\"color\":\"white\"}},\"type\":\"table\"}]},\"layout\":{\"annotationdefaults\":{\"arrowcolor\":\"#2a3f5f\",\"arrowhead\":0,\"arrowwidth\":1},\"autotypenumbers\":\"strict\",\"coloraxis\":{\"colorbar\":{\"outlinewidth\":0,\"ticks\":\"\"}},\"colorscale\":{\"diverging\":[[0,\"#8e0152\"],[0.1,\"#c51b7d\"],[0.2,\"#de77ae\"],[0.3,\"#f1b6da\"],[0.4,\"#fde0ef\"],[0.5,\"#f7f7f7\"],[0.6,\"#e6f5d0\"],[0.7,\"#b8e186\"],[0.8,\"#7fbc41\"],[0.9,\"#4d9221\"],[1,\"#276419\"]],\"sequential\":[[0.0,\"#0d0887\"],[0.1111111111111111,\"#46039f\"],[0.2222222222222222,\"#7201a8\"],[0.3333333333333333,\"#9c179e\"],[0.4444444444444444,\"#bd3786\"],[0.5555555555555556,\"#d8576b\"],[0.6666666666666666,\"#ed7953\"],[0.7777777777777778,\"#fb9f3a\"],[0.8888888888888888,\"#fdca26\"],[1.0,\"#f0f921\"]],\"sequentialminus\":[[0.0,\"#0d0887\"],[0.1111111111111111,\"#46039f\"],[0.2222222222222222,\"#7201a8\"],[0.3333333333333333,\"#9c179e\"],[0.4444444444444444,\"#bd3786\"],[0.5555555555555556,\"#d8576b\"],[0.6666666666666666,\"#ed7953\"],[0.7777777777777778,\"#fb9f3a\"],[0.8888888888888888,\"#fdca26\"],[1.0,\"#f0f921\"]]},\"colorway\":[\"#636efa\",\"#EF553B\",\"#00cc96\",\"#ab63fa\",\"#FFA15A\",\"#19d3f3\",\"#FF6692\",\"#B6E880\",\"#FF97FF\",\"#FECB52\"],\"font\":{\"color\":\"#2a3f5f\"},\"geo\":{\"bgcolor\":\"white\",\"lakecolor\":\"white\",\"landcolor\":\"#E5ECF6\",\"showlakes\":true,\"showland\":true,\"subunitcolor\":\"white\"},\"hoverlabel\":{\"align\":\"left\"},\"hovermode\":\"closest\",\"mapbox\":{\"style\":\"light\"},\"paper_bgcolor\":\"white\",\"plot_bgcolor\":\"#E5ECF6\",\"polar\":{\"angularaxis\":{\"gridcolor\":\"white\",\"linecolor\":\"white\",\"ticks\":\"\"},\"bgcolor\":\"#E5ECF6\",\"radialaxis\":{\"gridcolor\":\"white\",\"linecolor\":\"white\",\"ticks\":\"\"}},\"scene\":{\"xaxis\":{\"backgroundcolor\":\"#E5ECF6\",\"gridcolor\":\"white\",\"gridwidth\":2,\"linecolor\":\"white\",\"showbackground\":true,\"ticks\":\"\",\"zerolinecolor\":\"white\"},\"yaxis\":{\"backgroundcolor\":\"#E5ECF6\",\"gridcolor\":\"white\",\"gridwidth\":2,\"linecolor\":\"white\",\"showbackground\":true,\"ticks\":\"\",\"zerolinecolor\":\"white\"},\"zaxis\":{\"backgroundcolor\":\"#E5ECF6\",\"gridcolor\":\"white\",\"gridwidth\":2,\"linecolor\":\"white\",\"showbackground\":true,\"ticks\":\"\",\"zerolinecolor\":\"white\"}},\"shapedefaults\":{\"line\":{\"color\":\"#2a3f5f\"}},\"ternary\":{\"aaxis\":{\"gridcolor\":\"white\",\"linecolor\":\"white\",\"ticks\":\"\"},\"baxis\":{\"gridcolor\":\"white\",\"linecolor\":\"white\",\"ticks\":\"\"},\"bgcolor\":\"#E5ECF6\",\"caxis\":{\"gridcolor\":\"white\",\"linecolor\":\"white\",\"ticks\":\"\"}},\"title\":{\"x\":0.05},\"xaxis\":{\"automargin\":true,\"gridcolor\":\"white\",\"linecolor\":\"white\",\"ticks\":\"\",\"title\":{\"standoff\":15},\"zerolinecolor\":\"white\",\"zerolinewidth\":2},\"yaxis\":{\"automargin\":true,\"gridcolor\":\"white\",\"linecolor\":\"white\",\"ticks\":\"\",\"title\":{\"standoff\":15},\"zerolinecolor\":\"white\",\"zerolinewidth\":2}}},\"title\":{\"text\":\"2015 US Average Daily Traffic Volume by State and Time of the day\"},\"xaxis\":{\"nticks\":24,\"title\":{\"text\":\"Time of the day\"}},\"yaxis\":{\"title\":{\"text\":\"Average Daily Traffic Volume\"}}},                        {\"responsive\": true}                    ).then(function(){\n",
       "                            \n",
       "var gd = document.getElementById('1a4e6d80-a4e6-4741-ba10-622e79c52773');\n",
       "var x = new MutationObserver(function (mutations, observer) {{\n",
       "        var display = window.getComputedStyle(gd).display;\n",
       "        if (!display || display === 'none') {{\n",
       "            console.log([gd, 'removed!']);\n",
       "            Plotly.purge(gd);\n",
       "            observer.disconnect();\n",
       "        }}\n",
       "}});\n",
       "\n",
       "// Listen for the removal of the full notebook cells\n",
       "var notebookContainer = gd.closest('#notebook-container');\n",
       "if (notebookContainer) {{\n",
       "    x.observe(notebookContainer, {childList: true});\n",
       "}}\n",
       "\n",
       "// Listen for the clearing of the current output cell\n",
       "var outputEl = gd.closest('.output');\n",
       "if (outputEl) {{\n",
       "    x.observe(outputEl, {childList: true});\n",
       "}}\n",
       "\n",
       "                        })                };                });            </script>        </div>"
      ]
     },
     "metadata": {},
     "output_type": "display_data"
    },
    {
     "name": "stdout",
     "output_type": "stream",
     "text": [
      "To view the line plot for a specific state, double click on that state in the legend.\n"
     ]
    },
    {
     "data": {
      "text/html": [
       "<div>\n",
       "<style scoped>\n",
       "    .dataframe tbody tr th:only-of-type {\n",
       "        vertical-align: middle;\n",
       "    }\n",
       "\n",
       "    .dataframe tbody tr th {\n",
       "        vertical-align: top;\n",
       "    }\n",
       "\n",
       "    .dataframe thead th {\n",
       "        text-align: right;\n",
       "    }\n",
       "</style>\n",
       "<table border=\"1\" class=\"dataframe\">\n",
       "  <thead>\n",
       "    <tr style=\"text-align: right;\">\n",
       "      <th></th>\n",
       "      <th>time_of_day</th>\n",
       "      <th>time_of_day_name</th>\n",
       "    </tr>\n",
       "  </thead>\n",
       "  <tbody>\n",
       "    <tr>\n",
       "      <th>0</th>\n",
       "      <td>0</td>\n",
       "      <td>traffic_volume_counted_after_0000_to_0100</td>\n",
       "    </tr>\n",
       "    <tr>\n",
       "      <th>1</th>\n",
       "      <td>1</td>\n",
       "      <td>traffic_volume_counted_after_0100_to_0200</td>\n",
       "    </tr>\n",
       "    <tr>\n",
       "      <th>2</th>\n",
       "      <td>2</td>\n",
       "      <td>traffic_volume_counted_after_0200_to_0300</td>\n",
       "    </tr>\n",
       "    <tr>\n",
       "      <th>3</th>\n",
       "      <td>3</td>\n",
       "      <td>traffic_volume_counted_after_0300_to_0400</td>\n",
       "    </tr>\n",
       "    <tr>\n",
       "      <th>4</th>\n",
       "      <td>4</td>\n",
       "      <td>traffic_volume_counted_after_0400_to_0500</td>\n",
       "    </tr>\n",
       "    <tr>\n",
       "      <th>5</th>\n",
       "      <td>5</td>\n",
       "      <td>traffic_volume_counted_after_0500_to_0600</td>\n",
       "    </tr>\n",
       "    <tr>\n",
       "      <th>6</th>\n",
       "      <td>6</td>\n",
       "      <td>traffic_volume_counted_after_0600_to_0700</td>\n",
       "    </tr>\n",
       "    <tr>\n",
       "      <th>7</th>\n",
       "      <td>7</td>\n",
       "      <td>traffic_volume_counted_after_0700_to_0800</td>\n",
       "    </tr>\n",
       "    <tr>\n",
       "      <th>8</th>\n",
       "      <td>8</td>\n",
       "      <td>traffic_volume_counted_after_0800_to_0900</td>\n",
       "    </tr>\n",
       "    <tr>\n",
       "      <th>9</th>\n",
       "      <td>9</td>\n",
       "      <td>traffic_volume_counted_after_0900_to_1000</td>\n",
       "    </tr>\n",
       "    <tr>\n",
       "      <th>10</th>\n",
       "      <td>10</td>\n",
       "      <td>traffic_volume_counted_after_1000_to_1100</td>\n",
       "    </tr>\n",
       "    <tr>\n",
       "      <th>11</th>\n",
       "      <td>11</td>\n",
       "      <td>traffic_volume_counted_after_1100_to_1200</td>\n",
       "    </tr>\n",
       "    <tr>\n",
       "      <th>12</th>\n",
       "      <td>12</td>\n",
       "      <td>traffic_volume_counted_after_1200_to_1300</td>\n",
       "    </tr>\n",
       "    <tr>\n",
       "      <th>13</th>\n",
       "      <td>13</td>\n",
       "      <td>traffic_volume_counted_after_1300_to_1400</td>\n",
       "    </tr>\n",
       "    <tr>\n",
       "      <th>14</th>\n",
       "      <td>14</td>\n",
       "      <td>traffic_volume_counted_after_1400_to_1500</td>\n",
       "    </tr>\n",
       "    <tr>\n",
       "      <th>15</th>\n",
       "      <td>15</td>\n",
       "      <td>traffic_volume_counted_after_1500_to_1600</td>\n",
       "    </tr>\n",
       "    <tr>\n",
       "      <th>16</th>\n",
       "      <td>16</td>\n",
       "      <td>traffic_volume_counted_after_1600_to_1700</td>\n",
       "    </tr>\n",
       "    <tr>\n",
       "      <th>17</th>\n",
       "      <td>17</td>\n",
       "      <td>traffic_volume_counted_after_1700_to_1800</td>\n",
       "    </tr>\n",
       "    <tr>\n",
       "      <th>18</th>\n",
       "      <td>18</td>\n",
       "      <td>traffic_volume_counted_after_1800_to_1900</td>\n",
       "    </tr>\n",
       "    <tr>\n",
       "      <th>19</th>\n",
       "      <td>19</td>\n",
       "      <td>traffic_volume_counted_after_1900_to_2000</td>\n",
       "    </tr>\n",
       "    <tr>\n",
       "      <th>20</th>\n",
       "      <td>20</td>\n",
       "      <td>traffic_volume_counted_after_2000_to_2100</td>\n",
       "    </tr>\n",
       "    <tr>\n",
       "      <th>21</th>\n",
       "      <td>21</td>\n",
       "      <td>traffic_volume_counted_after_2100_to_2200</td>\n",
       "    </tr>\n",
       "    <tr>\n",
       "      <th>22</th>\n",
       "      <td>22</td>\n",
       "      <td>traffic_volume_counted_after_2200_to_2300</td>\n",
       "    </tr>\n",
       "    <tr>\n",
       "      <th>23</th>\n",
       "      <td>23</td>\n",
       "      <td>traffic_volume_counted_after_2300_to_2400</td>\n",
       "    </tr>\n",
       "  </tbody>\n",
       "</table>\n",
       "</div>"
      ],
      "text/plain": [
       "    time_of_day                           time_of_day_name\n",
       "0             0  traffic_volume_counted_after_0000_to_0100\n",
       "1             1  traffic_volume_counted_after_0100_to_0200\n",
       "2             2  traffic_volume_counted_after_0200_to_0300\n",
       "3             3  traffic_volume_counted_after_0300_to_0400\n",
       "4             4  traffic_volume_counted_after_0400_to_0500\n",
       "5             5  traffic_volume_counted_after_0500_to_0600\n",
       "6             6  traffic_volume_counted_after_0600_to_0700\n",
       "7             7  traffic_volume_counted_after_0700_to_0800\n",
       "8             8  traffic_volume_counted_after_0800_to_0900\n",
       "9             9  traffic_volume_counted_after_0900_to_1000\n",
       "10           10  traffic_volume_counted_after_1000_to_1100\n",
       "11           11  traffic_volume_counted_after_1100_to_1200\n",
       "12           12  traffic_volume_counted_after_1200_to_1300\n",
       "13           13  traffic_volume_counted_after_1300_to_1400\n",
       "14           14  traffic_volume_counted_after_1400_to_1500\n",
       "15           15  traffic_volume_counted_after_1500_to_1600\n",
       "16           16  traffic_volume_counted_after_1600_to_1700\n",
       "17           17  traffic_volume_counted_after_1700_to_1800\n",
       "18           18  traffic_volume_counted_after_1800_to_1900\n",
       "19           19  traffic_volume_counted_after_1900_to_2000\n",
       "20           20  traffic_volume_counted_after_2000_to_2100\n",
       "21           21  traffic_volume_counted_after_2100_to_2200\n",
       "22           22  traffic_volume_counted_after_2200_to_2300\n",
       "23           23  traffic_volume_counted_after_2300_to_2400"
      ]
     },
     "execution_count": 88,
     "metadata": {},
     "output_type": "execute_result"
    }
   ],
   "source": [
    "state_columns = list(traffic_time.columns)\n",
    "state_columns.remove(\"time_of_day\")\n",
    "state_columns.remove(\"time_of_day_name\")\n",
    "\n",
    "# Create line plot\n",
    "fig = go.Figure()\n",
    "\n",
    "for state in state_columns:\n",
    "    fig.add_trace(go.Scatter(\n",
    "        x=traffic_time.time_of_day,\n",
    "        y=traffic_time[state],\n",
    "        mode=\"lines\",\n",
    "        name=state\n",
    "    ))\n",
    "    \n",
    "# Set number of ticks to 24 for x axis\n",
    "fig.update_xaxes(nticks=24)\n",
    "\n",
    "fig.update_layout(\n",
    "    title=\"2015 US Average Daily Traffic Volume by State and Time of the day\",\n",
    "    xaxis_title=\"Time of the day\",\n",
    "    yaxis_title=\"Average Daily Traffic Volume\",\n",
    "    legend_title_text=\"States\"\n",
    ")\n",
    "\n",
    "fig.show()\n",
    "\n",
    "print(\"To view the line plot for a specific state, double click on that state in the legend.\")\n",
    "traffic_time[[\"time_of_day\", \"time_of_day_name\"]]"
   ]
  },
  {
   "cell_type": "markdown",
   "id": "ac132bd9",
   "metadata": {},
   "source": [
    "Interpretation of the line plot above should be based on the time_of_day mapping above. (i.e. 0 represents \ttraffic_volume_counted_after_0000_to_0100, 1 represents traffic_volume_counted_after_0100_to_0200 and so on and so forth. What this means is that when we look at the average daily traffic volume at time_of_the_day = 0, we are actually looking at the average daily traffic volume from 0000 hrs to 0100 hrs."
   ]
  },
  {
   "cell_type": "markdown",
   "id": "6a46700a",
   "metadata": {},
   "source": [
    "### Pattern 2:\n",
    "In general, the following traffic patterns were observed across all the US states:\n",
    "<br>\n",
    "<br>&emsp;1) Recorded total traffic volume starts increasing at around 4am. This increasing trend persists until around 8am.\n",
    "<br>&emsp;2) Recorded total traffic volume starts increasing again at around 10am. This increasing trend persists until around 5pm.\n",
    "<br>&emsp;3) Recorded total traffic volume then starts decreasing at around 5pm. This decreasing trend persists until around 3am."
   ]
  },
  {
   "cell_type": "markdown",
   "id": "3521a877",
   "metadata": {},
   "source": [
    "#### Let's see if there is any pattern between the average daily traffic volume and the month"
   ]
  },
  {
   "cell_type": "code",
   "execution_count": null,
   "id": "d3147647",
   "metadata": {},
   "outputs": [],
   "source": []
  }
 ],
 "metadata": {
  "kernelspec": {
   "display_name": "Python 3 (ipykernel)",
   "language": "python",
   "name": "python3"
  },
  "language_info": {
   "codemirror_mode": {
    "name": "ipython",
    "version": 3
   },
   "file_extension": ".py",
   "mimetype": "text/x-python",
   "name": "python",
   "nbconvert_exporter": "python",
   "pygments_lexer": "ipython3",
   "version": "3.7.11"
  }
 },
 "nbformat": 4,
 "nbformat_minor": 5
}
