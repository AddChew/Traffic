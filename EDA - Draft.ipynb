{
 "cells": [
  {
   "cell_type": "markdown",
   "id": "9c61e9f4",
   "metadata": {},
   "source": [
    "### Import the necessary libraries"
   ]
  },
  {
   "cell_type": "code",
   "execution_count": 1,
   "id": "fa440944",
   "metadata": {},
   "outputs": [],
   "source": [
    "import numpy as np\n",
    "import plotly.express as px\n",
    "import plotly.graph_objects as go\n",
    "from helpers.utils import load_data"
   ]
  },
  {
   "cell_type": "markdown",
   "id": "c655b092",
   "metadata": {},
   "source": [
    "### Load the datasets"
   ]
  },
  {
   "cell_type": "code",
   "execution_count": 3,
   "id": "296bade8",
   "metadata": {},
   "outputs": [],
   "source": [
    "traffic, stations, mappings = load_data()"
   ]
  },
  {
   "cell_type": "markdown",
   "id": "f265cd8c",
   "metadata": {},
   "source": [
    "### Data Cleaning"
   ]
  },
  {
   "cell_type": "markdown",
   "id": "6a12c4aa",
   "metadata": {},
   "source": [
    "Let's check if there are any duplicate rows in traffic dataset"
   ]
  },
  {
   "cell_type": "code",
   "execution_count": 5,
   "id": "d66461f1",
   "metadata": {},
   "outputs": [
    {
     "name": "stdout",
     "output_type": "stream",
     "text": [
      "Traffic dataset contains 750678 duplicate rows\n"
     ]
    },
    {
     "data": {
      "text/html": [
       "<div>\n",
       "<style scoped>\n",
       "    .dataframe tbody tr th:only-of-type {\n",
       "        vertical-align: middle;\n",
       "    }\n",
       "\n",
       "    .dataframe tbody tr th {\n",
       "        vertical-align: top;\n",
       "    }\n",
       "\n",
       "    .dataframe thead th {\n",
       "        text-align: right;\n",
       "    }\n",
       "</style>\n",
       "<table border=\"1\" class=\"dataframe\">\n",
       "  <thead>\n",
       "    <tr style=\"text-align: right;\">\n",
       "      <th></th>\n",
       "      <th>date</th>\n",
       "      <th>day_of_data</th>\n",
       "      <th>day_of_week</th>\n",
       "      <th>direction_of_travel</th>\n",
       "      <th>fips_state_code</th>\n",
       "      <th>functional_classification</th>\n",
       "      <th>month_of_data</th>\n",
       "      <th>station_id</th>\n",
       "      <th>traffic_volume_counted_after_0000_to_0100</th>\n",
       "      <th>traffic_volume_counted_after_0100_to_0200</th>\n",
       "      <th>...</th>\n",
       "      <th>traffic_volume_counted_after_1400_to_1500</th>\n",
       "      <th>traffic_volume_counted_after_1500_to_1600</th>\n",
       "      <th>traffic_volume_counted_after_1600_to_1700</th>\n",
       "      <th>traffic_volume_counted_after_1700_to_1800</th>\n",
       "      <th>traffic_volume_counted_after_1800_to_1900</th>\n",
       "      <th>traffic_volume_counted_after_1900_to_2000</th>\n",
       "      <th>traffic_volume_counted_after_2000_to_2100</th>\n",
       "      <th>traffic_volume_counted_after_2100_to_2200</th>\n",
       "      <th>traffic_volume_counted_after_2200_to_2300</th>\n",
       "      <th>traffic_volume_counted_after_2300_to_2400</th>\n",
       "    </tr>\n",
       "  </thead>\n",
       "  <tbody>\n",
       "    <tr>\n",
       "      <th>9440</th>\n",
       "      <td>2015-11-02</td>\n",
       "      <td>2</td>\n",
       "      <td>2</td>\n",
       "      <td>1</td>\n",
       "      <td>54</td>\n",
       "      <td>3R</td>\n",
       "      <td>11</td>\n",
       "      <td>000016</td>\n",
       "      <td>25</td>\n",
       "      <td>23</td>\n",
       "      <td>...</td>\n",
       "      <td>136</td>\n",
       "      <td>157</td>\n",
       "      <td>176</td>\n",
       "      <td>238</td>\n",
       "      <td>210</td>\n",
       "      <td>130</td>\n",
       "      <td>77</td>\n",
       "      <td>53</td>\n",
       "      <td>45</td>\n",
       "      <td>28</td>\n",
       "    </tr>\n",
       "    <tr>\n",
       "      <th>12434</th>\n",
       "      <td>2015-01-21</td>\n",
       "      <td>21</td>\n",
       "      <td>4</td>\n",
       "      <td>5</td>\n",
       "      <td>29</td>\n",
       "      <td>2U</td>\n",
       "      <td>1</td>\n",
       "      <td>004913</td>\n",
       "      <td>49</td>\n",
       "      <td>26</td>\n",
       "      <td>...</td>\n",
       "      <td>351</td>\n",
       "      <td>432</td>\n",
       "      <td>887</td>\n",
       "      <td>1407</td>\n",
       "      <td>1546</td>\n",
       "      <td>1015</td>\n",
       "      <td>377</td>\n",
       "      <td>243</td>\n",
       "      <td>193</td>\n",
       "      <td>115</td>\n",
       "    </tr>\n",
       "    <tr>\n",
       "      <th>14835</th>\n",
       "      <td>2015-08-09</td>\n",
       "      <td>9</td>\n",
       "      <td>1</td>\n",
       "      <td>7</td>\n",
       "      <td>54</td>\n",
       "      <td>4U</td>\n",
       "      <td>8</td>\n",
       "      <td>000045</td>\n",
       "      <td>23</td>\n",
       "      <td>20</td>\n",
       "      <td>...</td>\n",
       "      <td>260</td>\n",
       "      <td>300</td>\n",
       "      <td>200</td>\n",
       "      <td>187</td>\n",
       "      <td>219</td>\n",
       "      <td>159</td>\n",
       "      <td>136</td>\n",
       "      <td>108</td>\n",
       "      <td>45</td>\n",
       "      <td>34</td>\n",
       "    </tr>\n",
       "    <tr>\n",
       "      <th>14888</th>\n",
       "      <td>2015-04-25</td>\n",
       "      <td>25</td>\n",
       "      <td>7</td>\n",
       "      <td>1</td>\n",
       "      <td>13</td>\n",
       "      <td>3U</td>\n",
       "      <td>4</td>\n",
       "      <td>000222</td>\n",
       "      <td>27</td>\n",
       "      <td>20</td>\n",
       "      <td>...</td>\n",
       "      <td>252</td>\n",
       "      <td>258</td>\n",
       "      <td>265</td>\n",
       "      <td>258</td>\n",
       "      <td>213</td>\n",
       "      <td>172</td>\n",
       "      <td>122</td>\n",
       "      <td>93</td>\n",
       "      <td>75</td>\n",
       "      <td>50</td>\n",
       "    </tr>\n",
       "    <tr>\n",
       "      <th>16694</th>\n",
       "      <td>2015-04-06</td>\n",
       "      <td>6</td>\n",
       "      <td>2</td>\n",
       "      <td>3</td>\n",
       "      <td>39</td>\n",
       "      <td>1R</td>\n",
       "      <td>4</td>\n",
       "      <td>000155</td>\n",
       "      <td>184</td>\n",
       "      <td>121</td>\n",
       "      <td>...</td>\n",
       "      <td>893</td>\n",
       "      <td>923</td>\n",
       "      <td>932</td>\n",
       "      <td>898</td>\n",
       "      <td>731</td>\n",
       "      <td>573</td>\n",
       "      <td>476</td>\n",
       "      <td>373</td>\n",
       "      <td>323</td>\n",
       "      <td>230</td>\n",
       "    </tr>\n",
       "  </tbody>\n",
       "</table>\n",
       "<p>5 rows × 32 columns</p>\n",
       "</div>"
      ],
      "text/plain": [
       "             date  day_of_data  day_of_week  direction_of_travel  \\\n",
       "9440   2015-11-02            2            2                    1   \n",
       "12434  2015-01-21           21            4                    5   \n",
       "14835  2015-08-09            9            1                    7   \n",
       "14888  2015-04-25           25            7                    1   \n",
       "16694  2015-04-06            6            2                    3   \n",
       "\n",
       "      fips_state_code functional_classification  month_of_data station_id  \\\n",
       "9440               54                        3R             11     000016   \n",
       "12434              29                        2U              1     004913   \n",
       "14835              54                        4U              8     000045   \n",
       "14888              13                        3U              4     000222   \n",
       "16694              39                        1R              4     000155   \n",
       "\n",
       "       traffic_volume_counted_after_0000_to_0100  \\\n",
       "9440                                          25   \n",
       "12434                                         49   \n",
       "14835                                         23   \n",
       "14888                                         27   \n",
       "16694                                        184   \n",
       "\n",
       "       traffic_volume_counted_after_0100_to_0200  ...  \\\n",
       "9440                                          23  ...   \n",
       "12434                                         26  ...   \n",
       "14835                                         20  ...   \n",
       "14888                                         20  ...   \n",
       "16694                                        121  ...   \n",
       "\n",
       "       traffic_volume_counted_after_1400_to_1500  \\\n",
       "9440                                         136   \n",
       "12434                                        351   \n",
       "14835                                        260   \n",
       "14888                                        252   \n",
       "16694                                        893   \n",
       "\n",
       "       traffic_volume_counted_after_1500_to_1600  \\\n",
       "9440                                         157   \n",
       "12434                                        432   \n",
       "14835                                        300   \n",
       "14888                                        258   \n",
       "16694                                        923   \n",
       "\n",
       "       traffic_volume_counted_after_1600_to_1700  \\\n",
       "9440                                         176   \n",
       "12434                                        887   \n",
       "14835                                        200   \n",
       "14888                                        265   \n",
       "16694                                        932   \n",
       "\n",
       "       traffic_volume_counted_after_1700_to_1800  \\\n",
       "9440                                         238   \n",
       "12434                                       1407   \n",
       "14835                                        187   \n",
       "14888                                        258   \n",
       "16694                                        898   \n",
       "\n",
       "       traffic_volume_counted_after_1800_to_1900  \\\n",
       "9440                                         210   \n",
       "12434                                       1546   \n",
       "14835                                        219   \n",
       "14888                                        213   \n",
       "16694                                        731   \n",
       "\n",
       "       traffic_volume_counted_after_1900_to_2000  \\\n",
       "9440                                         130   \n",
       "12434                                       1015   \n",
       "14835                                        159   \n",
       "14888                                        172   \n",
       "16694                                        573   \n",
       "\n",
       "       traffic_volume_counted_after_2000_to_2100  \\\n",
       "9440                                          77   \n",
       "12434                                        377   \n",
       "14835                                        136   \n",
       "14888                                        122   \n",
       "16694                                        476   \n",
       "\n",
       "       traffic_volume_counted_after_2100_to_2200  \\\n",
       "9440                                          53   \n",
       "12434                                        243   \n",
       "14835                                        108   \n",
       "14888                                         93   \n",
       "16694                                        373   \n",
       "\n",
       "       traffic_volume_counted_after_2200_to_2300  \\\n",
       "9440                                          45   \n",
       "12434                                        193   \n",
       "14835                                         45   \n",
       "14888                                         75   \n",
       "16694                                        323   \n",
       "\n",
       "       traffic_volume_counted_after_2300_to_2400  \n",
       "9440                                          28  \n",
       "12434                                        115  \n",
       "14835                                         34  \n",
       "14888                                         50  \n",
       "16694                                        230  \n",
       "\n",
       "[5 rows x 32 columns]"
      ]
     },
     "execution_count": 5,
     "metadata": {},
     "output_type": "execute_result"
    }
   ],
   "source": [
    "duplicates = traffic[traffic.duplicated()]\n",
    "print(f\"Traffic dataset contains {len(duplicates)} duplicate rows\")\n",
    "duplicates.head()"
   ]
  },
  {
   "cell_type": "markdown",
   "id": "270b9553",
   "metadata": {},
   "source": [
    "Given that it is very unlikely for a data row to be exactly identical to another for all of its 32 columns (including the traffic volume for all the time intervals). It is highly likely that these data rows are genuine cases of duplicate entries, arising from errors made from the data collection/collation process. As such, let's drop these duplicate rows from our subsequent analysis."
   ]
  },
  {
   "cell_type": "code",
   "execution_count": 6,
   "id": "6a4660e1",
   "metadata": {},
   "outputs": [
    {
     "name": "stdout",
     "output_type": "stream",
     "text": [
      "Number of rows left in unduplicated traffic dataset: 6389713\n"
     ]
    }
   ],
   "source": [
    "traffic = traffic.drop_duplicates(ignore_index = True)\n",
    "print(f\"Number of rows left in unduplicated traffic dataset: {len(traffic)}\")"
   ]
  },
  {
   "cell_type": "markdown",
   "id": "e41baca5",
   "metadata": {},
   "source": [
    "Let's also check for invalid values in the traffic volume columns (i.e. negative values)"
   ]
  },
  {
   "cell_type": "code",
   "execution_count": 7,
   "id": "7b0011cf",
   "metadata": {},
   "outputs": [
    {
     "name": "stdout",
     "output_type": "stream",
     "text": [
      "There are 851 rows containing negative values for traffic volume\n"
     ]
    },
    {
     "data": {
      "text/html": [
       "<div>\n",
       "<style scoped>\n",
       "    .dataframe tbody tr th:only-of-type {\n",
       "        vertical-align: middle;\n",
       "    }\n",
       "\n",
       "    .dataframe tbody tr th {\n",
       "        vertical-align: top;\n",
       "    }\n",
       "\n",
       "    .dataframe thead th {\n",
       "        text-align: right;\n",
       "    }\n",
       "</style>\n",
       "<table border=\"1\" class=\"dataframe\">\n",
       "  <thead>\n",
       "    <tr style=\"text-align: right;\">\n",
       "      <th></th>\n",
       "      <th>date</th>\n",
       "      <th>day_of_data</th>\n",
       "      <th>day_of_week</th>\n",
       "      <th>direction_of_travel</th>\n",
       "      <th>fips_state_code</th>\n",
       "      <th>functional_classification</th>\n",
       "      <th>month_of_data</th>\n",
       "      <th>station_id</th>\n",
       "      <th>traffic_volume_counted_after_0000_to_0100</th>\n",
       "      <th>traffic_volume_counted_after_0100_to_0200</th>\n",
       "      <th>...</th>\n",
       "      <th>traffic_volume_counted_after_1400_to_1500</th>\n",
       "      <th>traffic_volume_counted_after_1500_to_1600</th>\n",
       "      <th>traffic_volume_counted_after_1600_to_1700</th>\n",
       "      <th>traffic_volume_counted_after_1700_to_1800</th>\n",
       "      <th>traffic_volume_counted_after_1800_to_1900</th>\n",
       "      <th>traffic_volume_counted_after_1900_to_2000</th>\n",
       "      <th>traffic_volume_counted_after_2000_to_2100</th>\n",
       "      <th>traffic_volume_counted_after_2100_to_2200</th>\n",
       "      <th>traffic_volume_counted_after_2200_to_2300</th>\n",
       "      <th>traffic_volume_counted_after_2300_to_2400</th>\n",
       "    </tr>\n",
       "  </thead>\n",
       "  <tbody>\n",
       "    <tr>\n",
       "      <th>22298</th>\n",
       "      <td>2015-03-08</td>\n",
       "      <td>8</td>\n",
       "      <td>1</td>\n",
       "      <td>3</td>\n",
       "      <td>51</td>\n",
       "      <td>5R</td>\n",
       "      <td>3</td>\n",
       "      <td>130018</td>\n",
       "      <td>10</td>\n",
       "      <td>7</td>\n",
       "      <td>...</td>\n",
       "      <td>247</td>\n",
       "      <td>270</td>\n",
       "      <td>270</td>\n",
       "      <td>238</td>\n",
       "      <td>162</td>\n",
       "      <td>113</td>\n",
       "      <td>49</td>\n",
       "      <td>43</td>\n",
       "      <td>19</td>\n",
       "      <td>2</td>\n",
       "    </tr>\n",
       "    <tr>\n",
       "      <th>32468</th>\n",
       "      <td>2015-03-08</td>\n",
       "      <td>8</td>\n",
       "      <td>1</td>\n",
       "      <td>3</td>\n",
       "      <td>51</td>\n",
       "      <td>4R</td>\n",
       "      <td>3</td>\n",
       "      <td>150326</td>\n",
       "      <td>14</td>\n",
       "      <td>5</td>\n",
       "      <td>...</td>\n",
       "      <td>96</td>\n",
       "      <td>78</td>\n",
       "      <td>58</td>\n",
       "      <td>71</td>\n",
       "      <td>75</td>\n",
       "      <td>63</td>\n",
       "      <td>60</td>\n",
       "      <td>21</td>\n",
       "      <td>25</td>\n",
       "      <td>16</td>\n",
       "    </tr>\n",
       "    <tr>\n",
       "      <th>43542</th>\n",
       "      <td>2015-03-08</td>\n",
       "      <td>8</td>\n",
       "      <td>1</td>\n",
       "      <td>5</td>\n",
       "      <td>51</td>\n",
       "      <td>1R</td>\n",
       "      <td>3</td>\n",
       "      <td>781229</td>\n",
       "      <td>8</td>\n",
       "      <td>-1</td>\n",
       "      <td>...</td>\n",
       "      <td>40</td>\n",
       "      <td>50</td>\n",
       "      <td>44</td>\n",
       "      <td>36</td>\n",
       "      <td>22</td>\n",
       "      <td>26</td>\n",
       "      <td>28</td>\n",
       "      <td>18</td>\n",
       "      <td>16</td>\n",
       "      <td>3</td>\n",
       "    </tr>\n",
       "    <tr>\n",
       "      <th>45564</th>\n",
       "      <td>2015-03-08</td>\n",
       "      <td>8</td>\n",
       "      <td>1</td>\n",
       "      <td>3</td>\n",
       "      <td>51</td>\n",
       "      <td>1U</td>\n",
       "      <td>3</td>\n",
       "      <td>040766</td>\n",
       "      <td>667</td>\n",
       "      <td>-1</td>\n",
       "      <td>...</td>\n",
       "      <td>2733</td>\n",
       "      <td>2899</td>\n",
       "      <td>2886</td>\n",
       "      <td>2759</td>\n",
       "      <td>2709</td>\n",
       "      <td>2161</td>\n",
       "      <td>1698</td>\n",
       "      <td>1295</td>\n",
       "      <td>877</td>\n",
       "      <td>602</td>\n",
       "    </tr>\n",
       "    <tr>\n",
       "      <th>55491</th>\n",
       "      <td>2015-03-08</td>\n",
       "      <td>8</td>\n",
       "      <td>1</td>\n",
       "      <td>3</td>\n",
       "      <td>51</td>\n",
       "      <td>1U</td>\n",
       "      <td>3</td>\n",
       "      <td>090122</td>\n",
       "      <td>427</td>\n",
       "      <td>-1</td>\n",
       "      <td>...</td>\n",
       "      <td>689</td>\n",
       "      <td>682</td>\n",
       "      <td>704</td>\n",
       "      <td>678</td>\n",
       "      <td>586</td>\n",
       "      <td>530</td>\n",
       "      <td>451</td>\n",
       "      <td>294</td>\n",
       "      <td>210</td>\n",
       "      <td>135</td>\n",
       "    </tr>\n",
       "  </tbody>\n",
       "</table>\n",
       "<p>5 rows × 32 columns</p>\n",
       "</div>"
      ],
      "text/plain": [
       "             date  day_of_data  day_of_week  direction_of_travel  \\\n",
       "22298  2015-03-08            8            1                    3   \n",
       "32468  2015-03-08            8            1                    3   \n",
       "43542  2015-03-08            8            1                    5   \n",
       "45564  2015-03-08            8            1                    3   \n",
       "55491  2015-03-08            8            1                    3   \n",
       "\n",
       "      fips_state_code functional_classification  month_of_data station_id  \\\n",
       "22298              51                        5R              3     130018   \n",
       "32468              51                        4R              3     150326   \n",
       "43542              51                        1R              3     781229   \n",
       "45564              51                        1U              3     040766   \n",
       "55491              51                        1U              3     090122   \n",
       "\n",
       "       traffic_volume_counted_after_0000_to_0100  \\\n",
       "22298                                         10   \n",
       "32468                                         14   \n",
       "43542                                          8   \n",
       "45564                                        667   \n",
       "55491                                        427   \n",
       "\n",
       "       traffic_volume_counted_after_0100_to_0200  ...  \\\n",
       "22298                                          7  ...   \n",
       "32468                                          5  ...   \n",
       "43542                                         -1  ...   \n",
       "45564                                         -1  ...   \n",
       "55491                                         -1  ...   \n",
       "\n",
       "       traffic_volume_counted_after_1400_to_1500  \\\n",
       "22298                                        247   \n",
       "32468                                         96   \n",
       "43542                                         40   \n",
       "45564                                       2733   \n",
       "55491                                        689   \n",
       "\n",
       "       traffic_volume_counted_after_1500_to_1600  \\\n",
       "22298                                        270   \n",
       "32468                                         78   \n",
       "43542                                         50   \n",
       "45564                                       2899   \n",
       "55491                                        682   \n",
       "\n",
       "       traffic_volume_counted_after_1600_to_1700  \\\n",
       "22298                                        270   \n",
       "32468                                         58   \n",
       "43542                                         44   \n",
       "45564                                       2886   \n",
       "55491                                        704   \n",
       "\n",
       "       traffic_volume_counted_after_1700_to_1800  \\\n",
       "22298                                        238   \n",
       "32468                                         71   \n",
       "43542                                         36   \n",
       "45564                                       2759   \n",
       "55491                                        678   \n",
       "\n",
       "       traffic_volume_counted_after_1800_to_1900  \\\n",
       "22298                                        162   \n",
       "32468                                         75   \n",
       "43542                                         22   \n",
       "45564                                       2709   \n",
       "55491                                        586   \n",
       "\n",
       "       traffic_volume_counted_after_1900_to_2000  \\\n",
       "22298                                        113   \n",
       "32468                                         63   \n",
       "43542                                         26   \n",
       "45564                                       2161   \n",
       "55491                                        530   \n",
       "\n",
       "       traffic_volume_counted_after_2000_to_2100  \\\n",
       "22298                                         49   \n",
       "32468                                         60   \n",
       "43542                                         28   \n",
       "45564                                       1698   \n",
       "55491                                        451   \n",
       "\n",
       "       traffic_volume_counted_after_2100_to_2200  \\\n",
       "22298                                         43   \n",
       "32468                                         21   \n",
       "43542                                         18   \n",
       "45564                                       1295   \n",
       "55491                                        294   \n",
       "\n",
       "       traffic_volume_counted_after_2200_to_2300  \\\n",
       "22298                                         19   \n",
       "32468                                         25   \n",
       "43542                                         16   \n",
       "45564                                        877   \n",
       "55491                                        210   \n",
       "\n",
       "       traffic_volume_counted_after_2300_to_2400  \n",
       "22298                                          2  \n",
       "32468                                         16  \n",
       "43542                                          3  \n",
       "45564                                        602  \n",
       "55491                                        135  \n",
       "\n",
       "[5 rows x 32 columns]"
      ]
     },
     "execution_count": 7,
     "metadata": {},
     "output_type": "execute_result"
    }
   ],
   "source": [
    "start_column = \"traffic_volume_counted_after_0000_to_0100\"\n",
    "end_column = \"traffic_volume_counted_after_2300_to_2400\"\n",
    "\n",
    "invalid = traffic[(traffic.loc[:, start_column: end_column] < 0).any(axis=1)]\n",
    "print(f\"There are {len(invalid)} rows containing negative values for traffic volume\")\n",
    "invalid.head()"
   ]
  },
  {
   "cell_type": "markdown",
   "id": "64bc8a03",
   "metadata": {},
   "source": [
    "Let's inspect what the negative values are and their respective counts"
   ]
  },
  {
   "cell_type": "code",
   "execution_count": 8,
   "id": "152425ef",
   "metadata": {},
   "outputs": [
    {
     "name": "stdout",
     "output_type": "stream",
     "text": [
      "Value: Count\n",
      "-3061: 1\n",
      "   -1: 1448\n"
     ]
    }
   ],
   "source": [
    "invalid_traffic_volume = invalid.loc[:, start_column: end_column].values\n",
    "\n",
    "negative_values, counts = np.unique(\n",
    "    invalid_traffic_volume[invalid_traffic_volume < 0],\n",
    "    return_counts = True\n",
    ")\n",
    "\n",
    "print(\"Value: Count\")\n",
    "for value, count in zip(negative_values, counts):\n",
    "    print(f\"{str(value).rjust(5, ' ')}: {count}\")"
   ]
  },
  {
   "cell_type": "markdown",
   "id": "3a6bc0ad",
   "metadata": {},
   "source": [
    "In most cases (1448 out of 1449), -1 was the negative value. These negative values could be because the sensors were down for that particular time interval. Let's assume that the negative values were indeed due to the down sensors. In such a scenario, no values would be recorded for traffic volume (i.e. traffic volume = 0). As such, let's replace the negative values with 0."
   ]
  },
  {
   "cell_type": "code",
   "execution_count": 9,
   "id": "14c72b8a",
   "metadata": {},
   "outputs": [],
   "source": [
    "replacements = {col: {value: 0 for value in negative_values} for col in traffic.columns[-24:]}\n",
    "traffic = traffic.replace(replacements)"
   ]
  },
  {
   "cell_type": "markdown",
   "id": "99831faf",
   "metadata": {},
   "source": [
    "### Caveats"
   ]
  },
  {
   "cell_type": "markdown",
   "id": "3be25b03",
   "metadata": {},
   "source": [
    "Let's check that in general, the traffic dataset does contain 365 days (a year) of data"
   ]
  },
  {
   "cell_type": "code",
   "execution_count": 10,
   "id": "c3215fa7",
   "metadata": {},
   "outputs": [
    {
     "name": "stdout",
     "output_type": "stream",
     "text": [
      "Number of unique dates in traffic dataset: 365\n"
     ]
    }
   ],
   "source": [
    "print(f\"Number of unique dates in traffic dataset: {len(traffic.date.unique())}\")"
   ]
  },
  {
   "cell_type": "markdown",
   "id": "9bddecdf",
   "metadata": {},
   "source": [
    "For the purpose of subsequent analysis in caveats, let's define a unique station based on its fips_state_code, station_id, direction_of_travel and function_classification. What this means is that so long as two stations have different fips_state_code, station_id, direction_of_travel or function_classification, they are considered as two unique stations.\n",
    "\n",
    "Let's check if evey unique station has 365 days (a year) worth of data"
   ]
  },
  {
   "cell_type": "code",
   "execution_count": 11,
   "id": "990fc462",
   "metadata": {},
   "outputs": [
    {
     "data": {
      "text/html": [
       "<div>\n",
       "<style scoped>\n",
       "    .dataframe tbody tr th:only-of-type {\n",
       "        vertical-align: middle;\n",
       "    }\n",
       "\n",
       "    .dataframe tbody tr th {\n",
       "        vertical-align: top;\n",
       "    }\n",
       "\n",
       "    .dataframe thead th {\n",
       "        text-align: right;\n",
       "    }\n",
       "</style>\n",
       "<table border=\"1\" class=\"dataframe\">\n",
       "  <thead>\n",
       "    <tr style=\"text-align: right;\">\n",
       "      <th></th>\n",
       "      <th>fips_state_code</th>\n",
       "      <th>station_id</th>\n",
       "      <th>direction_of_travel</th>\n",
       "      <th>functional_classification</th>\n",
       "      <th>num_unique_dates</th>\n",
       "    </tr>\n",
       "  </thead>\n",
       "  <tbody>\n",
       "    <tr>\n",
       "      <th>0</th>\n",
       "      <td>01</td>\n",
       "      <td>000002</td>\n",
       "      <td>3</td>\n",
       "      <td>3R</td>\n",
       "      <td>325</td>\n",
       "    </tr>\n",
       "    <tr>\n",
       "      <th>1</th>\n",
       "      <td>01</td>\n",
       "      <td>000002</td>\n",
       "      <td>7</td>\n",
       "      <td>3R</td>\n",
       "      <td>324</td>\n",
       "    </tr>\n",
       "    <tr>\n",
       "      <th>2</th>\n",
       "      <td>01</td>\n",
       "      <td>000004</td>\n",
       "      <td>3</td>\n",
       "      <td>1R</td>\n",
       "      <td>330</td>\n",
       "    </tr>\n",
       "    <tr>\n",
       "      <th>3</th>\n",
       "      <td>01</td>\n",
       "      <td>000004</td>\n",
       "      <td>7</td>\n",
       "      <td>1R</td>\n",
       "      <td>330</td>\n",
       "    </tr>\n",
       "    <tr>\n",
       "      <th>4</th>\n",
       "      <td>01</td>\n",
       "      <td>000006</td>\n",
       "      <td>1</td>\n",
       "      <td>4R</td>\n",
       "      <td>287</td>\n",
       "    </tr>\n",
       "    <tr>\n",
       "      <th>...</th>\n",
       "      <td>...</td>\n",
       "      <td>...</td>\n",
       "      <td>...</td>\n",
       "      <td>...</td>\n",
       "      <td>...</td>\n",
       "    </tr>\n",
       "    <tr>\n",
       "      <th>12369</th>\n",
       "      <td>56</td>\n",
       "      <td>0169NE</td>\n",
       "      <td>5</td>\n",
       "      <td>3R</td>\n",
       "      <td>347</td>\n",
       "    </tr>\n",
       "    <tr>\n",
       "      <th>12370</th>\n",
       "      <td>56</td>\n",
       "      <td>0169NW</td>\n",
       "      <td>1</td>\n",
       "      <td>4R</td>\n",
       "      <td>347</td>\n",
       "    </tr>\n",
       "    <tr>\n",
       "      <th>12371</th>\n",
       "      <td>56</td>\n",
       "      <td>0169NW</td>\n",
       "      <td>5</td>\n",
       "      <td>4R</td>\n",
       "      <td>347</td>\n",
       "    </tr>\n",
       "    <tr>\n",
       "      <th>12372</th>\n",
       "      <td>56</td>\n",
       "      <td>RP0369</td>\n",
       "      <td>1</td>\n",
       "      <td>1U</td>\n",
       "      <td>359</td>\n",
       "    </tr>\n",
       "    <tr>\n",
       "      <th>12373</th>\n",
       "      <td>56</td>\n",
       "      <td>RP0370</td>\n",
       "      <td>5</td>\n",
       "      <td>1U</td>\n",
       "      <td>359</td>\n",
       "    </tr>\n",
       "  </tbody>\n",
       "</table>\n",
       "<p>12374 rows × 5 columns</p>\n",
       "</div>"
      ],
      "text/plain": [
       "      fips_state_code station_id  direction_of_travel  \\\n",
       "0                  01     000002                    3   \n",
       "1                  01     000002                    7   \n",
       "2                  01     000004                    3   \n",
       "3                  01     000004                    7   \n",
       "4                  01     000006                    1   \n",
       "...               ...        ...                  ...   \n",
       "12369              56     0169NE                    5   \n",
       "12370              56     0169NW                    1   \n",
       "12371              56     0169NW                    5   \n",
       "12372              56     RP0369                    1   \n",
       "12373              56     RP0370                    5   \n",
       "\n",
       "      functional_classification  num_unique_dates  \n",
       "0                            3R               325  \n",
       "1                            3R               324  \n",
       "2                            1R               330  \n",
       "3                            1R               330  \n",
       "4                            4R               287  \n",
       "...                         ...               ...  \n",
       "12369                        3R               347  \n",
       "12370                        4R               347  \n",
       "12371                        4R               347  \n",
       "12372                        1U               359  \n",
       "12373                        1U               359  \n",
       "\n",
       "[12374 rows x 5 columns]"
      ]
     },
     "execution_count": 11,
     "metadata": {},
     "output_type": "execute_result"
    }
   ],
   "source": [
    "columns = [\"date\", \"fips_state_code\", \"station_id\", \"functional_classification\", \"direction_of_travel\"]\n",
    "group_columns = [\"fips_state_code\", \"station_id\", \"direction_of_travel\", \"functional_classification\"]\n",
    "\n",
    "num_unique_dates = traffic[columns] \\\n",
    ".groupby(group_columns) \\\n",
    ".agg(\"nunique\") \\\n",
    ".reset_index(drop=False) \\\n",
    ".rename(columns = {\"date\": \"num_unique_dates\"})\n",
    "\n",
    "num_unique_dates"
   ]
  },
  {
   "cell_type": "markdown",
   "id": "8d0447f2",
   "metadata": {},
   "source": [
    "From the table above, it seems that not all the unique stations have 365 days of recorded data. Let's take a look at the box plot for num_unique_dates."
   ]
  },
  {
   "cell_type": "code",
   "execution_count": 12,
   "id": "1082646d",
   "metadata": {},
   "outputs": [
    {
     "data": {
      "text/html": [
       "<div>\n",
       "<style scoped>\n",
       "    .dataframe tbody tr th:only-of-type {\n",
       "        vertical-align: middle;\n",
       "    }\n",
       "\n",
       "    .dataframe tbody tr th {\n",
       "        vertical-align: top;\n",
       "    }\n",
       "\n",
       "    .dataframe thead th {\n",
       "        text-align: right;\n",
       "    }\n",
       "</style>\n",
       "<table border=\"1\" class=\"dataframe\">\n",
       "  <thead>\n",
       "    <tr style=\"text-align: right;\">\n",
       "      <th></th>\n",
       "      <th>num_unique_dates</th>\n",
       "    </tr>\n",
       "  </thead>\n",
       "  <tbody>\n",
       "    <tr>\n",
       "      <th>count</th>\n",
       "      <td>12374.000000</td>\n",
       "    </tr>\n",
       "    <tr>\n",
       "      <th>mean</th>\n",
       "      <td>301.745919</td>\n",
       "    </tr>\n",
       "    <tr>\n",
       "      <th>std</th>\n",
       "      <td>87.625571</td>\n",
       "    </tr>\n",
       "    <tr>\n",
       "      <th>min</th>\n",
       "      <td>1.000000</td>\n",
       "    </tr>\n",
       "    <tr>\n",
       "      <th>25%</th>\n",
       "      <td>286.000000</td>\n",
       "    </tr>\n",
       "    <tr>\n",
       "      <th>50%</th>\n",
       "      <td>342.000000</td>\n",
       "    </tr>\n",
       "    <tr>\n",
       "      <th>75%</th>\n",
       "      <td>360.000000</td>\n",
       "    </tr>\n",
       "    <tr>\n",
       "      <th>max</th>\n",
       "      <td>365.000000</td>\n",
       "    </tr>\n",
       "  </tbody>\n",
       "</table>\n",
       "</div>"
      ],
      "text/plain": [
       "       num_unique_dates\n",
       "count      12374.000000\n",
       "mean         301.745919\n",
       "std           87.625571\n",
       "min            1.000000\n",
       "25%          286.000000\n",
       "50%          342.000000\n",
       "75%          360.000000\n",
       "max          365.000000"
      ]
     },
     "execution_count": 12,
     "metadata": {},
     "output_type": "execute_result"
    }
   ],
   "source": [
    "num_unique_dates[[\"num_unique_dates\"]].describe()"
   ]
  },
  {
   "cell_type": "code",
   "execution_count": 42,
   "id": "84644278",
   "metadata": {},
   "outputs": [
    {
     "data": {
      "text/html": [
       "<div>\n",
       "<style scoped>\n",
       "    .dataframe tbody tr th:only-of-type {\n",
       "        vertical-align: middle;\n",
       "    }\n",
       "\n",
       "    .dataframe tbody tr th {\n",
       "        vertical-align: top;\n",
       "    }\n",
       "\n",
       "    .dataframe thead th {\n",
       "        text-align: right;\n",
       "    }\n",
       "</style>\n",
       "<table border=\"1\" class=\"dataframe\">\n",
       "  <thead>\n",
       "    <tr style=\"text-align: right;\">\n",
       "      <th></th>\n",
       "      <th>num_unique_dates</th>\n",
       "    </tr>\n",
       "  </thead>\n",
       "  <tbody>\n",
       "    <tr>\n",
       "      <th>count</th>\n",
       "      <td>12374.000000</td>\n",
       "    </tr>\n",
       "    <tr>\n",
       "      <th>mean</th>\n",
       "      <td>301.745919</td>\n",
       "    </tr>\n",
       "    <tr>\n",
       "      <th>std</th>\n",
       "      <td>87.625571</td>\n",
       "    </tr>\n",
       "    <tr>\n",
       "      <th>min</th>\n",
       "      <td>1.000000</td>\n",
       "    </tr>\n",
       "    <tr>\n",
       "      <th>25%</th>\n",
       "      <td>286.000000</td>\n",
       "    </tr>\n",
       "    <tr>\n",
       "      <th>50%</th>\n",
       "      <td>342.000000</td>\n",
       "    </tr>\n",
       "    <tr>\n",
       "      <th>75%</th>\n",
       "      <td>360.000000</td>\n",
       "    </tr>\n",
       "    <tr>\n",
       "      <th>max</th>\n",
       "      <td>365.000000</td>\n",
       "    </tr>\n",
       "  </tbody>\n",
       "</table>\n",
       "</div>"
      ],
      "text/plain": [
       "       num_unique_dates\n",
       "count      12374.000000\n",
       "mean         301.745919\n",
       "std           87.625571\n",
       "min            1.000000\n",
       "25%          286.000000\n",
       "50%          342.000000\n",
       "75%          360.000000\n",
       "max          365.000000"
      ]
     },
     "execution_count": 42,
     "metadata": {},
     "output_type": "execute_result"
    }
   ],
   "source": [
    "# It appears that not every station has all 365 days of its data recorded\n",
    "# Let's take a look at the summary statistics for num_unique_dates\n",
    "num_unique_dates[[\"num_unique_dates\"]].describe()"
   ]
  },
  {
   "cell_type": "code",
   "execution_count": 43,
   "id": "0bcddff9",
   "metadata": {},
   "outputs": [
    {
     "data": {
      "text/html": [
       "<div>\n",
       "<style scoped>\n",
       "    .dataframe tbody tr th:only-of-type {\n",
       "        vertical-align: middle;\n",
       "    }\n",
       "\n",
       "    .dataframe tbody tr th {\n",
       "        vertical-align: top;\n",
       "    }\n",
       "\n",
       "    .dataframe thead th {\n",
       "        text-align: right;\n",
       "    }\n",
       "</style>\n",
       "<table border=\"1\" class=\"dataframe\">\n",
       "  <thead>\n",
       "    <tr style=\"text-align: right;\">\n",
       "      <th></th>\n",
       "      <th>fips_state_code</th>\n",
       "      <th>station_id</th>\n",
       "      <th>direction_of_travel</th>\n",
       "      <th>functional_classification</th>\n",
       "      <th>num_unique_dates</th>\n",
       "    </tr>\n",
       "  </thead>\n",
       "  <tbody>\n",
       "    <tr>\n",
       "      <th>4766</th>\n",
       "      <td>22</td>\n",
       "      <td>000057</td>\n",
       "      <td>5</td>\n",
       "      <td>4R</td>\n",
       "      <td>1</td>\n",
       "    </tr>\n",
       "    <tr>\n",
       "      <th>4765</th>\n",
       "      <td>22</td>\n",
       "      <td>000057</td>\n",
       "      <td>1</td>\n",
       "      <td>4R</td>\n",
       "      <td>1</td>\n",
       "    </tr>\n",
       "    <tr>\n",
       "      <th>1347</th>\n",
       "      <td>06</td>\n",
       "      <td>043340</td>\n",
       "      <td>3</td>\n",
       "      <td>1U</td>\n",
       "      <td>1</td>\n",
       "    </tr>\n",
       "    <tr>\n",
       "      <th>11584</th>\n",
       "      <td>54</td>\n",
       "      <td>000090</td>\n",
       "      <td>3</td>\n",
       "      <td>1U</td>\n",
       "      <td>1</td>\n",
       "    </tr>\n",
       "    <tr>\n",
       "      <th>1511</th>\n",
       "      <td>06</td>\n",
       "      <td>075020</td>\n",
       "      <td>3</td>\n",
       "      <td>1U</td>\n",
       "      <td>1</td>\n",
       "    </tr>\n",
       "    <tr>\n",
       "      <th>...</th>\n",
       "      <td>...</td>\n",
       "      <td>...</td>\n",
       "      <td>...</td>\n",
       "      <td>...</td>\n",
       "      <td>...</td>\n",
       "    </tr>\n",
       "    <tr>\n",
       "      <th>839</th>\n",
       "      <td>04</td>\n",
       "      <td>101249</td>\n",
       "      <td>1</td>\n",
       "      <td>2U</td>\n",
       "      <td>24</td>\n",
       "    </tr>\n",
       "    <tr>\n",
       "      <th>838</th>\n",
       "      <td>04</td>\n",
       "      <td>101247</td>\n",
       "      <td>5</td>\n",
       "      <td>2U</td>\n",
       "      <td>24</td>\n",
       "    </tr>\n",
       "    <tr>\n",
       "      <th>130</th>\n",
       "      <td>01</td>\n",
       "      <td>000156</td>\n",
       "      <td>1</td>\n",
       "      <td>1U</td>\n",
       "      <td>25</td>\n",
       "    </tr>\n",
       "    <tr>\n",
       "      <th>9162</th>\n",
       "      <td>47</td>\n",
       "      <td>000235</td>\n",
       "      <td>3</td>\n",
       "      <td>1U</td>\n",
       "      <td>25</td>\n",
       "    </tr>\n",
       "    <tr>\n",
       "      <th>2846</th>\n",
       "      <td>13</td>\n",
       "      <td>000112</td>\n",
       "      <td>7</td>\n",
       "      <td>2U</td>\n",
       "      <td>25</td>\n",
       "    </tr>\n",
       "  </tbody>\n",
       "</table>\n",
       "<p>100 rows × 5 columns</p>\n",
       "</div>"
      ],
      "text/plain": [
       "      fips_state_code station_id  direction_of_travel  \\\n",
       "4766               22     000057                    5   \n",
       "4765               22     000057                    1   \n",
       "1347               06     043340                    3   \n",
       "11584              54     000090                    3   \n",
       "1511               06     075020                    3   \n",
       "...               ...        ...                  ...   \n",
       "839                04     101249                    1   \n",
       "838                04     101247                    5   \n",
       "130                01     000156                    1   \n",
       "9162               47     000235                    3   \n",
       "2846               13     000112                    7   \n",
       "\n",
       "      functional_classification  num_unique_dates  \n",
       "4766                         4R                 1  \n",
       "4765                         4R                 1  \n",
       "1347                         1U                 1  \n",
       "11584                        1U                 1  \n",
       "1511                         1U                 1  \n",
       "...                         ...               ...  \n",
       "839                          2U                24  \n",
       "838                          2U                24  \n",
       "130                          1U                25  \n",
       "9162                         1U                25  \n",
       "2846                         2U                25  \n",
       "\n",
       "[100 rows x 5 columns]"
      ]
     },
     "execution_count": 43,
     "metadata": {},
     "output_type": "execute_result"
    }
   ],
   "source": [
    "# Let's sort the data by num_unique_dates\n",
    "num_unique_dates.sort_values(\"num_unique_dates\").head(100)"
   ]
  },
  {
   "cell_type": "code",
   "execution_count": 44,
   "id": "9268c3a3",
   "metadata": {},
   "outputs": [
    {
     "data": {
      "text/html": [
       "<div>\n",
       "<style scoped>\n",
       "    .dataframe tbody tr th:only-of-type {\n",
       "        vertical-align: middle;\n",
       "    }\n",
       "\n",
       "    .dataframe tbody tr th {\n",
       "        vertical-align: top;\n",
       "    }\n",
       "\n",
       "    .dataframe thead th {\n",
       "        text-align: right;\n",
       "    }\n",
       "</style>\n",
       "<table border=\"1\" class=\"dataframe\">\n",
       "  <thead>\n",
       "    <tr style=\"text-align: right;\">\n",
       "      <th></th>\n",
       "      <th>fips_state_code</th>\n",
       "      <th>num_unique_stations</th>\n",
       "    </tr>\n",
       "  </thead>\n",
       "  <tbody>\n",
       "    <tr>\n",
       "      <th>0</th>\n",
       "      <td>01</td>\n",
       "      <td>296</td>\n",
       "    </tr>\n",
       "    <tr>\n",
       "      <th>1</th>\n",
       "      <td>02</td>\n",
       "      <td>210</td>\n",
       "    </tr>\n",
       "    <tr>\n",
       "      <th>2</th>\n",
       "      <td>04</td>\n",
       "      <td>526</td>\n",
       "    </tr>\n",
       "    <tr>\n",
       "      <th>3</th>\n",
       "      <td>05</td>\n",
       "      <td>115</td>\n",
       "    </tr>\n",
       "    <tr>\n",
       "      <th>4</th>\n",
       "      <td>06</td>\n",
       "      <td>570</td>\n",
       "    </tr>\n",
       "    <tr>\n",
       "      <th>5</th>\n",
       "      <td>08</td>\n",
       "      <td>212</td>\n",
       "    </tr>\n",
       "    <tr>\n",
       "      <th>6</th>\n",
       "      <td>09</td>\n",
       "      <td>75</td>\n",
       "    </tr>\n",
       "    <tr>\n",
       "      <th>7</th>\n",
       "      <td>10</td>\n",
       "      <td>168</td>\n",
       "    </tr>\n",
       "    <tr>\n",
       "      <th>8</th>\n",
       "      <td>11</td>\n",
       "      <td>4</td>\n",
       "    </tr>\n",
       "    <tr>\n",
       "      <th>9</th>\n",
       "      <td>12</td>\n",
       "      <td>545</td>\n",
       "    </tr>\n",
       "    <tr>\n",
       "      <th>10</th>\n",
       "      <td>13</td>\n",
       "      <td>446</td>\n",
       "    </tr>\n",
       "    <tr>\n",
       "      <th>11</th>\n",
       "      <td>15</td>\n",
       "      <td>152</td>\n",
       "    </tr>\n",
       "    <tr>\n",
       "      <th>12</th>\n",
       "      <td>16</td>\n",
       "      <td>423</td>\n",
       "    </tr>\n",
       "    <tr>\n",
       "      <th>13</th>\n",
       "      <td>17</td>\n",
       "      <td>205</td>\n",
       "    </tr>\n",
       "    <tr>\n",
       "      <th>14</th>\n",
       "      <td>18</td>\n",
       "      <td>171</td>\n",
       "    </tr>\n",
       "    <tr>\n",
       "      <th>15</th>\n",
       "      <td>19</td>\n",
       "      <td>201</td>\n",
       "    </tr>\n",
       "    <tr>\n",
       "      <th>16</th>\n",
       "      <td>20</td>\n",
       "      <td>196</td>\n",
       "    </tr>\n",
       "    <tr>\n",
       "      <th>17</th>\n",
       "      <td>21</td>\n",
       "      <td>162</td>\n",
       "    </tr>\n",
       "    <tr>\n",
       "      <th>18</th>\n",
       "      <td>22</td>\n",
       "      <td>120</td>\n",
       "    </tr>\n",
       "    <tr>\n",
       "      <th>19</th>\n",
       "      <td>23</td>\n",
       "      <td>129</td>\n",
       "    </tr>\n",
       "    <tr>\n",
       "      <th>20</th>\n",
       "      <td>24</td>\n",
       "      <td>150</td>\n",
       "    </tr>\n",
       "    <tr>\n",
       "      <th>21</th>\n",
       "      <td>25</td>\n",
       "      <td>103</td>\n",
       "    </tr>\n",
       "    <tr>\n",
       "      <th>22</th>\n",
       "      <td>26</td>\n",
       "      <td>245</td>\n",
       "    </tr>\n",
       "    <tr>\n",
       "      <th>23</th>\n",
       "      <td>27</td>\n",
       "      <td>177</td>\n",
       "    </tr>\n",
       "    <tr>\n",
       "      <th>24</th>\n",
       "      <td>28</td>\n",
       "      <td>194</td>\n",
       "    </tr>\n",
       "    <tr>\n",
       "      <th>25</th>\n",
       "      <td>29</td>\n",
       "      <td>168</td>\n",
       "    </tr>\n",
       "    <tr>\n",
       "      <th>26</th>\n",
       "      <td>30</td>\n",
       "      <td>197</td>\n",
       "    </tr>\n",
       "    <tr>\n",
       "      <th>27</th>\n",
       "      <td>31</td>\n",
       "      <td>99</td>\n",
       "    </tr>\n",
       "    <tr>\n",
       "      <th>28</th>\n",
       "      <td>32</td>\n",
       "      <td>196</td>\n",
       "    </tr>\n",
       "    <tr>\n",
       "      <th>29</th>\n",
       "      <td>33</td>\n",
       "      <td>195</td>\n",
       "    </tr>\n",
       "    <tr>\n",
       "      <th>30</th>\n",
       "      <td>34</td>\n",
       "      <td>75</td>\n",
       "    </tr>\n",
       "    <tr>\n",
       "      <th>31</th>\n",
       "      <td>35</td>\n",
       "      <td>228</td>\n",
       "    </tr>\n",
       "    <tr>\n",
       "      <th>32</th>\n",
       "      <td>36</td>\n",
       "      <td>345</td>\n",
       "    </tr>\n",
       "    <tr>\n",
       "      <th>33</th>\n",
       "      <td>37</td>\n",
       "      <td>134</td>\n",
       "    </tr>\n",
       "    <tr>\n",
       "      <th>34</th>\n",
       "      <td>38</td>\n",
       "      <td>128</td>\n",
       "    </tr>\n",
       "    <tr>\n",
       "      <th>35</th>\n",
       "      <td>39</td>\n",
       "      <td>352</td>\n",
       "    </tr>\n",
       "    <tr>\n",
       "      <th>36</th>\n",
       "      <td>40</td>\n",
       "      <td>180</td>\n",
       "    </tr>\n",
       "    <tr>\n",
       "      <th>37</th>\n",
       "      <td>41</td>\n",
       "      <td>350</td>\n",
       "    </tr>\n",
       "    <tr>\n",
       "      <th>38</th>\n",
       "      <td>42</td>\n",
       "      <td>180</td>\n",
       "    </tr>\n",
       "    <tr>\n",
       "      <th>39</th>\n",
       "      <td>44</td>\n",
       "      <td>184</td>\n",
       "    </tr>\n",
       "    <tr>\n",
       "      <th>40</th>\n",
       "      <td>45</td>\n",
       "      <td>131</td>\n",
       "    </tr>\n",
       "    <tr>\n",
       "      <th>41</th>\n",
       "      <td>46</td>\n",
       "      <td>131</td>\n",
       "    </tr>\n",
       "    <tr>\n",
       "      <th>42</th>\n",
       "      <td>47</td>\n",
       "      <td>114</td>\n",
       "    </tr>\n",
       "    <tr>\n",
       "      <th>43</th>\n",
       "      <td>48</td>\n",
       "      <td>528</td>\n",
       "    </tr>\n",
       "    <tr>\n",
       "      <th>44</th>\n",
       "      <td>49</td>\n",
       "      <td>220</td>\n",
       "    </tr>\n",
       "    <tr>\n",
       "      <th>45</th>\n",
       "      <td>50</td>\n",
       "      <td>230</td>\n",
       "    </tr>\n",
       "    <tr>\n",
       "      <th>46</th>\n",
       "      <td>51</td>\n",
       "      <td>961</td>\n",
       "    </tr>\n",
       "    <tr>\n",
       "      <th>47</th>\n",
       "      <td>53</td>\n",
       "      <td>327</td>\n",
       "    </tr>\n",
       "    <tr>\n",
       "      <th>48</th>\n",
       "      <td>54</td>\n",
       "      <td>141</td>\n",
       "    </tr>\n",
       "    <tr>\n",
       "      <th>49</th>\n",
       "      <td>55</td>\n",
       "      <td>447</td>\n",
       "    </tr>\n",
       "    <tr>\n",
       "      <th>50</th>\n",
       "      <td>56</td>\n",
       "      <td>338</td>\n",
       "    </tr>\n",
       "  </tbody>\n",
       "</table>\n",
       "</div>"
      ],
      "text/plain": [
       "   fips_state_code  num_unique_stations\n",
       "0               01                  296\n",
       "1               02                  210\n",
       "2               04                  526\n",
       "3               05                  115\n",
       "4               06                  570\n",
       "5               08                  212\n",
       "6               09                   75\n",
       "7               10                  168\n",
       "8               11                    4\n",
       "9               12                  545\n",
       "10              13                  446\n",
       "11              15                  152\n",
       "12              16                  423\n",
       "13              17                  205\n",
       "14              18                  171\n",
       "15              19                  201\n",
       "16              20                  196\n",
       "17              21                  162\n",
       "18              22                  120\n",
       "19              23                  129\n",
       "20              24                  150\n",
       "21              25                  103\n",
       "22              26                  245\n",
       "23              27                  177\n",
       "24              28                  194\n",
       "25              29                  168\n",
       "26              30                  197\n",
       "27              31                   99\n",
       "28              32                  196\n",
       "29              33                  195\n",
       "30              34                   75\n",
       "31              35                  228\n",
       "32              36                  345\n",
       "33              37                  134\n",
       "34              38                  128\n",
       "35              39                  352\n",
       "36              40                  180\n",
       "37              41                  350\n",
       "38              42                  180\n",
       "39              44                  184\n",
       "40              45                  131\n",
       "41              46                  131\n",
       "42              47                  114\n",
       "43              48                  528\n",
       "44              49                  220\n",
       "45              50                  230\n",
       "46              51                  961\n",
       "47              53                  327\n",
       "48              54                  141\n",
       "49              55                  447\n",
       "50              56                  338"
      ]
     },
     "execution_count": 44,
     "metadata": {},
     "output_type": "execute_result"
    }
   ],
   "source": [
    "# Let's find the number of unique stations per state\n",
    "# For our analysis, a unique station is defined based on its station_id, direction_of_travel and functional_classification\n",
    "# i.e. two stations with the same station_id but different direction_of_travel is considered as 2 unique stations\n",
    "num_stations = num_unique_dates.groupby(\n",
    "    [\"fips_state_code\", \"station_id\", \"direction_of_travel\", \"functional_classification\"]) \\\n",
    "    .agg(\"count\") \\\n",
    "    .reset_index() \\\n",
    "    .rename(columns = {\"num_unique_dates\": \"num_unique_stations\"})\n",
    "\n",
    "num_unique_stations = num_stations[[\"fips_state_code\", \"num_unique_stations\"]] \\\n",
    "                      .groupby(\"fips_state_code\") \\\n",
    "                      .sum() \\\n",
    "                      .reset_index()\n",
    "num_unique_stations"
   ]
  },
  {
   "cell_type": "code",
   "execution_count": 45,
   "id": "c6236a73",
   "metadata": {},
   "outputs": [
    {
     "data": {
      "text/html": [
       "<div>\n",
       "<style scoped>\n",
       "    .dataframe tbody tr th:only-of-type {\n",
       "        vertical-align: middle;\n",
       "    }\n",
       "\n",
       "    .dataframe tbody tr th {\n",
       "        vertical-align: top;\n",
       "    }\n",
       "\n",
       "    .dataframe thead th {\n",
       "        text-align: right;\n",
       "    }\n",
       "</style>\n",
       "<table border=\"1\" class=\"dataframe\">\n",
       "  <thead>\n",
       "    <tr style=\"text-align: right;\">\n",
       "      <th></th>\n",
       "      <th>num_unique_stations</th>\n",
       "    </tr>\n",
       "  </thead>\n",
       "  <tbody>\n",
       "    <tr>\n",
       "      <th>count</th>\n",
       "      <td>51.000000</td>\n",
       "    </tr>\n",
       "    <tr>\n",
       "      <th>mean</th>\n",
       "      <td>242.627451</td>\n",
       "    </tr>\n",
       "    <tr>\n",
       "      <th>std</th>\n",
       "      <td>166.828650</td>\n",
       "    </tr>\n",
       "    <tr>\n",
       "      <th>min</th>\n",
       "      <td>4.000000</td>\n",
       "    </tr>\n",
       "    <tr>\n",
       "      <th>25%</th>\n",
       "      <td>137.500000</td>\n",
       "    </tr>\n",
       "    <tr>\n",
       "      <th>50%</th>\n",
       "      <td>195.000000</td>\n",
       "    </tr>\n",
       "    <tr>\n",
       "      <th>75%</th>\n",
       "      <td>311.500000</td>\n",
       "    </tr>\n",
       "    <tr>\n",
       "      <th>max</th>\n",
       "      <td>961.000000</td>\n",
       "    </tr>\n",
       "  </tbody>\n",
       "</table>\n",
       "</div>"
      ],
      "text/plain": [
       "       num_unique_stations\n",
       "count            51.000000\n",
       "mean            242.627451\n",
       "std             166.828650\n",
       "min               4.000000\n",
       "25%             137.500000\n",
       "50%             195.000000\n",
       "75%             311.500000\n",
       "max             961.000000"
      ]
     },
     "execution_count": 45,
     "metadata": {},
     "output_type": "execute_result"
    }
   ],
   "source": [
    "# There is a large spread in terms of the number of unique stations in each state as seen from below\n",
    "num_unique_stations.describe()"
   ]
  },
  {
   "cell_type": "code",
   "execution_count": 62,
   "id": "a9a2126c",
   "metadata": {},
   "outputs": [
    {
     "data": {
      "text/html": [
       "<div>\n",
       "<style scoped>\n",
       "    .dataframe tbody tr th:only-of-type {\n",
       "        vertical-align: middle;\n",
       "    }\n",
       "\n",
       "    .dataframe tbody tr th {\n",
       "        vertical-align: top;\n",
       "    }\n",
       "\n",
       "    .dataframe thead th {\n",
       "        text-align: right;\n",
       "    }\n",
       "</style>\n",
       "<table border=\"1\" class=\"dataframe\">\n",
       "  <thead>\n",
       "    <tr style=\"text-align: right;\">\n",
       "      <th></th>\n",
       "      <th>fips_state_code</th>\n",
       "      <th>annual_traffic_volume</th>\n",
       "    </tr>\n",
       "  </thead>\n",
       "  <tbody>\n",
       "    <tr>\n",
       "      <th>0</th>\n",
       "      <td>01</td>\n",
       "      <td>1461509905</td>\n",
       "    </tr>\n",
       "    <tr>\n",
       "      <th>1</th>\n",
       "      <td>02</td>\n",
       "      <td>318138924</td>\n",
       "    </tr>\n",
       "    <tr>\n",
       "      <th>2</th>\n",
       "      <td>04</td>\n",
       "      <td>5600393206</td>\n",
       "    </tr>\n",
       "    <tr>\n",
       "      <th>3</th>\n",
       "      <td>05</td>\n",
       "      <td>278436058</td>\n",
       "    </tr>\n",
       "    <tr>\n",
       "      <th>4</th>\n",
       "      <td>06</td>\n",
       "      <td>6670057776</td>\n",
       "    </tr>\n",
       "    <tr>\n",
       "      <th>5</th>\n",
       "      <td>08</td>\n",
       "      <td>964145461</td>\n",
       "    </tr>\n",
       "    <tr>\n",
       "      <th>6</th>\n",
       "      <td>09</td>\n",
       "      <td>500556105</td>\n",
       "    </tr>\n",
       "    <tr>\n",
       "      <th>7</th>\n",
       "      <td>10</td>\n",
       "      <td>534104309</td>\n",
       "    </tr>\n",
       "    <tr>\n",
       "      <th>8</th>\n",
       "      <td>11</td>\n",
       "      <td>59205437</td>\n",
       "    </tr>\n",
       "    <tr>\n",
       "      <th>9</th>\n",
       "      <td>12</td>\n",
       "      <td>4412694931</td>\n",
       "    </tr>\n",
       "    <tr>\n",
       "      <th>10</th>\n",
       "      <td>13</td>\n",
       "      <td>3094751035</td>\n",
       "    </tr>\n",
       "    <tr>\n",
       "      <th>11</th>\n",
       "      <td>15</td>\n",
       "      <td>1605036832</td>\n",
       "    </tr>\n",
       "    <tr>\n",
       "      <th>12</th>\n",
       "      <td>16</td>\n",
       "      <td>1134837654</td>\n",
       "    </tr>\n",
       "    <tr>\n",
       "      <th>13</th>\n",
       "      <td>17</td>\n",
       "      <td>604663105</td>\n",
       "    </tr>\n",
       "    <tr>\n",
       "      <th>14</th>\n",
       "      <td>18</td>\n",
       "      <td>332236497</td>\n",
       "    </tr>\n",
       "    <tr>\n",
       "      <th>15</th>\n",
       "      <td>19</td>\n",
       "      <td>510570289</td>\n",
       "    </tr>\n",
       "    <tr>\n",
       "      <th>16</th>\n",
       "      <td>20</td>\n",
       "      <td>340832204</td>\n",
       "    </tr>\n",
       "    <tr>\n",
       "      <th>17</th>\n",
       "      <td>21</td>\n",
       "      <td>597736449</td>\n",
       "    </tr>\n",
       "    <tr>\n",
       "      <th>18</th>\n",
       "      <td>22</td>\n",
       "      <td>263211358</td>\n",
       "    </tr>\n",
       "    <tr>\n",
       "      <th>19</th>\n",
       "      <td>23</td>\n",
       "      <td>195938846</td>\n",
       "    </tr>\n",
       "    <tr>\n",
       "      <th>20</th>\n",
       "      <td>24</td>\n",
       "      <td>1399825682</td>\n",
       "    </tr>\n",
       "    <tr>\n",
       "      <th>21</th>\n",
       "      <td>25</td>\n",
       "      <td>795943829</td>\n",
       "    </tr>\n",
       "    <tr>\n",
       "      <th>22</th>\n",
       "      <td>26</td>\n",
       "      <td>2308504217</td>\n",
       "    </tr>\n",
       "    <tr>\n",
       "      <th>23</th>\n",
       "      <td>27</td>\n",
       "      <td>828942796</td>\n",
       "    </tr>\n",
       "    <tr>\n",
       "      <th>24</th>\n",
       "      <td>28</td>\n",
       "      <td>619803351</td>\n",
       "    </tr>\n",
       "    <tr>\n",
       "      <th>25</th>\n",
       "      <td>29</td>\n",
       "      <td>849276076</td>\n",
       "    </tr>\n",
       "    <tr>\n",
       "      <th>26</th>\n",
       "      <td>30</td>\n",
       "      <td>255608184</td>\n",
       "    </tr>\n",
       "    <tr>\n",
       "      <th>27</th>\n",
       "      <td>31</td>\n",
       "      <td>329863440</td>\n",
       "    </tr>\n",
       "    <tr>\n",
       "      <th>28</th>\n",
       "      <td>32</td>\n",
       "      <td>1037072029</td>\n",
       "    </tr>\n",
       "    <tr>\n",
       "      <th>29</th>\n",
       "      <td>33</td>\n",
       "      <td>1108253743</td>\n",
       "    </tr>\n",
       "    <tr>\n",
       "      <th>30</th>\n",
       "      <td>34</td>\n",
       "      <td>549456912</td>\n",
       "    </tr>\n",
       "    <tr>\n",
       "      <th>31</th>\n",
       "      <td>35</td>\n",
       "      <td>384977104</td>\n",
       "    </tr>\n",
       "    <tr>\n",
       "      <th>32</th>\n",
       "      <td>36</td>\n",
       "      <td>1560213283</td>\n",
       "    </tr>\n",
       "    <tr>\n",
       "      <th>33</th>\n",
       "      <td>37</td>\n",
       "      <td>466053858</td>\n",
       "    </tr>\n",
       "    <tr>\n",
       "      <th>34</th>\n",
       "      <td>38</td>\n",
       "      <td>80318777</td>\n",
       "    </tr>\n",
       "    <tr>\n",
       "      <th>35</th>\n",
       "      <td>39</td>\n",
       "      <td>2631835767</td>\n",
       "    </tr>\n",
       "    <tr>\n",
       "      <th>36</th>\n",
       "      <td>40</td>\n",
       "      <td>1090108811</td>\n",
       "    </tr>\n",
       "    <tr>\n",
       "      <th>37</th>\n",
       "      <td>41</td>\n",
       "      <td>1443103445</td>\n",
       "    </tr>\n",
       "    <tr>\n",
       "      <th>38</th>\n",
       "      <td>42</td>\n",
       "      <td>534070530</td>\n",
       "    </tr>\n",
       "    <tr>\n",
       "      <th>39</th>\n",
       "      <td>44</td>\n",
       "      <td>2441569023</td>\n",
       "    </tr>\n",
       "    <tr>\n",
       "      <th>40</th>\n",
       "      <td>45</td>\n",
       "      <td>1511178572</td>\n",
       "    </tr>\n",
       "    <tr>\n",
       "      <th>41</th>\n",
       "      <td>46</td>\n",
       "      <td>147911499</td>\n",
       "    </tr>\n",
       "    <tr>\n",
       "      <th>42</th>\n",
       "      <td>47</td>\n",
       "      <td>276729299</td>\n",
       "    </tr>\n",
       "    <tr>\n",
       "      <th>43</th>\n",
       "      <td>48</td>\n",
       "      <td>2791691757</td>\n",
       "    </tr>\n",
       "    <tr>\n",
       "      <th>44</th>\n",
       "      <td>49</td>\n",
       "      <td>1191135280</td>\n",
       "    </tr>\n",
       "    <tr>\n",
       "      <th>45</th>\n",
       "      <td>50</td>\n",
       "      <td>197420518</td>\n",
       "    </tr>\n",
       "    <tr>\n",
       "      <th>46</th>\n",
       "      <td>51</td>\n",
       "      <td>9056241744</td>\n",
       "    </tr>\n",
       "    <tr>\n",
       "      <th>47</th>\n",
       "      <td>53</td>\n",
       "      <td>2702688901</td>\n",
       "    </tr>\n",
       "    <tr>\n",
       "      <th>48</th>\n",
       "      <td>54</td>\n",
       "      <td>151767797</td>\n",
       "    </tr>\n",
       "    <tr>\n",
       "      <th>49</th>\n",
       "      <td>55</td>\n",
       "      <td>1872783834</td>\n",
       "    </tr>\n",
       "    <tr>\n",
       "      <th>50</th>\n",
       "      <td>56</td>\n",
       "      <td>279254443</td>\n",
       "    </tr>\n",
       "  </tbody>\n",
       "</table>\n",
       "</div>"
      ],
      "text/plain": [
       "   fips_state_code  annual_traffic_volume\n",
       "0               01             1461509905\n",
       "1               02              318138924\n",
       "2               04             5600393206\n",
       "3               05              278436058\n",
       "4               06             6670057776\n",
       "5               08              964145461\n",
       "6               09              500556105\n",
       "7               10              534104309\n",
       "8               11               59205437\n",
       "9               12             4412694931\n",
       "10              13             3094751035\n",
       "11              15             1605036832\n",
       "12              16             1134837654\n",
       "13              17              604663105\n",
       "14              18              332236497\n",
       "15              19              510570289\n",
       "16              20              340832204\n",
       "17              21              597736449\n",
       "18              22              263211358\n",
       "19              23              195938846\n",
       "20              24             1399825682\n",
       "21              25              795943829\n",
       "22              26             2308504217\n",
       "23              27              828942796\n",
       "24              28              619803351\n",
       "25              29              849276076\n",
       "26              30              255608184\n",
       "27              31              329863440\n",
       "28              32             1037072029\n",
       "29              33             1108253743\n",
       "30              34              549456912\n",
       "31              35              384977104\n",
       "32              36             1560213283\n",
       "33              37              466053858\n",
       "34              38               80318777\n",
       "35              39             2631835767\n",
       "36              40             1090108811\n",
       "37              41             1443103445\n",
       "38              42              534070530\n",
       "39              44             2441569023\n",
       "40              45             1511178572\n",
       "41              46              147911499\n",
       "42              47              276729299\n",
       "43              48             2791691757\n",
       "44              49             1191135280\n",
       "45              50              197420518\n",
       "46              51             9056241744\n",
       "47              53             2702688901\n",
       "48              54              151767797\n",
       "49              55             1872783834\n",
       "50              56              279254443"
      ]
     },
     "execution_count": 62,
     "metadata": {},
     "output_type": "execute_result"
    }
   ],
   "source": [
    "# Let's check if there is a correlation between the annual traffic volume and the number of unique stations in each state\n",
    "# Intuitively, if a state has more unique stations, its annual traffic volume should also be higher, since it has more\n",
    "# sensors that are tracking the traffic volume\n",
    "# If our hypothesis is true, then annual traffic volume by state is not an accurate metric to measure how heavy the traffic is\n",
    "# in a state, as the high traffic volume might just be because of the large number of sensors used for tracking\n",
    "# In such a scenario, annual traffic volume normalized by the number of unique stations might be a more accurate metric to use.\n",
    "start_column = \"traffic_volume_counted_after_0000_to_0100\"\n",
    "end_column = \"traffic_volume_counted_after_2300_to_2400\"\n",
    "traffic[\"total_daily_traffic_volume\"] = traffic \\\n",
    "                                        .loc[:, start_column: end_column] \\\n",
    "                                        .sum(axis=1)\n",
    "\n",
    "traffic_state = traffic[[\"fips_state_code\", \"total_daily_traffic_volume\"]] \\\n",
    "                .groupby(\"fips_state_code\") \\\n",
    "                .sum() \\\n",
    "                .reset_index() \\\n",
    "                .rename(columns = {\"total_daily_traffic_volume\": \"annual_traffic_volume\"})\n",
    "traffic_state"
   ]
  },
  {
   "cell_type": "code",
   "execution_count": 71,
   "id": "6ee25384",
   "metadata": {},
   "outputs": [
    {
     "data": {
      "application/vnd.plotly.v1+json": {
       "config": {
        "plotlyServerURL": "https://plot.ly"
       },
       "data": [
        {
         "customdata": [
          [
           "01"
          ]
         ],
         "hovertemplate": "fips_state_code=%{customdata[0]}<br>No of Unique Stations=%{x}<br>Annual Traffic Volume=%{y}<extra></extra>",
         "legendgroup": "01",
         "marker": {
          "color": "#636efa",
          "symbol": "circle"
         },
         "mode": "markers",
         "name": "01",
         "orientation": "v",
         "showlegend": true,
         "type": "scatter",
         "x": [
          296
         ],
         "xaxis": "x",
         "y": [
          1461509905
         ],
         "yaxis": "y"
        },
        {
         "customdata": [
          [
           "02"
          ]
         ],
         "hovertemplate": "fips_state_code=%{customdata[0]}<br>No of Unique Stations=%{x}<br>Annual Traffic Volume=%{y}<extra></extra>",
         "legendgroup": "02",
         "marker": {
          "color": "#EF553B",
          "symbol": "circle"
         },
         "mode": "markers",
         "name": "02",
         "orientation": "v",
         "showlegend": true,
         "type": "scatter",
         "x": [
          210
         ],
         "xaxis": "x",
         "y": [
          318138924
         ],
         "yaxis": "y"
        },
        {
         "customdata": [
          [
           "04"
          ]
         ],
         "hovertemplate": "fips_state_code=%{customdata[0]}<br>No of Unique Stations=%{x}<br>Annual Traffic Volume=%{y}<extra></extra>",
         "legendgroup": "04",
         "marker": {
          "color": "#00cc96",
          "symbol": "circle"
         },
         "mode": "markers",
         "name": "04",
         "orientation": "v",
         "showlegend": true,
         "type": "scatter",
         "x": [
          526
         ],
         "xaxis": "x",
         "y": [
          5600393206
         ],
         "yaxis": "y"
        },
        {
         "customdata": [
          [
           "05"
          ]
         ],
         "hovertemplate": "fips_state_code=%{customdata[0]}<br>No of Unique Stations=%{x}<br>Annual Traffic Volume=%{y}<extra></extra>",
         "legendgroup": "05",
         "marker": {
          "color": "#ab63fa",
          "symbol": "circle"
         },
         "mode": "markers",
         "name": "05",
         "orientation": "v",
         "showlegend": true,
         "type": "scatter",
         "x": [
          115
         ],
         "xaxis": "x",
         "y": [
          278436058
         ],
         "yaxis": "y"
        },
        {
         "customdata": [
          [
           "06"
          ]
         ],
         "hovertemplate": "fips_state_code=%{customdata[0]}<br>No of Unique Stations=%{x}<br>Annual Traffic Volume=%{y}<extra></extra>",
         "legendgroup": "06",
         "marker": {
          "color": "#FFA15A",
          "symbol": "circle"
         },
         "mode": "markers",
         "name": "06",
         "orientation": "v",
         "showlegend": true,
         "type": "scatter",
         "x": [
          570
         ],
         "xaxis": "x",
         "y": [
          6670057776
         ],
         "yaxis": "y"
        },
        {
         "customdata": [
          [
           "08"
          ]
         ],
         "hovertemplate": "fips_state_code=%{customdata[0]}<br>No of Unique Stations=%{x}<br>Annual Traffic Volume=%{y}<extra></extra>",
         "legendgroup": "08",
         "marker": {
          "color": "#19d3f3",
          "symbol": "circle"
         },
         "mode": "markers",
         "name": "08",
         "orientation": "v",
         "showlegend": true,
         "type": "scatter",
         "x": [
          212
         ],
         "xaxis": "x",
         "y": [
          964145461
         ],
         "yaxis": "y"
        },
        {
         "customdata": [
          [
           "09"
          ]
         ],
         "hovertemplate": "fips_state_code=%{customdata[0]}<br>No of Unique Stations=%{x}<br>Annual Traffic Volume=%{y}<extra></extra>",
         "legendgroup": "09",
         "marker": {
          "color": "#FF6692",
          "symbol": "circle"
         },
         "mode": "markers",
         "name": "09",
         "orientation": "v",
         "showlegend": true,
         "type": "scatter",
         "x": [
          75
         ],
         "xaxis": "x",
         "y": [
          500556105
         ],
         "yaxis": "y"
        },
        {
         "customdata": [
          [
           "10"
          ]
         ],
         "hovertemplate": "fips_state_code=%{customdata[0]}<br>No of Unique Stations=%{x}<br>Annual Traffic Volume=%{y}<extra></extra>",
         "legendgroup": "10",
         "marker": {
          "color": "#B6E880",
          "symbol": "circle"
         },
         "mode": "markers",
         "name": "10",
         "orientation": "v",
         "showlegend": true,
         "type": "scatter",
         "x": [
          168
         ],
         "xaxis": "x",
         "y": [
          534104309
         ],
         "yaxis": "y"
        },
        {
         "customdata": [
          [
           "11"
          ]
         ],
         "hovertemplate": "fips_state_code=%{customdata[0]}<br>No of Unique Stations=%{x}<br>Annual Traffic Volume=%{y}<extra></extra>",
         "legendgroup": "11",
         "marker": {
          "color": "#FF97FF",
          "symbol": "circle"
         },
         "mode": "markers",
         "name": "11",
         "orientation": "v",
         "showlegend": true,
         "type": "scatter",
         "x": [
          4
         ],
         "xaxis": "x",
         "y": [
          59205437
         ],
         "yaxis": "y"
        },
        {
         "customdata": [
          [
           "12"
          ]
         ],
         "hovertemplate": "fips_state_code=%{customdata[0]}<br>No of Unique Stations=%{x}<br>Annual Traffic Volume=%{y}<extra></extra>",
         "legendgroup": "12",
         "marker": {
          "color": "#FECB52",
          "symbol": "circle"
         },
         "mode": "markers",
         "name": "12",
         "orientation": "v",
         "showlegend": true,
         "type": "scatter",
         "x": [
          545
         ],
         "xaxis": "x",
         "y": [
          4412694931
         ],
         "yaxis": "y"
        },
        {
         "customdata": [
          [
           "13"
          ]
         ],
         "hovertemplate": "fips_state_code=%{customdata[0]}<br>No of Unique Stations=%{x}<br>Annual Traffic Volume=%{y}<extra></extra>",
         "legendgroup": "13",
         "marker": {
          "color": "#636efa",
          "symbol": "circle"
         },
         "mode": "markers",
         "name": "13",
         "orientation": "v",
         "showlegend": true,
         "type": "scatter",
         "x": [
          446
         ],
         "xaxis": "x",
         "y": [
          3094751035
         ],
         "yaxis": "y"
        },
        {
         "customdata": [
          [
           "15"
          ]
         ],
         "hovertemplate": "fips_state_code=%{customdata[0]}<br>No of Unique Stations=%{x}<br>Annual Traffic Volume=%{y}<extra></extra>",
         "legendgroup": "15",
         "marker": {
          "color": "#EF553B",
          "symbol": "circle"
         },
         "mode": "markers",
         "name": "15",
         "orientation": "v",
         "showlegend": true,
         "type": "scatter",
         "x": [
          152
         ],
         "xaxis": "x",
         "y": [
          1605036832
         ],
         "yaxis": "y"
        },
        {
         "customdata": [
          [
           "16"
          ]
         ],
         "hovertemplate": "fips_state_code=%{customdata[0]}<br>No of Unique Stations=%{x}<br>Annual Traffic Volume=%{y}<extra></extra>",
         "legendgroup": "16",
         "marker": {
          "color": "#00cc96",
          "symbol": "circle"
         },
         "mode": "markers",
         "name": "16",
         "orientation": "v",
         "showlegend": true,
         "type": "scatter",
         "x": [
          423
         ],
         "xaxis": "x",
         "y": [
          1134837654
         ],
         "yaxis": "y"
        },
        {
         "customdata": [
          [
           "17"
          ]
         ],
         "hovertemplate": "fips_state_code=%{customdata[0]}<br>No of Unique Stations=%{x}<br>Annual Traffic Volume=%{y}<extra></extra>",
         "legendgroup": "17",
         "marker": {
          "color": "#ab63fa",
          "symbol": "circle"
         },
         "mode": "markers",
         "name": "17",
         "orientation": "v",
         "showlegend": true,
         "type": "scatter",
         "x": [
          205
         ],
         "xaxis": "x",
         "y": [
          604663105
         ],
         "yaxis": "y"
        },
        {
         "customdata": [
          [
           "18"
          ]
         ],
         "hovertemplate": "fips_state_code=%{customdata[0]}<br>No of Unique Stations=%{x}<br>Annual Traffic Volume=%{y}<extra></extra>",
         "legendgroup": "18",
         "marker": {
          "color": "#FFA15A",
          "symbol": "circle"
         },
         "mode": "markers",
         "name": "18",
         "orientation": "v",
         "showlegend": true,
         "type": "scatter",
         "x": [
          171
         ],
         "xaxis": "x",
         "y": [
          332236497
         ],
         "yaxis": "y"
        },
        {
         "customdata": [
          [
           "19"
          ]
         ],
         "hovertemplate": "fips_state_code=%{customdata[0]}<br>No of Unique Stations=%{x}<br>Annual Traffic Volume=%{y}<extra></extra>",
         "legendgroup": "19",
         "marker": {
          "color": "#19d3f3",
          "symbol": "circle"
         },
         "mode": "markers",
         "name": "19",
         "orientation": "v",
         "showlegend": true,
         "type": "scatter",
         "x": [
          201
         ],
         "xaxis": "x",
         "y": [
          510570289
         ],
         "yaxis": "y"
        },
        {
         "customdata": [
          [
           "20"
          ]
         ],
         "hovertemplate": "fips_state_code=%{customdata[0]}<br>No of Unique Stations=%{x}<br>Annual Traffic Volume=%{y}<extra></extra>",
         "legendgroup": "20",
         "marker": {
          "color": "#FF6692",
          "symbol": "circle"
         },
         "mode": "markers",
         "name": "20",
         "orientation": "v",
         "showlegend": true,
         "type": "scatter",
         "x": [
          196
         ],
         "xaxis": "x",
         "y": [
          340832204
         ],
         "yaxis": "y"
        },
        {
         "customdata": [
          [
           "21"
          ]
         ],
         "hovertemplate": "fips_state_code=%{customdata[0]}<br>No of Unique Stations=%{x}<br>Annual Traffic Volume=%{y}<extra></extra>",
         "legendgroup": "21",
         "marker": {
          "color": "#B6E880",
          "symbol": "circle"
         },
         "mode": "markers",
         "name": "21",
         "orientation": "v",
         "showlegend": true,
         "type": "scatter",
         "x": [
          162
         ],
         "xaxis": "x",
         "y": [
          597736449
         ],
         "yaxis": "y"
        },
        {
         "customdata": [
          [
           "22"
          ]
         ],
         "hovertemplate": "fips_state_code=%{customdata[0]}<br>No of Unique Stations=%{x}<br>Annual Traffic Volume=%{y}<extra></extra>",
         "legendgroup": "22",
         "marker": {
          "color": "#FF97FF",
          "symbol": "circle"
         },
         "mode": "markers",
         "name": "22",
         "orientation": "v",
         "showlegend": true,
         "type": "scatter",
         "x": [
          120
         ],
         "xaxis": "x",
         "y": [
          263211358
         ],
         "yaxis": "y"
        },
        {
         "customdata": [
          [
           "23"
          ]
         ],
         "hovertemplate": "fips_state_code=%{customdata[0]}<br>No of Unique Stations=%{x}<br>Annual Traffic Volume=%{y}<extra></extra>",
         "legendgroup": "23",
         "marker": {
          "color": "#FECB52",
          "symbol": "circle"
         },
         "mode": "markers",
         "name": "23",
         "orientation": "v",
         "showlegend": true,
         "type": "scatter",
         "x": [
          129
         ],
         "xaxis": "x",
         "y": [
          195938846
         ],
         "yaxis": "y"
        },
        {
         "customdata": [
          [
           "24"
          ]
         ],
         "hovertemplate": "fips_state_code=%{customdata[0]}<br>No of Unique Stations=%{x}<br>Annual Traffic Volume=%{y}<extra></extra>",
         "legendgroup": "24",
         "marker": {
          "color": "#636efa",
          "symbol": "circle"
         },
         "mode": "markers",
         "name": "24",
         "orientation": "v",
         "showlegend": true,
         "type": "scatter",
         "x": [
          150
         ],
         "xaxis": "x",
         "y": [
          1399825682
         ],
         "yaxis": "y"
        },
        {
         "customdata": [
          [
           "25"
          ]
         ],
         "hovertemplate": "fips_state_code=%{customdata[0]}<br>No of Unique Stations=%{x}<br>Annual Traffic Volume=%{y}<extra></extra>",
         "legendgroup": "25",
         "marker": {
          "color": "#EF553B",
          "symbol": "circle"
         },
         "mode": "markers",
         "name": "25",
         "orientation": "v",
         "showlegend": true,
         "type": "scatter",
         "x": [
          103
         ],
         "xaxis": "x",
         "y": [
          795943829
         ],
         "yaxis": "y"
        },
        {
         "customdata": [
          [
           "26"
          ]
         ],
         "hovertemplate": "fips_state_code=%{customdata[0]}<br>No of Unique Stations=%{x}<br>Annual Traffic Volume=%{y}<extra></extra>",
         "legendgroup": "26",
         "marker": {
          "color": "#00cc96",
          "symbol": "circle"
         },
         "mode": "markers",
         "name": "26",
         "orientation": "v",
         "showlegend": true,
         "type": "scatter",
         "x": [
          245
         ],
         "xaxis": "x",
         "y": [
          2308504217
         ],
         "yaxis": "y"
        },
        {
         "customdata": [
          [
           "27"
          ]
         ],
         "hovertemplate": "fips_state_code=%{customdata[0]}<br>No of Unique Stations=%{x}<br>Annual Traffic Volume=%{y}<extra></extra>",
         "legendgroup": "27",
         "marker": {
          "color": "#ab63fa",
          "symbol": "circle"
         },
         "mode": "markers",
         "name": "27",
         "orientation": "v",
         "showlegend": true,
         "type": "scatter",
         "x": [
          177
         ],
         "xaxis": "x",
         "y": [
          828942796
         ],
         "yaxis": "y"
        },
        {
         "customdata": [
          [
           "28"
          ]
         ],
         "hovertemplate": "fips_state_code=%{customdata[0]}<br>No of Unique Stations=%{x}<br>Annual Traffic Volume=%{y}<extra></extra>",
         "legendgroup": "28",
         "marker": {
          "color": "#FFA15A",
          "symbol": "circle"
         },
         "mode": "markers",
         "name": "28",
         "orientation": "v",
         "showlegend": true,
         "type": "scatter",
         "x": [
          194
         ],
         "xaxis": "x",
         "y": [
          619803351
         ],
         "yaxis": "y"
        },
        {
         "customdata": [
          [
           "29"
          ]
         ],
         "hovertemplate": "fips_state_code=%{customdata[0]}<br>No of Unique Stations=%{x}<br>Annual Traffic Volume=%{y}<extra></extra>",
         "legendgroup": "29",
         "marker": {
          "color": "#19d3f3",
          "symbol": "circle"
         },
         "mode": "markers",
         "name": "29",
         "orientation": "v",
         "showlegend": true,
         "type": "scatter",
         "x": [
          168
         ],
         "xaxis": "x",
         "y": [
          849276076
         ],
         "yaxis": "y"
        },
        {
         "customdata": [
          [
           "30"
          ]
         ],
         "hovertemplate": "fips_state_code=%{customdata[0]}<br>No of Unique Stations=%{x}<br>Annual Traffic Volume=%{y}<extra></extra>",
         "legendgroup": "30",
         "marker": {
          "color": "#FF6692",
          "symbol": "circle"
         },
         "mode": "markers",
         "name": "30",
         "orientation": "v",
         "showlegend": true,
         "type": "scatter",
         "x": [
          197
         ],
         "xaxis": "x",
         "y": [
          255608184
         ],
         "yaxis": "y"
        },
        {
         "customdata": [
          [
           "31"
          ]
         ],
         "hovertemplate": "fips_state_code=%{customdata[0]}<br>No of Unique Stations=%{x}<br>Annual Traffic Volume=%{y}<extra></extra>",
         "legendgroup": "31",
         "marker": {
          "color": "#B6E880",
          "symbol": "circle"
         },
         "mode": "markers",
         "name": "31",
         "orientation": "v",
         "showlegend": true,
         "type": "scatter",
         "x": [
          99
         ],
         "xaxis": "x",
         "y": [
          329863440
         ],
         "yaxis": "y"
        },
        {
         "customdata": [
          [
           "32"
          ]
         ],
         "hovertemplate": "fips_state_code=%{customdata[0]}<br>No of Unique Stations=%{x}<br>Annual Traffic Volume=%{y}<extra></extra>",
         "legendgroup": "32",
         "marker": {
          "color": "#FF97FF",
          "symbol": "circle"
         },
         "mode": "markers",
         "name": "32",
         "orientation": "v",
         "showlegend": true,
         "type": "scatter",
         "x": [
          196
         ],
         "xaxis": "x",
         "y": [
          1037072029
         ],
         "yaxis": "y"
        },
        {
         "customdata": [
          [
           "33"
          ]
         ],
         "hovertemplate": "fips_state_code=%{customdata[0]}<br>No of Unique Stations=%{x}<br>Annual Traffic Volume=%{y}<extra></extra>",
         "legendgroup": "33",
         "marker": {
          "color": "#FECB52",
          "symbol": "circle"
         },
         "mode": "markers",
         "name": "33",
         "orientation": "v",
         "showlegend": true,
         "type": "scatter",
         "x": [
          195
         ],
         "xaxis": "x",
         "y": [
          1108253743
         ],
         "yaxis": "y"
        },
        {
         "customdata": [
          [
           "34"
          ]
         ],
         "hovertemplate": "fips_state_code=%{customdata[0]}<br>No of Unique Stations=%{x}<br>Annual Traffic Volume=%{y}<extra></extra>",
         "legendgroup": "34",
         "marker": {
          "color": "#636efa",
          "symbol": "circle"
         },
         "mode": "markers",
         "name": "34",
         "orientation": "v",
         "showlegend": true,
         "type": "scatter",
         "x": [
          75
         ],
         "xaxis": "x",
         "y": [
          549456912
         ],
         "yaxis": "y"
        },
        {
         "customdata": [
          [
           "35"
          ]
         ],
         "hovertemplate": "fips_state_code=%{customdata[0]}<br>No of Unique Stations=%{x}<br>Annual Traffic Volume=%{y}<extra></extra>",
         "legendgroup": "35",
         "marker": {
          "color": "#EF553B",
          "symbol": "circle"
         },
         "mode": "markers",
         "name": "35",
         "orientation": "v",
         "showlegend": true,
         "type": "scatter",
         "x": [
          228
         ],
         "xaxis": "x",
         "y": [
          384977104
         ],
         "yaxis": "y"
        },
        {
         "customdata": [
          [
           "36"
          ]
         ],
         "hovertemplate": "fips_state_code=%{customdata[0]}<br>No of Unique Stations=%{x}<br>Annual Traffic Volume=%{y}<extra></extra>",
         "legendgroup": "36",
         "marker": {
          "color": "#00cc96",
          "symbol": "circle"
         },
         "mode": "markers",
         "name": "36",
         "orientation": "v",
         "showlegend": true,
         "type": "scatter",
         "x": [
          345
         ],
         "xaxis": "x",
         "y": [
          1560213283
         ],
         "yaxis": "y"
        },
        {
         "customdata": [
          [
           "37"
          ]
         ],
         "hovertemplate": "fips_state_code=%{customdata[0]}<br>No of Unique Stations=%{x}<br>Annual Traffic Volume=%{y}<extra></extra>",
         "legendgroup": "37",
         "marker": {
          "color": "#ab63fa",
          "symbol": "circle"
         },
         "mode": "markers",
         "name": "37",
         "orientation": "v",
         "showlegend": true,
         "type": "scatter",
         "x": [
          134
         ],
         "xaxis": "x",
         "y": [
          466053858
         ],
         "yaxis": "y"
        },
        {
         "customdata": [
          [
           "38"
          ]
         ],
         "hovertemplate": "fips_state_code=%{customdata[0]}<br>No of Unique Stations=%{x}<br>Annual Traffic Volume=%{y}<extra></extra>",
         "legendgroup": "38",
         "marker": {
          "color": "#FFA15A",
          "symbol": "circle"
         },
         "mode": "markers",
         "name": "38",
         "orientation": "v",
         "showlegend": true,
         "type": "scatter",
         "x": [
          128
         ],
         "xaxis": "x",
         "y": [
          80318777
         ],
         "yaxis": "y"
        },
        {
         "customdata": [
          [
           "39"
          ]
         ],
         "hovertemplate": "fips_state_code=%{customdata[0]}<br>No of Unique Stations=%{x}<br>Annual Traffic Volume=%{y}<extra></extra>",
         "legendgroup": "39",
         "marker": {
          "color": "#19d3f3",
          "symbol": "circle"
         },
         "mode": "markers",
         "name": "39",
         "orientation": "v",
         "showlegend": true,
         "type": "scatter",
         "x": [
          352
         ],
         "xaxis": "x",
         "y": [
          2631835767
         ],
         "yaxis": "y"
        },
        {
         "customdata": [
          [
           "40"
          ]
         ],
         "hovertemplate": "fips_state_code=%{customdata[0]}<br>No of Unique Stations=%{x}<br>Annual Traffic Volume=%{y}<extra></extra>",
         "legendgroup": "40",
         "marker": {
          "color": "#FF6692",
          "symbol": "circle"
         },
         "mode": "markers",
         "name": "40",
         "orientation": "v",
         "showlegend": true,
         "type": "scatter",
         "x": [
          180
         ],
         "xaxis": "x",
         "y": [
          1090108811
         ],
         "yaxis": "y"
        },
        {
         "customdata": [
          [
           "41"
          ]
         ],
         "hovertemplate": "fips_state_code=%{customdata[0]}<br>No of Unique Stations=%{x}<br>Annual Traffic Volume=%{y}<extra></extra>",
         "legendgroup": "41",
         "marker": {
          "color": "#B6E880",
          "symbol": "circle"
         },
         "mode": "markers",
         "name": "41",
         "orientation": "v",
         "showlegend": true,
         "type": "scatter",
         "x": [
          350
         ],
         "xaxis": "x",
         "y": [
          1443103445
         ],
         "yaxis": "y"
        },
        {
         "customdata": [
          [
           "42"
          ]
         ],
         "hovertemplate": "fips_state_code=%{customdata[0]}<br>No of Unique Stations=%{x}<br>Annual Traffic Volume=%{y}<extra></extra>",
         "legendgroup": "42",
         "marker": {
          "color": "#FF97FF",
          "symbol": "circle"
         },
         "mode": "markers",
         "name": "42",
         "orientation": "v",
         "showlegend": true,
         "type": "scatter",
         "x": [
          180
         ],
         "xaxis": "x",
         "y": [
          534070530
         ],
         "yaxis": "y"
        },
        {
         "customdata": [
          [
           "44"
          ]
         ],
         "hovertemplate": "fips_state_code=%{customdata[0]}<br>No of Unique Stations=%{x}<br>Annual Traffic Volume=%{y}<extra></extra>",
         "legendgroup": "44",
         "marker": {
          "color": "#FECB52",
          "symbol": "circle"
         },
         "mode": "markers",
         "name": "44",
         "orientation": "v",
         "showlegend": true,
         "type": "scatter",
         "x": [
          184
         ],
         "xaxis": "x",
         "y": [
          2441569023
         ],
         "yaxis": "y"
        },
        {
         "customdata": [
          [
           "45"
          ]
         ],
         "hovertemplate": "fips_state_code=%{customdata[0]}<br>No of Unique Stations=%{x}<br>Annual Traffic Volume=%{y}<extra></extra>",
         "legendgroup": "45",
         "marker": {
          "color": "#636efa",
          "symbol": "circle"
         },
         "mode": "markers",
         "name": "45",
         "orientation": "v",
         "showlegend": true,
         "type": "scatter",
         "x": [
          131
         ],
         "xaxis": "x",
         "y": [
          1511178572
         ],
         "yaxis": "y"
        },
        {
         "customdata": [
          [
           "46"
          ]
         ],
         "hovertemplate": "fips_state_code=%{customdata[0]}<br>No of Unique Stations=%{x}<br>Annual Traffic Volume=%{y}<extra></extra>",
         "legendgroup": "46",
         "marker": {
          "color": "#EF553B",
          "symbol": "circle"
         },
         "mode": "markers",
         "name": "46",
         "orientation": "v",
         "showlegend": true,
         "type": "scatter",
         "x": [
          131
         ],
         "xaxis": "x",
         "y": [
          147911499
         ],
         "yaxis": "y"
        },
        {
         "customdata": [
          [
           "47"
          ]
         ],
         "hovertemplate": "fips_state_code=%{customdata[0]}<br>No of Unique Stations=%{x}<br>Annual Traffic Volume=%{y}<extra></extra>",
         "legendgroup": "47",
         "marker": {
          "color": "#00cc96",
          "symbol": "circle"
         },
         "mode": "markers",
         "name": "47",
         "orientation": "v",
         "showlegend": true,
         "type": "scatter",
         "x": [
          114
         ],
         "xaxis": "x",
         "y": [
          276729299
         ],
         "yaxis": "y"
        },
        {
         "customdata": [
          [
           "48"
          ]
         ],
         "hovertemplate": "fips_state_code=%{customdata[0]}<br>No of Unique Stations=%{x}<br>Annual Traffic Volume=%{y}<extra></extra>",
         "legendgroup": "48",
         "marker": {
          "color": "#ab63fa",
          "symbol": "circle"
         },
         "mode": "markers",
         "name": "48",
         "orientation": "v",
         "showlegend": true,
         "type": "scatter",
         "x": [
          528
         ],
         "xaxis": "x",
         "y": [
          2791691757
         ],
         "yaxis": "y"
        },
        {
         "customdata": [
          [
           "49"
          ]
         ],
         "hovertemplate": "fips_state_code=%{customdata[0]}<br>No of Unique Stations=%{x}<br>Annual Traffic Volume=%{y}<extra></extra>",
         "legendgroup": "49",
         "marker": {
          "color": "#FFA15A",
          "symbol": "circle"
         },
         "mode": "markers",
         "name": "49",
         "orientation": "v",
         "showlegend": true,
         "type": "scatter",
         "x": [
          220
         ],
         "xaxis": "x",
         "y": [
          1191135280
         ],
         "yaxis": "y"
        },
        {
         "customdata": [
          [
           "50"
          ]
         ],
         "hovertemplate": "fips_state_code=%{customdata[0]}<br>No of Unique Stations=%{x}<br>Annual Traffic Volume=%{y}<extra></extra>",
         "legendgroup": "50",
         "marker": {
          "color": "#19d3f3",
          "symbol": "circle"
         },
         "mode": "markers",
         "name": "50",
         "orientation": "v",
         "showlegend": true,
         "type": "scatter",
         "x": [
          230
         ],
         "xaxis": "x",
         "y": [
          197420518
         ],
         "yaxis": "y"
        },
        {
         "customdata": [
          [
           "51"
          ]
         ],
         "hovertemplate": "fips_state_code=%{customdata[0]}<br>No of Unique Stations=%{x}<br>Annual Traffic Volume=%{y}<extra></extra>",
         "legendgroup": "51",
         "marker": {
          "color": "#FF6692",
          "symbol": "circle"
         },
         "mode": "markers",
         "name": "51",
         "orientation": "v",
         "showlegend": true,
         "type": "scatter",
         "x": [
          961
         ],
         "xaxis": "x",
         "y": [
          9056241744
         ],
         "yaxis": "y"
        },
        {
         "customdata": [
          [
           "53"
          ]
         ],
         "hovertemplate": "fips_state_code=%{customdata[0]}<br>No of Unique Stations=%{x}<br>Annual Traffic Volume=%{y}<extra></extra>",
         "legendgroup": "53",
         "marker": {
          "color": "#B6E880",
          "symbol": "circle"
         },
         "mode": "markers",
         "name": "53",
         "orientation": "v",
         "showlegend": true,
         "type": "scatter",
         "x": [
          327
         ],
         "xaxis": "x",
         "y": [
          2702688901
         ],
         "yaxis": "y"
        },
        {
         "customdata": [
          [
           "54"
          ]
         ],
         "hovertemplate": "fips_state_code=%{customdata[0]}<br>No of Unique Stations=%{x}<br>Annual Traffic Volume=%{y}<extra></extra>",
         "legendgroup": "54",
         "marker": {
          "color": "#FF97FF",
          "symbol": "circle"
         },
         "mode": "markers",
         "name": "54",
         "orientation": "v",
         "showlegend": true,
         "type": "scatter",
         "x": [
          141
         ],
         "xaxis": "x",
         "y": [
          151767797
         ],
         "yaxis": "y"
        },
        {
         "customdata": [
          [
           "55"
          ]
         ],
         "hovertemplate": "fips_state_code=%{customdata[0]}<br>No of Unique Stations=%{x}<br>Annual Traffic Volume=%{y}<extra></extra>",
         "legendgroup": "55",
         "marker": {
          "color": "#FECB52",
          "symbol": "circle"
         },
         "mode": "markers",
         "name": "55",
         "orientation": "v",
         "showlegend": true,
         "type": "scatter",
         "x": [
          447
         ],
         "xaxis": "x",
         "y": [
          1872783834
         ],
         "yaxis": "y"
        },
        {
         "customdata": [
          [
           "56"
          ]
         ],
         "hovertemplate": "fips_state_code=%{customdata[0]}<br>No of Unique Stations=%{x}<br>Annual Traffic Volume=%{y}<extra></extra>",
         "legendgroup": "56",
         "marker": {
          "color": "#636efa",
          "symbol": "circle"
         },
         "mode": "markers",
         "name": "56",
         "orientation": "v",
         "showlegend": true,
         "type": "scatter",
         "x": [
          338
         ],
         "xaxis": "x",
         "y": [
          279254443
         ],
         "yaxis": "y"
        },
        {
         "hovertemplate": "<b>OLS trendline</b><br>annual_traffic_volume = 9.19996e+06 * num_unique_stations + -8.52307e+08<br>R<sup>2</sup>=0.769466<br><br>No of Unique Stations=%{x}<br>Annual Traffic Volume=%{y} <b>(trend)</b><extra></extra>",
         "legendgroup": "Overall Trendline",
         "line": {
          "color": "black"
         },
         "mode": "lines",
         "name": "Overall Trendline",
         "showlegend": true,
         "type": "scatter",
         "x": [
          4,
          75,
          75,
          99,
          103,
          114,
          115,
          120,
          128,
          129,
          131,
          131,
          134,
          141,
          150,
          152,
          162,
          168,
          168,
          171,
          177,
          180,
          180,
          184,
          194,
          195,
          196,
          196,
          197,
          201,
          205,
          210,
          212,
          220,
          228,
          230,
          245,
          296,
          327,
          338,
          345,
          350,
          352,
          423,
          446,
          447,
          526,
          528,
          545,
          570,
          961
         ],
         "xaxis": "x",
         "y": [
          -815507250.2208798,
          -162309988.45655727,
          -162309988.45655727,
          58489085.94265032,
          95288931.67585158,
          196488507.442155,
          205688468.87545538,
          251688276.0419569,
          325287967.50835943,
          334487928.9416597,
          352887851.80826044,
          352887851.80826044,
          380487736.10816145,
          444887466.1412635,
          527687119.0409665,
          546087041.907567,
          638086656.2405701,
          693286424.8403721,
          693286424.8403721,
          720886309.1402731,
          776086077.7400749,
          803685962.0399759,
          803685962.0399759,
          840485807.7731771,
          932485422.1061802,
          941685383.5394807,
          950885344.972781,
          950885344.972781,
          960085306.4060812,
          996885152.1392825,
          1033684997.8724837,
          1079684805.0389853,
          1098084727.905586,
          1171684419.3719885,
          1245284110.838391,
          1263684033.7049918,
          1401683455.2044964,
          1870881488.3028126,
          2156080292.735122,
          2257279868.5014257,
          2321679598.5345283,
          2367679405.70103,
          2386079328.5676303,
          3039276590.3319526,
          3250875703.29786,
          3260075664.73116,
          3986872617.961885,
          4005272540.828486,
          4161671885.194591,
          4391670921.0271,
          7988855841.447523
         ],
         "yaxis": "y"
        }
       ],
       "layout": {
        "legend": {
         "title": {
          "text": "fips_state_code"
         },
         "tracegroupgap": 0
        },
        "margin": {
         "t": 60
        },
        "template": {
         "data": {
          "bar": [
           {
            "error_x": {
             "color": "#2a3f5f"
            },
            "error_y": {
             "color": "#2a3f5f"
            },
            "marker": {
             "line": {
              "color": "#E5ECF6",
              "width": 0.5
             },
             "pattern": {
              "fillmode": "overlay",
              "size": 10,
              "solidity": 0.2
             }
            },
            "type": "bar"
           }
          ],
          "barpolar": [
           {
            "marker": {
             "line": {
              "color": "#E5ECF6",
              "width": 0.5
             },
             "pattern": {
              "fillmode": "overlay",
              "size": 10,
              "solidity": 0.2
             }
            },
            "type": "barpolar"
           }
          ],
          "carpet": [
           {
            "aaxis": {
             "endlinecolor": "#2a3f5f",
             "gridcolor": "white",
             "linecolor": "white",
             "minorgridcolor": "white",
             "startlinecolor": "#2a3f5f"
            },
            "baxis": {
             "endlinecolor": "#2a3f5f",
             "gridcolor": "white",
             "linecolor": "white",
             "minorgridcolor": "white",
             "startlinecolor": "#2a3f5f"
            },
            "type": "carpet"
           }
          ],
          "choropleth": [
           {
            "colorbar": {
             "outlinewidth": 0,
             "ticks": ""
            },
            "type": "choropleth"
           }
          ],
          "contour": [
           {
            "colorbar": {
             "outlinewidth": 0,
             "ticks": ""
            },
            "colorscale": [
             [
              0,
              "#0d0887"
             ],
             [
              0.1111111111111111,
              "#46039f"
             ],
             [
              0.2222222222222222,
              "#7201a8"
             ],
             [
              0.3333333333333333,
              "#9c179e"
             ],
             [
              0.4444444444444444,
              "#bd3786"
             ],
             [
              0.5555555555555556,
              "#d8576b"
             ],
             [
              0.6666666666666666,
              "#ed7953"
             ],
             [
              0.7777777777777778,
              "#fb9f3a"
             ],
             [
              0.8888888888888888,
              "#fdca26"
             ],
             [
              1,
              "#f0f921"
             ]
            ],
            "type": "contour"
           }
          ],
          "contourcarpet": [
           {
            "colorbar": {
             "outlinewidth": 0,
             "ticks": ""
            },
            "type": "contourcarpet"
           }
          ],
          "heatmap": [
           {
            "colorbar": {
             "outlinewidth": 0,
             "ticks": ""
            },
            "colorscale": [
             [
              0,
              "#0d0887"
             ],
             [
              0.1111111111111111,
              "#46039f"
             ],
             [
              0.2222222222222222,
              "#7201a8"
             ],
             [
              0.3333333333333333,
              "#9c179e"
             ],
             [
              0.4444444444444444,
              "#bd3786"
             ],
             [
              0.5555555555555556,
              "#d8576b"
             ],
             [
              0.6666666666666666,
              "#ed7953"
             ],
             [
              0.7777777777777778,
              "#fb9f3a"
             ],
             [
              0.8888888888888888,
              "#fdca26"
             ],
             [
              1,
              "#f0f921"
             ]
            ],
            "type": "heatmap"
           }
          ],
          "heatmapgl": [
           {
            "colorbar": {
             "outlinewidth": 0,
             "ticks": ""
            },
            "colorscale": [
             [
              0,
              "#0d0887"
             ],
             [
              0.1111111111111111,
              "#46039f"
             ],
             [
              0.2222222222222222,
              "#7201a8"
             ],
             [
              0.3333333333333333,
              "#9c179e"
             ],
             [
              0.4444444444444444,
              "#bd3786"
             ],
             [
              0.5555555555555556,
              "#d8576b"
             ],
             [
              0.6666666666666666,
              "#ed7953"
             ],
             [
              0.7777777777777778,
              "#fb9f3a"
             ],
             [
              0.8888888888888888,
              "#fdca26"
             ],
             [
              1,
              "#f0f921"
             ]
            ],
            "type": "heatmapgl"
           }
          ],
          "histogram": [
           {
            "marker": {
             "pattern": {
              "fillmode": "overlay",
              "size": 10,
              "solidity": 0.2
             }
            },
            "type": "histogram"
           }
          ],
          "histogram2d": [
           {
            "colorbar": {
             "outlinewidth": 0,
             "ticks": ""
            },
            "colorscale": [
             [
              0,
              "#0d0887"
             ],
             [
              0.1111111111111111,
              "#46039f"
             ],
             [
              0.2222222222222222,
              "#7201a8"
             ],
             [
              0.3333333333333333,
              "#9c179e"
             ],
             [
              0.4444444444444444,
              "#bd3786"
             ],
             [
              0.5555555555555556,
              "#d8576b"
             ],
             [
              0.6666666666666666,
              "#ed7953"
             ],
             [
              0.7777777777777778,
              "#fb9f3a"
             ],
             [
              0.8888888888888888,
              "#fdca26"
             ],
             [
              1,
              "#f0f921"
             ]
            ],
            "type": "histogram2d"
           }
          ],
          "histogram2dcontour": [
           {
            "colorbar": {
             "outlinewidth": 0,
             "ticks": ""
            },
            "colorscale": [
             [
              0,
              "#0d0887"
             ],
             [
              0.1111111111111111,
              "#46039f"
             ],
             [
              0.2222222222222222,
              "#7201a8"
             ],
             [
              0.3333333333333333,
              "#9c179e"
             ],
             [
              0.4444444444444444,
              "#bd3786"
             ],
             [
              0.5555555555555556,
              "#d8576b"
             ],
             [
              0.6666666666666666,
              "#ed7953"
             ],
             [
              0.7777777777777778,
              "#fb9f3a"
             ],
             [
              0.8888888888888888,
              "#fdca26"
             ],
             [
              1,
              "#f0f921"
             ]
            ],
            "type": "histogram2dcontour"
           }
          ],
          "mesh3d": [
           {
            "colorbar": {
             "outlinewidth": 0,
             "ticks": ""
            },
            "type": "mesh3d"
           }
          ],
          "parcoords": [
           {
            "line": {
             "colorbar": {
              "outlinewidth": 0,
              "ticks": ""
             }
            },
            "type": "parcoords"
           }
          ],
          "pie": [
           {
            "automargin": true,
            "type": "pie"
           }
          ],
          "scatter": [
           {
            "marker": {
             "colorbar": {
              "outlinewidth": 0,
              "ticks": ""
             }
            },
            "type": "scatter"
           }
          ],
          "scatter3d": [
           {
            "line": {
             "colorbar": {
              "outlinewidth": 0,
              "ticks": ""
             }
            },
            "marker": {
             "colorbar": {
              "outlinewidth": 0,
              "ticks": ""
             }
            },
            "type": "scatter3d"
           }
          ],
          "scattercarpet": [
           {
            "marker": {
             "colorbar": {
              "outlinewidth": 0,
              "ticks": ""
             }
            },
            "type": "scattercarpet"
           }
          ],
          "scattergeo": [
           {
            "marker": {
             "colorbar": {
              "outlinewidth": 0,
              "ticks": ""
             }
            },
            "type": "scattergeo"
           }
          ],
          "scattergl": [
           {
            "marker": {
             "colorbar": {
              "outlinewidth": 0,
              "ticks": ""
             }
            },
            "type": "scattergl"
           }
          ],
          "scattermapbox": [
           {
            "marker": {
             "colorbar": {
              "outlinewidth": 0,
              "ticks": ""
             }
            },
            "type": "scattermapbox"
           }
          ],
          "scatterpolar": [
           {
            "marker": {
             "colorbar": {
              "outlinewidth": 0,
              "ticks": ""
             }
            },
            "type": "scatterpolar"
           }
          ],
          "scatterpolargl": [
           {
            "marker": {
             "colorbar": {
              "outlinewidth": 0,
              "ticks": ""
             }
            },
            "type": "scatterpolargl"
           }
          ],
          "scatterternary": [
           {
            "marker": {
             "colorbar": {
              "outlinewidth": 0,
              "ticks": ""
             }
            },
            "type": "scatterternary"
           }
          ],
          "surface": [
           {
            "colorbar": {
             "outlinewidth": 0,
             "ticks": ""
            },
            "colorscale": [
             [
              0,
              "#0d0887"
             ],
             [
              0.1111111111111111,
              "#46039f"
             ],
             [
              0.2222222222222222,
              "#7201a8"
             ],
             [
              0.3333333333333333,
              "#9c179e"
             ],
             [
              0.4444444444444444,
              "#bd3786"
             ],
             [
              0.5555555555555556,
              "#d8576b"
             ],
             [
              0.6666666666666666,
              "#ed7953"
             ],
             [
              0.7777777777777778,
              "#fb9f3a"
             ],
             [
              0.8888888888888888,
              "#fdca26"
             ],
             [
              1,
              "#f0f921"
             ]
            ],
            "type": "surface"
           }
          ],
          "table": [
           {
            "cells": {
             "fill": {
              "color": "#EBF0F8"
             },
             "line": {
              "color": "white"
             }
            },
            "header": {
             "fill": {
              "color": "#C8D4E3"
             },
             "line": {
              "color": "white"
             }
            },
            "type": "table"
           }
          ]
         },
         "layout": {
          "annotationdefaults": {
           "arrowcolor": "#2a3f5f",
           "arrowhead": 0,
           "arrowwidth": 1
          },
          "autotypenumbers": "strict",
          "coloraxis": {
           "colorbar": {
            "outlinewidth": 0,
            "ticks": ""
           }
          },
          "colorscale": {
           "diverging": [
            [
             0,
             "#8e0152"
            ],
            [
             0.1,
             "#c51b7d"
            ],
            [
             0.2,
             "#de77ae"
            ],
            [
             0.3,
             "#f1b6da"
            ],
            [
             0.4,
             "#fde0ef"
            ],
            [
             0.5,
             "#f7f7f7"
            ],
            [
             0.6,
             "#e6f5d0"
            ],
            [
             0.7,
             "#b8e186"
            ],
            [
             0.8,
             "#7fbc41"
            ],
            [
             0.9,
             "#4d9221"
            ],
            [
             1,
             "#276419"
            ]
           ],
           "sequential": [
            [
             0,
             "#0d0887"
            ],
            [
             0.1111111111111111,
             "#46039f"
            ],
            [
             0.2222222222222222,
             "#7201a8"
            ],
            [
             0.3333333333333333,
             "#9c179e"
            ],
            [
             0.4444444444444444,
             "#bd3786"
            ],
            [
             0.5555555555555556,
             "#d8576b"
            ],
            [
             0.6666666666666666,
             "#ed7953"
            ],
            [
             0.7777777777777778,
             "#fb9f3a"
            ],
            [
             0.8888888888888888,
             "#fdca26"
            ],
            [
             1,
             "#f0f921"
            ]
           ],
           "sequentialminus": [
            [
             0,
             "#0d0887"
            ],
            [
             0.1111111111111111,
             "#46039f"
            ],
            [
             0.2222222222222222,
             "#7201a8"
            ],
            [
             0.3333333333333333,
             "#9c179e"
            ],
            [
             0.4444444444444444,
             "#bd3786"
            ],
            [
             0.5555555555555556,
             "#d8576b"
            ],
            [
             0.6666666666666666,
             "#ed7953"
            ],
            [
             0.7777777777777778,
             "#fb9f3a"
            ],
            [
             0.8888888888888888,
             "#fdca26"
            ],
            [
             1,
             "#f0f921"
            ]
           ]
          },
          "colorway": [
           "#636efa",
           "#EF553B",
           "#00cc96",
           "#ab63fa",
           "#FFA15A",
           "#19d3f3",
           "#FF6692",
           "#B6E880",
           "#FF97FF",
           "#FECB52"
          ],
          "font": {
           "color": "#2a3f5f"
          },
          "geo": {
           "bgcolor": "white",
           "lakecolor": "white",
           "landcolor": "#E5ECF6",
           "showlakes": true,
           "showland": true,
           "subunitcolor": "white"
          },
          "hoverlabel": {
           "align": "left"
          },
          "hovermode": "closest",
          "mapbox": {
           "style": "light"
          },
          "paper_bgcolor": "white",
          "plot_bgcolor": "#E5ECF6",
          "polar": {
           "angularaxis": {
            "gridcolor": "white",
            "linecolor": "white",
            "ticks": ""
           },
           "bgcolor": "#E5ECF6",
           "radialaxis": {
            "gridcolor": "white",
            "linecolor": "white",
            "ticks": ""
           }
          },
          "scene": {
           "xaxis": {
            "backgroundcolor": "#E5ECF6",
            "gridcolor": "white",
            "gridwidth": 2,
            "linecolor": "white",
            "showbackground": true,
            "ticks": "",
            "zerolinecolor": "white"
           },
           "yaxis": {
            "backgroundcolor": "#E5ECF6",
            "gridcolor": "white",
            "gridwidth": 2,
            "linecolor": "white",
            "showbackground": true,
            "ticks": "",
            "zerolinecolor": "white"
           },
           "zaxis": {
            "backgroundcolor": "#E5ECF6",
            "gridcolor": "white",
            "gridwidth": 2,
            "linecolor": "white",
            "showbackground": true,
            "ticks": "",
            "zerolinecolor": "white"
           }
          },
          "shapedefaults": {
           "line": {
            "color": "#2a3f5f"
           }
          },
          "ternary": {
           "aaxis": {
            "gridcolor": "white",
            "linecolor": "white",
            "ticks": ""
           },
           "baxis": {
            "gridcolor": "white",
            "linecolor": "white",
            "ticks": ""
           },
           "bgcolor": "#E5ECF6",
           "caxis": {
            "gridcolor": "white",
            "linecolor": "white",
            "ticks": ""
           }
          },
          "title": {
           "x": 0.05
          },
          "xaxis": {
           "automargin": true,
           "gridcolor": "white",
           "linecolor": "white",
           "ticks": "",
           "title": {
            "standoff": 15
           },
           "zerolinecolor": "white",
           "zerolinewidth": 2
          },
          "yaxis": {
           "automargin": true,
           "gridcolor": "white",
           "linecolor": "white",
           "ticks": "",
           "title": {
            "standoff": 15
           },
           "zerolinecolor": "white",
           "zerolinewidth": 2
          }
         }
        },
        "xaxis": {
         "anchor": "y",
         "domain": [
          0,
          1
         ],
         "title": {
          "text": "No of Unique Stations"
         }
        },
        "yaxis": {
         "anchor": "x",
         "domain": [
          0,
          1
         ],
         "title": {
          "text": "Annual Traffic Volume"
         }
        }
       }
      },
      "text/html": [
       "<div>                            <div id=\"5019dba5-bbd4-4a0e-a59c-d07b92fa672c\" class=\"plotly-graph-div\" style=\"height:525px; width:100%;\"></div>            <script type=\"text/javascript\">                require([\"plotly\"], function(Plotly) {                    window.PLOTLYENV=window.PLOTLYENV || {};                                    if (document.getElementById(\"5019dba5-bbd4-4a0e-a59c-d07b92fa672c\")) {                    Plotly.newPlot(                        \"5019dba5-bbd4-4a0e-a59c-d07b92fa672c\",                        [{\"customdata\":[[\"01\"]],\"hovertemplate\":\"fips_state_code=%{customdata[0]}<br>No of Unique Stations=%{x}<br>Annual Traffic Volume=%{y}<extra></extra>\",\"legendgroup\":\"01\",\"marker\":{\"color\":\"#636efa\",\"symbol\":\"circle\"},\"mode\":\"markers\",\"name\":\"01\",\"orientation\":\"v\",\"showlegend\":true,\"type\":\"scatter\",\"x\":[296],\"xaxis\":\"x\",\"y\":[1461509905],\"yaxis\":\"y\"},{\"customdata\":[[\"02\"]],\"hovertemplate\":\"fips_state_code=%{customdata[0]}<br>No of Unique Stations=%{x}<br>Annual Traffic Volume=%{y}<extra></extra>\",\"legendgroup\":\"02\",\"marker\":{\"color\":\"#EF553B\",\"symbol\":\"circle\"},\"mode\":\"markers\",\"name\":\"02\",\"orientation\":\"v\",\"showlegend\":true,\"type\":\"scatter\",\"x\":[210],\"xaxis\":\"x\",\"y\":[318138924],\"yaxis\":\"y\"},{\"customdata\":[[\"04\"]],\"hovertemplate\":\"fips_state_code=%{customdata[0]}<br>No of Unique Stations=%{x}<br>Annual Traffic Volume=%{y}<extra></extra>\",\"legendgroup\":\"04\",\"marker\":{\"color\":\"#00cc96\",\"symbol\":\"circle\"},\"mode\":\"markers\",\"name\":\"04\",\"orientation\":\"v\",\"showlegend\":true,\"type\":\"scatter\",\"x\":[526],\"xaxis\":\"x\",\"y\":[5600393206],\"yaxis\":\"y\"},{\"customdata\":[[\"05\"]],\"hovertemplate\":\"fips_state_code=%{customdata[0]}<br>No of Unique Stations=%{x}<br>Annual Traffic Volume=%{y}<extra></extra>\",\"legendgroup\":\"05\",\"marker\":{\"color\":\"#ab63fa\",\"symbol\":\"circle\"},\"mode\":\"markers\",\"name\":\"05\",\"orientation\":\"v\",\"showlegend\":true,\"type\":\"scatter\",\"x\":[115],\"xaxis\":\"x\",\"y\":[278436058],\"yaxis\":\"y\"},{\"customdata\":[[\"06\"]],\"hovertemplate\":\"fips_state_code=%{customdata[0]}<br>No of Unique Stations=%{x}<br>Annual Traffic Volume=%{y}<extra></extra>\",\"legendgroup\":\"06\",\"marker\":{\"color\":\"#FFA15A\",\"symbol\":\"circle\"},\"mode\":\"markers\",\"name\":\"06\",\"orientation\":\"v\",\"showlegend\":true,\"type\":\"scatter\",\"x\":[570],\"xaxis\":\"x\",\"y\":[6670057776],\"yaxis\":\"y\"},{\"customdata\":[[\"08\"]],\"hovertemplate\":\"fips_state_code=%{customdata[0]}<br>No of Unique Stations=%{x}<br>Annual Traffic Volume=%{y}<extra></extra>\",\"legendgroup\":\"08\",\"marker\":{\"color\":\"#19d3f3\",\"symbol\":\"circle\"},\"mode\":\"markers\",\"name\":\"08\",\"orientation\":\"v\",\"showlegend\":true,\"type\":\"scatter\",\"x\":[212],\"xaxis\":\"x\",\"y\":[964145461],\"yaxis\":\"y\"},{\"customdata\":[[\"09\"]],\"hovertemplate\":\"fips_state_code=%{customdata[0]}<br>No of Unique Stations=%{x}<br>Annual Traffic Volume=%{y}<extra></extra>\",\"legendgroup\":\"09\",\"marker\":{\"color\":\"#FF6692\",\"symbol\":\"circle\"},\"mode\":\"markers\",\"name\":\"09\",\"orientation\":\"v\",\"showlegend\":true,\"type\":\"scatter\",\"x\":[75],\"xaxis\":\"x\",\"y\":[500556105],\"yaxis\":\"y\"},{\"customdata\":[[\"10\"]],\"hovertemplate\":\"fips_state_code=%{customdata[0]}<br>No of Unique Stations=%{x}<br>Annual Traffic Volume=%{y}<extra></extra>\",\"legendgroup\":\"10\",\"marker\":{\"color\":\"#B6E880\",\"symbol\":\"circle\"},\"mode\":\"markers\",\"name\":\"10\",\"orientation\":\"v\",\"showlegend\":true,\"type\":\"scatter\",\"x\":[168],\"xaxis\":\"x\",\"y\":[534104309],\"yaxis\":\"y\"},{\"customdata\":[[\"11\"]],\"hovertemplate\":\"fips_state_code=%{customdata[0]}<br>No of Unique Stations=%{x}<br>Annual Traffic Volume=%{y}<extra></extra>\",\"legendgroup\":\"11\",\"marker\":{\"color\":\"#FF97FF\",\"symbol\":\"circle\"},\"mode\":\"markers\",\"name\":\"11\",\"orientation\":\"v\",\"showlegend\":true,\"type\":\"scatter\",\"x\":[4],\"xaxis\":\"x\",\"y\":[59205437],\"yaxis\":\"y\"},{\"customdata\":[[\"12\"]],\"hovertemplate\":\"fips_state_code=%{customdata[0]}<br>No of Unique Stations=%{x}<br>Annual Traffic Volume=%{y}<extra></extra>\",\"legendgroup\":\"12\",\"marker\":{\"color\":\"#FECB52\",\"symbol\":\"circle\"},\"mode\":\"markers\",\"name\":\"12\",\"orientation\":\"v\",\"showlegend\":true,\"type\":\"scatter\",\"x\":[545],\"xaxis\":\"x\",\"y\":[4412694931],\"yaxis\":\"y\"},{\"customdata\":[[\"13\"]],\"hovertemplate\":\"fips_state_code=%{customdata[0]}<br>No of Unique Stations=%{x}<br>Annual Traffic Volume=%{y}<extra></extra>\",\"legendgroup\":\"13\",\"marker\":{\"color\":\"#636efa\",\"symbol\":\"circle\"},\"mode\":\"markers\",\"name\":\"13\",\"orientation\":\"v\",\"showlegend\":true,\"type\":\"scatter\",\"x\":[446],\"xaxis\":\"x\",\"y\":[3094751035],\"yaxis\":\"y\"},{\"customdata\":[[\"15\"]],\"hovertemplate\":\"fips_state_code=%{customdata[0]}<br>No of Unique Stations=%{x}<br>Annual Traffic Volume=%{y}<extra></extra>\",\"legendgroup\":\"15\",\"marker\":{\"color\":\"#EF553B\",\"symbol\":\"circle\"},\"mode\":\"markers\",\"name\":\"15\",\"orientation\":\"v\",\"showlegend\":true,\"type\":\"scatter\",\"x\":[152],\"xaxis\":\"x\",\"y\":[1605036832],\"yaxis\":\"y\"},{\"customdata\":[[\"16\"]],\"hovertemplate\":\"fips_state_code=%{customdata[0]}<br>No of Unique Stations=%{x}<br>Annual Traffic Volume=%{y}<extra></extra>\",\"legendgroup\":\"16\",\"marker\":{\"color\":\"#00cc96\",\"symbol\":\"circle\"},\"mode\":\"markers\",\"name\":\"16\",\"orientation\":\"v\",\"showlegend\":true,\"type\":\"scatter\",\"x\":[423],\"xaxis\":\"x\",\"y\":[1134837654],\"yaxis\":\"y\"},{\"customdata\":[[\"17\"]],\"hovertemplate\":\"fips_state_code=%{customdata[0]}<br>No of Unique Stations=%{x}<br>Annual Traffic Volume=%{y}<extra></extra>\",\"legendgroup\":\"17\",\"marker\":{\"color\":\"#ab63fa\",\"symbol\":\"circle\"},\"mode\":\"markers\",\"name\":\"17\",\"orientation\":\"v\",\"showlegend\":true,\"type\":\"scatter\",\"x\":[205],\"xaxis\":\"x\",\"y\":[604663105],\"yaxis\":\"y\"},{\"customdata\":[[\"18\"]],\"hovertemplate\":\"fips_state_code=%{customdata[0]}<br>No of Unique Stations=%{x}<br>Annual Traffic Volume=%{y}<extra></extra>\",\"legendgroup\":\"18\",\"marker\":{\"color\":\"#FFA15A\",\"symbol\":\"circle\"},\"mode\":\"markers\",\"name\":\"18\",\"orientation\":\"v\",\"showlegend\":true,\"type\":\"scatter\",\"x\":[171],\"xaxis\":\"x\",\"y\":[332236497],\"yaxis\":\"y\"},{\"customdata\":[[\"19\"]],\"hovertemplate\":\"fips_state_code=%{customdata[0]}<br>No of Unique Stations=%{x}<br>Annual Traffic Volume=%{y}<extra></extra>\",\"legendgroup\":\"19\",\"marker\":{\"color\":\"#19d3f3\",\"symbol\":\"circle\"},\"mode\":\"markers\",\"name\":\"19\",\"orientation\":\"v\",\"showlegend\":true,\"type\":\"scatter\",\"x\":[201],\"xaxis\":\"x\",\"y\":[510570289],\"yaxis\":\"y\"},{\"customdata\":[[\"20\"]],\"hovertemplate\":\"fips_state_code=%{customdata[0]}<br>No of Unique Stations=%{x}<br>Annual Traffic Volume=%{y}<extra></extra>\",\"legendgroup\":\"20\",\"marker\":{\"color\":\"#FF6692\",\"symbol\":\"circle\"},\"mode\":\"markers\",\"name\":\"20\",\"orientation\":\"v\",\"showlegend\":true,\"type\":\"scatter\",\"x\":[196],\"xaxis\":\"x\",\"y\":[340832204],\"yaxis\":\"y\"},{\"customdata\":[[\"21\"]],\"hovertemplate\":\"fips_state_code=%{customdata[0]}<br>No of Unique Stations=%{x}<br>Annual Traffic Volume=%{y}<extra></extra>\",\"legendgroup\":\"21\",\"marker\":{\"color\":\"#B6E880\",\"symbol\":\"circle\"},\"mode\":\"markers\",\"name\":\"21\",\"orientation\":\"v\",\"showlegend\":true,\"type\":\"scatter\",\"x\":[162],\"xaxis\":\"x\",\"y\":[597736449],\"yaxis\":\"y\"},{\"customdata\":[[\"22\"]],\"hovertemplate\":\"fips_state_code=%{customdata[0]}<br>No of Unique Stations=%{x}<br>Annual Traffic Volume=%{y}<extra></extra>\",\"legendgroup\":\"22\",\"marker\":{\"color\":\"#FF97FF\",\"symbol\":\"circle\"},\"mode\":\"markers\",\"name\":\"22\",\"orientation\":\"v\",\"showlegend\":true,\"type\":\"scatter\",\"x\":[120],\"xaxis\":\"x\",\"y\":[263211358],\"yaxis\":\"y\"},{\"customdata\":[[\"23\"]],\"hovertemplate\":\"fips_state_code=%{customdata[0]}<br>No of Unique Stations=%{x}<br>Annual Traffic Volume=%{y}<extra></extra>\",\"legendgroup\":\"23\",\"marker\":{\"color\":\"#FECB52\",\"symbol\":\"circle\"},\"mode\":\"markers\",\"name\":\"23\",\"orientation\":\"v\",\"showlegend\":true,\"type\":\"scatter\",\"x\":[129],\"xaxis\":\"x\",\"y\":[195938846],\"yaxis\":\"y\"},{\"customdata\":[[\"24\"]],\"hovertemplate\":\"fips_state_code=%{customdata[0]}<br>No of Unique Stations=%{x}<br>Annual Traffic Volume=%{y}<extra></extra>\",\"legendgroup\":\"24\",\"marker\":{\"color\":\"#636efa\",\"symbol\":\"circle\"},\"mode\":\"markers\",\"name\":\"24\",\"orientation\":\"v\",\"showlegend\":true,\"type\":\"scatter\",\"x\":[150],\"xaxis\":\"x\",\"y\":[1399825682],\"yaxis\":\"y\"},{\"customdata\":[[\"25\"]],\"hovertemplate\":\"fips_state_code=%{customdata[0]}<br>No of Unique Stations=%{x}<br>Annual Traffic Volume=%{y}<extra></extra>\",\"legendgroup\":\"25\",\"marker\":{\"color\":\"#EF553B\",\"symbol\":\"circle\"},\"mode\":\"markers\",\"name\":\"25\",\"orientation\":\"v\",\"showlegend\":true,\"type\":\"scatter\",\"x\":[103],\"xaxis\":\"x\",\"y\":[795943829],\"yaxis\":\"y\"},{\"customdata\":[[\"26\"]],\"hovertemplate\":\"fips_state_code=%{customdata[0]}<br>No of Unique Stations=%{x}<br>Annual Traffic Volume=%{y}<extra></extra>\",\"legendgroup\":\"26\",\"marker\":{\"color\":\"#00cc96\",\"symbol\":\"circle\"},\"mode\":\"markers\",\"name\":\"26\",\"orientation\":\"v\",\"showlegend\":true,\"type\":\"scatter\",\"x\":[245],\"xaxis\":\"x\",\"y\":[2308504217],\"yaxis\":\"y\"},{\"customdata\":[[\"27\"]],\"hovertemplate\":\"fips_state_code=%{customdata[0]}<br>No of Unique Stations=%{x}<br>Annual Traffic Volume=%{y}<extra></extra>\",\"legendgroup\":\"27\",\"marker\":{\"color\":\"#ab63fa\",\"symbol\":\"circle\"},\"mode\":\"markers\",\"name\":\"27\",\"orientation\":\"v\",\"showlegend\":true,\"type\":\"scatter\",\"x\":[177],\"xaxis\":\"x\",\"y\":[828942796],\"yaxis\":\"y\"},{\"customdata\":[[\"28\"]],\"hovertemplate\":\"fips_state_code=%{customdata[0]}<br>No of Unique Stations=%{x}<br>Annual Traffic Volume=%{y}<extra></extra>\",\"legendgroup\":\"28\",\"marker\":{\"color\":\"#FFA15A\",\"symbol\":\"circle\"},\"mode\":\"markers\",\"name\":\"28\",\"orientation\":\"v\",\"showlegend\":true,\"type\":\"scatter\",\"x\":[194],\"xaxis\":\"x\",\"y\":[619803351],\"yaxis\":\"y\"},{\"customdata\":[[\"29\"]],\"hovertemplate\":\"fips_state_code=%{customdata[0]}<br>No of Unique Stations=%{x}<br>Annual Traffic Volume=%{y}<extra></extra>\",\"legendgroup\":\"29\",\"marker\":{\"color\":\"#19d3f3\",\"symbol\":\"circle\"},\"mode\":\"markers\",\"name\":\"29\",\"orientation\":\"v\",\"showlegend\":true,\"type\":\"scatter\",\"x\":[168],\"xaxis\":\"x\",\"y\":[849276076],\"yaxis\":\"y\"},{\"customdata\":[[\"30\"]],\"hovertemplate\":\"fips_state_code=%{customdata[0]}<br>No of Unique Stations=%{x}<br>Annual Traffic Volume=%{y}<extra></extra>\",\"legendgroup\":\"30\",\"marker\":{\"color\":\"#FF6692\",\"symbol\":\"circle\"},\"mode\":\"markers\",\"name\":\"30\",\"orientation\":\"v\",\"showlegend\":true,\"type\":\"scatter\",\"x\":[197],\"xaxis\":\"x\",\"y\":[255608184],\"yaxis\":\"y\"},{\"customdata\":[[\"31\"]],\"hovertemplate\":\"fips_state_code=%{customdata[0]}<br>No of Unique Stations=%{x}<br>Annual Traffic Volume=%{y}<extra></extra>\",\"legendgroup\":\"31\",\"marker\":{\"color\":\"#B6E880\",\"symbol\":\"circle\"},\"mode\":\"markers\",\"name\":\"31\",\"orientation\":\"v\",\"showlegend\":true,\"type\":\"scatter\",\"x\":[99],\"xaxis\":\"x\",\"y\":[329863440],\"yaxis\":\"y\"},{\"customdata\":[[\"32\"]],\"hovertemplate\":\"fips_state_code=%{customdata[0]}<br>No of Unique Stations=%{x}<br>Annual Traffic Volume=%{y}<extra></extra>\",\"legendgroup\":\"32\",\"marker\":{\"color\":\"#FF97FF\",\"symbol\":\"circle\"},\"mode\":\"markers\",\"name\":\"32\",\"orientation\":\"v\",\"showlegend\":true,\"type\":\"scatter\",\"x\":[196],\"xaxis\":\"x\",\"y\":[1037072029],\"yaxis\":\"y\"},{\"customdata\":[[\"33\"]],\"hovertemplate\":\"fips_state_code=%{customdata[0]}<br>No of Unique Stations=%{x}<br>Annual Traffic Volume=%{y}<extra></extra>\",\"legendgroup\":\"33\",\"marker\":{\"color\":\"#FECB52\",\"symbol\":\"circle\"},\"mode\":\"markers\",\"name\":\"33\",\"orientation\":\"v\",\"showlegend\":true,\"type\":\"scatter\",\"x\":[195],\"xaxis\":\"x\",\"y\":[1108253743],\"yaxis\":\"y\"},{\"customdata\":[[\"34\"]],\"hovertemplate\":\"fips_state_code=%{customdata[0]}<br>No of Unique Stations=%{x}<br>Annual Traffic Volume=%{y}<extra></extra>\",\"legendgroup\":\"34\",\"marker\":{\"color\":\"#636efa\",\"symbol\":\"circle\"},\"mode\":\"markers\",\"name\":\"34\",\"orientation\":\"v\",\"showlegend\":true,\"type\":\"scatter\",\"x\":[75],\"xaxis\":\"x\",\"y\":[549456912],\"yaxis\":\"y\"},{\"customdata\":[[\"35\"]],\"hovertemplate\":\"fips_state_code=%{customdata[0]}<br>No of Unique Stations=%{x}<br>Annual Traffic Volume=%{y}<extra></extra>\",\"legendgroup\":\"35\",\"marker\":{\"color\":\"#EF553B\",\"symbol\":\"circle\"},\"mode\":\"markers\",\"name\":\"35\",\"orientation\":\"v\",\"showlegend\":true,\"type\":\"scatter\",\"x\":[228],\"xaxis\":\"x\",\"y\":[384977104],\"yaxis\":\"y\"},{\"customdata\":[[\"36\"]],\"hovertemplate\":\"fips_state_code=%{customdata[0]}<br>No of Unique Stations=%{x}<br>Annual Traffic Volume=%{y}<extra></extra>\",\"legendgroup\":\"36\",\"marker\":{\"color\":\"#00cc96\",\"symbol\":\"circle\"},\"mode\":\"markers\",\"name\":\"36\",\"orientation\":\"v\",\"showlegend\":true,\"type\":\"scatter\",\"x\":[345],\"xaxis\":\"x\",\"y\":[1560213283],\"yaxis\":\"y\"},{\"customdata\":[[\"37\"]],\"hovertemplate\":\"fips_state_code=%{customdata[0]}<br>No of Unique Stations=%{x}<br>Annual Traffic Volume=%{y}<extra></extra>\",\"legendgroup\":\"37\",\"marker\":{\"color\":\"#ab63fa\",\"symbol\":\"circle\"},\"mode\":\"markers\",\"name\":\"37\",\"orientation\":\"v\",\"showlegend\":true,\"type\":\"scatter\",\"x\":[134],\"xaxis\":\"x\",\"y\":[466053858],\"yaxis\":\"y\"},{\"customdata\":[[\"38\"]],\"hovertemplate\":\"fips_state_code=%{customdata[0]}<br>No of Unique Stations=%{x}<br>Annual Traffic Volume=%{y}<extra></extra>\",\"legendgroup\":\"38\",\"marker\":{\"color\":\"#FFA15A\",\"symbol\":\"circle\"},\"mode\":\"markers\",\"name\":\"38\",\"orientation\":\"v\",\"showlegend\":true,\"type\":\"scatter\",\"x\":[128],\"xaxis\":\"x\",\"y\":[80318777],\"yaxis\":\"y\"},{\"customdata\":[[\"39\"]],\"hovertemplate\":\"fips_state_code=%{customdata[0]}<br>No of Unique Stations=%{x}<br>Annual Traffic Volume=%{y}<extra></extra>\",\"legendgroup\":\"39\",\"marker\":{\"color\":\"#19d3f3\",\"symbol\":\"circle\"},\"mode\":\"markers\",\"name\":\"39\",\"orientation\":\"v\",\"showlegend\":true,\"type\":\"scatter\",\"x\":[352],\"xaxis\":\"x\",\"y\":[2631835767],\"yaxis\":\"y\"},{\"customdata\":[[\"40\"]],\"hovertemplate\":\"fips_state_code=%{customdata[0]}<br>No of Unique Stations=%{x}<br>Annual Traffic Volume=%{y}<extra></extra>\",\"legendgroup\":\"40\",\"marker\":{\"color\":\"#FF6692\",\"symbol\":\"circle\"},\"mode\":\"markers\",\"name\":\"40\",\"orientation\":\"v\",\"showlegend\":true,\"type\":\"scatter\",\"x\":[180],\"xaxis\":\"x\",\"y\":[1090108811],\"yaxis\":\"y\"},{\"customdata\":[[\"41\"]],\"hovertemplate\":\"fips_state_code=%{customdata[0]}<br>No of Unique Stations=%{x}<br>Annual Traffic Volume=%{y}<extra></extra>\",\"legendgroup\":\"41\",\"marker\":{\"color\":\"#B6E880\",\"symbol\":\"circle\"},\"mode\":\"markers\",\"name\":\"41\",\"orientation\":\"v\",\"showlegend\":true,\"type\":\"scatter\",\"x\":[350],\"xaxis\":\"x\",\"y\":[1443103445],\"yaxis\":\"y\"},{\"customdata\":[[\"42\"]],\"hovertemplate\":\"fips_state_code=%{customdata[0]}<br>No of Unique Stations=%{x}<br>Annual Traffic Volume=%{y}<extra></extra>\",\"legendgroup\":\"42\",\"marker\":{\"color\":\"#FF97FF\",\"symbol\":\"circle\"},\"mode\":\"markers\",\"name\":\"42\",\"orientation\":\"v\",\"showlegend\":true,\"type\":\"scatter\",\"x\":[180],\"xaxis\":\"x\",\"y\":[534070530],\"yaxis\":\"y\"},{\"customdata\":[[\"44\"]],\"hovertemplate\":\"fips_state_code=%{customdata[0]}<br>No of Unique Stations=%{x}<br>Annual Traffic Volume=%{y}<extra></extra>\",\"legendgroup\":\"44\",\"marker\":{\"color\":\"#FECB52\",\"symbol\":\"circle\"},\"mode\":\"markers\",\"name\":\"44\",\"orientation\":\"v\",\"showlegend\":true,\"type\":\"scatter\",\"x\":[184],\"xaxis\":\"x\",\"y\":[2441569023],\"yaxis\":\"y\"},{\"customdata\":[[\"45\"]],\"hovertemplate\":\"fips_state_code=%{customdata[0]}<br>No of Unique Stations=%{x}<br>Annual Traffic Volume=%{y}<extra></extra>\",\"legendgroup\":\"45\",\"marker\":{\"color\":\"#636efa\",\"symbol\":\"circle\"},\"mode\":\"markers\",\"name\":\"45\",\"orientation\":\"v\",\"showlegend\":true,\"type\":\"scatter\",\"x\":[131],\"xaxis\":\"x\",\"y\":[1511178572],\"yaxis\":\"y\"},{\"customdata\":[[\"46\"]],\"hovertemplate\":\"fips_state_code=%{customdata[0]}<br>No of Unique Stations=%{x}<br>Annual Traffic Volume=%{y}<extra></extra>\",\"legendgroup\":\"46\",\"marker\":{\"color\":\"#EF553B\",\"symbol\":\"circle\"},\"mode\":\"markers\",\"name\":\"46\",\"orientation\":\"v\",\"showlegend\":true,\"type\":\"scatter\",\"x\":[131],\"xaxis\":\"x\",\"y\":[147911499],\"yaxis\":\"y\"},{\"customdata\":[[\"47\"]],\"hovertemplate\":\"fips_state_code=%{customdata[0]}<br>No of Unique Stations=%{x}<br>Annual Traffic Volume=%{y}<extra></extra>\",\"legendgroup\":\"47\",\"marker\":{\"color\":\"#00cc96\",\"symbol\":\"circle\"},\"mode\":\"markers\",\"name\":\"47\",\"orientation\":\"v\",\"showlegend\":true,\"type\":\"scatter\",\"x\":[114],\"xaxis\":\"x\",\"y\":[276729299],\"yaxis\":\"y\"},{\"customdata\":[[\"48\"]],\"hovertemplate\":\"fips_state_code=%{customdata[0]}<br>No of Unique Stations=%{x}<br>Annual Traffic Volume=%{y}<extra></extra>\",\"legendgroup\":\"48\",\"marker\":{\"color\":\"#ab63fa\",\"symbol\":\"circle\"},\"mode\":\"markers\",\"name\":\"48\",\"orientation\":\"v\",\"showlegend\":true,\"type\":\"scatter\",\"x\":[528],\"xaxis\":\"x\",\"y\":[2791691757],\"yaxis\":\"y\"},{\"customdata\":[[\"49\"]],\"hovertemplate\":\"fips_state_code=%{customdata[0]}<br>No of Unique Stations=%{x}<br>Annual Traffic Volume=%{y}<extra></extra>\",\"legendgroup\":\"49\",\"marker\":{\"color\":\"#FFA15A\",\"symbol\":\"circle\"},\"mode\":\"markers\",\"name\":\"49\",\"orientation\":\"v\",\"showlegend\":true,\"type\":\"scatter\",\"x\":[220],\"xaxis\":\"x\",\"y\":[1191135280],\"yaxis\":\"y\"},{\"customdata\":[[\"50\"]],\"hovertemplate\":\"fips_state_code=%{customdata[0]}<br>No of Unique Stations=%{x}<br>Annual Traffic Volume=%{y}<extra></extra>\",\"legendgroup\":\"50\",\"marker\":{\"color\":\"#19d3f3\",\"symbol\":\"circle\"},\"mode\":\"markers\",\"name\":\"50\",\"orientation\":\"v\",\"showlegend\":true,\"type\":\"scatter\",\"x\":[230],\"xaxis\":\"x\",\"y\":[197420518],\"yaxis\":\"y\"},{\"customdata\":[[\"51\"]],\"hovertemplate\":\"fips_state_code=%{customdata[0]}<br>No of Unique Stations=%{x}<br>Annual Traffic Volume=%{y}<extra></extra>\",\"legendgroup\":\"51\",\"marker\":{\"color\":\"#FF6692\",\"symbol\":\"circle\"},\"mode\":\"markers\",\"name\":\"51\",\"orientation\":\"v\",\"showlegend\":true,\"type\":\"scatter\",\"x\":[961],\"xaxis\":\"x\",\"y\":[9056241744],\"yaxis\":\"y\"},{\"customdata\":[[\"53\"]],\"hovertemplate\":\"fips_state_code=%{customdata[0]}<br>No of Unique Stations=%{x}<br>Annual Traffic Volume=%{y}<extra></extra>\",\"legendgroup\":\"53\",\"marker\":{\"color\":\"#B6E880\",\"symbol\":\"circle\"},\"mode\":\"markers\",\"name\":\"53\",\"orientation\":\"v\",\"showlegend\":true,\"type\":\"scatter\",\"x\":[327],\"xaxis\":\"x\",\"y\":[2702688901],\"yaxis\":\"y\"},{\"customdata\":[[\"54\"]],\"hovertemplate\":\"fips_state_code=%{customdata[0]}<br>No of Unique Stations=%{x}<br>Annual Traffic Volume=%{y}<extra></extra>\",\"legendgroup\":\"54\",\"marker\":{\"color\":\"#FF97FF\",\"symbol\":\"circle\"},\"mode\":\"markers\",\"name\":\"54\",\"orientation\":\"v\",\"showlegend\":true,\"type\":\"scatter\",\"x\":[141],\"xaxis\":\"x\",\"y\":[151767797],\"yaxis\":\"y\"},{\"customdata\":[[\"55\"]],\"hovertemplate\":\"fips_state_code=%{customdata[0]}<br>No of Unique Stations=%{x}<br>Annual Traffic Volume=%{y}<extra></extra>\",\"legendgroup\":\"55\",\"marker\":{\"color\":\"#FECB52\",\"symbol\":\"circle\"},\"mode\":\"markers\",\"name\":\"55\",\"orientation\":\"v\",\"showlegend\":true,\"type\":\"scatter\",\"x\":[447],\"xaxis\":\"x\",\"y\":[1872783834],\"yaxis\":\"y\"},{\"customdata\":[[\"56\"]],\"hovertemplate\":\"fips_state_code=%{customdata[0]}<br>No of Unique Stations=%{x}<br>Annual Traffic Volume=%{y}<extra></extra>\",\"legendgroup\":\"56\",\"marker\":{\"color\":\"#636efa\",\"symbol\":\"circle\"},\"mode\":\"markers\",\"name\":\"56\",\"orientation\":\"v\",\"showlegend\":true,\"type\":\"scatter\",\"x\":[338],\"xaxis\":\"x\",\"y\":[279254443],\"yaxis\":\"y\"},{\"hovertemplate\":\"<b>OLS trendline</b><br>annual_traffic_volume = 9.19996e+06 * num_unique_stations + -8.52307e+08<br>R<sup>2</sup>=0.769466<br><br>No of Unique Stations=%{x}<br>Annual Traffic Volume=%{y} <b>(trend)</b><extra></extra>\",\"legendgroup\":\"Overall Trendline\",\"line\":{\"color\":\"black\"},\"mode\":\"lines\",\"name\":\"Overall Trendline\",\"showlegend\":true,\"type\":\"scatter\",\"x\":[4,75,75,99,103,114,115,120,128,129,131,131,134,141,150,152,162,168,168,171,177,180,180,184,194,195,196,196,197,201,205,210,212,220,228,230,245,296,327,338,345,350,352,423,446,447,526,528,545,570,961],\"xaxis\":\"x\",\"y\":[-815507250.2208798,-162309988.45655727,-162309988.45655727,58489085.94265032,95288931.67585158,196488507.442155,205688468.87545538,251688276.0419569,325287967.50835943,334487928.9416597,352887851.80826044,352887851.80826044,380487736.10816145,444887466.1412635,527687119.0409665,546087041.907567,638086656.2405701,693286424.8403721,693286424.8403721,720886309.1402731,776086077.7400749,803685962.0399759,803685962.0399759,840485807.7731771,932485422.1061802,941685383.5394807,950885344.972781,950885344.972781,960085306.4060812,996885152.1392825,1033684997.8724837,1079684805.0389853,1098084727.905586,1171684419.3719885,1245284110.838391,1263684033.7049918,1401683455.2044964,1870881488.3028126,2156080292.735122,2257279868.5014257,2321679598.5345283,2367679405.70103,2386079328.5676303,3039276590.3319526,3250875703.29786,3260075664.73116,3986872617.961885,4005272540.828486,4161671885.194591,4391670921.0271,7988855841.447523],\"yaxis\":\"y\"}],                        {\"legend\":{\"title\":{\"text\":\"fips_state_code\"},\"tracegroupgap\":0},\"margin\":{\"t\":60},\"template\":{\"data\":{\"bar\":[{\"error_x\":{\"color\":\"#2a3f5f\"},\"error_y\":{\"color\":\"#2a3f5f\"},\"marker\":{\"line\":{\"color\":\"#E5ECF6\",\"width\":0.5},\"pattern\":{\"fillmode\":\"overlay\",\"size\":10,\"solidity\":0.2}},\"type\":\"bar\"}],\"barpolar\":[{\"marker\":{\"line\":{\"color\":\"#E5ECF6\",\"width\":0.5},\"pattern\":{\"fillmode\":\"overlay\",\"size\":10,\"solidity\":0.2}},\"type\":\"barpolar\"}],\"carpet\":[{\"aaxis\":{\"endlinecolor\":\"#2a3f5f\",\"gridcolor\":\"white\",\"linecolor\":\"white\",\"minorgridcolor\":\"white\",\"startlinecolor\":\"#2a3f5f\"},\"baxis\":{\"endlinecolor\":\"#2a3f5f\",\"gridcolor\":\"white\",\"linecolor\":\"white\",\"minorgridcolor\":\"white\",\"startlinecolor\":\"#2a3f5f\"},\"type\":\"carpet\"}],\"choropleth\":[{\"colorbar\":{\"outlinewidth\":0,\"ticks\":\"\"},\"type\":\"choropleth\"}],\"contour\":[{\"colorbar\":{\"outlinewidth\":0,\"ticks\":\"\"},\"colorscale\":[[0.0,\"#0d0887\"],[0.1111111111111111,\"#46039f\"],[0.2222222222222222,\"#7201a8\"],[0.3333333333333333,\"#9c179e\"],[0.4444444444444444,\"#bd3786\"],[0.5555555555555556,\"#d8576b\"],[0.6666666666666666,\"#ed7953\"],[0.7777777777777778,\"#fb9f3a\"],[0.8888888888888888,\"#fdca26\"],[1.0,\"#f0f921\"]],\"type\":\"contour\"}],\"contourcarpet\":[{\"colorbar\":{\"outlinewidth\":0,\"ticks\":\"\"},\"type\":\"contourcarpet\"}],\"heatmap\":[{\"colorbar\":{\"outlinewidth\":0,\"ticks\":\"\"},\"colorscale\":[[0.0,\"#0d0887\"],[0.1111111111111111,\"#46039f\"],[0.2222222222222222,\"#7201a8\"],[0.3333333333333333,\"#9c179e\"],[0.4444444444444444,\"#bd3786\"],[0.5555555555555556,\"#d8576b\"],[0.6666666666666666,\"#ed7953\"],[0.7777777777777778,\"#fb9f3a\"],[0.8888888888888888,\"#fdca26\"],[1.0,\"#f0f921\"]],\"type\":\"heatmap\"}],\"heatmapgl\":[{\"colorbar\":{\"outlinewidth\":0,\"ticks\":\"\"},\"colorscale\":[[0.0,\"#0d0887\"],[0.1111111111111111,\"#46039f\"],[0.2222222222222222,\"#7201a8\"],[0.3333333333333333,\"#9c179e\"],[0.4444444444444444,\"#bd3786\"],[0.5555555555555556,\"#d8576b\"],[0.6666666666666666,\"#ed7953\"],[0.7777777777777778,\"#fb9f3a\"],[0.8888888888888888,\"#fdca26\"],[1.0,\"#f0f921\"]],\"type\":\"heatmapgl\"}],\"histogram\":[{\"marker\":{\"pattern\":{\"fillmode\":\"overlay\",\"size\":10,\"solidity\":0.2}},\"type\":\"histogram\"}],\"histogram2d\":[{\"colorbar\":{\"outlinewidth\":0,\"ticks\":\"\"},\"colorscale\":[[0.0,\"#0d0887\"],[0.1111111111111111,\"#46039f\"],[0.2222222222222222,\"#7201a8\"],[0.3333333333333333,\"#9c179e\"],[0.4444444444444444,\"#bd3786\"],[0.5555555555555556,\"#d8576b\"],[0.6666666666666666,\"#ed7953\"],[0.7777777777777778,\"#fb9f3a\"],[0.8888888888888888,\"#fdca26\"],[1.0,\"#f0f921\"]],\"type\":\"histogram2d\"}],\"histogram2dcontour\":[{\"colorbar\":{\"outlinewidth\":0,\"ticks\":\"\"},\"colorscale\":[[0.0,\"#0d0887\"],[0.1111111111111111,\"#46039f\"],[0.2222222222222222,\"#7201a8\"],[0.3333333333333333,\"#9c179e\"],[0.4444444444444444,\"#bd3786\"],[0.5555555555555556,\"#d8576b\"],[0.6666666666666666,\"#ed7953\"],[0.7777777777777778,\"#fb9f3a\"],[0.8888888888888888,\"#fdca26\"],[1.0,\"#f0f921\"]],\"type\":\"histogram2dcontour\"}],\"mesh3d\":[{\"colorbar\":{\"outlinewidth\":0,\"ticks\":\"\"},\"type\":\"mesh3d\"}],\"parcoords\":[{\"line\":{\"colorbar\":{\"outlinewidth\":0,\"ticks\":\"\"}},\"type\":\"parcoords\"}],\"pie\":[{\"automargin\":true,\"type\":\"pie\"}],\"scatter\":[{\"marker\":{\"colorbar\":{\"outlinewidth\":0,\"ticks\":\"\"}},\"type\":\"scatter\"}],\"scatter3d\":[{\"line\":{\"colorbar\":{\"outlinewidth\":0,\"ticks\":\"\"}},\"marker\":{\"colorbar\":{\"outlinewidth\":0,\"ticks\":\"\"}},\"type\":\"scatter3d\"}],\"scattercarpet\":[{\"marker\":{\"colorbar\":{\"outlinewidth\":0,\"ticks\":\"\"}},\"type\":\"scattercarpet\"}],\"scattergeo\":[{\"marker\":{\"colorbar\":{\"outlinewidth\":0,\"ticks\":\"\"}},\"type\":\"scattergeo\"}],\"scattergl\":[{\"marker\":{\"colorbar\":{\"outlinewidth\":0,\"ticks\":\"\"}},\"type\":\"scattergl\"}],\"scattermapbox\":[{\"marker\":{\"colorbar\":{\"outlinewidth\":0,\"ticks\":\"\"}},\"type\":\"scattermapbox\"}],\"scatterpolar\":[{\"marker\":{\"colorbar\":{\"outlinewidth\":0,\"ticks\":\"\"}},\"type\":\"scatterpolar\"}],\"scatterpolargl\":[{\"marker\":{\"colorbar\":{\"outlinewidth\":0,\"ticks\":\"\"}},\"type\":\"scatterpolargl\"}],\"scatterternary\":[{\"marker\":{\"colorbar\":{\"outlinewidth\":0,\"ticks\":\"\"}},\"type\":\"scatterternary\"}],\"surface\":[{\"colorbar\":{\"outlinewidth\":0,\"ticks\":\"\"},\"colorscale\":[[0.0,\"#0d0887\"],[0.1111111111111111,\"#46039f\"],[0.2222222222222222,\"#7201a8\"],[0.3333333333333333,\"#9c179e\"],[0.4444444444444444,\"#bd3786\"],[0.5555555555555556,\"#d8576b\"],[0.6666666666666666,\"#ed7953\"],[0.7777777777777778,\"#fb9f3a\"],[0.8888888888888888,\"#fdca26\"],[1.0,\"#f0f921\"]],\"type\":\"surface\"}],\"table\":[{\"cells\":{\"fill\":{\"color\":\"#EBF0F8\"},\"line\":{\"color\":\"white\"}},\"header\":{\"fill\":{\"color\":\"#C8D4E3\"},\"line\":{\"color\":\"white\"}},\"type\":\"table\"}]},\"layout\":{\"annotationdefaults\":{\"arrowcolor\":\"#2a3f5f\",\"arrowhead\":0,\"arrowwidth\":1},\"autotypenumbers\":\"strict\",\"coloraxis\":{\"colorbar\":{\"outlinewidth\":0,\"ticks\":\"\"}},\"colorscale\":{\"diverging\":[[0,\"#8e0152\"],[0.1,\"#c51b7d\"],[0.2,\"#de77ae\"],[0.3,\"#f1b6da\"],[0.4,\"#fde0ef\"],[0.5,\"#f7f7f7\"],[0.6,\"#e6f5d0\"],[0.7,\"#b8e186\"],[0.8,\"#7fbc41\"],[0.9,\"#4d9221\"],[1,\"#276419\"]],\"sequential\":[[0.0,\"#0d0887\"],[0.1111111111111111,\"#46039f\"],[0.2222222222222222,\"#7201a8\"],[0.3333333333333333,\"#9c179e\"],[0.4444444444444444,\"#bd3786\"],[0.5555555555555556,\"#d8576b\"],[0.6666666666666666,\"#ed7953\"],[0.7777777777777778,\"#fb9f3a\"],[0.8888888888888888,\"#fdca26\"],[1.0,\"#f0f921\"]],\"sequentialminus\":[[0.0,\"#0d0887\"],[0.1111111111111111,\"#46039f\"],[0.2222222222222222,\"#7201a8\"],[0.3333333333333333,\"#9c179e\"],[0.4444444444444444,\"#bd3786\"],[0.5555555555555556,\"#d8576b\"],[0.6666666666666666,\"#ed7953\"],[0.7777777777777778,\"#fb9f3a\"],[0.8888888888888888,\"#fdca26\"],[1.0,\"#f0f921\"]]},\"colorway\":[\"#636efa\",\"#EF553B\",\"#00cc96\",\"#ab63fa\",\"#FFA15A\",\"#19d3f3\",\"#FF6692\",\"#B6E880\",\"#FF97FF\",\"#FECB52\"],\"font\":{\"color\":\"#2a3f5f\"},\"geo\":{\"bgcolor\":\"white\",\"lakecolor\":\"white\",\"landcolor\":\"#E5ECF6\",\"showlakes\":true,\"showland\":true,\"subunitcolor\":\"white\"},\"hoverlabel\":{\"align\":\"left\"},\"hovermode\":\"closest\",\"mapbox\":{\"style\":\"light\"},\"paper_bgcolor\":\"white\",\"plot_bgcolor\":\"#E5ECF6\",\"polar\":{\"angularaxis\":{\"gridcolor\":\"white\",\"linecolor\":\"white\",\"ticks\":\"\"},\"bgcolor\":\"#E5ECF6\",\"radialaxis\":{\"gridcolor\":\"white\",\"linecolor\":\"white\",\"ticks\":\"\"}},\"scene\":{\"xaxis\":{\"backgroundcolor\":\"#E5ECF6\",\"gridcolor\":\"white\",\"gridwidth\":2,\"linecolor\":\"white\",\"showbackground\":true,\"ticks\":\"\",\"zerolinecolor\":\"white\"},\"yaxis\":{\"backgroundcolor\":\"#E5ECF6\",\"gridcolor\":\"white\",\"gridwidth\":2,\"linecolor\":\"white\",\"showbackground\":true,\"ticks\":\"\",\"zerolinecolor\":\"white\"},\"zaxis\":{\"backgroundcolor\":\"#E5ECF6\",\"gridcolor\":\"white\",\"gridwidth\":2,\"linecolor\":\"white\",\"showbackground\":true,\"ticks\":\"\",\"zerolinecolor\":\"white\"}},\"shapedefaults\":{\"line\":{\"color\":\"#2a3f5f\"}},\"ternary\":{\"aaxis\":{\"gridcolor\":\"white\",\"linecolor\":\"white\",\"ticks\":\"\"},\"baxis\":{\"gridcolor\":\"white\",\"linecolor\":\"white\",\"ticks\":\"\"},\"bgcolor\":\"#E5ECF6\",\"caxis\":{\"gridcolor\":\"white\",\"linecolor\":\"white\",\"ticks\":\"\"}},\"title\":{\"x\":0.05},\"xaxis\":{\"automargin\":true,\"gridcolor\":\"white\",\"linecolor\":\"white\",\"ticks\":\"\",\"title\":{\"standoff\":15},\"zerolinecolor\":\"white\",\"zerolinewidth\":2},\"yaxis\":{\"automargin\":true,\"gridcolor\":\"white\",\"linecolor\":\"white\",\"ticks\":\"\",\"title\":{\"standoff\":15},\"zerolinecolor\":\"white\",\"zerolinewidth\":2}}},\"xaxis\":{\"anchor\":\"y\",\"domain\":[0.0,1.0],\"title\":{\"text\":\"No of Unique Stations\"}},\"yaxis\":{\"anchor\":\"x\",\"domain\":[0.0,1.0],\"title\":{\"text\":\"Annual Traffic Volume\"}}},                        {\"responsive\": true}                    ).then(function(){\n",
       "                            \n",
       "var gd = document.getElementById('5019dba5-bbd4-4a0e-a59c-d07b92fa672c');\n",
       "var x = new MutationObserver(function (mutations, observer) {{\n",
       "        var display = window.getComputedStyle(gd).display;\n",
       "        if (!display || display === 'none') {{\n",
       "            console.log([gd, 'removed!']);\n",
       "            Plotly.purge(gd);\n",
       "            observer.disconnect();\n",
       "        }}\n",
       "}});\n",
       "\n",
       "// Listen for the removal of the full notebook cells\n",
       "var notebookContainer = gd.closest('#notebook-container');\n",
       "if (notebookContainer) {{\n",
       "    x.observe(notebookContainer, {childList: true});\n",
       "}}\n",
       "\n",
       "// Listen for the clearing of the current output cell\n",
       "var outputEl = gd.closest('.output');\n",
       "if (outputEl) {{\n",
       "    x.observe(outputEl, {childList: true});\n",
       "}}\n",
       "\n",
       "                        })                };                });            </script>        </div>"
      ]
     },
     "metadata": {},
     "output_type": "display_data"
    }
   ],
   "source": [
    "# Merge num_unique_stations with traffic_state\n",
    "merge_station_state = num_unique_stations.merge(traffic_state, on=\"fips_state_code\")\n",
    "fig = px.scatter(merge_station_state, x=\"num_unique_stations\", y=\"annual_traffic_volume\",\n",
    "           color=\"fips_state_code\", trendline=\"ols\", trendline_scope=\"overall\",\n",
    "           hover_data=[\"fips_state_code\"], trendline_color_override=\"black\",\n",
    "           labels={\"num_unique_stations\": \"No of Unique Stations\",\n",
    "                   \"annual_traffic_volume\": \"Annual Traffic Volume\"})\n",
    "fig"
   ]
  },
  {
   "cell_type": "code",
   "execution_count": 81,
   "id": "74a8006f",
   "metadata": {},
   "outputs": [],
   "source": [
    "# Based on the graph above and the R^2 value = 0.769 (can be found by hovering over the trendline in the graph), we can  conclude\n",
    "# that there is indeed a strong positive correlation between num_unique_stations and the annual traffic volume\n",
    "# As such, it might be prudent to measure how heavy traffic is in a state using the metric: annual traffic volume by state\n",
    "# normalized by the number of unique stations  "
   ]
  },
  {
   "cell_type": "code",
   "execution_count": 89,
   "id": "4f1ce8dc",
   "metadata": {},
   "outputs": [
    {
     "data": {
      "text/html": [
       "<div>\n",
       "<style scoped>\n",
       "    .dataframe tbody tr th:only-of-type {\n",
       "        vertical-align: middle;\n",
       "    }\n",
       "\n",
       "    .dataframe tbody tr th {\n",
       "        vertical-align: top;\n",
       "    }\n",
       "\n",
       "    .dataframe thead th {\n",
       "        text-align: right;\n",
       "    }\n",
       "</style>\n",
       "<table border=\"1\" class=\"dataframe\">\n",
       "  <thead>\n",
       "    <tr style=\"text-align: right;\">\n",
       "      <th></th>\n",
       "      <th>fips_state_code</th>\n",
       "      <th>num_unique_stations</th>\n",
       "      <th>annual_traffic_volume</th>\n",
       "      <th>fips_state_abb</th>\n",
       "      <th>fips_state_full</th>\n",
       "      <th>norm_annual_traffic_volume</th>\n",
       "    </tr>\n",
       "  </thead>\n",
       "  <tbody>\n",
       "    <tr>\n",
       "      <th>0</th>\n",
       "      <td>01</td>\n",
       "      <td>296</td>\n",
       "      <td>1461509905</td>\n",
       "      <td>AL</td>\n",
       "      <td>Alabama</td>\n",
       "      <td>4.937533e+06</td>\n",
       "    </tr>\n",
       "    <tr>\n",
       "      <th>1</th>\n",
       "      <td>02</td>\n",
       "      <td>210</td>\n",
       "      <td>318138924</td>\n",
       "      <td>AK</td>\n",
       "      <td>Alaska</td>\n",
       "      <td>1.514947e+06</td>\n",
       "    </tr>\n",
       "    <tr>\n",
       "      <th>2</th>\n",
       "      <td>04</td>\n",
       "      <td>526</td>\n",
       "      <td>5600393206</td>\n",
       "      <td>AZ</td>\n",
       "      <td>Arizona</td>\n",
       "      <td>1.064714e+07</td>\n",
       "    </tr>\n",
       "    <tr>\n",
       "      <th>3</th>\n",
       "      <td>05</td>\n",
       "      <td>115</td>\n",
       "      <td>278436058</td>\n",
       "      <td>AR</td>\n",
       "      <td>Arkansas</td>\n",
       "      <td>2.421183e+06</td>\n",
       "    </tr>\n",
       "    <tr>\n",
       "      <th>4</th>\n",
       "      <td>06</td>\n",
       "      <td>570</td>\n",
       "      <td>6670057776</td>\n",
       "      <td>CA</td>\n",
       "      <td>California</td>\n",
       "      <td>1.170186e+07</td>\n",
       "    </tr>\n",
       "    <tr>\n",
       "      <th>5</th>\n",
       "      <td>08</td>\n",
       "      <td>212</td>\n",
       "      <td>964145461</td>\n",
       "      <td>CO</td>\n",
       "      <td>Colorado</td>\n",
       "      <td>4.547856e+06</td>\n",
       "    </tr>\n",
       "    <tr>\n",
       "      <th>6</th>\n",
       "      <td>09</td>\n",
       "      <td>75</td>\n",
       "      <td>500556105</td>\n",
       "      <td>CT</td>\n",
       "      <td>Connecticut</td>\n",
       "      <td>6.674081e+06</td>\n",
       "    </tr>\n",
       "    <tr>\n",
       "      <th>7</th>\n",
       "      <td>10</td>\n",
       "      <td>168</td>\n",
       "      <td>534104309</td>\n",
       "      <td>DE</td>\n",
       "      <td>Delaware</td>\n",
       "      <td>3.179192e+06</td>\n",
       "    </tr>\n",
       "    <tr>\n",
       "      <th>8</th>\n",
       "      <td>11</td>\n",
       "      <td>4</td>\n",
       "      <td>59205437</td>\n",
       "      <td>DC</td>\n",
       "      <td>District of Columbia</td>\n",
       "      <td>1.480136e+07</td>\n",
       "    </tr>\n",
       "    <tr>\n",
       "      <th>9</th>\n",
       "      <td>12</td>\n",
       "      <td>545</td>\n",
       "      <td>4412694931</td>\n",
       "      <td>FL</td>\n",
       "      <td>Florida</td>\n",
       "      <td>8.096688e+06</td>\n",
       "    </tr>\n",
       "    <tr>\n",
       "      <th>10</th>\n",
       "      <td>13</td>\n",
       "      <td>446</td>\n",
       "      <td>3094751035</td>\n",
       "      <td>GA</td>\n",
       "      <td>Georgia</td>\n",
       "      <td>6.938904e+06</td>\n",
       "    </tr>\n",
       "    <tr>\n",
       "      <th>11</th>\n",
       "      <td>15</td>\n",
       "      <td>152</td>\n",
       "      <td>1605036832</td>\n",
       "      <td>HI</td>\n",
       "      <td>Hawaii</td>\n",
       "      <td>1.055945e+07</td>\n",
       "    </tr>\n",
       "    <tr>\n",
       "      <th>12</th>\n",
       "      <td>16</td>\n",
       "      <td>423</td>\n",
       "      <td>1134837654</td>\n",
       "      <td>ID</td>\n",
       "      <td>Idaho</td>\n",
       "      <td>2.682831e+06</td>\n",
       "    </tr>\n",
       "    <tr>\n",
       "      <th>13</th>\n",
       "      <td>17</td>\n",
       "      <td>205</td>\n",
       "      <td>604663105</td>\n",
       "      <td>IL</td>\n",
       "      <td>Illinois</td>\n",
       "      <td>2.949576e+06</td>\n",
       "    </tr>\n",
       "    <tr>\n",
       "      <th>14</th>\n",
       "      <td>18</td>\n",
       "      <td>171</td>\n",
       "      <td>332236497</td>\n",
       "      <td>IN</td>\n",
       "      <td>Indiana</td>\n",
       "      <td>1.942903e+06</td>\n",
       "    </tr>\n",
       "    <tr>\n",
       "      <th>15</th>\n",
       "      <td>19</td>\n",
       "      <td>201</td>\n",
       "      <td>510570289</td>\n",
       "      <td>IA</td>\n",
       "      <td>Iowa</td>\n",
       "      <td>2.540151e+06</td>\n",
       "    </tr>\n",
       "    <tr>\n",
       "      <th>16</th>\n",
       "      <td>20</td>\n",
       "      <td>196</td>\n",
       "      <td>340832204</td>\n",
       "      <td>KS</td>\n",
       "      <td>Kansas</td>\n",
       "      <td>1.738940e+06</td>\n",
       "    </tr>\n",
       "    <tr>\n",
       "      <th>17</th>\n",
       "      <td>21</td>\n",
       "      <td>162</td>\n",
       "      <td>597736449</td>\n",
       "      <td>KY</td>\n",
       "      <td>Kentucky</td>\n",
       "      <td>3.689731e+06</td>\n",
       "    </tr>\n",
       "    <tr>\n",
       "      <th>18</th>\n",
       "      <td>22</td>\n",
       "      <td>120</td>\n",
       "      <td>263211358</td>\n",
       "      <td>LA</td>\n",
       "      <td>Louisiana</td>\n",
       "      <td>2.193428e+06</td>\n",
       "    </tr>\n",
       "    <tr>\n",
       "      <th>19</th>\n",
       "      <td>23</td>\n",
       "      <td>129</td>\n",
       "      <td>195938846</td>\n",
       "      <td>ME</td>\n",
       "      <td>Maine</td>\n",
       "      <td>1.518906e+06</td>\n",
       "    </tr>\n",
       "    <tr>\n",
       "      <th>20</th>\n",
       "      <td>24</td>\n",
       "      <td>150</td>\n",
       "      <td>1399825682</td>\n",
       "      <td>MD</td>\n",
       "      <td>Maryland</td>\n",
       "      <td>9.332171e+06</td>\n",
       "    </tr>\n",
       "    <tr>\n",
       "      <th>21</th>\n",
       "      <td>25</td>\n",
       "      <td>103</td>\n",
       "      <td>795943829</td>\n",
       "      <td>MA</td>\n",
       "      <td>Massachusetts</td>\n",
       "      <td>7.727610e+06</td>\n",
       "    </tr>\n",
       "    <tr>\n",
       "      <th>22</th>\n",
       "      <td>26</td>\n",
       "      <td>245</td>\n",
       "      <td>2308504217</td>\n",
       "      <td>MI</td>\n",
       "      <td>Michigan</td>\n",
       "      <td>9.422466e+06</td>\n",
       "    </tr>\n",
       "    <tr>\n",
       "      <th>23</th>\n",
       "      <td>27</td>\n",
       "      <td>177</td>\n",
       "      <td>828942796</td>\n",
       "      <td>MN</td>\n",
       "      <td>Minnesota</td>\n",
       "      <td>4.683293e+06</td>\n",
       "    </tr>\n",
       "    <tr>\n",
       "      <th>24</th>\n",
       "      <td>28</td>\n",
       "      <td>194</td>\n",
       "      <td>619803351</td>\n",
       "      <td>MS</td>\n",
       "      <td>Mississippi</td>\n",
       "      <td>3.194863e+06</td>\n",
       "    </tr>\n",
       "    <tr>\n",
       "      <th>25</th>\n",
       "      <td>29</td>\n",
       "      <td>168</td>\n",
       "      <td>849276076</td>\n",
       "      <td>MO</td>\n",
       "      <td>Missouri</td>\n",
       "      <td>5.055215e+06</td>\n",
       "    </tr>\n",
       "    <tr>\n",
       "      <th>26</th>\n",
       "      <td>30</td>\n",
       "      <td>197</td>\n",
       "      <td>255608184</td>\n",
       "      <td>MT</td>\n",
       "      <td>Montana</td>\n",
       "      <td>1.297503e+06</td>\n",
       "    </tr>\n",
       "    <tr>\n",
       "      <th>27</th>\n",
       "      <td>31</td>\n",
       "      <td>99</td>\n",
       "      <td>329863440</td>\n",
       "      <td>NE</td>\n",
       "      <td>Nebraska</td>\n",
       "      <td>3.331954e+06</td>\n",
       "    </tr>\n",
       "    <tr>\n",
       "      <th>28</th>\n",
       "      <td>32</td>\n",
       "      <td>196</td>\n",
       "      <td>1037072029</td>\n",
       "      <td>NV</td>\n",
       "      <td>Nevada</td>\n",
       "      <td>5.291184e+06</td>\n",
       "    </tr>\n",
       "    <tr>\n",
       "      <th>29</th>\n",
       "      <td>33</td>\n",
       "      <td>195</td>\n",
       "      <td>1108253743</td>\n",
       "      <td>NH</td>\n",
       "      <td>New Hampshire</td>\n",
       "      <td>5.683353e+06</td>\n",
       "    </tr>\n",
       "    <tr>\n",
       "      <th>30</th>\n",
       "      <td>34</td>\n",
       "      <td>75</td>\n",
       "      <td>549456912</td>\n",
       "      <td>NJ</td>\n",
       "      <td>New Jersey</td>\n",
       "      <td>7.326092e+06</td>\n",
       "    </tr>\n",
       "    <tr>\n",
       "      <th>31</th>\n",
       "      <td>35</td>\n",
       "      <td>228</td>\n",
       "      <td>384977104</td>\n",
       "      <td>NM</td>\n",
       "      <td>New Mexico</td>\n",
       "      <td>1.688496e+06</td>\n",
       "    </tr>\n",
       "    <tr>\n",
       "      <th>32</th>\n",
       "      <td>36</td>\n",
       "      <td>345</td>\n",
       "      <td>1560213283</td>\n",
       "      <td>NY</td>\n",
       "      <td>New York</td>\n",
       "      <td>4.522357e+06</td>\n",
       "    </tr>\n",
       "    <tr>\n",
       "      <th>33</th>\n",
       "      <td>37</td>\n",
       "      <td>134</td>\n",
       "      <td>466053858</td>\n",
       "      <td>NC</td>\n",
       "      <td>North Carolina</td>\n",
       "      <td>3.478014e+06</td>\n",
       "    </tr>\n",
       "    <tr>\n",
       "      <th>34</th>\n",
       "      <td>38</td>\n",
       "      <td>128</td>\n",
       "      <td>80318777</td>\n",
       "      <td>ND</td>\n",
       "      <td>North Dakota</td>\n",
       "      <td>6.274904e+05</td>\n",
       "    </tr>\n",
       "    <tr>\n",
       "      <th>35</th>\n",
       "      <td>39</td>\n",
       "      <td>352</td>\n",
       "      <td>2631835767</td>\n",
       "      <td>OH</td>\n",
       "      <td>Ohio</td>\n",
       "      <td>7.476806e+06</td>\n",
       "    </tr>\n",
       "    <tr>\n",
       "      <th>36</th>\n",
       "      <td>40</td>\n",
       "      <td>180</td>\n",
       "      <td>1090108811</td>\n",
       "      <td>OK</td>\n",
       "      <td>Oklahoma</td>\n",
       "      <td>6.056160e+06</td>\n",
       "    </tr>\n",
       "    <tr>\n",
       "      <th>37</th>\n",
       "      <td>41</td>\n",
       "      <td>350</td>\n",
       "      <td>1443103445</td>\n",
       "      <td>OR</td>\n",
       "      <td>Oregon</td>\n",
       "      <td>4.123153e+06</td>\n",
       "    </tr>\n",
       "    <tr>\n",
       "      <th>38</th>\n",
       "      <td>42</td>\n",
       "      <td>180</td>\n",
       "      <td>534070530</td>\n",
       "      <td>PA</td>\n",
       "      <td>Pennsylvania</td>\n",
       "      <td>2.967058e+06</td>\n",
       "    </tr>\n",
       "    <tr>\n",
       "      <th>39</th>\n",
       "      <td>44</td>\n",
       "      <td>184</td>\n",
       "      <td>2441569023</td>\n",
       "      <td>RI</td>\n",
       "      <td>Rhode Island</td>\n",
       "      <td>1.326940e+07</td>\n",
       "    </tr>\n",
       "    <tr>\n",
       "      <th>40</th>\n",
       "      <td>45</td>\n",
       "      <td>131</td>\n",
       "      <td>1511178572</td>\n",
       "      <td>SC</td>\n",
       "      <td>South Carolina</td>\n",
       "      <td>1.153571e+07</td>\n",
       "    </tr>\n",
       "    <tr>\n",
       "      <th>41</th>\n",
       "      <td>46</td>\n",
       "      <td>131</td>\n",
       "      <td>147911499</td>\n",
       "      <td>SD</td>\n",
       "      <td>South Dakota</td>\n",
       "      <td>1.129095e+06</td>\n",
       "    </tr>\n",
       "    <tr>\n",
       "      <th>42</th>\n",
       "      <td>47</td>\n",
       "      <td>114</td>\n",
       "      <td>276729299</td>\n",
       "      <td>TN</td>\n",
       "      <td>Tennessee</td>\n",
       "      <td>2.427450e+06</td>\n",
       "    </tr>\n",
       "    <tr>\n",
       "      <th>43</th>\n",
       "      <td>48</td>\n",
       "      <td>528</td>\n",
       "      <td>2791691757</td>\n",
       "      <td>TX</td>\n",
       "      <td>Texas</td>\n",
       "      <td>5.287295e+06</td>\n",
       "    </tr>\n",
       "    <tr>\n",
       "      <th>44</th>\n",
       "      <td>49</td>\n",
       "      <td>220</td>\n",
       "      <td>1191135280</td>\n",
       "      <td>UT</td>\n",
       "      <td>Utah</td>\n",
       "      <td>5.414251e+06</td>\n",
       "    </tr>\n",
       "    <tr>\n",
       "      <th>45</th>\n",
       "      <td>50</td>\n",
       "      <td>230</td>\n",
       "      <td>197420518</td>\n",
       "      <td>VT</td>\n",
       "      <td>Vermont</td>\n",
       "      <td>8.583501e+05</td>\n",
       "    </tr>\n",
       "    <tr>\n",
       "      <th>46</th>\n",
       "      <td>51</td>\n",
       "      <td>961</td>\n",
       "      <td>9056241744</td>\n",
       "      <td>VA</td>\n",
       "      <td>Virginia</td>\n",
       "      <td>9.423769e+06</td>\n",
       "    </tr>\n",
       "    <tr>\n",
       "      <th>47</th>\n",
       "      <td>53</td>\n",
       "      <td>327</td>\n",
       "      <td>2702688901</td>\n",
       "      <td>WA</td>\n",
       "      <td>Washington</td>\n",
       "      <td>8.265104e+06</td>\n",
       "    </tr>\n",
       "    <tr>\n",
       "      <th>48</th>\n",
       "      <td>54</td>\n",
       "      <td>141</td>\n",
       "      <td>151767797</td>\n",
       "      <td>WV</td>\n",
       "      <td>West Virginia</td>\n",
       "      <td>1.076367e+06</td>\n",
       "    </tr>\n",
       "    <tr>\n",
       "      <th>49</th>\n",
       "      <td>55</td>\n",
       "      <td>447</td>\n",
       "      <td>1872783834</td>\n",
       "      <td>WI</td>\n",
       "      <td>Wisconsin</td>\n",
       "      <td>4.189673e+06</td>\n",
       "    </tr>\n",
       "    <tr>\n",
       "      <th>50</th>\n",
       "      <td>56</td>\n",
       "      <td>338</td>\n",
       "      <td>279254443</td>\n",
       "      <td>WY</td>\n",
       "      <td>Wyoming</td>\n",
       "      <td>8.261966e+05</td>\n",
       "    </tr>\n",
       "  </tbody>\n",
       "</table>\n",
       "</div>"
      ],
      "text/plain": [
       "   fips_state_code  num_unique_stations  annual_traffic_volume fips_state_abb  \\\n",
       "0               01                  296             1461509905             AL   \n",
       "1               02                  210              318138924             AK   \n",
       "2               04                  526             5600393206             AZ   \n",
       "3               05                  115              278436058             AR   \n",
       "4               06                  570             6670057776             CA   \n",
       "5               08                  212              964145461             CO   \n",
       "6               09                   75              500556105             CT   \n",
       "7               10                  168              534104309             DE   \n",
       "8               11                    4               59205437             DC   \n",
       "9               12                  545             4412694931             FL   \n",
       "10              13                  446             3094751035             GA   \n",
       "11              15                  152             1605036832             HI   \n",
       "12              16                  423             1134837654             ID   \n",
       "13              17                  205              604663105             IL   \n",
       "14              18                  171              332236497             IN   \n",
       "15              19                  201              510570289             IA   \n",
       "16              20                  196              340832204             KS   \n",
       "17              21                  162              597736449             KY   \n",
       "18              22                  120              263211358             LA   \n",
       "19              23                  129              195938846             ME   \n",
       "20              24                  150             1399825682             MD   \n",
       "21              25                  103              795943829             MA   \n",
       "22              26                  245             2308504217             MI   \n",
       "23              27                  177              828942796             MN   \n",
       "24              28                  194              619803351             MS   \n",
       "25              29                  168              849276076             MO   \n",
       "26              30                  197              255608184             MT   \n",
       "27              31                   99              329863440             NE   \n",
       "28              32                  196             1037072029             NV   \n",
       "29              33                  195             1108253743             NH   \n",
       "30              34                   75              549456912             NJ   \n",
       "31              35                  228              384977104             NM   \n",
       "32              36                  345             1560213283             NY   \n",
       "33              37                  134              466053858             NC   \n",
       "34              38                  128               80318777             ND   \n",
       "35              39                  352             2631835767             OH   \n",
       "36              40                  180             1090108811             OK   \n",
       "37              41                  350             1443103445             OR   \n",
       "38              42                  180              534070530             PA   \n",
       "39              44                  184             2441569023             RI   \n",
       "40              45                  131             1511178572             SC   \n",
       "41              46                  131              147911499             SD   \n",
       "42              47                  114              276729299             TN   \n",
       "43              48                  528             2791691757             TX   \n",
       "44              49                  220             1191135280             UT   \n",
       "45              50                  230              197420518             VT   \n",
       "46              51                  961             9056241744             VA   \n",
       "47              53                  327             2702688901             WA   \n",
       "48              54                  141              151767797             WV   \n",
       "49              55                  447             1872783834             WI   \n",
       "50              56                  338              279254443             WY   \n",
       "\n",
       "         fips_state_full  norm_annual_traffic_volume  \n",
       "0                Alabama                4.937533e+06  \n",
       "1                 Alaska                1.514947e+06  \n",
       "2                Arizona                1.064714e+07  \n",
       "3               Arkansas                2.421183e+06  \n",
       "4             California                1.170186e+07  \n",
       "5               Colorado                4.547856e+06  \n",
       "6            Connecticut                6.674081e+06  \n",
       "7               Delaware                3.179192e+06  \n",
       "8   District of Columbia                1.480136e+07  \n",
       "9                Florida                8.096688e+06  \n",
       "10               Georgia                6.938904e+06  \n",
       "11                Hawaii                1.055945e+07  \n",
       "12                 Idaho                2.682831e+06  \n",
       "13              Illinois                2.949576e+06  \n",
       "14               Indiana                1.942903e+06  \n",
       "15                  Iowa                2.540151e+06  \n",
       "16                Kansas                1.738940e+06  \n",
       "17              Kentucky                3.689731e+06  \n",
       "18             Louisiana                2.193428e+06  \n",
       "19                 Maine                1.518906e+06  \n",
       "20              Maryland                9.332171e+06  \n",
       "21         Massachusetts                7.727610e+06  \n",
       "22              Michigan                9.422466e+06  \n",
       "23             Minnesota                4.683293e+06  \n",
       "24           Mississippi                3.194863e+06  \n",
       "25              Missouri                5.055215e+06  \n",
       "26               Montana                1.297503e+06  \n",
       "27              Nebraska                3.331954e+06  \n",
       "28                Nevada                5.291184e+06  \n",
       "29         New Hampshire                5.683353e+06  \n",
       "30            New Jersey                7.326092e+06  \n",
       "31            New Mexico                1.688496e+06  \n",
       "32              New York                4.522357e+06  \n",
       "33        North Carolina                3.478014e+06  \n",
       "34          North Dakota                6.274904e+05  \n",
       "35                  Ohio                7.476806e+06  \n",
       "36              Oklahoma                6.056160e+06  \n",
       "37                Oregon                4.123153e+06  \n",
       "38          Pennsylvania                2.967058e+06  \n",
       "39          Rhode Island                1.326940e+07  \n",
       "40        South Carolina                1.153571e+07  \n",
       "41          South Dakota                1.129095e+06  \n",
       "42             Tennessee                2.427450e+06  \n",
       "43                 Texas                5.287295e+06  \n",
       "44                  Utah                5.414251e+06  \n",
       "45               Vermont                8.583501e+05  \n",
       "46              Virginia                9.423769e+06  \n",
       "47            Washington                8.265104e+06  \n",
       "48         West Virginia                1.076367e+06  \n",
       "49             Wisconsin                4.189673e+06  \n",
       "50               Wyoming                8.261966e+05  "
      ]
     },
     "execution_count": 89,
     "metadata": {},
     "output_type": "execute_result"
    }
   ],
   "source": [
    "# Let's visualize the annual traffic volume by state\n",
    "fips_state_abb = mappings.get(\"fips_state_abb\")\n",
    "fips_state_full = mappings.get(\"fips_state_full\")\n",
    "\n",
    "merge_station_state[\"fips_state_abb\"] = merge_station_state.fips_state_code.apply(lambda x: fips_state_abb[x])\n",
    "merge_station_state[\"fips_state_full\"] = merge_station_state.fips_state_code.apply(lambda x: fips_state_full[x])\n",
    "\n",
    "merge_station_state[\"norm_annual_traffic_volume\"] = merge_station_state.annual_traffic_volume / merge_station_state.num_unique_stations\n",
    "\n",
    "merge_station_state"
   ]
  },
  {
   "cell_type": "code",
   "execution_count": 99,
   "id": "92915141",
   "metadata": {},
   "outputs": [
    {
     "data": {
      "application/vnd.plotly.v1+json": {
       "config": {
        "plotlyServerURL": "https://plot.ly"
       },
       "data": [
        {
         "autocolorscale": false,
         "colorbar": {
          "title": {
           "text": "Billions"
          }
         },
         "colorscale": [
          [
           0,
           "rgb(255,245,240)"
          ],
          [
           0.125,
           "rgb(254,224,210)"
          ],
          [
           0.25,
           "rgb(252,187,161)"
          ],
          [
           0.375,
           "rgb(252,146,114)"
          ],
          [
           0.5,
           "rgb(251,106,74)"
          ],
          [
           0.625,
           "rgb(239,59,44)"
          ],
          [
           0.75,
           "rgb(203,24,29)"
          ],
          [
           0.875,
           "rgb(165,15,21)"
          ],
          [
           1,
           "rgb(103,0,13)"
          ]
         ],
         "locationmode": "USA-states",
         "locations": [
          "AL",
          "AK",
          "AZ",
          "AR",
          "CA",
          "CO",
          "CT",
          "DE",
          "DC",
          "FL",
          "GA",
          "HI",
          "ID",
          "IL",
          "IN",
          "IA",
          "KS",
          "KY",
          "LA",
          "ME",
          "MD",
          "MA",
          "MI",
          "MN",
          "MS",
          "MO",
          "MT",
          "NE",
          "NV",
          "NH",
          "NJ",
          "NM",
          "NY",
          "NC",
          "ND",
          "OH",
          "OK",
          "OR",
          "PA",
          "RI",
          "SC",
          "SD",
          "TN",
          "TX",
          "UT",
          "VT",
          "VA",
          "WA",
          "WV",
          "WI",
          "WY"
         ],
         "marker": {
          "line": {
           "color": "white"
          }
         },
         "text": [
          "Alabama",
          "Alaska",
          "Arizona",
          "Arkansas",
          "California",
          "Colorado",
          "Connecticut",
          "Delaware",
          "District of Columbia",
          "Florida",
          "Georgia",
          "Hawaii",
          "Idaho",
          "Illinois",
          "Indiana",
          "Iowa",
          "Kansas",
          "Kentucky",
          "Louisiana",
          "Maine",
          "Maryland",
          "Massachusetts",
          "Michigan",
          "Minnesota",
          "Mississippi",
          "Missouri",
          "Montana",
          "Nebraska",
          "Nevada",
          "New Hampshire",
          "New Jersey",
          "New Mexico",
          "New York",
          "North Carolina",
          "North Dakota",
          "Ohio",
          "Oklahoma",
          "Oregon",
          "Pennsylvania",
          "Rhode Island",
          "South Carolina",
          "South Dakota",
          "Tennessee",
          "Texas",
          "Utah",
          "Vermont",
          "Virginia",
          "Washington",
          "West Virginia",
          "Wisconsin",
          "Wyoming"
         ],
         "type": "choropleth",
         "z": [
          1461509905,
          318138924,
          5600393206,
          278436058,
          6670057776,
          964145461,
          500556105,
          534104309,
          59205437,
          4412694931,
          3094751035,
          1605036832,
          1134837654,
          604663105,
          332236497,
          510570289,
          340832204,
          597736449,
          263211358,
          195938846,
          1399825682,
          795943829,
          2308504217,
          828942796,
          619803351,
          849276076,
          255608184,
          329863440,
          1037072029,
          1108253743,
          549456912,
          384977104,
          1560213283,
          466053858,
          80318777,
          2631835767,
          1090108811,
          1443103445,
          534070530,
          2441569023,
          1511178572,
          147911499,
          276729299,
          2791691757,
          1191135280,
          197420518,
          9056241744,
          2702688901,
          151767797,
          1872783834,
          279254443
         ]
        }
       ],
       "layout": {
        "geo": {
         "lakecolor": "rgb(255, 255, 255)",
         "projection": {
          "type": "albers usa"
         },
         "scope": "usa",
         "showlakes": true
        },
        "template": {
         "data": {
          "bar": [
           {
            "error_x": {
             "color": "#2a3f5f"
            },
            "error_y": {
             "color": "#2a3f5f"
            },
            "marker": {
             "line": {
              "color": "#E5ECF6",
              "width": 0.5
             },
             "pattern": {
              "fillmode": "overlay",
              "size": 10,
              "solidity": 0.2
             }
            },
            "type": "bar"
           }
          ],
          "barpolar": [
           {
            "marker": {
             "line": {
              "color": "#E5ECF6",
              "width": 0.5
             },
             "pattern": {
              "fillmode": "overlay",
              "size": 10,
              "solidity": 0.2
             }
            },
            "type": "barpolar"
           }
          ],
          "carpet": [
           {
            "aaxis": {
             "endlinecolor": "#2a3f5f",
             "gridcolor": "white",
             "linecolor": "white",
             "minorgridcolor": "white",
             "startlinecolor": "#2a3f5f"
            },
            "baxis": {
             "endlinecolor": "#2a3f5f",
             "gridcolor": "white",
             "linecolor": "white",
             "minorgridcolor": "white",
             "startlinecolor": "#2a3f5f"
            },
            "type": "carpet"
           }
          ],
          "choropleth": [
           {
            "colorbar": {
             "outlinewidth": 0,
             "ticks": ""
            },
            "type": "choropleth"
           }
          ],
          "contour": [
           {
            "colorbar": {
             "outlinewidth": 0,
             "ticks": ""
            },
            "colorscale": [
             [
              0,
              "#0d0887"
             ],
             [
              0.1111111111111111,
              "#46039f"
             ],
             [
              0.2222222222222222,
              "#7201a8"
             ],
             [
              0.3333333333333333,
              "#9c179e"
             ],
             [
              0.4444444444444444,
              "#bd3786"
             ],
             [
              0.5555555555555556,
              "#d8576b"
             ],
             [
              0.6666666666666666,
              "#ed7953"
             ],
             [
              0.7777777777777778,
              "#fb9f3a"
             ],
             [
              0.8888888888888888,
              "#fdca26"
             ],
             [
              1,
              "#f0f921"
             ]
            ],
            "type": "contour"
           }
          ],
          "contourcarpet": [
           {
            "colorbar": {
             "outlinewidth": 0,
             "ticks": ""
            },
            "type": "contourcarpet"
           }
          ],
          "heatmap": [
           {
            "colorbar": {
             "outlinewidth": 0,
             "ticks": ""
            },
            "colorscale": [
             [
              0,
              "#0d0887"
             ],
             [
              0.1111111111111111,
              "#46039f"
             ],
             [
              0.2222222222222222,
              "#7201a8"
             ],
             [
              0.3333333333333333,
              "#9c179e"
             ],
             [
              0.4444444444444444,
              "#bd3786"
             ],
             [
              0.5555555555555556,
              "#d8576b"
             ],
             [
              0.6666666666666666,
              "#ed7953"
             ],
             [
              0.7777777777777778,
              "#fb9f3a"
             ],
             [
              0.8888888888888888,
              "#fdca26"
             ],
             [
              1,
              "#f0f921"
             ]
            ],
            "type": "heatmap"
           }
          ],
          "heatmapgl": [
           {
            "colorbar": {
             "outlinewidth": 0,
             "ticks": ""
            },
            "colorscale": [
             [
              0,
              "#0d0887"
             ],
             [
              0.1111111111111111,
              "#46039f"
             ],
             [
              0.2222222222222222,
              "#7201a8"
             ],
             [
              0.3333333333333333,
              "#9c179e"
             ],
             [
              0.4444444444444444,
              "#bd3786"
             ],
             [
              0.5555555555555556,
              "#d8576b"
             ],
             [
              0.6666666666666666,
              "#ed7953"
             ],
             [
              0.7777777777777778,
              "#fb9f3a"
             ],
             [
              0.8888888888888888,
              "#fdca26"
             ],
             [
              1,
              "#f0f921"
             ]
            ],
            "type": "heatmapgl"
           }
          ],
          "histogram": [
           {
            "marker": {
             "pattern": {
              "fillmode": "overlay",
              "size": 10,
              "solidity": 0.2
             }
            },
            "type": "histogram"
           }
          ],
          "histogram2d": [
           {
            "colorbar": {
             "outlinewidth": 0,
             "ticks": ""
            },
            "colorscale": [
             [
              0,
              "#0d0887"
             ],
             [
              0.1111111111111111,
              "#46039f"
             ],
             [
              0.2222222222222222,
              "#7201a8"
             ],
             [
              0.3333333333333333,
              "#9c179e"
             ],
             [
              0.4444444444444444,
              "#bd3786"
             ],
             [
              0.5555555555555556,
              "#d8576b"
             ],
             [
              0.6666666666666666,
              "#ed7953"
             ],
             [
              0.7777777777777778,
              "#fb9f3a"
             ],
             [
              0.8888888888888888,
              "#fdca26"
             ],
             [
              1,
              "#f0f921"
             ]
            ],
            "type": "histogram2d"
           }
          ],
          "histogram2dcontour": [
           {
            "colorbar": {
             "outlinewidth": 0,
             "ticks": ""
            },
            "colorscale": [
             [
              0,
              "#0d0887"
             ],
             [
              0.1111111111111111,
              "#46039f"
             ],
             [
              0.2222222222222222,
              "#7201a8"
             ],
             [
              0.3333333333333333,
              "#9c179e"
             ],
             [
              0.4444444444444444,
              "#bd3786"
             ],
             [
              0.5555555555555556,
              "#d8576b"
             ],
             [
              0.6666666666666666,
              "#ed7953"
             ],
             [
              0.7777777777777778,
              "#fb9f3a"
             ],
             [
              0.8888888888888888,
              "#fdca26"
             ],
             [
              1,
              "#f0f921"
             ]
            ],
            "type": "histogram2dcontour"
           }
          ],
          "mesh3d": [
           {
            "colorbar": {
             "outlinewidth": 0,
             "ticks": ""
            },
            "type": "mesh3d"
           }
          ],
          "parcoords": [
           {
            "line": {
             "colorbar": {
              "outlinewidth": 0,
              "ticks": ""
             }
            },
            "type": "parcoords"
           }
          ],
          "pie": [
           {
            "automargin": true,
            "type": "pie"
           }
          ],
          "scatter": [
           {
            "marker": {
             "colorbar": {
              "outlinewidth": 0,
              "ticks": ""
             }
            },
            "type": "scatter"
           }
          ],
          "scatter3d": [
           {
            "line": {
             "colorbar": {
              "outlinewidth": 0,
              "ticks": ""
             }
            },
            "marker": {
             "colorbar": {
              "outlinewidth": 0,
              "ticks": ""
             }
            },
            "type": "scatter3d"
           }
          ],
          "scattercarpet": [
           {
            "marker": {
             "colorbar": {
              "outlinewidth": 0,
              "ticks": ""
             }
            },
            "type": "scattercarpet"
           }
          ],
          "scattergeo": [
           {
            "marker": {
             "colorbar": {
              "outlinewidth": 0,
              "ticks": ""
             }
            },
            "type": "scattergeo"
           }
          ],
          "scattergl": [
           {
            "marker": {
             "colorbar": {
              "outlinewidth": 0,
              "ticks": ""
             }
            },
            "type": "scattergl"
           }
          ],
          "scattermapbox": [
           {
            "marker": {
             "colorbar": {
              "outlinewidth": 0,
              "ticks": ""
             }
            },
            "type": "scattermapbox"
           }
          ],
          "scatterpolar": [
           {
            "marker": {
             "colorbar": {
              "outlinewidth": 0,
              "ticks": ""
             }
            },
            "type": "scatterpolar"
           }
          ],
          "scatterpolargl": [
           {
            "marker": {
             "colorbar": {
              "outlinewidth": 0,
              "ticks": ""
             }
            },
            "type": "scatterpolargl"
           }
          ],
          "scatterternary": [
           {
            "marker": {
             "colorbar": {
              "outlinewidth": 0,
              "ticks": ""
             }
            },
            "type": "scatterternary"
           }
          ],
          "surface": [
           {
            "colorbar": {
             "outlinewidth": 0,
             "ticks": ""
            },
            "colorscale": [
             [
              0,
              "#0d0887"
             ],
             [
              0.1111111111111111,
              "#46039f"
             ],
             [
              0.2222222222222222,
              "#7201a8"
             ],
             [
              0.3333333333333333,
              "#9c179e"
             ],
             [
              0.4444444444444444,
              "#bd3786"
             ],
             [
              0.5555555555555556,
              "#d8576b"
             ],
             [
              0.6666666666666666,
              "#ed7953"
             ],
             [
              0.7777777777777778,
              "#fb9f3a"
             ],
             [
              0.8888888888888888,
              "#fdca26"
             ],
             [
              1,
              "#f0f921"
             ]
            ],
            "type": "surface"
           }
          ],
          "table": [
           {
            "cells": {
             "fill": {
              "color": "#EBF0F8"
             },
             "line": {
              "color": "white"
             }
            },
            "header": {
             "fill": {
              "color": "#C8D4E3"
             },
             "line": {
              "color": "white"
             }
            },
            "type": "table"
           }
          ]
         },
         "layout": {
          "annotationdefaults": {
           "arrowcolor": "#2a3f5f",
           "arrowhead": 0,
           "arrowwidth": 1
          },
          "autotypenumbers": "strict",
          "coloraxis": {
           "colorbar": {
            "outlinewidth": 0,
            "ticks": ""
           }
          },
          "colorscale": {
           "diverging": [
            [
             0,
             "#8e0152"
            ],
            [
             0.1,
             "#c51b7d"
            ],
            [
             0.2,
             "#de77ae"
            ],
            [
             0.3,
             "#f1b6da"
            ],
            [
             0.4,
             "#fde0ef"
            ],
            [
             0.5,
             "#f7f7f7"
            ],
            [
             0.6,
             "#e6f5d0"
            ],
            [
             0.7,
             "#b8e186"
            ],
            [
             0.8,
             "#7fbc41"
            ],
            [
             0.9,
             "#4d9221"
            ],
            [
             1,
             "#276419"
            ]
           ],
           "sequential": [
            [
             0,
             "#0d0887"
            ],
            [
             0.1111111111111111,
             "#46039f"
            ],
            [
             0.2222222222222222,
             "#7201a8"
            ],
            [
             0.3333333333333333,
             "#9c179e"
            ],
            [
             0.4444444444444444,
             "#bd3786"
            ],
            [
             0.5555555555555556,
             "#d8576b"
            ],
            [
             0.6666666666666666,
             "#ed7953"
            ],
            [
             0.7777777777777778,
             "#fb9f3a"
            ],
            [
             0.8888888888888888,
             "#fdca26"
            ],
            [
             1,
             "#f0f921"
            ]
           ],
           "sequentialminus": [
            [
             0,
             "#0d0887"
            ],
            [
             0.1111111111111111,
             "#46039f"
            ],
            [
             0.2222222222222222,
             "#7201a8"
            ],
            [
             0.3333333333333333,
             "#9c179e"
            ],
            [
             0.4444444444444444,
             "#bd3786"
            ],
            [
             0.5555555555555556,
             "#d8576b"
            ],
            [
             0.6666666666666666,
             "#ed7953"
            ],
            [
             0.7777777777777778,
             "#fb9f3a"
            ],
            [
             0.8888888888888888,
             "#fdca26"
            ],
            [
             1,
             "#f0f921"
            ]
           ]
          },
          "colorway": [
           "#636efa",
           "#EF553B",
           "#00cc96",
           "#ab63fa",
           "#FFA15A",
           "#19d3f3",
           "#FF6692",
           "#B6E880",
           "#FF97FF",
           "#FECB52"
          ],
          "font": {
           "color": "#2a3f5f"
          },
          "geo": {
           "bgcolor": "white",
           "lakecolor": "white",
           "landcolor": "#E5ECF6",
           "showlakes": true,
           "showland": true,
           "subunitcolor": "white"
          },
          "hoverlabel": {
           "align": "left"
          },
          "hovermode": "closest",
          "mapbox": {
           "style": "light"
          },
          "paper_bgcolor": "white",
          "plot_bgcolor": "#E5ECF6",
          "polar": {
           "angularaxis": {
            "gridcolor": "white",
            "linecolor": "white",
            "ticks": ""
           },
           "bgcolor": "#E5ECF6",
           "radialaxis": {
            "gridcolor": "white",
            "linecolor": "white",
            "ticks": ""
           }
          },
          "scene": {
           "xaxis": {
            "backgroundcolor": "#E5ECF6",
            "gridcolor": "white",
            "gridwidth": 2,
            "linecolor": "white",
            "showbackground": true,
            "ticks": "",
            "zerolinecolor": "white"
           },
           "yaxis": {
            "backgroundcolor": "#E5ECF6",
            "gridcolor": "white",
            "gridwidth": 2,
            "linecolor": "white",
            "showbackground": true,
            "ticks": "",
            "zerolinecolor": "white"
           },
           "zaxis": {
            "backgroundcolor": "#E5ECF6",
            "gridcolor": "white",
            "gridwidth": 2,
            "linecolor": "white",
            "showbackground": true,
            "ticks": "",
            "zerolinecolor": "white"
           }
          },
          "shapedefaults": {
           "line": {
            "color": "#2a3f5f"
           }
          },
          "ternary": {
           "aaxis": {
            "gridcolor": "white",
            "linecolor": "white",
            "ticks": ""
           },
           "baxis": {
            "gridcolor": "white",
            "linecolor": "white",
            "ticks": ""
           },
           "bgcolor": "#E5ECF6",
           "caxis": {
            "gridcolor": "white",
            "linecolor": "white",
            "ticks": ""
           }
          },
          "title": {
           "x": 0.05
          },
          "xaxis": {
           "automargin": true,
           "gridcolor": "white",
           "linecolor": "white",
           "ticks": "",
           "title": {
            "standoff": 15
           },
           "zerolinecolor": "white",
           "zerolinewidth": 2
          },
          "yaxis": {
           "automargin": true,
           "gridcolor": "white",
           "linecolor": "white",
           "ticks": "",
           "title": {
            "standoff": 15
           },
           "zerolinecolor": "white",
           "zerolinewidth": 2
          }
         }
        },
        "title": {
         "text": "2015 US Traffic Volume by State"
        }
       }
      },
      "text/html": [
       "<div>                            <div id=\"250abf17-6f43-4cd1-9f51-0c5240bf970a\" class=\"plotly-graph-div\" style=\"height:525px; width:100%;\"></div>            <script type=\"text/javascript\">                require([\"plotly\"], function(Plotly) {                    window.PLOTLYENV=window.PLOTLYENV || {};                                    if (document.getElementById(\"250abf17-6f43-4cd1-9f51-0c5240bf970a\")) {                    Plotly.newPlot(                        \"250abf17-6f43-4cd1-9f51-0c5240bf970a\",                        [{\"autocolorscale\":false,\"colorbar\":{\"title\":{\"text\":\"Billions\"}},\"colorscale\":[[0.0,\"rgb(255,245,240)\"],[0.125,\"rgb(254,224,210)\"],[0.25,\"rgb(252,187,161)\"],[0.375,\"rgb(252,146,114)\"],[0.5,\"rgb(251,106,74)\"],[0.625,\"rgb(239,59,44)\"],[0.75,\"rgb(203,24,29)\"],[0.875,\"rgb(165,15,21)\"],[1.0,\"rgb(103,0,13)\"]],\"locationmode\":\"USA-states\",\"locations\":[\"AL\",\"AK\",\"AZ\",\"AR\",\"CA\",\"CO\",\"CT\",\"DE\",\"DC\",\"FL\",\"GA\",\"HI\",\"ID\",\"IL\",\"IN\",\"IA\",\"KS\",\"KY\",\"LA\",\"ME\",\"MD\",\"MA\",\"MI\",\"MN\",\"MS\",\"MO\",\"MT\",\"NE\",\"NV\",\"NH\",\"NJ\",\"NM\",\"NY\",\"NC\",\"ND\",\"OH\",\"OK\",\"OR\",\"PA\",\"RI\",\"SC\",\"SD\",\"TN\",\"TX\",\"UT\",\"VT\",\"VA\",\"WA\",\"WV\",\"WI\",\"WY\"],\"marker\":{\"line\":{\"color\":\"white\"}},\"text\":[\"Alabama\",\"Alaska\",\"Arizona\",\"Arkansas\",\"California\",\"Colorado\",\"Connecticut\",\"Delaware\",\"District of Columbia\",\"Florida\",\"Georgia\",\"Hawaii\",\"Idaho\",\"Illinois\",\"Indiana\",\"Iowa\",\"Kansas\",\"Kentucky\",\"Louisiana\",\"Maine\",\"Maryland\",\"Massachusetts\",\"Michigan\",\"Minnesota\",\"Mississippi\",\"Missouri\",\"Montana\",\"Nebraska\",\"Nevada\",\"New Hampshire\",\"New Jersey\",\"New Mexico\",\"New York\",\"North Carolina\",\"North Dakota\",\"Ohio\",\"Oklahoma\",\"Oregon\",\"Pennsylvania\",\"Rhode Island\",\"South Carolina\",\"South Dakota\",\"Tennessee\",\"Texas\",\"Utah\",\"Vermont\",\"Virginia\",\"Washington\",\"West Virginia\",\"Wisconsin\",\"Wyoming\"],\"type\":\"choropleth\",\"z\":[1461509905,318138924,5600393206,278436058,6670057776,964145461,500556105,534104309,59205437,4412694931,3094751035,1605036832,1134837654,604663105,332236497,510570289,340832204,597736449,263211358,195938846,1399825682,795943829,2308504217,828942796,619803351,849276076,255608184,329863440,1037072029,1108253743,549456912,384977104,1560213283,466053858,80318777,2631835767,1090108811,1443103445,534070530,2441569023,1511178572,147911499,276729299,2791691757,1191135280,197420518,9056241744,2702688901,151767797,1872783834,279254443]}],                        {\"geo\":{\"lakecolor\":\"rgb(255, 255, 255)\",\"projection\":{\"type\":\"albers usa\"},\"scope\":\"usa\",\"showlakes\":true},\"template\":{\"data\":{\"bar\":[{\"error_x\":{\"color\":\"#2a3f5f\"},\"error_y\":{\"color\":\"#2a3f5f\"},\"marker\":{\"line\":{\"color\":\"#E5ECF6\",\"width\":0.5},\"pattern\":{\"fillmode\":\"overlay\",\"size\":10,\"solidity\":0.2}},\"type\":\"bar\"}],\"barpolar\":[{\"marker\":{\"line\":{\"color\":\"#E5ECF6\",\"width\":0.5},\"pattern\":{\"fillmode\":\"overlay\",\"size\":10,\"solidity\":0.2}},\"type\":\"barpolar\"}],\"carpet\":[{\"aaxis\":{\"endlinecolor\":\"#2a3f5f\",\"gridcolor\":\"white\",\"linecolor\":\"white\",\"minorgridcolor\":\"white\",\"startlinecolor\":\"#2a3f5f\"},\"baxis\":{\"endlinecolor\":\"#2a3f5f\",\"gridcolor\":\"white\",\"linecolor\":\"white\",\"minorgridcolor\":\"white\",\"startlinecolor\":\"#2a3f5f\"},\"type\":\"carpet\"}],\"choropleth\":[{\"colorbar\":{\"outlinewidth\":0,\"ticks\":\"\"},\"type\":\"choropleth\"}],\"contour\":[{\"colorbar\":{\"outlinewidth\":0,\"ticks\":\"\"},\"colorscale\":[[0.0,\"#0d0887\"],[0.1111111111111111,\"#46039f\"],[0.2222222222222222,\"#7201a8\"],[0.3333333333333333,\"#9c179e\"],[0.4444444444444444,\"#bd3786\"],[0.5555555555555556,\"#d8576b\"],[0.6666666666666666,\"#ed7953\"],[0.7777777777777778,\"#fb9f3a\"],[0.8888888888888888,\"#fdca26\"],[1.0,\"#f0f921\"]],\"type\":\"contour\"}],\"contourcarpet\":[{\"colorbar\":{\"outlinewidth\":0,\"ticks\":\"\"},\"type\":\"contourcarpet\"}],\"heatmap\":[{\"colorbar\":{\"outlinewidth\":0,\"ticks\":\"\"},\"colorscale\":[[0.0,\"#0d0887\"],[0.1111111111111111,\"#46039f\"],[0.2222222222222222,\"#7201a8\"],[0.3333333333333333,\"#9c179e\"],[0.4444444444444444,\"#bd3786\"],[0.5555555555555556,\"#d8576b\"],[0.6666666666666666,\"#ed7953\"],[0.7777777777777778,\"#fb9f3a\"],[0.8888888888888888,\"#fdca26\"],[1.0,\"#f0f921\"]],\"type\":\"heatmap\"}],\"heatmapgl\":[{\"colorbar\":{\"outlinewidth\":0,\"ticks\":\"\"},\"colorscale\":[[0.0,\"#0d0887\"],[0.1111111111111111,\"#46039f\"],[0.2222222222222222,\"#7201a8\"],[0.3333333333333333,\"#9c179e\"],[0.4444444444444444,\"#bd3786\"],[0.5555555555555556,\"#d8576b\"],[0.6666666666666666,\"#ed7953\"],[0.7777777777777778,\"#fb9f3a\"],[0.8888888888888888,\"#fdca26\"],[1.0,\"#f0f921\"]],\"type\":\"heatmapgl\"}],\"histogram\":[{\"marker\":{\"pattern\":{\"fillmode\":\"overlay\",\"size\":10,\"solidity\":0.2}},\"type\":\"histogram\"}],\"histogram2d\":[{\"colorbar\":{\"outlinewidth\":0,\"ticks\":\"\"},\"colorscale\":[[0.0,\"#0d0887\"],[0.1111111111111111,\"#46039f\"],[0.2222222222222222,\"#7201a8\"],[0.3333333333333333,\"#9c179e\"],[0.4444444444444444,\"#bd3786\"],[0.5555555555555556,\"#d8576b\"],[0.6666666666666666,\"#ed7953\"],[0.7777777777777778,\"#fb9f3a\"],[0.8888888888888888,\"#fdca26\"],[1.0,\"#f0f921\"]],\"type\":\"histogram2d\"}],\"histogram2dcontour\":[{\"colorbar\":{\"outlinewidth\":0,\"ticks\":\"\"},\"colorscale\":[[0.0,\"#0d0887\"],[0.1111111111111111,\"#46039f\"],[0.2222222222222222,\"#7201a8\"],[0.3333333333333333,\"#9c179e\"],[0.4444444444444444,\"#bd3786\"],[0.5555555555555556,\"#d8576b\"],[0.6666666666666666,\"#ed7953\"],[0.7777777777777778,\"#fb9f3a\"],[0.8888888888888888,\"#fdca26\"],[1.0,\"#f0f921\"]],\"type\":\"histogram2dcontour\"}],\"mesh3d\":[{\"colorbar\":{\"outlinewidth\":0,\"ticks\":\"\"},\"type\":\"mesh3d\"}],\"parcoords\":[{\"line\":{\"colorbar\":{\"outlinewidth\":0,\"ticks\":\"\"}},\"type\":\"parcoords\"}],\"pie\":[{\"automargin\":true,\"type\":\"pie\"}],\"scatter\":[{\"marker\":{\"colorbar\":{\"outlinewidth\":0,\"ticks\":\"\"}},\"type\":\"scatter\"}],\"scatter3d\":[{\"line\":{\"colorbar\":{\"outlinewidth\":0,\"ticks\":\"\"}},\"marker\":{\"colorbar\":{\"outlinewidth\":0,\"ticks\":\"\"}},\"type\":\"scatter3d\"}],\"scattercarpet\":[{\"marker\":{\"colorbar\":{\"outlinewidth\":0,\"ticks\":\"\"}},\"type\":\"scattercarpet\"}],\"scattergeo\":[{\"marker\":{\"colorbar\":{\"outlinewidth\":0,\"ticks\":\"\"}},\"type\":\"scattergeo\"}],\"scattergl\":[{\"marker\":{\"colorbar\":{\"outlinewidth\":0,\"ticks\":\"\"}},\"type\":\"scattergl\"}],\"scattermapbox\":[{\"marker\":{\"colorbar\":{\"outlinewidth\":0,\"ticks\":\"\"}},\"type\":\"scattermapbox\"}],\"scatterpolar\":[{\"marker\":{\"colorbar\":{\"outlinewidth\":0,\"ticks\":\"\"}},\"type\":\"scatterpolar\"}],\"scatterpolargl\":[{\"marker\":{\"colorbar\":{\"outlinewidth\":0,\"ticks\":\"\"}},\"type\":\"scatterpolargl\"}],\"scatterternary\":[{\"marker\":{\"colorbar\":{\"outlinewidth\":0,\"ticks\":\"\"}},\"type\":\"scatterternary\"}],\"surface\":[{\"colorbar\":{\"outlinewidth\":0,\"ticks\":\"\"},\"colorscale\":[[0.0,\"#0d0887\"],[0.1111111111111111,\"#46039f\"],[0.2222222222222222,\"#7201a8\"],[0.3333333333333333,\"#9c179e\"],[0.4444444444444444,\"#bd3786\"],[0.5555555555555556,\"#d8576b\"],[0.6666666666666666,\"#ed7953\"],[0.7777777777777778,\"#fb9f3a\"],[0.8888888888888888,\"#fdca26\"],[1.0,\"#f0f921\"]],\"type\":\"surface\"}],\"table\":[{\"cells\":{\"fill\":{\"color\":\"#EBF0F8\"},\"line\":{\"color\":\"white\"}},\"header\":{\"fill\":{\"color\":\"#C8D4E3\"},\"line\":{\"color\":\"white\"}},\"type\":\"table\"}]},\"layout\":{\"annotationdefaults\":{\"arrowcolor\":\"#2a3f5f\",\"arrowhead\":0,\"arrowwidth\":1},\"autotypenumbers\":\"strict\",\"coloraxis\":{\"colorbar\":{\"outlinewidth\":0,\"ticks\":\"\"}},\"colorscale\":{\"diverging\":[[0,\"#8e0152\"],[0.1,\"#c51b7d\"],[0.2,\"#de77ae\"],[0.3,\"#f1b6da\"],[0.4,\"#fde0ef\"],[0.5,\"#f7f7f7\"],[0.6,\"#e6f5d0\"],[0.7,\"#b8e186\"],[0.8,\"#7fbc41\"],[0.9,\"#4d9221\"],[1,\"#276419\"]],\"sequential\":[[0.0,\"#0d0887\"],[0.1111111111111111,\"#46039f\"],[0.2222222222222222,\"#7201a8\"],[0.3333333333333333,\"#9c179e\"],[0.4444444444444444,\"#bd3786\"],[0.5555555555555556,\"#d8576b\"],[0.6666666666666666,\"#ed7953\"],[0.7777777777777778,\"#fb9f3a\"],[0.8888888888888888,\"#fdca26\"],[1.0,\"#f0f921\"]],\"sequentialminus\":[[0.0,\"#0d0887\"],[0.1111111111111111,\"#46039f\"],[0.2222222222222222,\"#7201a8\"],[0.3333333333333333,\"#9c179e\"],[0.4444444444444444,\"#bd3786\"],[0.5555555555555556,\"#d8576b\"],[0.6666666666666666,\"#ed7953\"],[0.7777777777777778,\"#fb9f3a\"],[0.8888888888888888,\"#fdca26\"],[1.0,\"#f0f921\"]]},\"colorway\":[\"#636efa\",\"#EF553B\",\"#00cc96\",\"#ab63fa\",\"#FFA15A\",\"#19d3f3\",\"#FF6692\",\"#B6E880\",\"#FF97FF\",\"#FECB52\"],\"font\":{\"color\":\"#2a3f5f\"},\"geo\":{\"bgcolor\":\"white\",\"lakecolor\":\"white\",\"landcolor\":\"#E5ECF6\",\"showlakes\":true,\"showland\":true,\"subunitcolor\":\"white\"},\"hoverlabel\":{\"align\":\"left\"},\"hovermode\":\"closest\",\"mapbox\":{\"style\":\"light\"},\"paper_bgcolor\":\"white\",\"plot_bgcolor\":\"#E5ECF6\",\"polar\":{\"angularaxis\":{\"gridcolor\":\"white\",\"linecolor\":\"white\",\"ticks\":\"\"},\"bgcolor\":\"#E5ECF6\",\"radialaxis\":{\"gridcolor\":\"white\",\"linecolor\":\"white\",\"ticks\":\"\"}},\"scene\":{\"xaxis\":{\"backgroundcolor\":\"#E5ECF6\",\"gridcolor\":\"white\",\"gridwidth\":2,\"linecolor\":\"white\",\"showbackground\":true,\"ticks\":\"\",\"zerolinecolor\":\"white\"},\"yaxis\":{\"backgroundcolor\":\"#E5ECF6\",\"gridcolor\":\"white\",\"gridwidth\":2,\"linecolor\":\"white\",\"showbackground\":true,\"ticks\":\"\",\"zerolinecolor\":\"white\"},\"zaxis\":{\"backgroundcolor\":\"#E5ECF6\",\"gridcolor\":\"white\",\"gridwidth\":2,\"linecolor\":\"white\",\"showbackground\":true,\"ticks\":\"\",\"zerolinecolor\":\"white\"}},\"shapedefaults\":{\"line\":{\"color\":\"#2a3f5f\"}},\"ternary\":{\"aaxis\":{\"gridcolor\":\"white\",\"linecolor\":\"white\",\"ticks\":\"\"},\"baxis\":{\"gridcolor\":\"white\",\"linecolor\":\"white\",\"ticks\":\"\"},\"bgcolor\":\"#E5ECF6\",\"caxis\":{\"gridcolor\":\"white\",\"linecolor\":\"white\",\"ticks\":\"\"}},\"title\":{\"x\":0.05},\"xaxis\":{\"automargin\":true,\"gridcolor\":\"white\",\"linecolor\":\"white\",\"ticks\":\"\",\"title\":{\"standoff\":15},\"zerolinecolor\":\"white\",\"zerolinewidth\":2},\"yaxis\":{\"automargin\":true,\"gridcolor\":\"white\",\"linecolor\":\"white\",\"ticks\":\"\",\"title\":{\"standoff\":15},\"zerolinecolor\":\"white\",\"zerolinewidth\":2}}},\"title\":{\"text\":\"2015 US Traffic Volume by State\"}},                        {\"responsive\": true}                    ).then(function(){\n",
       "                            \n",
       "var gd = document.getElementById('250abf17-6f43-4cd1-9f51-0c5240bf970a');\n",
       "var x = new MutationObserver(function (mutations, observer) {{\n",
       "        var display = window.getComputedStyle(gd).display;\n",
       "        if (!display || display === 'none') {{\n",
       "            console.log([gd, 'removed!']);\n",
       "            Plotly.purge(gd);\n",
       "            observer.disconnect();\n",
       "        }}\n",
       "}});\n",
       "\n",
       "// Listen for the removal of the full notebook cells\n",
       "var notebookContainer = gd.closest('#notebook-container');\n",
       "if (notebookContainer) {{\n",
       "    x.observe(notebookContainer, {childList: true});\n",
       "}}\n",
       "\n",
       "// Listen for the clearing of the current output cell\n",
       "var outputEl = gd.closest('.output');\n",
       "if (outputEl) {{\n",
       "    x.observe(outputEl, {childList: true});\n",
       "}}\n",
       "\n",
       "                        })                };                });            </script>        </div>"
      ]
     },
     "metadata": {},
     "output_type": "display_data"
    }
   ],
   "source": [
    "fig = go.Figure()\n",
    "\n",
    "fig.add_trace(go.Choropleth(\n",
    "    locations=merge_station_state.fips_state_abb,\n",
    "    z=merge_station_state[\"annual_traffic_volume\"],\n",
    "    locationmode=\"USA-states\",\n",
    "    colorscale=\"Reds\",\n",
    "    autocolorscale=False,\n",
    "    colorbar_title=\"Billions\",\n",
    "    text=merge_station_state.fips_state_full,\n",
    "    marker_line_color=\"white\",\n",
    "))\n",
    "\n",
    "fig.update_layout(\n",
    "    title=\"2015 US Traffic Volume by State\",\n",
    "    geo = dict(\n",
    "        scope=\"usa\", # Limit map scope to USA\n",
    "        projection=go.layout.geo.Projection(type = 'albers usa'),\n",
    "        showlakes=True, # lakes\n",
    "        lakecolor=\"rgb(255, 255, 255)\"),\n",
    "    )"
   ]
  },
  {
   "cell_type": "code",
   "execution_count": 97,
   "id": "fb3ed0d5",
   "metadata": {},
   "outputs": [
    {
     "data": {
      "text/html": [
       "<div>\n",
       "<style scoped>\n",
       "    .dataframe tbody tr th:only-of-type {\n",
       "        vertical-align: middle;\n",
       "    }\n",
       "\n",
       "    .dataframe tbody tr th {\n",
       "        vertical-align: top;\n",
       "    }\n",
       "\n",
       "    .dataframe thead th {\n",
       "        text-align: right;\n",
       "    }\n",
       "</style>\n",
       "<table border=\"1\" class=\"dataframe\">\n",
       "  <thead>\n",
       "    <tr style=\"text-align: right;\">\n",
       "      <th></th>\n",
       "      <th>fips_state_code</th>\n",
       "      <th>num_unique_stations</th>\n",
       "      <th>annual_traffic_volume</th>\n",
       "      <th>fips_state_abb</th>\n",
       "      <th>fips_state_full</th>\n",
       "      <th>norm_annual_traffic_volume</th>\n",
       "    </tr>\n",
       "  </thead>\n",
       "  <tbody>\n",
       "    <tr>\n",
       "      <th>46</th>\n",
       "      <td>51</td>\n",
       "      <td>961</td>\n",
       "      <td>9056241744</td>\n",
       "      <td>VA</td>\n",
       "      <td>Virginia</td>\n",
       "      <td>9.423769e+06</td>\n",
       "    </tr>\n",
       "    <tr>\n",
       "      <th>4</th>\n",
       "      <td>06</td>\n",
       "      <td>570</td>\n",
       "      <td>6670057776</td>\n",
       "      <td>CA</td>\n",
       "      <td>California</td>\n",
       "      <td>1.170186e+07</td>\n",
       "    </tr>\n",
       "    <tr>\n",
       "      <th>2</th>\n",
       "      <td>04</td>\n",
       "      <td>526</td>\n",
       "      <td>5600393206</td>\n",
       "      <td>AZ</td>\n",
       "      <td>Arizona</td>\n",
       "      <td>1.064714e+07</td>\n",
       "    </tr>\n",
       "    <tr>\n",
       "      <th>9</th>\n",
       "      <td>12</td>\n",
       "      <td>545</td>\n",
       "      <td>4412694931</td>\n",
       "      <td>FL</td>\n",
       "      <td>Florida</td>\n",
       "      <td>8.096688e+06</td>\n",
       "    </tr>\n",
       "    <tr>\n",
       "      <th>10</th>\n",
       "      <td>13</td>\n",
       "      <td>446</td>\n",
       "      <td>3094751035</td>\n",
       "      <td>GA</td>\n",
       "      <td>Georgia</td>\n",
       "      <td>6.938904e+06</td>\n",
       "    </tr>\n",
       "  </tbody>\n",
       "</table>\n",
       "</div>"
      ],
      "text/plain": [
       "   fips_state_code  num_unique_stations  annual_traffic_volume fips_state_abb  \\\n",
       "46              51                  961             9056241744             VA   \n",
       "4               06                  570             6670057776             CA   \n",
       "2               04                  526             5600393206             AZ   \n",
       "9               12                  545             4412694931             FL   \n",
       "10              13                  446             3094751035             GA   \n",
       "\n",
       "   fips_state_full  norm_annual_traffic_volume  \n",
       "46        Virginia                9.423769e+06  \n",
       "4       California                1.170186e+07  \n",
       "2          Arizona                1.064714e+07  \n",
       "9          Florida                8.096688e+06  \n",
       "10         Georgia                6.938904e+06  "
      ]
     },
     "execution_count": 97,
     "metadata": {},
     "output_type": "execute_result"
    }
   ],
   "source": [
    "merge_station_state.sort_values(\"annual_traffic_volume\", ascending=False).head()"
   ]
  },
  {
   "cell_type": "code",
   "execution_count": 98,
   "id": "f206e920",
   "metadata": {},
   "outputs": [
    {
     "data": {
      "text/html": [
       "<div>\n",
       "<style scoped>\n",
       "    .dataframe tbody tr th:only-of-type {\n",
       "        vertical-align: middle;\n",
       "    }\n",
       "\n",
       "    .dataframe tbody tr th {\n",
       "        vertical-align: top;\n",
       "    }\n",
       "\n",
       "    .dataframe thead th {\n",
       "        text-align: right;\n",
       "    }\n",
       "</style>\n",
       "<table border=\"1\" class=\"dataframe\">\n",
       "  <thead>\n",
       "    <tr style=\"text-align: right;\">\n",
       "      <th></th>\n",
       "      <th>fips_state_code</th>\n",
       "      <th>num_unique_stations</th>\n",
       "      <th>annual_traffic_volume</th>\n",
       "      <th>fips_state_abb</th>\n",
       "      <th>fips_state_full</th>\n",
       "      <th>norm_annual_traffic_volume</th>\n",
       "    </tr>\n",
       "  </thead>\n",
       "  <tbody>\n",
       "    <tr>\n",
       "      <th>8</th>\n",
       "      <td>11</td>\n",
       "      <td>4</td>\n",
       "      <td>59205437</td>\n",
       "      <td>DC</td>\n",
       "      <td>District of Columbia</td>\n",
       "      <td>1.480136e+07</td>\n",
       "    </tr>\n",
       "    <tr>\n",
       "      <th>39</th>\n",
       "      <td>44</td>\n",
       "      <td>184</td>\n",
       "      <td>2441569023</td>\n",
       "      <td>RI</td>\n",
       "      <td>Rhode Island</td>\n",
       "      <td>1.326940e+07</td>\n",
       "    </tr>\n",
       "    <tr>\n",
       "      <th>4</th>\n",
       "      <td>06</td>\n",
       "      <td>570</td>\n",
       "      <td>6670057776</td>\n",
       "      <td>CA</td>\n",
       "      <td>California</td>\n",
       "      <td>1.170186e+07</td>\n",
       "    </tr>\n",
       "    <tr>\n",
       "      <th>40</th>\n",
       "      <td>45</td>\n",
       "      <td>131</td>\n",
       "      <td>1511178572</td>\n",
       "      <td>SC</td>\n",
       "      <td>South Carolina</td>\n",
       "      <td>1.153571e+07</td>\n",
       "    </tr>\n",
       "    <tr>\n",
       "      <th>2</th>\n",
       "      <td>04</td>\n",
       "      <td>526</td>\n",
       "      <td>5600393206</td>\n",
       "      <td>AZ</td>\n",
       "      <td>Arizona</td>\n",
       "      <td>1.064714e+07</td>\n",
       "    </tr>\n",
       "  </tbody>\n",
       "</table>\n",
       "</div>"
      ],
      "text/plain": [
       "   fips_state_code  num_unique_stations  annual_traffic_volume fips_state_abb  \\\n",
       "8               11                    4               59205437             DC   \n",
       "39              44                  184             2441569023             RI   \n",
       "4               06                  570             6670057776             CA   \n",
       "40              45                  131             1511178572             SC   \n",
       "2               04                  526             5600393206             AZ   \n",
       "\n",
       "         fips_state_full  norm_annual_traffic_volume  \n",
       "8   District of Columbia                1.480136e+07  \n",
       "39          Rhode Island                1.326940e+07  \n",
       "4             California                1.170186e+07  \n",
       "40        South Carolina                1.153571e+07  \n",
       "2                Arizona                1.064714e+07  "
      ]
     },
     "execution_count": 98,
     "metadata": {},
     "output_type": "execute_result"
    }
   ],
   "source": [
    "merge_station_state.sort_values(\"norm_annual_traffic_volume\", ascending=False).head()"
   ]
  },
  {
   "cell_type": "code",
   "execution_count": 101,
   "id": "9ef490c8",
   "metadata": {},
   "outputs": [
    {
     "data": {
      "application/vnd.plotly.v1+json": {
       "config": {
        "plotlyServerURL": "https://plot.ly"
       },
       "data": [
        {
         "autocolorscale": false,
         "colorbar": {
          "title": {
           "text": "Billions"
          }
         },
         "colorscale": [
          [
           0,
           "rgb(255,245,240)"
          ],
          [
           0.125,
           "rgb(254,224,210)"
          ],
          [
           0.25,
           "rgb(252,187,161)"
          ],
          [
           0.375,
           "rgb(252,146,114)"
          ],
          [
           0.5,
           "rgb(251,106,74)"
          ],
          [
           0.625,
           "rgb(239,59,44)"
          ],
          [
           0.75,
           "rgb(203,24,29)"
          ],
          [
           0.875,
           "rgb(165,15,21)"
          ],
          [
           1,
           "rgb(103,0,13)"
          ]
         ],
         "locationmode": "USA-states",
         "locations": [
          "AL",
          "AK",
          "AZ",
          "AR",
          "CA",
          "CO",
          "CT",
          "DE",
          "DC",
          "FL",
          "GA",
          "HI",
          "ID",
          "IL",
          "IN",
          "IA",
          "KS",
          "KY",
          "LA",
          "ME",
          "MD",
          "MA",
          "MI",
          "MN",
          "MS",
          "MO",
          "MT",
          "NE",
          "NV",
          "NH",
          "NJ",
          "NM",
          "NY",
          "NC",
          "ND",
          "OH",
          "OK",
          "OR",
          "PA",
          "RI",
          "SC",
          "SD",
          "TN",
          "TX",
          "UT",
          "VT",
          "VA",
          "WA",
          "WV",
          "WI",
          "WY"
         ],
         "marker": {
          "line": {
           "color": "white"
          }
         },
         "text": [
          "Alabama",
          "Alaska",
          "Arizona",
          "Arkansas",
          "California",
          "Colorado",
          "Connecticut",
          "Delaware",
          "District of Columbia",
          "Florida",
          "Georgia",
          "Hawaii",
          "Idaho",
          "Illinois",
          "Indiana",
          "Iowa",
          "Kansas",
          "Kentucky",
          "Louisiana",
          "Maine",
          "Maryland",
          "Massachusetts",
          "Michigan",
          "Minnesota",
          "Mississippi",
          "Missouri",
          "Montana",
          "Nebraska",
          "Nevada",
          "New Hampshire",
          "New Jersey",
          "New Mexico",
          "New York",
          "North Carolina",
          "North Dakota",
          "Ohio",
          "Oklahoma",
          "Oregon",
          "Pennsylvania",
          "Rhode Island",
          "South Carolina",
          "South Dakota",
          "Tennessee",
          "Texas",
          "Utah",
          "Vermont",
          "Virginia",
          "Washington",
          "West Virginia",
          "Wisconsin",
          "Wyoming"
         ],
         "type": "choropleth",
         "z": [
          4937533.462837838,
          1514947.2571428572,
          10647135.372623574,
          2421183.113043478,
          11701855.747368421,
          4547855.948113208,
          6674081.4,
          3179192.3154761903,
          14801359.25,
          8096687.946788991,
          6938903.6659192825,
          10559452.842105264,
          2682831.3333333335,
          2949576.1219512196,
          1942903.49122807,
          2540150.6915422888,
          1738939.8163265307,
          3689731.1666666665,
          2193427.9833333334,
          1518905.7829457365,
          9332171.213333333,
          7727609.990291262,
          9422466.191836735,
          4683292.632768362,
          3194862.6340206186,
          5055214.738095238,
          1297503.4720812184,
          3331953.9393939395,
          5291183.821428572,
          5683352.528205128,
          7326092.16,
          1688496.0701754387,
          4522357.342028986,
          3478013.8656716417,
          627490.4453125,
          7476806.15625,
          6056160.061111111,
          4123152.7,
          2967058.5,
          13269396.864130436,
          11535714.290076336,
          1129095.4122137404,
          2427449.99122807,
          5287294.994318182,
          5414251.2727272725,
          858350.0782608696,
          9423768.724245578,
          8265103.672782875,
          1076367.354609929,
          4189673.0067114094,
          826196.5769230769
         ]
        }
       ],
       "layout": {
        "geo": {
         "lakecolor": "rgb(255, 255, 255)",
         "projection": {
          "type": "albers usa"
         },
         "scope": "usa",
         "showlakes": true
        },
        "template": {
         "data": {
          "bar": [
           {
            "error_x": {
             "color": "#2a3f5f"
            },
            "error_y": {
             "color": "#2a3f5f"
            },
            "marker": {
             "line": {
              "color": "#E5ECF6",
              "width": 0.5
             },
             "pattern": {
              "fillmode": "overlay",
              "size": 10,
              "solidity": 0.2
             }
            },
            "type": "bar"
           }
          ],
          "barpolar": [
           {
            "marker": {
             "line": {
              "color": "#E5ECF6",
              "width": 0.5
             },
             "pattern": {
              "fillmode": "overlay",
              "size": 10,
              "solidity": 0.2
             }
            },
            "type": "barpolar"
           }
          ],
          "carpet": [
           {
            "aaxis": {
             "endlinecolor": "#2a3f5f",
             "gridcolor": "white",
             "linecolor": "white",
             "minorgridcolor": "white",
             "startlinecolor": "#2a3f5f"
            },
            "baxis": {
             "endlinecolor": "#2a3f5f",
             "gridcolor": "white",
             "linecolor": "white",
             "minorgridcolor": "white",
             "startlinecolor": "#2a3f5f"
            },
            "type": "carpet"
           }
          ],
          "choropleth": [
           {
            "colorbar": {
             "outlinewidth": 0,
             "ticks": ""
            },
            "type": "choropleth"
           }
          ],
          "contour": [
           {
            "colorbar": {
             "outlinewidth": 0,
             "ticks": ""
            },
            "colorscale": [
             [
              0,
              "#0d0887"
             ],
             [
              0.1111111111111111,
              "#46039f"
             ],
             [
              0.2222222222222222,
              "#7201a8"
             ],
             [
              0.3333333333333333,
              "#9c179e"
             ],
             [
              0.4444444444444444,
              "#bd3786"
             ],
             [
              0.5555555555555556,
              "#d8576b"
             ],
             [
              0.6666666666666666,
              "#ed7953"
             ],
             [
              0.7777777777777778,
              "#fb9f3a"
             ],
             [
              0.8888888888888888,
              "#fdca26"
             ],
             [
              1,
              "#f0f921"
             ]
            ],
            "type": "contour"
           }
          ],
          "contourcarpet": [
           {
            "colorbar": {
             "outlinewidth": 0,
             "ticks": ""
            },
            "type": "contourcarpet"
           }
          ],
          "heatmap": [
           {
            "colorbar": {
             "outlinewidth": 0,
             "ticks": ""
            },
            "colorscale": [
             [
              0,
              "#0d0887"
             ],
             [
              0.1111111111111111,
              "#46039f"
             ],
             [
              0.2222222222222222,
              "#7201a8"
             ],
             [
              0.3333333333333333,
              "#9c179e"
             ],
             [
              0.4444444444444444,
              "#bd3786"
             ],
             [
              0.5555555555555556,
              "#d8576b"
             ],
             [
              0.6666666666666666,
              "#ed7953"
             ],
             [
              0.7777777777777778,
              "#fb9f3a"
             ],
             [
              0.8888888888888888,
              "#fdca26"
             ],
             [
              1,
              "#f0f921"
             ]
            ],
            "type": "heatmap"
           }
          ],
          "heatmapgl": [
           {
            "colorbar": {
             "outlinewidth": 0,
             "ticks": ""
            },
            "colorscale": [
             [
              0,
              "#0d0887"
             ],
             [
              0.1111111111111111,
              "#46039f"
             ],
             [
              0.2222222222222222,
              "#7201a8"
             ],
             [
              0.3333333333333333,
              "#9c179e"
             ],
             [
              0.4444444444444444,
              "#bd3786"
             ],
             [
              0.5555555555555556,
              "#d8576b"
             ],
             [
              0.6666666666666666,
              "#ed7953"
             ],
             [
              0.7777777777777778,
              "#fb9f3a"
             ],
             [
              0.8888888888888888,
              "#fdca26"
             ],
             [
              1,
              "#f0f921"
             ]
            ],
            "type": "heatmapgl"
           }
          ],
          "histogram": [
           {
            "marker": {
             "pattern": {
              "fillmode": "overlay",
              "size": 10,
              "solidity": 0.2
             }
            },
            "type": "histogram"
           }
          ],
          "histogram2d": [
           {
            "colorbar": {
             "outlinewidth": 0,
             "ticks": ""
            },
            "colorscale": [
             [
              0,
              "#0d0887"
             ],
             [
              0.1111111111111111,
              "#46039f"
             ],
             [
              0.2222222222222222,
              "#7201a8"
             ],
             [
              0.3333333333333333,
              "#9c179e"
             ],
             [
              0.4444444444444444,
              "#bd3786"
             ],
             [
              0.5555555555555556,
              "#d8576b"
             ],
             [
              0.6666666666666666,
              "#ed7953"
             ],
             [
              0.7777777777777778,
              "#fb9f3a"
             ],
             [
              0.8888888888888888,
              "#fdca26"
             ],
             [
              1,
              "#f0f921"
             ]
            ],
            "type": "histogram2d"
           }
          ],
          "histogram2dcontour": [
           {
            "colorbar": {
             "outlinewidth": 0,
             "ticks": ""
            },
            "colorscale": [
             [
              0,
              "#0d0887"
             ],
             [
              0.1111111111111111,
              "#46039f"
             ],
             [
              0.2222222222222222,
              "#7201a8"
             ],
             [
              0.3333333333333333,
              "#9c179e"
             ],
             [
              0.4444444444444444,
              "#bd3786"
             ],
             [
              0.5555555555555556,
              "#d8576b"
             ],
             [
              0.6666666666666666,
              "#ed7953"
             ],
             [
              0.7777777777777778,
              "#fb9f3a"
             ],
             [
              0.8888888888888888,
              "#fdca26"
             ],
             [
              1,
              "#f0f921"
             ]
            ],
            "type": "histogram2dcontour"
           }
          ],
          "mesh3d": [
           {
            "colorbar": {
             "outlinewidth": 0,
             "ticks": ""
            },
            "type": "mesh3d"
           }
          ],
          "parcoords": [
           {
            "line": {
             "colorbar": {
              "outlinewidth": 0,
              "ticks": ""
             }
            },
            "type": "parcoords"
           }
          ],
          "pie": [
           {
            "automargin": true,
            "type": "pie"
           }
          ],
          "scatter": [
           {
            "marker": {
             "colorbar": {
              "outlinewidth": 0,
              "ticks": ""
             }
            },
            "type": "scatter"
           }
          ],
          "scatter3d": [
           {
            "line": {
             "colorbar": {
              "outlinewidth": 0,
              "ticks": ""
             }
            },
            "marker": {
             "colorbar": {
              "outlinewidth": 0,
              "ticks": ""
             }
            },
            "type": "scatter3d"
           }
          ],
          "scattercarpet": [
           {
            "marker": {
             "colorbar": {
              "outlinewidth": 0,
              "ticks": ""
             }
            },
            "type": "scattercarpet"
           }
          ],
          "scattergeo": [
           {
            "marker": {
             "colorbar": {
              "outlinewidth": 0,
              "ticks": ""
             }
            },
            "type": "scattergeo"
           }
          ],
          "scattergl": [
           {
            "marker": {
             "colorbar": {
              "outlinewidth": 0,
              "ticks": ""
             }
            },
            "type": "scattergl"
           }
          ],
          "scattermapbox": [
           {
            "marker": {
             "colorbar": {
              "outlinewidth": 0,
              "ticks": ""
             }
            },
            "type": "scattermapbox"
           }
          ],
          "scatterpolar": [
           {
            "marker": {
             "colorbar": {
              "outlinewidth": 0,
              "ticks": ""
             }
            },
            "type": "scatterpolar"
           }
          ],
          "scatterpolargl": [
           {
            "marker": {
             "colorbar": {
              "outlinewidth": 0,
              "ticks": ""
             }
            },
            "type": "scatterpolargl"
           }
          ],
          "scatterternary": [
           {
            "marker": {
             "colorbar": {
              "outlinewidth": 0,
              "ticks": ""
             }
            },
            "type": "scatterternary"
           }
          ],
          "surface": [
           {
            "colorbar": {
             "outlinewidth": 0,
             "ticks": ""
            },
            "colorscale": [
             [
              0,
              "#0d0887"
             ],
             [
              0.1111111111111111,
              "#46039f"
             ],
             [
              0.2222222222222222,
              "#7201a8"
             ],
             [
              0.3333333333333333,
              "#9c179e"
             ],
             [
              0.4444444444444444,
              "#bd3786"
             ],
             [
              0.5555555555555556,
              "#d8576b"
             ],
             [
              0.6666666666666666,
              "#ed7953"
             ],
             [
              0.7777777777777778,
              "#fb9f3a"
             ],
             [
              0.8888888888888888,
              "#fdca26"
             ],
             [
              1,
              "#f0f921"
             ]
            ],
            "type": "surface"
           }
          ],
          "table": [
           {
            "cells": {
             "fill": {
              "color": "#EBF0F8"
             },
             "line": {
              "color": "white"
             }
            },
            "header": {
             "fill": {
              "color": "#C8D4E3"
             },
             "line": {
              "color": "white"
             }
            },
            "type": "table"
           }
          ]
         },
         "layout": {
          "annotationdefaults": {
           "arrowcolor": "#2a3f5f",
           "arrowhead": 0,
           "arrowwidth": 1
          },
          "autotypenumbers": "strict",
          "coloraxis": {
           "colorbar": {
            "outlinewidth": 0,
            "ticks": ""
           }
          },
          "colorscale": {
           "diverging": [
            [
             0,
             "#8e0152"
            ],
            [
             0.1,
             "#c51b7d"
            ],
            [
             0.2,
             "#de77ae"
            ],
            [
             0.3,
             "#f1b6da"
            ],
            [
             0.4,
             "#fde0ef"
            ],
            [
             0.5,
             "#f7f7f7"
            ],
            [
             0.6,
             "#e6f5d0"
            ],
            [
             0.7,
             "#b8e186"
            ],
            [
             0.8,
             "#7fbc41"
            ],
            [
             0.9,
             "#4d9221"
            ],
            [
             1,
             "#276419"
            ]
           ],
           "sequential": [
            [
             0,
             "#0d0887"
            ],
            [
             0.1111111111111111,
             "#46039f"
            ],
            [
             0.2222222222222222,
             "#7201a8"
            ],
            [
             0.3333333333333333,
             "#9c179e"
            ],
            [
             0.4444444444444444,
             "#bd3786"
            ],
            [
             0.5555555555555556,
             "#d8576b"
            ],
            [
             0.6666666666666666,
             "#ed7953"
            ],
            [
             0.7777777777777778,
             "#fb9f3a"
            ],
            [
             0.8888888888888888,
             "#fdca26"
            ],
            [
             1,
             "#f0f921"
            ]
           ],
           "sequentialminus": [
            [
             0,
             "#0d0887"
            ],
            [
             0.1111111111111111,
             "#46039f"
            ],
            [
             0.2222222222222222,
             "#7201a8"
            ],
            [
             0.3333333333333333,
             "#9c179e"
            ],
            [
             0.4444444444444444,
             "#bd3786"
            ],
            [
             0.5555555555555556,
             "#d8576b"
            ],
            [
             0.6666666666666666,
             "#ed7953"
            ],
            [
             0.7777777777777778,
             "#fb9f3a"
            ],
            [
             0.8888888888888888,
             "#fdca26"
            ],
            [
             1,
             "#f0f921"
            ]
           ]
          },
          "colorway": [
           "#636efa",
           "#EF553B",
           "#00cc96",
           "#ab63fa",
           "#FFA15A",
           "#19d3f3",
           "#FF6692",
           "#B6E880",
           "#FF97FF",
           "#FECB52"
          ],
          "font": {
           "color": "#2a3f5f"
          },
          "geo": {
           "bgcolor": "white",
           "lakecolor": "white",
           "landcolor": "#E5ECF6",
           "showlakes": true,
           "showland": true,
           "subunitcolor": "white"
          },
          "hoverlabel": {
           "align": "left"
          },
          "hovermode": "closest",
          "mapbox": {
           "style": "light"
          },
          "paper_bgcolor": "white",
          "plot_bgcolor": "#E5ECF6",
          "polar": {
           "angularaxis": {
            "gridcolor": "white",
            "linecolor": "white",
            "ticks": ""
           },
           "bgcolor": "#E5ECF6",
           "radialaxis": {
            "gridcolor": "white",
            "linecolor": "white",
            "ticks": ""
           }
          },
          "scene": {
           "xaxis": {
            "backgroundcolor": "#E5ECF6",
            "gridcolor": "white",
            "gridwidth": 2,
            "linecolor": "white",
            "showbackground": true,
            "ticks": "",
            "zerolinecolor": "white"
           },
           "yaxis": {
            "backgroundcolor": "#E5ECF6",
            "gridcolor": "white",
            "gridwidth": 2,
            "linecolor": "white",
            "showbackground": true,
            "ticks": "",
            "zerolinecolor": "white"
           },
           "zaxis": {
            "backgroundcolor": "#E5ECF6",
            "gridcolor": "white",
            "gridwidth": 2,
            "linecolor": "white",
            "showbackground": true,
            "ticks": "",
            "zerolinecolor": "white"
           }
          },
          "shapedefaults": {
           "line": {
            "color": "#2a3f5f"
           }
          },
          "ternary": {
           "aaxis": {
            "gridcolor": "white",
            "linecolor": "white",
            "ticks": ""
           },
           "baxis": {
            "gridcolor": "white",
            "linecolor": "white",
            "ticks": ""
           },
           "bgcolor": "#E5ECF6",
           "caxis": {
            "gridcolor": "white",
            "linecolor": "white",
            "ticks": ""
           }
          },
          "title": {
           "x": 0.05
          },
          "xaxis": {
           "automargin": true,
           "gridcolor": "white",
           "linecolor": "white",
           "ticks": "",
           "title": {
            "standoff": 15
           },
           "zerolinecolor": "white",
           "zerolinewidth": 2
          },
          "yaxis": {
           "automargin": true,
           "gridcolor": "white",
           "linecolor": "white",
           "ticks": "",
           "title": {
            "standoff": 15
           },
           "zerolinecolor": "white",
           "zerolinewidth": 2
          }
         }
        },
        "title": {
         "text": "2015 US Traffic Volume by State"
        }
       }
      },
      "text/html": [
       "<div>                            <div id=\"296060b2-790e-459a-b31a-3b62a7438cf4\" class=\"plotly-graph-div\" style=\"height:525px; width:100%;\"></div>            <script type=\"text/javascript\">                require([\"plotly\"], function(Plotly) {                    window.PLOTLYENV=window.PLOTLYENV || {};                                    if (document.getElementById(\"296060b2-790e-459a-b31a-3b62a7438cf4\")) {                    Plotly.newPlot(                        \"296060b2-790e-459a-b31a-3b62a7438cf4\",                        [{\"autocolorscale\":false,\"colorbar\":{\"title\":{\"text\":\"Billions\"}},\"colorscale\":[[0.0,\"rgb(255,245,240)\"],[0.125,\"rgb(254,224,210)\"],[0.25,\"rgb(252,187,161)\"],[0.375,\"rgb(252,146,114)\"],[0.5,\"rgb(251,106,74)\"],[0.625,\"rgb(239,59,44)\"],[0.75,\"rgb(203,24,29)\"],[0.875,\"rgb(165,15,21)\"],[1.0,\"rgb(103,0,13)\"]],\"locationmode\":\"USA-states\",\"locations\":[\"AL\",\"AK\",\"AZ\",\"AR\",\"CA\",\"CO\",\"CT\",\"DE\",\"DC\",\"FL\",\"GA\",\"HI\",\"ID\",\"IL\",\"IN\",\"IA\",\"KS\",\"KY\",\"LA\",\"ME\",\"MD\",\"MA\",\"MI\",\"MN\",\"MS\",\"MO\",\"MT\",\"NE\",\"NV\",\"NH\",\"NJ\",\"NM\",\"NY\",\"NC\",\"ND\",\"OH\",\"OK\",\"OR\",\"PA\",\"RI\",\"SC\",\"SD\",\"TN\",\"TX\",\"UT\",\"VT\",\"VA\",\"WA\",\"WV\",\"WI\",\"WY\"],\"marker\":{\"line\":{\"color\":\"white\"}},\"text\":[\"Alabama\",\"Alaska\",\"Arizona\",\"Arkansas\",\"California\",\"Colorado\",\"Connecticut\",\"Delaware\",\"District of Columbia\",\"Florida\",\"Georgia\",\"Hawaii\",\"Idaho\",\"Illinois\",\"Indiana\",\"Iowa\",\"Kansas\",\"Kentucky\",\"Louisiana\",\"Maine\",\"Maryland\",\"Massachusetts\",\"Michigan\",\"Minnesota\",\"Mississippi\",\"Missouri\",\"Montana\",\"Nebraska\",\"Nevada\",\"New Hampshire\",\"New Jersey\",\"New Mexico\",\"New York\",\"North Carolina\",\"North Dakota\",\"Ohio\",\"Oklahoma\",\"Oregon\",\"Pennsylvania\",\"Rhode Island\",\"South Carolina\",\"South Dakota\",\"Tennessee\",\"Texas\",\"Utah\",\"Vermont\",\"Virginia\",\"Washington\",\"West Virginia\",\"Wisconsin\",\"Wyoming\"],\"type\":\"choropleth\",\"z\":[4937533.462837838,1514947.2571428572,10647135.372623574,2421183.113043478,11701855.747368421,4547855.948113208,6674081.4,3179192.3154761903,14801359.25,8096687.946788991,6938903.6659192825,10559452.842105264,2682831.3333333335,2949576.1219512196,1942903.49122807,2540150.6915422888,1738939.8163265307,3689731.1666666665,2193427.9833333334,1518905.7829457365,9332171.213333333,7727609.990291262,9422466.191836735,4683292.632768362,3194862.6340206186,5055214.738095238,1297503.4720812184,3331953.9393939395,5291183.821428572,5683352.528205128,7326092.16,1688496.0701754387,4522357.342028986,3478013.8656716417,627490.4453125,7476806.15625,6056160.061111111,4123152.7,2967058.5,13269396.864130436,11535714.290076336,1129095.4122137404,2427449.99122807,5287294.994318182,5414251.2727272725,858350.0782608696,9423768.724245578,8265103.672782875,1076367.354609929,4189673.0067114094,826196.5769230769]}],                        {\"geo\":{\"lakecolor\":\"rgb(255, 255, 255)\",\"projection\":{\"type\":\"albers usa\"},\"scope\":\"usa\",\"showlakes\":true},\"template\":{\"data\":{\"bar\":[{\"error_x\":{\"color\":\"#2a3f5f\"},\"error_y\":{\"color\":\"#2a3f5f\"},\"marker\":{\"line\":{\"color\":\"#E5ECF6\",\"width\":0.5},\"pattern\":{\"fillmode\":\"overlay\",\"size\":10,\"solidity\":0.2}},\"type\":\"bar\"}],\"barpolar\":[{\"marker\":{\"line\":{\"color\":\"#E5ECF6\",\"width\":0.5},\"pattern\":{\"fillmode\":\"overlay\",\"size\":10,\"solidity\":0.2}},\"type\":\"barpolar\"}],\"carpet\":[{\"aaxis\":{\"endlinecolor\":\"#2a3f5f\",\"gridcolor\":\"white\",\"linecolor\":\"white\",\"minorgridcolor\":\"white\",\"startlinecolor\":\"#2a3f5f\"},\"baxis\":{\"endlinecolor\":\"#2a3f5f\",\"gridcolor\":\"white\",\"linecolor\":\"white\",\"minorgridcolor\":\"white\",\"startlinecolor\":\"#2a3f5f\"},\"type\":\"carpet\"}],\"choropleth\":[{\"colorbar\":{\"outlinewidth\":0,\"ticks\":\"\"},\"type\":\"choropleth\"}],\"contour\":[{\"colorbar\":{\"outlinewidth\":0,\"ticks\":\"\"},\"colorscale\":[[0.0,\"#0d0887\"],[0.1111111111111111,\"#46039f\"],[0.2222222222222222,\"#7201a8\"],[0.3333333333333333,\"#9c179e\"],[0.4444444444444444,\"#bd3786\"],[0.5555555555555556,\"#d8576b\"],[0.6666666666666666,\"#ed7953\"],[0.7777777777777778,\"#fb9f3a\"],[0.8888888888888888,\"#fdca26\"],[1.0,\"#f0f921\"]],\"type\":\"contour\"}],\"contourcarpet\":[{\"colorbar\":{\"outlinewidth\":0,\"ticks\":\"\"},\"type\":\"contourcarpet\"}],\"heatmap\":[{\"colorbar\":{\"outlinewidth\":0,\"ticks\":\"\"},\"colorscale\":[[0.0,\"#0d0887\"],[0.1111111111111111,\"#46039f\"],[0.2222222222222222,\"#7201a8\"],[0.3333333333333333,\"#9c179e\"],[0.4444444444444444,\"#bd3786\"],[0.5555555555555556,\"#d8576b\"],[0.6666666666666666,\"#ed7953\"],[0.7777777777777778,\"#fb9f3a\"],[0.8888888888888888,\"#fdca26\"],[1.0,\"#f0f921\"]],\"type\":\"heatmap\"}],\"heatmapgl\":[{\"colorbar\":{\"outlinewidth\":0,\"ticks\":\"\"},\"colorscale\":[[0.0,\"#0d0887\"],[0.1111111111111111,\"#46039f\"],[0.2222222222222222,\"#7201a8\"],[0.3333333333333333,\"#9c179e\"],[0.4444444444444444,\"#bd3786\"],[0.5555555555555556,\"#d8576b\"],[0.6666666666666666,\"#ed7953\"],[0.7777777777777778,\"#fb9f3a\"],[0.8888888888888888,\"#fdca26\"],[1.0,\"#f0f921\"]],\"type\":\"heatmapgl\"}],\"histogram\":[{\"marker\":{\"pattern\":{\"fillmode\":\"overlay\",\"size\":10,\"solidity\":0.2}},\"type\":\"histogram\"}],\"histogram2d\":[{\"colorbar\":{\"outlinewidth\":0,\"ticks\":\"\"},\"colorscale\":[[0.0,\"#0d0887\"],[0.1111111111111111,\"#46039f\"],[0.2222222222222222,\"#7201a8\"],[0.3333333333333333,\"#9c179e\"],[0.4444444444444444,\"#bd3786\"],[0.5555555555555556,\"#d8576b\"],[0.6666666666666666,\"#ed7953\"],[0.7777777777777778,\"#fb9f3a\"],[0.8888888888888888,\"#fdca26\"],[1.0,\"#f0f921\"]],\"type\":\"histogram2d\"}],\"histogram2dcontour\":[{\"colorbar\":{\"outlinewidth\":0,\"ticks\":\"\"},\"colorscale\":[[0.0,\"#0d0887\"],[0.1111111111111111,\"#46039f\"],[0.2222222222222222,\"#7201a8\"],[0.3333333333333333,\"#9c179e\"],[0.4444444444444444,\"#bd3786\"],[0.5555555555555556,\"#d8576b\"],[0.6666666666666666,\"#ed7953\"],[0.7777777777777778,\"#fb9f3a\"],[0.8888888888888888,\"#fdca26\"],[1.0,\"#f0f921\"]],\"type\":\"histogram2dcontour\"}],\"mesh3d\":[{\"colorbar\":{\"outlinewidth\":0,\"ticks\":\"\"},\"type\":\"mesh3d\"}],\"parcoords\":[{\"line\":{\"colorbar\":{\"outlinewidth\":0,\"ticks\":\"\"}},\"type\":\"parcoords\"}],\"pie\":[{\"automargin\":true,\"type\":\"pie\"}],\"scatter\":[{\"marker\":{\"colorbar\":{\"outlinewidth\":0,\"ticks\":\"\"}},\"type\":\"scatter\"}],\"scatter3d\":[{\"line\":{\"colorbar\":{\"outlinewidth\":0,\"ticks\":\"\"}},\"marker\":{\"colorbar\":{\"outlinewidth\":0,\"ticks\":\"\"}},\"type\":\"scatter3d\"}],\"scattercarpet\":[{\"marker\":{\"colorbar\":{\"outlinewidth\":0,\"ticks\":\"\"}},\"type\":\"scattercarpet\"}],\"scattergeo\":[{\"marker\":{\"colorbar\":{\"outlinewidth\":0,\"ticks\":\"\"}},\"type\":\"scattergeo\"}],\"scattergl\":[{\"marker\":{\"colorbar\":{\"outlinewidth\":0,\"ticks\":\"\"}},\"type\":\"scattergl\"}],\"scattermapbox\":[{\"marker\":{\"colorbar\":{\"outlinewidth\":0,\"ticks\":\"\"}},\"type\":\"scattermapbox\"}],\"scatterpolar\":[{\"marker\":{\"colorbar\":{\"outlinewidth\":0,\"ticks\":\"\"}},\"type\":\"scatterpolar\"}],\"scatterpolargl\":[{\"marker\":{\"colorbar\":{\"outlinewidth\":0,\"ticks\":\"\"}},\"type\":\"scatterpolargl\"}],\"scatterternary\":[{\"marker\":{\"colorbar\":{\"outlinewidth\":0,\"ticks\":\"\"}},\"type\":\"scatterternary\"}],\"surface\":[{\"colorbar\":{\"outlinewidth\":0,\"ticks\":\"\"},\"colorscale\":[[0.0,\"#0d0887\"],[0.1111111111111111,\"#46039f\"],[0.2222222222222222,\"#7201a8\"],[0.3333333333333333,\"#9c179e\"],[0.4444444444444444,\"#bd3786\"],[0.5555555555555556,\"#d8576b\"],[0.6666666666666666,\"#ed7953\"],[0.7777777777777778,\"#fb9f3a\"],[0.8888888888888888,\"#fdca26\"],[1.0,\"#f0f921\"]],\"type\":\"surface\"}],\"table\":[{\"cells\":{\"fill\":{\"color\":\"#EBF0F8\"},\"line\":{\"color\":\"white\"}},\"header\":{\"fill\":{\"color\":\"#C8D4E3\"},\"line\":{\"color\":\"white\"}},\"type\":\"table\"}]},\"layout\":{\"annotationdefaults\":{\"arrowcolor\":\"#2a3f5f\",\"arrowhead\":0,\"arrowwidth\":1},\"autotypenumbers\":\"strict\",\"coloraxis\":{\"colorbar\":{\"outlinewidth\":0,\"ticks\":\"\"}},\"colorscale\":{\"diverging\":[[0,\"#8e0152\"],[0.1,\"#c51b7d\"],[0.2,\"#de77ae\"],[0.3,\"#f1b6da\"],[0.4,\"#fde0ef\"],[0.5,\"#f7f7f7\"],[0.6,\"#e6f5d0\"],[0.7,\"#b8e186\"],[0.8,\"#7fbc41\"],[0.9,\"#4d9221\"],[1,\"#276419\"]],\"sequential\":[[0.0,\"#0d0887\"],[0.1111111111111111,\"#46039f\"],[0.2222222222222222,\"#7201a8\"],[0.3333333333333333,\"#9c179e\"],[0.4444444444444444,\"#bd3786\"],[0.5555555555555556,\"#d8576b\"],[0.6666666666666666,\"#ed7953\"],[0.7777777777777778,\"#fb9f3a\"],[0.8888888888888888,\"#fdca26\"],[1.0,\"#f0f921\"]],\"sequentialminus\":[[0.0,\"#0d0887\"],[0.1111111111111111,\"#46039f\"],[0.2222222222222222,\"#7201a8\"],[0.3333333333333333,\"#9c179e\"],[0.4444444444444444,\"#bd3786\"],[0.5555555555555556,\"#d8576b\"],[0.6666666666666666,\"#ed7953\"],[0.7777777777777778,\"#fb9f3a\"],[0.8888888888888888,\"#fdca26\"],[1.0,\"#f0f921\"]]},\"colorway\":[\"#636efa\",\"#EF553B\",\"#00cc96\",\"#ab63fa\",\"#FFA15A\",\"#19d3f3\",\"#FF6692\",\"#B6E880\",\"#FF97FF\",\"#FECB52\"],\"font\":{\"color\":\"#2a3f5f\"},\"geo\":{\"bgcolor\":\"white\",\"lakecolor\":\"white\",\"landcolor\":\"#E5ECF6\",\"showlakes\":true,\"showland\":true,\"subunitcolor\":\"white\"},\"hoverlabel\":{\"align\":\"left\"},\"hovermode\":\"closest\",\"mapbox\":{\"style\":\"light\"},\"paper_bgcolor\":\"white\",\"plot_bgcolor\":\"#E5ECF6\",\"polar\":{\"angularaxis\":{\"gridcolor\":\"white\",\"linecolor\":\"white\",\"ticks\":\"\"},\"bgcolor\":\"#E5ECF6\",\"radialaxis\":{\"gridcolor\":\"white\",\"linecolor\":\"white\",\"ticks\":\"\"}},\"scene\":{\"xaxis\":{\"backgroundcolor\":\"#E5ECF6\",\"gridcolor\":\"white\",\"gridwidth\":2,\"linecolor\":\"white\",\"showbackground\":true,\"ticks\":\"\",\"zerolinecolor\":\"white\"},\"yaxis\":{\"backgroundcolor\":\"#E5ECF6\",\"gridcolor\":\"white\",\"gridwidth\":2,\"linecolor\":\"white\",\"showbackground\":true,\"ticks\":\"\",\"zerolinecolor\":\"white\"},\"zaxis\":{\"backgroundcolor\":\"#E5ECF6\",\"gridcolor\":\"white\",\"gridwidth\":2,\"linecolor\":\"white\",\"showbackground\":true,\"ticks\":\"\",\"zerolinecolor\":\"white\"}},\"shapedefaults\":{\"line\":{\"color\":\"#2a3f5f\"}},\"ternary\":{\"aaxis\":{\"gridcolor\":\"white\",\"linecolor\":\"white\",\"ticks\":\"\"},\"baxis\":{\"gridcolor\":\"white\",\"linecolor\":\"white\",\"ticks\":\"\"},\"bgcolor\":\"#E5ECF6\",\"caxis\":{\"gridcolor\":\"white\",\"linecolor\":\"white\",\"ticks\":\"\"}},\"title\":{\"x\":0.05},\"xaxis\":{\"automargin\":true,\"gridcolor\":\"white\",\"linecolor\":\"white\",\"ticks\":\"\",\"title\":{\"standoff\":15},\"zerolinecolor\":\"white\",\"zerolinewidth\":2},\"yaxis\":{\"automargin\":true,\"gridcolor\":\"white\",\"linecolor\":\"white\",\"ticks\":\"\",\"title\":{\"standoff\":15},\"zerolinecolor\":\"white\",\"zerolinewidth\":2}}},\"title\":{\"text\":\"2015 US Traffic Volume by State\"}},                        {\"responsive\": true}                    ).then(function(){\n",
       "                            \n",
       "var gd = document.getElementById('296060b2-790e-459a-b31a-3b62a7438cf4');\n",
       "var x = new MutationObserver(function (mutations, observer) {{\n",
       "        var display = window.getComputedStyle(gd).display;\n",
       "        if (!display || display === 'none') {{\n",
       "            console.log([gd, 'removed!']);\n",
       "            Plotly.purge(gd);\n",
       "            observer.disconnect();\n",
       "        }}\n",
       "}});\n",
       "\n",
       "// Listen for the removal of the full notebook cells\n",
       "var notebookContainer = gd.closest('#notebook-container');\n",
       "if (notebookContainer) {{\n",
       "    x.observe(notebookContainer, {childList: true});\n",
       "}}\n",
       "\n",
       "// Listen for the clearing of the current output cell\n",
       "var outputEl = gd.closest('.output');\n",
       "if (outputEl) {{\n",
       "    x.observe(outputEl, {childList: true});\n",
       "}}\n",
       "\n",
       "                        })                };                });            </script>        </div>"
      ]
     },
     "metadata": {},
     "output_type": "display_data"
    }
   ],
   "source": [
    "fig = go.Figure()\n",
    "\n",
    "fig.add_trace(go.Choropleth(\n",
    "    locations=merge_station_state.fips_state_abb,\n",
    "    z=merge_station_state[\"norm_annual_traffic_volume\"],\n",
    "    locationmode=\"USA-states\",\n",
    "    colorscale=\"Reds\",\n",
    "    autocolorscale=False,\n",
    "    colorbar_title=\"Billions\",\n",
    "    text=merge_station_state.fips_state_full,\n",
    "    marker_line_color=\"white\",\n",
    "))\n",
    "\n",
    "fig.update_layout(\n",
    "    title=\"2015 US Traffic Volume by State\",\n",
    "    geo = dict(\n",
    "        scope=\"usa\", # Limit map scope to USA\n",
    "        projection=go.layout.geo.Projection(type = 'albers usa'),\n",
    "        showlakes=True, # lakes\n",
    "        lakecolor=\"rgb(255, 255, 255)\"),\n",
    "    )"
   ]
  },
  {
   "cell_type": "code",
   "execution_count": null,
   "id": "b4b60c4d",
   "metadata": {},
   "outputs": [],
   "source": []
  }
 ],
 "metadata": {
  "kernelspec": {
   "display_name": "Python 3 (ipykernel)",
   "language": "python",
   "name": "python3"
  },
  "language_info": {
   "codemirror_mode": {
    "name": "ipython",
    "version": 3
   },
   "file_extension": ".py",
   "mimetype": "text/x-python",
   "name": "python",
   "nbconvert_exporter": "python",
   "pygments_lexer": "ipython3",
   "version": "3.7.11"
  }
 },
 "nbformat": 4,
 "nbformat_minor": 5
}
