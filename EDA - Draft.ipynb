{
 "cells": [
  {
   "cell_type": "code",
   "execution_count": 1,
   "id": "fa440944",
   "metadata": {},
   "outputs": [],
   "source": [
    "from helpers.utils import load_data"
   ]
  },
  {
   "cell_type": "code",
   "execution_count": 2,
   "id": "1d12d86f",
   "metadata": {},
   "outputs": [
    {
     "name": "stdout",
     "output_type": "stream",
     "text": [
      "Wall time: 13.2 s\n"
     ]
    }
   ],
   "source": [
    "%%time\n",
    "traffic, stations, mappings = load_data()"
   ]
  },
  {
   "cell_type": "code",
   "execution_count": 3,
   "id": "d2b735e7",
   "metadata": {},
   "outputs": [
    {
     "data": {
      "text/plain": [
       "7140391"
      ]
     },
     "execution_count": 3,
     "metadata": {},
     "output_type": "execute_result"
    }
   ],
   "source": [
    "len(traffic)"
   ]
  },
  {
   "cell_type": "code",
   "execution_count": 4,
   "id": "daeb7009",
   "metadata": {},
   "outputs": [
    {
     "data": {
      "text/plain": [
       "28466"
      ]
     },
     "execution_count": 4,
     "metadata": {},
     "output_type": "execute_result"
    }
   ],
   "source": [
    "len(stations)"
   ]
  }
 ],
 "metadata": {
  "kernelspec": {
   "display_name": "Python 3 (ipykernel)",
   "language": "python",
   "name": "python3"
  },
  "language_info": {
   "codemirror_mode": {
    "name": "ipython",
    "version": 3
   },
   "file_extension": ".py",
   "mimetype": "text/x-python",
   "name": "python",
   "nbconvert_exporter": "python",
   "pygments_lexer": "ipython3",
   "version": "3.7.11"
  }
 },
 "nbformat": 4,
 "nbformat_minor": 5
}
